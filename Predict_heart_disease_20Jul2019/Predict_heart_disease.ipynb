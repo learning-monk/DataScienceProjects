{
 "cells": [
  {
   "cell_type": "markdown",
   "metadata": {},
   "source": [
    "# Predicting heart disease"
   ]
  },
  {
   "cell_type": "markdown",
   "metadata": {},
   "source": [
    "## Problem Description:\n",
    "\n",
    "Preventing heart disease is important. Good data-driven systems for predicting heart disease can improve the entire research and prevention process, making sure that more people can live healthy lives.\n",
    "\n",
    "In the United States, the Centers for Disease Control and Prevention is a good resource for information about heart disease. According to their website:\n",
    "\n",
    "\n",
    "- About 610,000 people die of heart disease in the United States every year–that’s 1 in every 4 deaths.\n",
    "- Heart disease is the leading cause of death for both men and women. More than half of the deaths due to heart disease in 2009 were in men.\n",
    "- Coronary heart disease (CHD) is the most common type of heart disease, killing over 370,000 people annually.\n",
    "- Every year about 735,000 Americans have a heart attack. Of these, 525,000 are a first heart attack and 210,000 happen in people who have already had a heart attack.\n",
    "- Heart disease is the leading cause of death for people of most ethnicities in the United States, including African Americans, Hispanics, and whites. For American Indians or Alaska Natives and Asians or Pacific Islanders, heart disease is second only to cancer.\n"
   ]
  },
  {
   "cell_type": "markdown",
   "metadata": {},
   "source": [
    "## Goal of the analysis:\n",
    "\n",
    "- Goal is to predict the binary class **heart_disease_present**, which represents whether or not a patient has heart disease.\n",
    "    - **0** represents no heart disease present\n",
    "    - **1** represents heart disease present"
   ]
  },
  {
   "cell_type": "markdown",
   "metadata": {},
   "source": [
    "## Dataset description:\n",
    "\n",
    "There are 14 columns in the dataset, where the **patient_id** column is a unique and random identifier. The remaining 13 features are described in the section below.\n",
    "\n",
    "- **slope_of_peak_exercise_st_segment (type: int):** the slope of the peak exercise ST segment, an electrocardiography read out indicating quality of blood flow to the heart\n",
    "- **thal (type: categorical):** results of thallium stress test measuring blood flow to the heart, with possible values **normal**, **fixed_defect**, **reversible_defect**\n",
    "- **resting_blood_pressure (type: int):** resting blood pressure\n",
    "- **chest_pain_type (type: int):** chest pain type (4 values)\n",
    "- **num_major_vessels (type: int):** number of major vessels (0-3) colored by flourosopy\n",
    "- **fasting_blood_sugar_gt_120_mg_per_dl (type: binary):** fasting blood sugar > 120 mg/dl\n",
    "- **resting_ekg_results (type: int):** resting electrocardiographic results (values 0,1,2)\n",
    "- **serum_cholesterol_mg_per_dl (type: int):** serum cholestoral in mg/dl\n",
    "- **oldpeak_eq_st_depression (type: float):** oldpeak = ST depression induced by exercise relative to - rest, a measure of abnormality in electrocardiograms\n",
    "- **sex (type: binary):** 0: female, 1: male\n",
    "- **age (type: int):** age in years\n",
    "- **max_heart_rate_achieved (type: int):** maximum heart rate achieved (beats per minute)\n",
    "- **exercise_induced_angina (type: binary):** exercise-induced chest pain (0: False, 1: True)"
   ]
  },
  {
   "cell_type": "code",
   "execution_count": 1,
   "metadata": {},
   "outputs": [],
   "source": [
    "# Install necessary packages\n",
    "\n",
    "#install.packages('ggplot2')\n",
    "#install.packages('dplyr')\n",
    "#install.packages('tidyr')\n",
    "#install.packages('ggcorrplot')"
   ]
  },
  {
   "cell_type": "markdown",
   "metadata": {},
   "source": [
    "### 1. Load datasets"
   ]
  },
  {
   "cell_type": "code",
   "execution_count": 2,
   "metadata": {},
   "outputs": [],
   "source": [
    "# Load datasets\n",
    "Train_hd <- read.csv('train_values.csv', header=T)\n",
    "Train_hd_labels <- read.csv('train_labels.csv', header=T)\n",
    "Test_hd <- read.csv('test_values.csv', header=T)"
   ]
  },
  {
   "cell_type": "code",
   "execution_count": 3,
   "metadata": {},
   "outputs": [
    {
     "data": {
      "text/html": [
       "<table>\n",
       "<caption>A data.frame: 6 × 14</caption>\n",
       "<thead>\n",
       "\t<tr><th scope=col>patient_id</th><th scope=col>slope_of_peak_exercise_st_segment</th><th scope=col>thal</th><th scope=col>resting_blood_pressure</th><th scope=col>chest_pain_type</th><th scope=col>num_major_vessels</th><th scope=col>fasting_blood_sugar_gt_120_mg_per_dl</th><th scope=col>resting_ekg_results</th><th scope=col>serum_cholesterol_mg_per_dl</th><th scope=col>oldpeak_eq_st_depression</th><th scope=col>sex</th><th scope=col>age</th><th scope=col>max_heart_rate_achieved</th><th scope=col>exercise_induced_angina</th></tr>\n",
       "\t<tr><th scope=col>&lt;fct&gt;</th><th scope=col>&lt;int&gt;</th><th scope=col>&lt;fct&gt;</th><th scope=col>&lt;int&gt;</th><th scope=col>&lt;int&gt;</th><th scope=col>&lt;int&gt;</th><th scope=col>&lt;int&gt;</th><th scope=col>&lt;int&gt;</th><th scope=col>&lt;int&gt;</th><th scope=col>&lt;dbl&gt;</th><th scope=col>&lt;int&gt;</th><th scope=col>&lt;int&gt;</th><th scope=col>&lt;int&gt;</th><th scope=col>&lt;int&gt;</th></tr>\n",
       "</thead>\n",
       "<tbody>\n",
       "\t<tr><td>0z64un</td><td>1</td><td>normal           </td><td>128</td><td>2</td><td>0</td><td>0</td><td>2</td><td>308</td><td>0.0</td><td>1</td><td>45</td><td>170</td><td>0</td></tr>\n",
       "\t<tr><td>ryoo3j</td><td>2</td><td>normal           </td><td>110</td><td>3</td><td>0</td><td>0</td><td>0</td><td>214</td><td>1.6</td><td>0</td><td>54</td><td>158</td><td>0</td></tr>\n",
       "\t<tr><td>yt1s1x</td><td>1</td><td>normal           </td><td>125</td><td>4</td><td>3</td><td>0</td><td>2</td><td>304</td><td>0.0</td><td>1</td><td>77</td><td>162</td><td>1</td></tr>\n",
       "\t<tr><td>l2xjde</td><td>1</td><td>reversible_defect</td><td>152</td><td>4</td><td>0</td><td>0</td><td>0</td><td>223</td><td>0.0</td><td>1</td><td>40</td><td>181</td><td>0</td></tr>\n",
       "\t<tr><td>oyt4ek</td><td>3</td><td>reversible_defect</td><td>178</td><td>1</td><td>0</td><td>0</td><td>2</td><td>270</td><td>4.2</td><td>1</td><td>59</td><td>145</td><td>0</td></tr>\n",
       "\t<tr><td>ldukkw</td><td>1</td><td>normal           </td><td>130</td><td>3</td><td>0</td><td>0</td><td>0</td><td>180</td><td>0.0</td><td>1</td><td>42</td><td>150</td><td>0</td></tr>\n",
       "</tbody>\n",
       "</table>\n"
      ],
      "text/latex": [
       "A data.frame: 6 × 14\n",
       "\\begin{tabular}{r|llllllllllllll}\n",
       " patient\\_id & slope\\_of\\_peak\\_exercise\\_st\\_segment & thal & resting\\_blood\\_pressure & chest\\_pain\\_type & num\\_major\\_vessels & fasting\\_blood\\_sugar\\_gt\\_120\\_mg\\_per\\_dl & resting\\_ekg\\_results & serum\\_cholesterol\\_mg\\_per\\_dl & oldpeak\\_eq\\_st\\_depression & sex & age & max\\_heart\\_rate\\_achieved & exercise\\_induced\\_angina\\\\\n",
       " <fct> & <int> & <fct> & <int> & <int> & <int> & <int> & <int> & <int> & <dbl> & <int> & <int> & <int> & <int>\\\\\n",
       "\\hline\n",
       "\t 0z64un & 1 & normal            & 128 & 2 & 0 & 0 & 2 & 308 & 0.0 & 1 & 45 & 170 & 0\\\\\n",
       "\t ryoo3j & 2 & normal            & 110 & 3 & 0 & 0 & 0 & 214 & 1.6 & 0 & 54 & 158 & 0\\\\\n",
       "\t yt1s1x & 1 & normal            & 125 & 4 & 3 & 0 & 2 & 304 & 0.0 & 1 & 77 & 162 & 1\\\\\n",
       "\t l2xjde & 1 & reversible\\_defect & 152 & 4 & 0 & 0 & 0 & 223 & 0.0 & 1 & 40 & 181 & 0\\\\\n",
       "\t oyt4ek & 3 & reversible\\_defect & 178 & 1 & 0 & 0 & 2 & 270 & 4.2 & 1 & 59 & 145 & 0\\\\\n",
       "\t ldukkw & 1 & normal            & 130 & 3 & 0 & 0 & 0 & 180 & 0.0 & 1 & 42 & 150 & 0\\\\\n",
       "\\end{tabular}\n"
      ],
      "text/markdown": [
       "\n",
       "A data.frame: 6 × 14\n",
       "\n",
       "| patient_id &lt;fct&gt; | slope_of_peak_exercise_st_segment &lt;int&gt; | thal &lt;fct&gt; | resting_blood_pressure &lt;int&gt; | chest_pain_type &lt;int&gt; | num_major_vessels &lt;int&gt; | fasting_blood_sugar_gt_120_mg_per_dl &lt;int&gt; | resting_ekg_results &lt;int&gt; | serum_cholesterol_mg_per_dl &lt;int&gt; | oldpeak_eq_st_depression &lt;dbl&gt; | sex &lt;int&gt; | age &lt;int&gt; | max_heart_rate_achieved &lt;int&gt; | exercise_induced_angina &lt;int&gt; |\n",
       "|---|---|---|---|---|---|---|---|---|---|---|---|---|---|\n",
       "| 0z64un | 1 | normal            | 128 | 2 | 0 | 0 | 2 | 308 | 0.0 | 1 | 45 | 170 | 0 |\n",
       "| ryoo3j | 2 | normal            | 110 | 3 | 0 | 0 | 0 | 214 | 1.6 | 0 | 54 | 158 | 0 |\n",
       "| yt1s1x | 1 | normal            | 125 | 4 | 3 | 0 | 2 | 304 | 0.0 | 1 | 77 | 162 | 1 |\n",
       "| l2xjde | 1 | reversible_defect | 152 | 4 | 0 | 0 | 0 | 223 | 0.0 | 1 | 40 | 181 | 0 |\n",
       "| oyt4ek | 3 | reversible_defect | 178 | 1 | 0 | 0 | 2 | 270 | 4.2 | 1 | 59 | 145 | 0 |\n",
       "| ldukkw | 1 | normal            | 130 | 3 | 0 | 0 | 0 | 180 | 0.0 | 1 | 42 | 150 | 0 |\n",
       "\n"
      ],
      "text/plain": [
       "  patient_id slope_of_peak_exercise_st_segment thal             \n",
       "1 0z64un     1                                 normal           \n",
       "2 ryoo3j     2                                 normal           \n",
       "3 yt1s1x     1                                 normal           \n",
       "4 l2xjde     1                                 reversible_defect\n",
       "5 oyt4ek     3                                 reversible_defect\n",
       "6 ldukkw     1                                 normal           \n",
       "  resting_blood_pressure chest_pain_type num_major_vessels\n",
       "1 128                    2               0                \n",
       "2 110                    3               0                \n",
       "3 125                    4               3                \n",
       "4 152                    4               0                \n",
       "5 178                    1               0                \n",
       "6 130                    3               0                \n",
       "  fasting_blood_sugar_gt_120_mg_per_dl resting_ekg_results\n",
       "1 0                                    2                  \n",
       "2 0                                    0                  \n",
       "3 0                                    2                  \n",
       "4 0                                    0                  \n",
       "5 0                                    2                  \n",
       "6 0                                    0                  \n",
       "  serum_cholesterol_mg_per_dl oldpeak_eq_st_depression sex age\n",
       "1 308                         0.0                      1   45 \n",
       "2 214                         1.6                      0   54 \n",
       "3 304                         0.0                      1   77 \n",
       "4 223                         0.0                      1   40 \n",
       "5 270                         4.2                      1   59 \n",
       "6 180                         0.0                      1   42 \n",
       "  max_heart_rate_achieved exercise_induced_angina\n",
       "1 170                     0                      \n",
       "2 158                     0                      \n",
       "3 162                     1                      \n",
       "4 181                     0                      \n",
       "5 145                     0                      \n",
       "6 150                     0                      "
      ]
     },
     "metadata": {},
     "output_type": "display_data"
    }
   ],
   "source": [
    "# Inspect first 6 rows of data\n",
    "head(Train_hd)"
   ]
  },
  {
   "cell_type": "code",
   "execution_count": 4,
   "metadata": {},
   "outputs": [
    {
     "name": "stdout",
     "output_type": "stream",
     "text": [
      "'data.frame':\t180 obs. of  14 variables:\n",
      " $ patient_id                          : Factor w/ 180 levels \"02cipp\",\"08usun\",..: 7 148 173 113 134 117 21 72 29 12 ...\n",
      " $ slope_of_peak_exercise_st_segment   : int  1 2 1 1 3 1 2 2 3 2 ...\n",
      " $ thal                                : Factor w/ 3 levels \"fixed_defect\",..: 2 2 2 3 3 2 3 1 3 2 ...\n",
      " $ resting_blood_pressure              : int  128 110 125 152 178 130 150 150 170 120 ...\n",
      " $ chest_pain_type                     : int  2 3 4 4 1 3 4 4 4 3 ...\n",
      " $ num_major_vessels                   : int  0 0 3 0 0 0 2 1 0 0 ...\n",
      " $ fasting_blood_sugar_gt_120_mg_per_dl: int  0 0 0 0 0 0 0 0 0 0 ...\n",
      " $ resting_ekg_results                 : int  2 0 2 0 2 0 2 2 2 0 ...\n",
      " $ serum_cholesterol_mg_per_dl         : int  308 214 304 223 270 180 258 276 326 219 ...\n",
      " $ oldpeak_eq_st_depression            : num  0 1.6 0 0 4.2 0 2.6 0.6 3.4 1.6 ...\n",
      " $ sex                                 : int  1 0 1 1 1 1 0 1 1 0 ...\n",
      " $ age                                 : int  45 54 77 40 59 42 60 57 59 50 ...\n",
      " $ max_heart_rate_achieved             : int  170 158 162 181 145 150 157 112 140 158 ...\n",
      " $ exercise_induced_angina             : int  0 0 1 0 0 0 0 1 1 0 ...\n"
     ]
    }
   ],
   "source": [
    "# Let's explore the structure of the dataset\n",
    "str(Train_hd)"
   ]
  },
  {
   "cell_type": "code",
   "execution_count": 5,
   "metadata": {},
   "outputs": [
    {
     "data": {
      "text/html": [
       "<table>\n",
       "<caption>A data.frame: 14 × 1</caption>\n",
       "<thead>\n",
       "\t<tr><th></th><th scope=col>na_count</th></tr>\n",
       "\t<tr><th></th><th scope=col>&lt;int&gt;</th></tr>\n",
       "</thead>\n",
       "<tbody>\n",
       "\t<tr><th scope=row>patient_id</th><td>0</td></tr>\n",
       "\t<tr><th scope=row>slope_of_peak_exercise_st_segment</th><td>0</td></tr>\n",
       "\t<tr><th scope=row>thal</th><td>0</td></tr>\n",
       "\t<tr><th scope=row>resting_blood_pressure</th><td>0</td></tr>\n",
       "\t<tr><th scope=row>chest_pain_type</th><td>0</td></tr>\n",
       "\t<tr><th scope=row>num_major_vessels</th><td>0</td></tr>\n",
       "\t<tr><th scope=row>fasting_blood_sugar_gt_120_mg_per_dl</th><td>0</td></tr>\n",
       "\t<tr><th scope=row>resting_ekg_results</th><td>0</td></tr>\n",
       "\t<tr><th scope=row>serum_cholesterol_mg_per_dl</th><td>0</td></tr>\n",
       "\t<tr><th scope=row>oldpeak_eq_st_depression</th><td>0</td></tr>\n",
       "\t<tr><th scope=row>sex</th><td>0</td></tr>\n",
       "\t<tr><th scope=row>age</th><td>0</td></tr>\n",
       "\t<tr><th scope=row>max_heart_rate_achieved</th><td>0</td></tr>\n",
       "\t<tr><th scope=row>exercise_induced_angina</th><td>0</td></tr>\n",
       "</tbody>\n",
       "</table>\n"
      ],
      "text/latex": [
       "A data.frame: 14 × 1\n",
       "\\begin{tabular}{r|l}\n",
       "  & na\\_count\\\\\n",
       "  & <int>\\\\\n",
       "\\hline\n",
       "\tpatient\\_id & 0\\\\\n",
       "\tslope\\_of\\_peak\\_exercise\\_st\\_segment & 0\\\\\n",
       "\tthal & 0\\\\\n",
       "\tresting\\_blood\\_pressure & 0\\\\\n",
       "\tchest\\_pain\\_type & 0\\\\\n",
       "\tnum\\_major\\_vessels & 0\\\\\n",
       "\tfasting\\_blood\\_sugar\\_gt\\_120\\_mg\\_per\\_dl & 0\\\\\n",
       "\tresting\\_ekg\\_results & 0\\\\\n",
       "\tserum\\_cholesterol\\_mg\\_per\\_dl & 0\\\\\n",
       "\toldpeak\\_eq\\_st\\_depression & 0\\\\\n",
       "\tsex & 0\\\\\n",
       "\tage & 0\\\\\n",
       "\tmax\\_heart\\_rate\\_achieved & 0\\\\\n",
       "\texercise\\_induced\\_angina & 0\\\\\n",
       "\\end{tabular}\n"
      ],
      "text/markdown": [
       "\n",
       "A data.frame: 14 × 1\n",
       "\n",
       "| <!--/--> | na_count &lt;int&gt; |\n",
       "|---|---|\n",
       "| patient_id | 0 |\n",
       "| slope_of_peak_exercise_st_segment | 0 |\n",
       "| thal | 0 |\n",
       "| resting_blood_pressure | 0 |\n",
       "| chest_pain_type | 0 |\n",
       "| num_major_vessels | 0 |\n",
       "| fasting_blood_sugar_gt_120_mg_per_dl | 0 |\n",
       "| resting_ekg_results | 0 |\n",
       "| serum_cholesterol_mg_per_dl | 0 |\n",
       "| oldpeak_eq_st_depression | 0 |\n",
       "| sex | 0 |\n",
       "| age | 0 |\n",
       "| max_heart_rate_achieved | 0 |\n",
       "| exercise_induced_angina | 0 |\n",
       "\n"
      ],
      "text/plain": [
       "                                     na_count\n",
       "patient_id                           0       \n",
       "slope_of_peak_exercise_st_segment    0       \n",
       "thal                                 0       \n",
       "resting_blood_pressure               0       \n",
       "chest_pain_type                      0       \n",
       "num_major_vessels                    0       \n",
       "fasting_blood_sugar_gt_120_mg_per_dl 0       \n",
       "resting_ekg_results                  0       \n",
       "serum_cholesterol_mg_per_dl          0       \n",
       "oldpeak_eq_st_depression             0       \n",
       "sex                                  0       \n",
       "age                                  0       \n",
       "max_heart_rate_achieved              0       \n",
       "exercise_induced_angina              0       "
      ]
     },
     "metadata": {},
     "output_type": "display_data"
    }
   ],
   "source": [
    "# Find if there are any missing values in the dataset\n",
    "\n",
    "na_count <- sapply(Train_hd, function(y) sum(length(which(is.na(y)))))\n",
    "na_count <- data.frame(na_count)\n",
    "na_count"
   ]
  },
  {
   "cell_type": "markdown",
   "metadata": {},
   "source": [
    "There seems to be no missing values"
   ]
  },
  {
   "cell_type": "code",
   "execution_count": 6,
   "metadata": {},
   "outputs": [
    {
     "data": {
      "text/html": [
       "<table>\n",
       "<caption>A data.frame: 6 × 15</caption>\n",
       "<thead>\n",
       "\t<tr><th scope=col>patient_id</th><th scope=col>slope_of_peak_exercise_st_segment</th><th scope=col>thal</th><th scope=col>resting_blood_pressure</th><th scope=col>chest_pain_type</th><th scope=col>num_major_vessels</th><th scope=col>fasting_blood_sugar_gt_120_mg_per_dl</th><th scope=col>resting_ekg_results</th><th scope=col>serum_cholesterol_mg_per_dl</th><th scope=col>oldpeak_eq_st_depression</th><th scope=col>sex</th><th scope=col>age</th><th scope=col>max_heart_rate_achieved</th><th scope=col>exercise_induced_angina</th><th scope=col>heart_disease_present</th></tr>\n",
       "\t<tr><th scope=col>&lt;fct&gt;</th><th scope=col>&lt;int&gt;</th><th scope=col>&lt;fct&gt;</th><th scope=col>&lt;int&gt;</th><th scope=col>&lt;int&gt;</th><th scope=col>&lt;int&gt;</th><th scope=col>&lt;int&gt;</th><th scope=col>&lt;int&gt;</th><th scope=col>&lt;int&gt;</th><th scope=col>&lt;dbl&gt;</th><th scope=col>&lt;int&gt;</th><th scope=col>&lt;int&gt;</th><th scope=col>&lt;int&gt;</th><th scope=col>&lt;int&gt;</th><th scope=col>&lt;int&gt;</th></tr>\n",
       "</thead>\n",
       "<tbody>\n",
       "\t<tr><td>02cipp</td><td>1</td><td>normal           </td><td>140</td><td>1</td><td>2</td><td>0</td><td>0</td><td>239</td><td>1.8</td><td>0</td><td>69</td><td>151</td><td>0</td><td>0</td></tr>\n",
       "\t<tr><td>08usun</td><td>1</td><td>reversible_defect</td><td>120</td><td>4</td><td>0</td><td>0</td><td>0</td><td>177</td><td>0.4</td><td>1</td><td>65</td><td>140</td><td>0</td><td>0</td></tr>\n",
       "\t<tr><td>0g192k</td><td>2</td><td>reversible_defect</td><td>128</td><td>4</td><td>1</td><td>0</td><td>0</td><td>263</td><td>0.2</td><td>1</td><td>64</td><td>105</td><td>1</td><td>0</td></tr>\n",
       "\t<tr><td>0n5fu0</td><td>1</td><td>normal           </td><td>180</td><td>4</td><td>0</td><td>0</td><td>0</td><td>325</td><td>0.0</td><td>0</td><td>64</td><td>154</td><td>1</td><td>0</td></tr>\n",
       "\t<tr><td>0ryxtv</td><td>2</td><td>normal           </td><td>102</td><td>4</td><td>0</td><td>0</td><td>2</td><td>265</td><td>0.6</td><td>0</td><td>42</td><td>122</td><td>0</td><td>0</td></tr>\n",
       "\t<tr><td>0xw93k</td><td>1</td><td>normal           </td><td>124</td><td>3</td><td>2</td><td>1</td><td>0</td><td>255</td><td>0.0</td><td>1</td><td>48</td><td>175</td><td>0</td><td>0</td></tr>\n",
       "</tbody>\n",
       "</table>\n"
      ],
      "text/latex": [
       "A data.frame: 6 × 15\n",
       "\\begin{tabular}{r|lllllllllllllll}\n",
       " patient\\_id & slope\\_of\\_peak\\_exercise\\_st\\_segment & thal & resting\\_blood\\_pressure & chest\\_pain\\_type & num\\_major\\_vessels & fasting\\_blood\\_sugar\\_gt\\_120\\_mg\\_per\\_dl & resting\\_ekg\\_results & serum\\_cholesterol\\_mg\\_per\\_dl & oldpeak\\_eq\\_st\\_depression & sex & age & max\\_heart\\_rate\\_achieved & exercise\\_induced\\_angina & heart\\_disease\\_present\\\\\n",
       " <fct> & <int> & <fct> & <int> & <int> & <int> & <int> & <int> & <int> & <dbl> & <int> & <int> & <int> & <int> & <int>\\\\\n",
       "\\hline\n",
       "\t 02cipp & 1 & normal            & 140 & 1 & 2 & 0 & 0 & 239 & 1.8 & 0 & 69 & 151 & 0 & 0\\\\\n",
       "\t 08usun & 1 & reversible\\_defect & 120 & 4 & 0 & 0 & 0 & 177 & 0.4 & 1 & 65 & 140 & 0 & 0\\\\\n",
       "\t 0g192k & 2 & reversible\\_defect & 128 & 4 & 1 & 0 & 0 & 263 & 0.2 & 1 & 64 & 105 & 1 & 0\\\\\n",
       "\t 0n5fu0 & 1 & normal            & 180 & 4 & 0 & 0 & 0 & 325 & 0.0 & 0 & 64 & 154 & 1 & 0\\\\\n",
       "\t 0ryxtv & 2 & normal            & 102 & 4 & 0 & 0 & 2 & 265 & 0.6 & 0 & 42 & 122 & 0 & 0\\\\\n",
       "\t 0xw93k & 1 & normal            & 124 & 3 & 2 & 1 & 0 & 255 & 0.0 & 1 & 48 & 175 & 0 & 0\\\\\n",
       "\\end{tabular}\n"
      ],
      "text/markdown": [
       "\n",
       "A data.frame: 6 × 15\n",
       "\n",
       "| patient_id &lt;fct&gt; | slope_of_peak_exercise_st_segment &lt;int&gt; | thal &lt;fct&gt; | resting_blood_pressure &lt;int&gt; | chest_pain_type &lt;int&gt; | num_major_vessels &lt;int&gt; | fasting_blood_sugar_gt_120_mg_per_dl &lt;int&gt; | resting_ekg_results &lt;int&gt; | serum_cholesterol_mg_per_dl &lt;int&gt; | oldpeak_eq_st_depression &lt;dbl&gt; | sex &lt;int&gt; | age &lt;int&gt; | max_heart_rate_achieved &lt;int&gt; | exercise_induced_angina &lt;int&gt; | heart_disease_present &lt;int&gt; |\n",
       "|---|---|---|---|---|---|---|---|---|---|---|---|---|---|---|\n",
       "| 02cipp | 1 | normal            | 140 | 1 | 2 | 0 | 0 | 239 | 1.8 | 0 | 69 | 151 | 0 | 0 |\n",
       "| 08usun | 1 | reversible_defect | 120 | 4 | 0 | 0 | 0 | 177 | 0.4 | 1 | 65 | 140 | 0 | 0 |\n",
       "| 0g192k | 2 | reversible_defect | 128 | 4 | 1 | 0 | 0 | 263 | 0.2 | 1 | 64 | 105 | 1 | 0 |\n",
       "| 0n5fu0 | 1 | normal            | 180 | 4 | 0 | 0 | 0 | 325 | 0.0 | 0 | 64 | 154 | 1 | 0 |\n",
       "| 0ryxtv | 2 | normal            | 102 | 4 | 0 | 0 | 2 | 265 | 0.6 | 0 | 42 | 122 | 0 | 0 |\n",
       "| 0xw93k | 1 | normal            | 124 | 3 | 2 | 1 | 0 | 255 | 0.0 | 1 | 48 | 175 | 0 | 0 |\n",
       "\n"
      ],
      "text/plain": [
       "  patient_id slope_of_peak_exercise_st_segment thal             \n",
       "1 02cipp     1                                 normal           \n",
       "2 08usun     1                                 reversible_defect\n",
       "3 0g192k     2                                 reversible_defect\n",
       "4 0n5fu0     1                                 normal           \n",
       "5 0ryxtv     2                                 normal           \n",
       "6 0xw93k     1                                 normal           \n",
       "  resting_blood_pressure chest_pain_type num_major_vessels\n",
       "1 140                    1               2                \n",
       "2 120                    4               0                \n",
       "3 128                    4               1                \n",
       "4 180                    4               0                \n",
       "5 102                    4               0                \n",
       "6 124                    3               2                \n",
       "  fasting_blood_sugar_gt_120_mg_per_dl resting_ekg_results\n",
       "1 0                                    0                  \n",
       "2 0                                    0                  \n",
       "3 0                                    0                  \n",
       "4 0                                    0                  \n",
       "5 0                                    2                  \n",
       "6 1                                    0                  \n",
       "  serum_cholesterol_mg_per_dl oldpeak_eq_st_depression sex age\n",
       "1 239                         1.8                      0   69 \n",
       "2 177                         0.4                      1   65 \n",
       "3 263                         0.2                      1   64 \n",
       "4 325                         0.0                      0   64 \n",
       "5 265                         0.6                      0   42 \n",
       "6 255                         0.0                      1   48 \n",
       "  max_heart_rate_achieved exercise_induced_angina heart_disease_present\n",
       "1 151                     0                       0                    \n",
       "2 140                     0                       0                    \n",
       "3 105                     1                       0                    \n",
       "4 154                     1                       0                    \n",
       "5 122                     0                       0                    \n",
       "6 175                     0                       0                    "
      ]
     },
     "metadata": {},
     "output_type": "display_data"
    }
   ],
   "source": [
    "# Combine add labels to Train_hd dataset\n",
    "\n",
    "train <- merge(Train_hd, Train_hd_labels, by= c('patient_id'))\n",
    "head(train)\n"
   ]
  },
  {
   "cell_type": "code",
   "execution_count": 7,
   "metadata": {},
   "outputs": [],
   "source": [
    "#write.csv(train, 'heart_disease.csv', row.names=FALSE)"
   ]
  },
  {
   "cell_type": "code",
   "execution_count": 8,
   "metadata": {},
   "outputs": [
    {
     "data": {
      "text/html": [
       "<table>\n",
       "<caption>A data.frame: 15 × 1</caption>\n",
       "<thead>\n",
       "\t<tr><th></th><th scope=col>na_count</th></tr>\n",
       "\t<tr><th></th><th scope=col>&lt;int&gt;</th></tr>\n",
       "</thead>\n",
       "<tbody>\n",
       "\t<tr><th scope=row>patient_id</th><td>0</td></tr>\n",
       "\t<tr><th scope=row>slope_of_peak_exercise_st_segment</th><td>0</td></tr>\n",
       "\t<tr><th scope=row>thal</th><td>0</td></tr>\n",
       "\t<tr><th scope=row>resting_blood_pressure</th><td>0</td></tr>\n",
       "\t<tr><th scope=row>chest_pain_type</th><td>0</td></tr>\n",
       "\t<tr><th scope=row>num_major_vessels</th><td>0</td></tr>\n",
       "\t<tr><th scope=row>fasting_blood_sugar_gt_120_mg_per_dl</th><td>0</td></tr>\n",
       "\t<tr><th scope=row>resting_ekg_results</th><td>0</td></tr>\n",
       "\t<tr><th scope=row>serum_cholesterol_mg_per_dl</th><td>0</td></tr>\n",
       "\t<tr><th scope=row>oldpeak_eq_st_depression</th><td>0</td></tr>\n",
       "\t<tr><th scope=row>sex</th><td>0</td></tr>\n",
       "\t<tr><th scope=row>age</th><td>0</td></tr>\n",
       "\t<tr><th scope=row>max_heart_rate_achieved</th><td>0</td></tr>\n",
       "\t<tr><th scope=row>exercise_induced_angina</th><td>0</td></tr>\n",
       "\t<tr><th scope=row>heart_disease_present</th><td>0</td></tr>\n",
       "</tbody>\n",
       "</table>\n"
      ],
      "text/latex": [
       "A data.frame: 15 × 1\n",
       "\\begin{tabular}{r|l}\n",
       "  & na\\_count\\\\\n",
       "  & <int>\\\\\n",
       "\\hline\n",
       "\tpatient\\_id & 0\\\\\n",
       "\tslope\\_of\\_peak\\_exercise\\_st\\_segment & 0\\\\\n",
       "\tthal & 0\\\\\n",
       "\tresting\\_blood\\_pressure & 0\\\\\n",
       "\tchest\\_pain\\_type & 0\\\\\n",
       "\tnum\\_major\\_vessels & 0\\\\\n",
       "\tfasting\\_blood\\_sugar\\_gt\\_120\\_mg\\_per\\_dl & 0\\\\\n",
       "\tresting\\_ekg\\_results & 0\\\\\n",
       "\tserum\\_cholesterol\\_mg\\_per\\_dl & 0\\\\\n",
       "\toldpeak\\_eq\\_st\\_depression & 0\\\\\n",
       "\tsex & 0\\\\\n",
       "\tage & 0\\\\\n",
       "\tmax\\_heart\\_rate\\_achieved & 0\\\\\n",
       "\texercise\\_induced\\_angina & 0\\\\\n",
       "\theart\\_disease\\_present & 0\\\\\n",
       "\\end{tabular}\n"
      ],
      "text/markdown": [
       "\n",
       "A data.frame: 15 × 1\n",
       "\n",
       "| <!--/--> | na_count &lt;int&gt; |\n",
       "|---|---|\n",
       "| patient_id | 0 |\n",
       "| slope_of_peak_exercise_st_segment | 0 |\n",
       "| thal | 0 |\n",
       "| resting_blood_pressure | 0 |\n",
       "| chest_pain_type | 0 |\n",
       "| num_major_vessels | 0 |\n",
       "| fasting_blood_sugar_gt_120_mg_per_dl | 0 |\n",
       "| resting_ekg_results | 0 |\n",
       "| serum_cholesterol_mg_per_dl | 0 |\n",
       "| oldpeak_eq_st_depression | 0 |\n",
       "| sex | 0 |\n",
       "| age | 0 |\n",
       "| max_heart_rate_achieved | 0 |\n",
       "| exercise_induced_angina | 0 |\n",
       "| heart_disease_present | 0 |\n",
       "\n"
      ],
      "text/plain": [
       "                                     na_count\n",
       "patient_id                           0       \n",
       "slope_of_peak_exercise_st_segment    0       \n",
       "thal                                 0       \n",
       "resting_blood_pressure               0       \n",
       "chest_pain_type                      0       \n",
       "num_major_vessels                    0       \n",
       "fasting_blood_sugar_gt_120_mg_per_dl 0       \n",
       "resting_ekg_results                  0       \n",
       "serum_cholesterol_mg_per_dl          0       \n",
       "oldpeak_eq_st_depression             0       \n",
       "sex                                  0       \n",
       "age                                  0       \n",
       "max_heart_rate_achieved              0       \n",
       "exercise_induced_angina              0       \n",
       "heart_disease_present                0       "
      ]
     },
     "metadata": {},
     "output_type": "display_data"
    }
   ],
   "source": [
    "# Find if there are any missing values in the merged dataset\n",
    "\n",
    "na_count <- sapply(train, function(y) sum(length(which(is.na(y)))))\n",
    "na_count <- data.frame(na_count)\n",
    "na_count"
   ]
  },
  {
   "cell_type": "markdown",
   "metadata": {},
   "source": [
    "### 2. Exploratory Data Analysis"
   ]
  },
  {
   "cell_type": "code",
   "execution_count": 9,
   "metadata": {},
   "outputs": [
    {
     "data": {
      "text/html": [
       "<table>\n",
       "<caption>A data.frame: 6 × 15</caption>\n",
       "<thead>\n",
       "\t<tr><th scope=col>patient_id</th><th scope=col>slope_of_peak_exercise_st_segment</th><th scope=col>thal</th><th scope=col>resting_blood_pressure</th><th scope=col>chest_pain_type</th><th scope=col>num_major_vessels</th><th scope=col>fasting_blood_sugar_gt_120_mg_per_dl</th><th scope=col>resting_ekg_results</th><th scope=col>serum_cholesterol_mg_per_dl</th><th scope=col>oldpeak_eq_st_depression</th><th scope=col>sex</th><th scope=col>age</th><th scope=col>max_heart_rate_achieved</th><th scope=col>exercise_induced_angina</th><th scope=col>heart_disease_present</th></tr>\n",
       "\t<tr><th scope=col>&lt;fct&gt;</th><th scope=col>&lt;int&gt;</th><th scope=col>&lt;fct&gt;</th><th scope=col>&lt;int&gt;</th><th scope=col>&lt;int&gt;</th><th scope=col>&lt;int&gt;</th><th scope=col>&lt;int&gt;</th><th scope=col>&lt;int&gt;</th><th scope=col>&lt;int&gt;</th><th scope=col>&lt;dbl&gt;</th><th scope=col>&lt;chr&gt;</th><th scope=col>&lt;int&gt;</th><th scope=col>&lt;int&gt;</th><th scope=col>&lt;int&gt;</th><th scope=col>&lt;chr&gt;</th></tr>\n",
       "</thead>\n",
       "<tbody>\n",
       "\t<tr><td>02cipp</td><td>1</td><td>normal           </td><td>140</td><td>1</td><td>2</td><td>0</td><td>0</td><td>239</td><td>1.8</td><td>female</td><td>69</td><td>151</td><td>0</td><td>no</td></tr>\n",
       "\t<tr><td>08usun</td><td>1</td><td>reversible_defect</td><td>120</td><td>4</td><td>0</td><td>0</td><td>0</td><td>177</td><td>0.4</td><td>male  </td><td>65</td><td>140</td><td>0</td><td>no</td></tr>\n",
       "\t<tr><td>0g192k</td><td>2</td><td>reversible_defect</td><td>128</td><td>4</td><td>1</td><td>0</td><td>0</td><td>263</td><td>0.2</td><td>male  </td><td>64</td><td>105</td><td>1</td><td>no</td></tr>\n",
       "\t<tr><td>0n5fu0</td><td>1</td><td>normal           </td><td>180</td><td>4</td><td>0</td><td>0</td><td>0</td><td>325</td><td>0.0</td><td>female</td><td>64</td><td>154</td><td>1</td><td>no</td></tr>\n",
       "\t<tr><td>0ryxtv</td><td>2</td><td>normal           </td><td>102</td><td>4</td><td>0</td><td>0</td><td>2</td><td>265</td><td>0.6</td><td>female</td><td>42</td><td>122</td><td>0</td><td>no</td></tr>\n",
       "\t<tr><td>0xw93k</td><td>1</td><td>normal           </td><td>124</td><td>3</td><td>2</td><td>1</td><td>0</td><td>255</td><td>0.0</td><td>male  </td><td>48</td><td>175</td><td>0</td><td>no</td></tr>\n",
       "</tbody>\n",
       "</table>\n"
      ],
      "text/latex": [
       "A data.frame: 6 × 15\n",
       "\\begin{tabular}{r|lllllllllllllll}\n",
       " patient\\_id & slope\\_of\\_peak\\_exercise\\_st\\_segment & thal & resting\\_blood\\_pressure & chest\\_pain\\_type & num\\_major\\_vessels & fasting\\_blood\\_sugar\\_gt\\_120\\_mg\\_per\\_dl & resting\\_ekg\\_results & serum\\_cholesterol\\_mg\\_per\\_dl & oldpeak\\_eq\\_st\\_depression & sex & age & max\\_heart\\_rate\\_achieved & exercise\\_induced\\_angina & heart\\_disease\\_present\\\\\n",
       " <fct> & <int> & <fct> & <int> & <int> & <int> & <int> & <int> & <int> & <dbl> & <chr> & <int> & <int> & <int> & <chr>\\\\\n",
       "\\hline\n",
       "\t 02cipp & 1 & normal            & 140 & 1 & 2 & 0 & 0 & 239 & 1.8 & female & 69 & 151 & 0 & no\\\\\n",
       "\t 08usun & 1 & reversible\\_defect & 120 & 4 & 0 & 0 & 0 & 177 & 0.4 & male   & 65 & 140 & 0 & no\\\\\n",
       "\t 0g192k & 2 & reversible\\_defect & 128 & 4 & 1 & 0 & 0 & 263 & 0.2 & male   & 64 & 105 & 1 & no\\\\\n",
       "\t 0n5fu0 & 1 & normal            & 180 & 4 & 0 & 0 & 0 & 325 & 0.0 & female & 64 & 154 & 1 & no\\\\\n",
       "\t 0ryxtv & 2 & normal            & 102 & 4 & 0 & 0 & 2 & 265 & 0.6 & female & 42 & 122 & 0 & no\\\\\n",
       "\t 0xw93k & 1 & normal            & 124 & 3 & 2 & 1 & 0 & 255 & 0.0 & male   & 48 & 175 & 0 & no\\\\\n",
       "\\end{tabular}\n"
      ],
      "text/markdown": [
       "\n",
       "A data.frame: 6 × 15\n",
       "\n",
       "| patient_id &lt;fct&gt; | slope_of_peak_exercise_st_segment &lt;int&gt; | thal &lt;fct&gt; | resting_blood_pressure &lt;int&gt; | chest_pain_type &lt;int&gt; | num_major_vessels &lt;int&gt; | fasting_blood_sugar_gt_120_mg_per_dl &lt;int&gt; | resting_ekg_results &lt;int&gt; | serum_cholesterol_mg_per_dl &lt;int&gt; | oldpeak_eq_st_depression &lt;dbl&gt; | sex &lt;chr&gt; | age &lt;int&gt; | max_heart_rate_achieved &lt;int&gt; | exercise_induced_angina &lt;int&gt; | heart_disease_present &lt;chr&gt; |\n",
       "|---|---|---|---|---|---|---|---|---|---|---|---|---|---|---|\n",
       "| 02cipp | 1 | normal            | 140 | 1 | 2 | 0 | 0 | 239 | 1.8 | female | 69 | 151 | 0 | no |\n",
       "| 08usun | 1 | reversible_defect | 120 | 4 | 0 | 0 | 0 | 177 | 0.4 | male   | 65 | 140 | 0 | no |\n",
       "| 0g192k | 2 | reversible_defect | 128 | 4 | 1 | 0 | 0 | 263 | 0.2 | male   | 64 | 105 | 1 | no |\n",
       "| 0n5fu0 | 1 | normal            | 180 | 4 | 0 | 0 | 0 | 325 | 0.0 | female | 64 | 154 | 1 | no |\n",
       "| 0ryxtv | 2 | normal            | 102 | 4 | 0 | 0 | 2 | 265 | 0.6 | female | 42 | 122 | 0 | no |\n",
       "| 0xw93k | 1 | normal            | 124 | 3 | 2 | 1 | 0 | 255 | 0.0 | male   | 48 | 175 | 0 | no |\n",
       "\n"
      ],
      "text/plain": [
       "  patient_id slope_of_peak_exercise_st_segment thal             \n",
       "1 02cipp     1                                 normal           \n",
       "2 08usun     1                                 reversible_defect\n",
       "3 0g192k     2                                 reversible_defect\n",
       "4 0n5fu0     1                                 normal           \n",
       "5 0ryxtv     2                                 normal           \n",
       "6 0xw93k     1                                 normal           \n",
       "  resting_blood_pressure chest_pain_type num_major_vessels\n",
       "1 140                    1               2                \n",
       "2 120                    4               0                \n",
       "3 128                    4               1                \n",
       "4 180                    4               0                \n",
       "5 102                    4               0                \n",
       "6 124                    3               2                \n",
       "  fasting_blood_sugar_gt_120_mg_per_dl resting_ekg_results\n",
       "1 0                                    0                  \n",
       "2 0                                    0                  \n",
       "3 0                                    0                  \n",
       "4 0                                    0                  \n",
       "5 0                                    2                  \n",
       "6 1                                    0                  \n",
       "  serum_cholesterol_mg_per_dl oldpeak_eq_st_depression sex    age\n",
       "1 239                         1.8                      female 69 \n",
       "2 177                         0.4                      male   65 \n",
       "3 263                         0.2                      male   64 \n",
       "4 325                         0.0                      female 64 \n",
       "5 265                         0.6                      female 42 \n",
       "6 255                         0.0                      male   48 \n",
       "  max_heart_rate_achieved exercise_induced_angina heart_disease_present\n",
       "1 151                     0                       no                   \n",
       "2 140                     0                       no                   \n",
       "3 105                     1                       no                   \n",
       "4 154                     1                       no                   \n",
       "5 122                     0                       no                   \n",
       "6 175                     0                       no                   "
      ]
     },
     "metadata": {},
     "output_type": "display_data"
    }
   ],
   "source": [
    "# Let's rename values of a column for data exploration purposes\n",
    "\n",
    "## First create a copy of train\n",
    "train_copy <- train\n",
    "train_copy$sex[train_copy$sex == 0] <- 'female'\n",
    "train_copy$sex[train_copy$sex == 1] <- 'male'\n",
    "train_copy$heart_disease_present[train_copy$heart_disease_present == 1] <- 'yes'\n",
    "train_copy$heart_disease_present[train_copy$heart_disease_present == 0] <- 'no'\n",
    "head(train_copy)"
   ]
  },
  {
   "cell_type": "code",
   "execution_count": 10,
   "metadata": {},
   "outputs": [
    {
     "data": {
      "text/html": [
       "180"
      ],
      "text/latex": [
       "180"
      ],
      "text/markdown": [
       "180"
      ],
      "text/plain": [
       "[1] 180"
      ]
     },
     "metadata": {},
     "output_type": "display_data"
    },
    {
     "data": {
      "text/html": [
       "<table>\n",
       "<caption>A table: 3 × 3 of type dbl</caption>\n",
       "<thead>\n",
       "\t<tr><th></th><th scope=col>no</th><th scope=col>yes</th><th scope=col>Sum</th></tr>\n",
       "</thead>\n",
       "<tbody>\n",
       "\t<tr><th scope=row>female</th><td> 45</td><td>11</td><td> 56</td></tr>\n",
       "\t<tr><th scope=row>male</th><td> 55</td><td>69</td><td>124</td></tr>\n",
       "\t<tr><th scope=row>Sum</th><td>100</td><td>80</td><td>180</td></tr>\n",
       "</tbody>\n",
       "</table>\n"
      ],
      "text/latex": [
       "A table: 3 × 3 of type dbl\n",
       "\\begin{tabular}{r|lll}\n",
       "  & no & yes & Sum\\\\\n",
       "\\hline\n",
       "\tfemale &  45 & 11 &  56\\\\\n",
       "\tmale &  55 & 69 & 124\\\\\n",
       "\tSum & 100 & 80 & 180\\\\\n",
       "\\end{tabular}\n"
      ],
      "text/markdown": [
       "\n",
       "A table: 3 × 3 of type dbl\n",
       "\n",
       "| <!--/--> | no | yes | Sum |\n",
       "|---|---|---|---|\n",
       "| female |  45 | 11 |  56 |\n",
       "| male |  55 | 69 | 124 |\n",
       "| Sum | 100 | 80 | 180 |\n",
       "\n"
      ],
      "text/plain": [
       "        \n",
       "         no  yes Sum\n",
       "  female  45 11   56\n",
       "  male    55 69  124\n",
       "  Sum    100 80  180"
      ]
     },
     "metadata": {},
     "output_type": "display_data"
    }
   ],
   "source": [
    "# Heart disease by gender\n",
    "\n",
    "nrow(train_copy)\n",
    "addmargins(table(train_copy$sex, train_copy$heart_disease_present))"
   ]
  },
  {
   "cell_type": "markdown",
   "metadata": {},
   "source": [
    "- Number of male patients with heart disease is higher compared to female"
   ]
  },
  {
   "cell_type": "code",
   "execution_count": 11,
   "metadata": {},
   "outputs": [
    {
     "data": {
      "text/plain": [
       "        \n",
       "           no  yes\n",
       "  female 0.80 0.20\n",
       "  male   0.44 0.56"
      ]
     },
     "metadata": {},
     "output_type": "display_data"
    }
   ],
   "source": [
    "# Row-wise proportions\n",
    "round(prop.table(table(train_copy$sex, train_copy$heart_disease_present), margin=1),2)"
   ]
  },
  {
   "cell_type": "code",
   "execution_count": 12,
   "metadata": {},
   "outputs": [
    {
     "data": {
      "text/html": [
       "29"
      ],
      "text/latex": [
       "29"
      ],
      "text/markdown": [
       "29"
      ],
      "text/plain": [
       "[1] 29"
      ]
     },
     "metadata": {},
     "output_type": "display_data"
    },
    {
     "data": {
      "text/html": [
       "77"
      ],
      "text/latex": [
       "77"
      ],
      "text/markdown": [
       "77"
      ],
      "text/plain": [
       "[1] 77"
      ]
     },
     "metadata": {},
     "output_type": "display_data"
    }
   ],
   "source": [
    "min(train$age)\n",
    "max(train$age)"
   ]
  },
  {
   "cell_type": "markdown",
   "metadata": {},
   "source": [
    "The ratio of heart disease distribution among female:male seems to higher for male"
   ]
  },
  {
   "cell_type": "code",
   "execution_count": 13,
   "metadata": {},
   "outputs": [
    {
     "data": {
      "image/png": "[encoded data removed]",
      "text/plain": [
       "plot without title"
      ]
     },
     "metadata": {},
     "output_type": "display_data"
    }
   ],
   "source": [
    "# Let's see the distribution of age in the dataset\n",
    "\n",
    "library(ggplot2)\n",
    "\n",
    "ggplot(aes(x=age), data=train) +\n",
    "    geom_histogram(binwidth=1, color='black', fill = \"#F79420\") +\n",
    "    xlab('age') +\n",
    "    ylab('frequency') +\n",
    "    ggtitle('Distribution by age') +\n",
    "    theme(plot.title=element_text(hjust=0.5))"
   ]
  },
  {
   "cell_type": "markdown",
   "metadata": {},
   "source": [
    "Most patients are falling in the age range of 45-65"
   ]
  },
  {
   "cell_type": "code",
   "execution_count": 14,
   "metadata": {},
   "outputs": [
    {
     "data": {
      "text/plain": [
       "   patient_id  slope_of_peak_exercise_st_segment                thal   \n",
       " 02cipp :  1   Min.   :1.00                      fixed_defect     : 8  \n",
       " 08usun :  1   1st Qu.:1.00                      normal           :98  \n",
       " 0g192k :  1   Median :1.00                      reversible_defect:74  \n",
       " 0n5fu0 :  1   Mean   :1.55                                            \n",
       " 0ryxtv :  1   3rd Qu.:2.00                                            \n",
       " 0xw93k :  1   Max.   :3.00                                            \n",
       " (Other):174                                                           \n",
       " resting_blood_pressure chest_pain_type num_major_vessels\n",
       " Min.   : 94.0          Min.   :1.000   Min.   :0.0000   \n",
       " 1st Qu.:120.0          1st Qu.:3.000   1st Qu.:0.0000   \n",
       " Median :130.0          Median :3.000   Median :0.0000   \n",
       " Mean   :131.3          Mean   :3.156   Mean   :0.6944   \n",
       " 3rd Qu.:140.0          3rd Qu.:4.000   3rd Qu.:1.0000   \n",
       " Max.   :180.0          Max.   :4.000   Max.   :3.0000   \n",
       "                                                         \n",
       " fasting_blood_sugar_gt_120_mg_per_dl resting_ekg_results\n",
       " Min.   :0.0000                       Min.   :0.00       \n",
       " 1st Qu.:0.0000                       1st Qu.:0.00       \n",
       " Median :0.0000                       Median :2.00       \n",
       " Mean   :0.1611                       Mean   :1.05       \n",
       " 3rd Qu.:0.0000                       3rd Qu.:2.00       \n",
       " Max.   :1.0000                       Max.   :2.00       \n",
       "                                                         \n",
       " serum_cholesterol_mg_per_dl oldpeak_eq_st_depression      sex        \n",
       " Min.   :126.0               Min.   :0.00             Min.   :0.0000  \n",
       " 1st Qu.:213.8               1st Qu.:0.00             1st Qu.:0.0000  \n",
       " Median :245.5               Median :0.80             Median :1.0000  \n",
       " Mean   :249.2               Mean   :1.01             Mean   :0.6889  \n",
       " 3rd Qu.:281.2               3rd Qu.:1.60             3rd Qu.:1.0000  \n",
       " Max.   :564.0               Max.   :6.20             Max.   :1.0000  \n",
       "                                                                      \n",
       "      age        max_heart_rate_achieved exercise_induced_angina\n",
       " Min.   :29.00   Min.   : 96.0           Min.   :0.0000         \n",
       " 1st Qu.:48.00   1st Qu.:132.0           1st Qu.:0.0000         \n",
       " Median :55.00   Median :152.0           Median :0.0000         \n",
       " Mean   :54.81   Mean   :149.5           Mean   :0.3167         \n",
       " 3rd Qu.:62.00   3rd Qu.:166.2           3rd Qu.:1.0000         \n",
       " Max.   :77.00   Max.   :202.0           Max.   :1.0000         \n",
       "                                                                \n",
       " heart_disease_present\n",
       " Min.   :0.0000       \n",
       " 1st Qu.:0.0000       \n",
       " Median :0.0000       \n",
       " Mean   :0.4444       \n",
       " 3rd Qu.:1.0000       \n",
       " Max.   :1.0000       \n",
       "                      "
      ]
     },
     "metadata": {},
     "output_type": "display_data"
    }
   ],
   "source": [
    "summary(train)"
   ]
  },
  {
   "cell_type": "markdown",
   "metadata": {},
   "source": [
    "### Understanding blood pressure\n",
    "\n",
    "Blood pressure refers to the force exerted by circulating blood on the walls of blood vessels and constitutes one of the principal vital signs.\n",
    "\n",
    "The pressure of the circulating blood decreases as blood moves through arteries, arterioles, capillaries, and veins. The term blood pressure generally refers to arterial pressure, i.e., the pressure in the larger arteries, arteries being the blood vessels which take blood away from the heart.\n",
    "\n",
    "Blood pressure is always given as two numbers;\n",
    "\n",
    "- Systolic Pressure (when the heart beats)\n",
    "- Diastolic Pressure (when the heart relaxes)\n",
    "\n",
    "When the measurements are written down, both are written one above, or before, the other with the systolic being the first number. Normal blood pressure will be in the range 120/80.\n",
    "\n",
    "***Blood pressure is not the same as maximum heart rate(pulse)***\n",
    "\n",
    "Heart rate differs by age."
   ]
  },
  {
   "cell_type": "code",
   "execution_count": 15,
   "metadata": {},
   "outputs": [
    {
     "data": {
      "image/png": "[encoded data removed]",
      "text/plain": [
       "plot without title"
      ]
     },
     "metadata": {},
     "output_type": "display_data"
    }
   ],
   "source": [
    "# Resting blood pressure distribution by gender\n",
    "\n",
    "library(ggplot2)\n",
    "\n",
    "ggplot(data=train_copy, aes(x=sex, y=resting_blood_pressure)) +\n",
    "    geom_boxplot() +\n",
    "    xlab('Gender') +\n",
    "    ylab('resting blood pressure') +\n",
    "    ggtitle('Resting blood pressure by gender') +\n",
    "    theme(plot.title=element_text(hjust=0.5))"
   ]
  },
  {
   "cell_type": "markdown",
   "metadata": {},
   "source": [
    "The median resting blood pressure seems to be equal and high for both the genders"
   ]
  },
  {
   "cell_type": "code",
   "execution_count": 16,
   "metadata": {},
   "outputs": [
    {
     "data": {
      "image/png": "[encoded data removed]",
      "text/plain": [
       "plot without title"
      ]
     },
     "metadata": {},
     "output_type": "display_data"
    }
   ],
   "source": [
    "# Max heart rate by gender\n",
    "\n",
    "library(ggplot2)\n",
    "\n",
    "ggplot(aes(x=sex, y=max_heart_rate_achieved), data=train_copy) +\n",
    "    geom_boxplot() +\n",
    "    xlab('gender') +\n",
    "    ylab('Max heart rate achieved') +\n",
    "    ggtitle('Max heart rate by Gender') +\n",
    "    theme(plot.title=element_text(hjust=0.5)) "
   ]
  },
  {
   "cell_type": "markdown",
   "metadata": {},
   "source": [
    "Max heart rate is high in females compared to males"
   ]
  },
  {
   "cell_type": "code",
   "execution_count": 17,
   "metadata": {},
   "outputs": [
    {
     "data": {
      "text/html": [
       "29"
      ],
      "text/latex": [
       "29"
      ],
      "text/markdown": [
       "29"
      ],
      "text/plain": [
       "[1] 29"
      ]
     },
     "metadata": {},
     "output_type": "display_data"
    },
    {
     "data": {
      "text/html": [
       "77"
      ],
      "text/latex": [
       "77"
      ],
      "text/markdown": [
       "77"
      ],
      "text/plain": [
       "[1] 77"
      ]
     },
     "metadata": {},
     "output_type": "display_data"
    }
   ],
   "source": [
    "min(train_copy$age)\n",
    "max(train_copy$age)"
   ]
  },
  {
   "cell_type": "code",
   "execution_count": 18,
   "metadata": {},
   "outputs": [
    {
     "data": {
      "text/html": [
       "<table>\n",
       "<caption>A data.frame: 6 × 16</caption>\n",
       "<thead>\n",
       "\t<tr><th scope=col>patient_id</th><th scope=col>slope_of_peak_exercise_st_segment</th><th scope=col>thal</th><th scope=col>resting_blood_pressure</th><th scope=col>chest_pain_type</th><th scope=col>num_major_vessels</th><th scope=col>fasting_blood_sugar_gt_120_mg_per_dl</th><th scope=col>resting_ekg_results</th><th scope=col>serum_cholesterol_mg_per_dl</th><th scope=col>oldpeak_eq_st_depression</th><th scope=col>sex</th><th scope=col>age</th><th scope=col>max_heart_rate_achieved</th><th scope=col>exercise_induced_angina</th><th scope=col>heart_disease_present</th><th scope=col>age_range</th></tr>\n",
       "\t<tr><th scope=col>&lt;fct&gt;</th><th scope=col>&lt;int&gt;</th><th scope=col>&lt;fct&gt;</th><th scope=col>&lt;int&gt;</th><th scope=col>&lt;int&gt;</th><th scope=col>&lt;int&gt;</th><th scope=col>&lt;int&gt;</th><th scope=col>&lt;int&gt;</th><th scope=col>&lt;int&gt;</th><th scope=col>&lt;dbl&gt;</th><th scope=col>&lt;chr&gt;</th><th scope=col>&lt;int&gt;</th><th scope=col>&lt;int&gt;</th><th scope=col>&lt;int&gt;</th><th scope=col>&lt;chr&gt;</th><th scope=col>&lt;chr&gt;</th></tr>\n",
       "</thead>\n",
       "<tbody>\n",
       "\t<tr><td>02cipp</td><td>1</td><td>normal           </td><td>140</td><td>1</td><td>2</td><td>0</td><td>0</td><td>239</td><td>1.8</td><td>female</td><td>69</td><td>151</td><td>0</td><td>no</td><td>61-70</td></tr>\n",
       "\t<tr><td>08usun</td><td>1</td><td>reversible_defect</td><td>120</td><td>4</td><td>0</td><td>0</td><td>0</td><td>177</td><td>0.4</td><td>male  </td><td>65</td><td>140</td><td>0</td><td>no</td><td>61-70</td></tr>\n",
       "\t<tr><td>0g192k</td><td>2</td><td>reversible_defect</td><td>128</td><td>4</td><td>1</td><td>0</td><td>0</td><td>263</td><td>0.2</td><td>male  </td><td>64</td><td>105</td><td>1</td><td>no</td><td>61-70</td></tr>\n",
       "\t<tr><td>0n5fu0</td><td>1</td><td>normal           </td><td>180</td><td>4</td><td>0</td><td>0</td><td>0</td><td>325</td><td>0.0</td><td>female</td><td>64</td><td>154</td><td>1</td><td>no</td><td>61-70</td></tr>\n",
       "\t<tr><td>0ryxtv</td><td>2</td><td>normal           </td><td>102</td><td>4</td><td>0</td><td>0</td><td>2</td><td>265</td><td>0.6</td><td>female</td><td>42</td><td>122</td><td>0</td><td>no</td><td>41-50</td></tr>\n",
       "\t<tr><td>0xw93k</td><td>1</td><td>normal           </td><td>124</td><td>3</td><td>2</td><td>1</td><td>0</td><td>255</td><td>0.0</td><td>male  </td><td>48</td><td>175</td><td>0</td><td>no</td><td>41-50</td></tr>\n",
       "</tbody>\n",
       "</table>\n"
      ],
      "text/latex": [
       "A data.frame: 6 × 16\n",
       "\\begin{tabular}{r|llllllllllllllll}\n",
       " patient\\_id & slope\\_of\\_peak\\_exercise\\_st\\_segment & thal & resting\\_blood\\_pressure & chest\\_pain\\_type & num\\_major\\_vessels & fasting\\_blood\\_sugar\\_gt\\_120\\_mg\\_per\\_dl & resting\\_ekg\\_results & serum\\_cholesterol\\_mg\\_per\\_dl & oldpeak\\_eq\\_st\\_depression & sex & age & max\\_heart\\_rate\\_achieved & exercise\\_induced\\_angina & heart\\_disease\\_present & age\\_range\\\\\n",
       " <fct> & <int> & <fct> & <int> & <int> & <int> & <int> & <int> & <int> & <dbl> & <chr> & <int> & <int> & <int> & <chr> & <chr>\\\\\n",
       "\\hline\n",
       "\t 02cipp & 1 & normal            & 140 & 1 & 2 & 0 & 0 & 239 & 1.8 & female & 69 & 151 & 0 & no & 61-70\\\\\n",
       "\t 08usun & 1 & reversible\\_defect & 120 & 4 & 0 & 0 & 0 & 177 & 0.4 & male   & 65 & 140 & 0 & no & 61-70\\\\\n",
       "\t 0g192k & 2 & reversible\\_defect & 128 & 4 & 1 & 0 & 0 & 263 & 0.2 & male   & 64 & 105 & 1 & no & 61-70\\\\\n",
       "\t 0n5fu0 & 1 & normal            & 180 & 4 & 0 & 0 & 0 & 325 & 0.0 & female & 64 & 154 & 1 & no & 61-70\\\\\n",
       "\t 0ryxtv & 2 & normal            & 102 & 4 & 0 & 0 & 2 & 265 & 0.6 & female & 42 & 122 & 0 & no & 41-50\\\\\n",
       "\t 0xw93k & 1 & normal            & 124 & 3 & 2 & 1 & 0 & 255 & 0.0 & male   & 48 & 175 & 0 & no & 41-50\\\\\n",
       "\\end{tabular}\n"
      ],
      "text/markdown": [
       "\n",
       "A data.frame: 6 × 16\n",
       "\n",
       "| patient_id &lt;fct&gt; | slope_of_peak_exercise_st_segment &lt;int&gt; | thal &lt;fct&gt; | resting_blood_pressure &lt;int&gt; | chest_pain_type &lt;int&gt; | num_major_vessels &lt;int&gt; | fasting_blood_sugar_gt_120_mg_per_dl &lt;int&gt; | resting_ekg_results &lt;int&gt; | serum_cholesterol_mg_per_dl &lt;int&gt; | oldpeak_eq_st_depression &lt;dbl&gt; | sex &lt;chr&gt; | age &lt;int&gt; | max_heart_rate_achieved &lt;int&gt; | exercise_induced_angina &lt;int&gt; | heart_disease_present &lt;chr&gt; | age_range &lt;chr&gt; |\n",
       "|---|---|---|---|---|---|---|---|---|---|---|---|---|---|---|---|\n",
       "| 02cipp | 1 | normal            | 140 | 1 | 2 | 0 | 0 | 239 | 1.8 | female | 69 | 151 | 0 | no | 61-70 |\n",
       "| 08usun | 1 | reversible_defect | 120 | 4 | 0 | 0 | 0 | 177 | 0.4 | male   | 65 | 140 | 0 | no | 61-70 |\n",
       "| 0g192k | 2 | reversible_defect | 128 | 4 | 1 | 0 | 0 | 263 | 0.2 | male   | 64 | 105 | 1 | no | 61-70 |\n",
       "| 0n5fu0 | 1 | normal            | 180 | 4 | 0 | 0 | 0 | 325 | 0.0 | female | 64 | 154 | 1 | no | 61-70 |\n",
       "| 0ryxtv | 2 | normal            | 102 | 4 | 0 | 0 | 2 | 265 | 0.6 | female | 42 | 122 | 0 | no | 41-50 |\n",
       "| 0xw93k | 1 | normal            | 124 | 3 | 2 | 1 | 0 | 255 | 0.0 | male   | 48 | 175 | 0 | no | 41-50 |\n",
       "\n"
      ],
      "text/plain": [
       "  patient_id slope_of_peak_exercise_st_segment thal             \n",
       "1 02cipp     1                                 normal           \n",
       "2 08usun     1                                 reversible_defect\n",
       "3 0g192k     2                                 reversible_defect\n",
       "4 0n5fu0     1                                 normal           \n",
       "5 0ryxtv     2                                 normal           \n",
       "6 0xw93k     1                                 normal           \n",
       "  resting_blood_pressure chest_pain_type num_major_vessels\n",
       "1 140                    1               2                \n",
       "2 120                    4               0                \n",
       "3 128                    4               1                \n",
       "4 180                    4               0                \n",
       "5 102                    4               0                \n",
       "6 124                    3               2                \n",
       "  fasting_blood_sugar_gt_120_mg_per_dl resting_ekg_results\n",
       "1 0                                    0                  \n",
       "2 0                                    0                  \n",
       "3 0                                    0                  \n",
       "4 0                                    0                  \n",
       "5 0                                    2                  \n",
       "6 1                                    0                  \n",
       "  serum_cholesterol_mg_per_dl oldpeak_eq_st_depression sex    age\n",
       "1 239                         1.8                      female 69 \n",
       "2 177                         0.4                      male   65 \n",
       "3 263                         0.2                      male   64 \n",
       "4 325                         0.0                      female 64 \n",
       "5 265                         0.6                      female 42 \n",
       "6 255                         0.0                      male   48 \n",
       "  max_heart_rate_achieved exercise_induced_angina heart_disease_present\n",
       "1 151                     0                       no                   \n",
       "2 140                     0                       no                   \n",
       "3 105                     1                       no                   \n",
       "4 154                     1                       no                   \n",
       "5 122                     0                       no                   \n",
       "6 175                     0                       no                   \n",
       "  age_range\n",
       "1 61-70    \n",
       "2 61-70    \n",
       "3 61-70    \n",
       "4 61-70    \n",
       "5 41-50    \n",
       "6 41-50    "
      ]
     },
     "metadata": {},
     "output_type": "display_data"
    }
   ],
   "source": [
    "# Adding age ranges\n",
    "train_copy$age_range <- ifelse(train_copy$age<20,'1-20',\n",
    "                              ifelse(train_copy$age>20 & train_copy$age<=30,'21-30',\n",
    "                              ifelse(train_copy$age>30 & train_copy$age<=40,'31-40',\n",
    "                              ifelse(train_copy$age>40 & train_copy$age<=50,'41-50',\n",
    "                              ifelse(train_copy$age>50 & train_copy$age<=60,'51-60',\n",
    "                              ifelse(train_copy$age>60 & train_copy$age<=70,'61-70',\n",
    "                              ifelse(train_copy$age>70 & train_copy$age<=80,'71-80',\n",
    "                              ifelse(train_copy$age>80 & train_copy$age<=90,'81-90','>90'))))))))\n",
    "\n",
    "head(train_copy)"
   ]
  },
  {
   "cell_type": "code",
   "execution_count": 19,
   "metadata": {},
   "outputs": [
    {
     "data": {
      "image/png": "[encoded data removed]",
      "text/plain": [
       "plot without title"
      ]
     },
     "metadata": {},
     "output_type": "display_data"
    }
   ],
   "source": [
    "# Max rate heart rate by age_group\n",
    "\n",
    "library(ggplot2)\n",
    "\n",
    "ggplot(aes(x=age_range, y=max_heart_rate_achieved), data=train_copy) +\n",
    "    geom_boxplot() +\n",
    "    xlab('age_range') +\n",
    "    ylab('Max heart rate achieved') +\n",
    "    ggtitle('Max heart rate by age_range') +\n",
    "    theme(plot.title=element_text(hjust=0.5)) "
   ]
  },
  {
   "cell_type": "markdown",
   "metadata": {},
   "source": [
    "- Max heart rate is consistently decreasing by age"
   ]
  },
  {
   "cell_type": "code",
   "execution_count": 20,
   "metadata": {},
   "outputs": [
    {
     "data": {
      "image/png": "[encoded data removed]",
      "text/plain": [
       "plot without title"
      ]
     },
     "metadata": {},
     "output_type": "display_data"
    }
   ],
   "source": [
    "# How is age related with max heart rate?\n",
    "\n",
    "library(ggplot2)\n",
    "\n",
    "ggplot(aes(x=age, y=max_heart_rate_achieved), data=train_copy) +\n",
    "    geom_point(shape=19) +\n",
    "    geom_smooth(method=lm, se=FALSE) +\n",
    "    xlab('age') +\n",
    "    ylab('max heart rate achieved') +\n",
    "    ggtitle('Age vs. Max heart rate') +\n",
    "    theme(plot.title=element_text(hjust=0.5))"
   ]
  },
  {
   "cell_type": "markdown",
   "metadata": {},
   "source": [
    "- Max heart rate seems to be negatively correlated with age and it is not a strong correlation"
   ]
  },
  {
   "cell_type": "code",
   "execution_count": 21,
   "metadata": {},
   "outputs": [
    {
     "data": {
      "text/html": [
       "<ol class=list-inline>\n",
       "\t<li>'patient_id'</li>\n",
       "\t<li>'slope_of_peak_exercise_st_segment'</li>\n",
       "\t<li>'thal'</li>\n",
       "\t<li>'resting_blood_pressure'</li>\n",
       "\t<li>'chest_pain_type'</li>\n",
       "\t<li>'num_major_vessels'</li>\n",
       "\t<li>'fasting_blood_sugar_gt_120_mg_per_dl'</li>\n",
       "\t<li>'resting_ekg_results'</li>\n",
       "\t<li>'serum_cholesterol_mg_per_dl'</li>\n",
       "\t<li>'oldpeak_eq_st_depression'</li>\n",
       "\t<li>'sex'</li>\n",
       "\t<li>'age'</li>\n",
       "\t<li>'max_heart_rate_achieved'</li>\n",
       "\t<li>'exercise_induced_angina'</li>\n",
       "\t<li>'heart_disease_present'</li>\n",
       "</ol>\n"
      ],
      "text/latex": [
       "\\begin{enumerate*}\n",
       "\\item 'patient\\_id'\n",
       "\\item 'slope\\_of\\_peak\\_exercise\\_st\\_segment'\n",
       "\\item 'thal'\n",
       "\\item 'resting\\_blood\\_pressure'\n",
       "\\item 'chest\\_pain\\_type'\n",
       "\\item 'num\\_major\\_vessels'\n",
       "\\item 'fasting\\_blood\\_sugar\\_gt\\_120\\_mg\\_per\\_dl'\n",
       "\\item 'resting\\_ekg\\_results'\n",
       "\\item 'serum\\_cholesterol\\_mg\\_per\\_dl'\n",
       "\\item 'oldpeak\\_eq\\_st\\_depression'\n",
       "\\item 'sex'\n",
       "\\item 'age'\n",
       "\\item 'max\\_heart\\_rate\\_achieved'\n",
       "\\item 'exercise\\_induced\\_angina'\n",
       "\\item 'heart\\_disease\\_present'\n",
       "\\end{enumerate*}\n"
      ],
      "text/markdown": [
       "1. 'patient_id'\n",
       "2. 'slope_of_peak_exercise_st_segment'\n",
       "3. 'thal'\n",
       "4. 'resting_blood_pressure'\n",
       "5. 'chest_pain_type'\n",
       "6. 'num_major_vessels'\n",
       "7. 'fasting_blood_sugar_gt_120_mg_per_dl'\n",
       "8. 'resting_ekg_results'\n",
       "9. 'serum_cholesterol_mg_per_dl'\n",
       "10. 'oldpeak_eq_st_depression'\n",
       "11. 'sex'\n",
       "12. 'age'\n",
       "13. 'max_heart_rate_achieved'\n",
       "14. 'exercise_induced_angina'\n",
       "15. 'heart_disease_present'\n",
       "\n",
       "\n"
      ],
      "text/plain": [
       " [1] \"patient_id\"                          \n",
       " [2] \"slope_of_peak_exercise_st_segment\"   \n",
       " [3] \"thal\"                                \n",
       " [4] \"resting_blood_pressure\"              \n",
       " [5] \"chest_pain_type\"                     \n",
       " [6] \"num_major_vessels\"                   \n",
       " [7] \"fasting_blood_sugar_gt_120_mg_per_dl\"\n",
       " [8] \"resting_ekg_results\"                 \n",
       " [9] \"serum_cholesterol_mg_per_dl\"         \n",
       "[10] \"oldpeak_eq_st_depression\"            \n",
       "[11] \"sex\"                                 \n",
       "[12] \"age\"                                 \n",
       "[13] \"max_heart_rate_achieved\"             \n",
       "[14] \"exercise_induced_angina\"             \n",
       "[15] \"heart_disease_present\"               "
      ]
     },
     "metadata": {},
     "output_type": "display_data"
    },
    {
     "data": {
      "text/html": [
       "<table>\n",
       "<caption>A matrix: 13 × 13 of type dbl</caption>\n",
       "<thead>\n",
       "\t<tr><th></th><th scope=col>slope_of_peak_exercise_st_segment</th><th scope=col>resting_blood_pressure</th><th scope=col>chest_pain_type</th><th scope=col>num_major_vessels</th><th scope=col>fasting_blood_sugar_gt_120_mg_per_dl</th><th scope=col>resting_ekg_results</th><th scope=col>serum_cholesterol_mg_per_dl</th><th scope=col>oldpeak_eq_st_depression</th><th scope=col>sex</th><th scope=col>age</th><th scope=col>max_heart_rate_achieved</th><th scope=col>exercise_induced_angina</th><th scope=col>heart_disease_present</th></tr>\n",
       "</thead>\n",
       "<tbody>\n",
       "\t<tr><th scope=row>slope_of_peak_exercise_st_segment</th><td> 1.00</td><td> 0.10</td><td> 0.12</td><td> 0.08</td><td> 0.05</td><td> 0.17</td><td>-0.03</td><td> 0.62</td><td> 0.09</td><td> 0.17</td><td>-0.42</td><td> 0.23</td><td> 0.34</td></tr>\n",
       "\t<tr><th scope=row>resting_blood_pressure</th><td> 0.10</td><td> 1.00</td><td>-0.03</td><td> 0.04</td><td> 0.17</td><td> 0.08</td><td> 0.14</td><td> 0.22</td><td>-0.06</td><td> 0.28</td><td>-0.02</td><td> 0.12</td><td> 0.08</td></tr>\n",
       "\t<tr><th scope=row>chest_pain_type</th><td> 0.12</td><td>-0.03</td><td> 1.00</td><td> 0.25</td><td>-0.09</td><td> 0.03</td><td> 0.06</td><td> 0.08</td><td> 0.09</td><td> 0.09</td><td>-0.30</td><td> 0.35</td><td> 0.41</td></tr>\n",
       "\t<tr><th scope=row>num_major_vessels</th><td> 0.08</td><td> 0.04</td><td> 0.25</td><td> 1.00</td><td> 0.17</td><td> 0.10</td><td> 0.10</td><td> 0.21</td><td> 0.07</td><td> 0.35</td><td>-0.28</td><td> 0.15</td><td> 0.42</td></tr>\n",
       "\t<tr><th scope=row>fasting_blood_sugar_gt_120_mg_per_dl</th><td> 0.05</td><td> 0.17</td><td>-0.09</td><td> 0.17</td><td> 1.00</td><td> 0.05</td><td> 0.03</td><td>-0.04</td><td> 0.07</td><td> 0.18</td><td> 0.06</td><td>-0.01</td><td> 0.00</td></tr>\n",
       "\t<tr><th scope=row>resting_ekg_results</th><td> 0.17</td><td> 0.08</td><td> 0.03</td><td> 0.10</td><td> 0.05</td><td> 1.00</td><td> 0.17</td><td> 0.10</td><td> 0.05</td><td> 0.13</td><td>-0.10</td><td> 0.04</td><td> 0.15</td></tr>\n",
       "\t<tr><th scope=row>serum_cholesterol_mg_per_dl</th><td>-0.03</td><td> 0.14</td><td> 0.06</td><td> 0.10</td><td> 0.03</td><td> 0.17</td><td> 1.00</td><td>-0.02</td><td>-0.15</td><td> 0.24</td><td>-0.07</td><td> 0.08</td><td> 0.08</td></tr>\n",
       "\t<tr><th scope=row>oldpeak_eq_st_depression</th><td> 0.62</td><td> 0.22</td><td> 0.08</td><td> 0.21</td><td>-0.04</td><td> 0.10</td><td>-0.02</td><td> 1.00</td><td> 0.10</td><td> 0.19</td><td>-0.34</td><td> 0.25</td><td> 0.38</td></tr>\n",
       "\t<tr><th scope=row>sex</th><td> 0.09</td><td>-0.06</td><td> 0.09</td><td> 0.07</td><td> 0.07</td><td> 0.05</td><td>-0.15</td><td> 0.10</td><td> 1.00</td><td>-0.15</td><td>-0.05</td><td> 0.25</td><td> 0.34</td></tr>\n",
       "\t<tr><th scope=row>age</th><td> 0.17</td><td> 0.28</td><td> 0.09</td><td> 0.35</td><td> 0.18</td><td> 0.13</td><td> 0.24</td><td> 0.19</td><td>-0.15</td><td> 1.00</td><td>-0.39</td><td> 0.08</td><td> 0.14</td></tr>\n",
       "\t<tr><th scope=row>max_heart_rate_achieved</th><td>-0.42</td><td>-0.02</td><td>-0.30</td><td>-0.28</td><td> 0.06</td><td>-0.10</td><td>-0.07</td><td>-0.34</td><td>-0.05</td><td>-0.39</td><td> 1.00</td><td>-0.37</td><td>-0.38</td></tr>\n",
       "\t<tr><th scope=row>exercise_induced_angina</th><td> 0.23</td><td> 0.12</td><td> 0.35</td><td> 0.15</td><td>-0.01</td><td> 0.04</td><td> 0.08</td><td> 0.25</td><td> 0.25</td><td> 0.08</td><td>-0.37</td><td> 1.00</td><td> 0.45</td></tr>\n",
       "\t<tr><th scope=row>heart_disease_present</th><td> 0.34</td><td> 0.08</td><td> 0.41</td><td> 0.42</td><td> 0.00</td><td> 0.15</td><td> 0.08</td><td> 0.38</td><td> 0.34</td><td> 0.14</td><td>-0.38</td><td> 0.45</td><td> 1.00</td></tr>\n",
       "</tbody>\n",
       "</table>\n"
      ],
      "text/latex": [
       "A matrix: 13 × 13 of type dbl\n",
       "\\begin{tabular}{r|lllllllllllll}\n",
       "  & slope\\_of\\_peak\\_exercise\\_st\\_segment & resting\\_blood\\_pressure & chest\\_pain\\_type & num\\_major\\_vessels & fasting\\_blood\\_sugar\\_gt\\_120\\_mg\\_per\\_dl & resting\\_ekg\\_results & serum\\_cholesterol\\_mg\\_per\\_dl & oldpeak\\_eq\\_st\\_depression & sex & age & max\\_heart\\_rate\\_achieved & exercise\\_induced\\_angina & heart\\_disease\\_present\\\\\n",
       "\\hline\n",
       "\tslope\\_of\\_peak\\_exercise\\_st\\_segment &  1.00 &  0.10 &  0.12 &  0.08 &  0.05 &  0.17 & -0.03 &  0.62 &  0.09 &  0.17 & -0.42 &  0.23 &  0.34\\\\\n",
       "\tresting\\_blood\\_pressure &  0.10 &  1.00 & -0.03 &  0.04 &  0.17 &  0.08 &  0.14 &  0.22 & -0.06 &  0.28 & -0.02 &  0.12 &  0.08\\\\\n",
       "\tchest\\_pain\\_type &  0.12 & -0.03 &  1.00 &  0.25 & -0.09 &  0.03 &  0.06 &  0.08 &  0.09 &  0.09 & -0.30 &  0.35 &  0.41\\\\\n",
       "\tnum\\_major\\_vessels &  0.08 &  0.04 &  0.25 &  1.00 &  0.17 &  0.10 &  0.10 &  0.21 &  0.07 &  0.35 & -0.28 &  0.15 &  0.42\\\\\n",
       "\tfasting\\_blood\\_sugar\\_gt\\_120\\_mg\\_per\\_dl &  0.05 &  0.17 & -0.09 &  0.17 &  1.00 &  0.05 &  0.03 & -0.04 &  0.07 &  0.18 &  0.06 & -0.01 &  0.00\\\\\n",
       "\tresting\\_ekg\\_results &  0.17 &  0.08 &  0.03 &  0.10 &  0.05 &  1.00 &  0.17 &  0.10 &  0.05 &  0.13 & -0.10 &  0.04 &  0.15\\\\\n",
       "\tserum\\_cholesterol\\_mg\\_per\\_dl & -0.03 &  0.14 &  0.06 &  0.10 &  0.03 &  0.17 &  1.00 & -0.02 & -0.15 &  0.24 & -0.07 &  0.08 &  0.08\\\\\n",
       "\toldpeak\\_eq\\_st\\_depression &  0.62 &  0.22 &  0.08 &  0.21 & -0.04 &  0.10 & -0.02 &  1.00 &  0.10 &  0.19 & -0.34 &  0.25 &  0.38\\\\\n",
       "\tsex &  0.09 & -0.06 &  0.09 &  0.07 &  0.07 &  0.05 & -0.15 &  0.10 &  1.00 & -0.15 & -0.05 &  0.25 &  0.34\\\\\n",
       "\tage &  0.17 &  0.28 &  0.09 &  0.35 &  0.18 &  0.13 &  0.24 &  0.19 & -0.15 &  1.00 & -0.39 &  0.08 &  0.14\\\\\n",
       "\tmax\\_heart\\_rate\\_achieved & -0.42 & -0.02 & -0.30 & -0.28 &  0.06 & -0.10 & -0.07 & -0.34 & -0.05 & -0.39 &  1.00 & -0.37 & -0.38\\\\\n",
       "\texercise\\_induced\\_angina &  0.23 &  0.12 &  0.35 &  0.15 & -0.01 &  0.04 &  0.08 &  0.25 &  0.25 &  0.08 & -0.37 &  1.00 &  0.45\\\\\n",
       "\theart\\_disease\\_present &  0.34 &  0.08 &  0.41 &  0.42 &  0.00 &  0.15 &  0.08 &  0.38 &  0.34 &  0.14 & -0.38 &  0.45 &  1.00\\\\\n",
       "\\end{tabular}\n"
      ],
      "text/markdown": [
       "\n",
       "A matrix: 13 × 13 of type dbl\n",
       "\n",
       "| <!--/--> | slope_of_peak_exercise_st_segment | resting_blood_pressure | chest_pain_type | num_major_vessels | fasting_blood_sugar_gt_120_mg_per_dl | resting_ekg_results | serum_cholesterol_mg_per_dl | oldpeak_eq_st_depression | sex | age | max_heart_rate_achieved | exercise_induced_angina | heart_disease_present |\n",
       "|---|---|---|---|---|---|---|---|---|---|---|---|---|---|\n",
       "| slope_of_peak_exercise_st_segment |  1.00 |  0.10 |  0.12 |  0.08 |  0.05 |  0.17 | -0.03 |  0.62 |  0.09 |  0.17 | -0.42 |  0.23 |  0.34 |\n",
       "| resting_blood_pressure |  0.10 |  1.00 | -0.03 |  0.04 |  0.17 |  0.08 |  0.14 |  0.22 | -0.06 |  0.28 | -0.02 |  0.12 |  0.08 |\n",
       "| chest_pain_type |  0.12 | -0.03 |  1.00 |  0.25 | -0.09 |  0.03 |  0.06 |  0.08 |  0.09 |  0.09 | -0.30 |  0.35 |  0.41 |\n",
       "| num_major_vessels |  0.08 |  0.04 |  0.25 |  1.00 |  0.17 |  0.10 |  0.10 |  0.21 |  0.07 |  0.35 | -0.28 |  0.15 |  0.42 |\n",
       "| fasting_blood_sugar_gt_120_mg_per_dl |  0.05 |  0.17 | -0.09 |  0.17 |  1.00 |  0.05 |  0.03 | -0.04 |  0.07 |  0.18 |  0.06 | -0.01 |  0.00 |\n",
       "| resting_ekg_results |  0.17 |  0.08 |  0.03 |  0.10 |  0.05 |  1.00 |  0.17 |  0.10 |  0.05 |  0.13 | -0.10 |  0.04 |  0.15 |\n",
       "| serum_cholesterol_mg_per_dl | -0.03 |  0.14 |  0.06 |  0.10 |  0.03 |  0.17 |  1.00 | -0.02 | -0.15 |  0.24 | -0.07 |  0.08 |  0.08 |\n",
       "| oldpeak_eq_st_depression |  0.62 |  0.22 |  0.08 |  0.21 | -0.04 |  0.10 | -0.02 |  1.00 |  0.10 |  0.19 | -0.34 |  0.25 |  0.38 |\n",
       "| sex |  0.09 | -0.06 |  0.09 |  0.07 |  0.07 |  0.05 | -0.15 |  0.10 |  1.00 | -0.15 | -0.05 |  0.25 |  0.34 |\n",
       "| age |  0.17 |  0.28 |  0.09 |  0.35 |  0.18 |  0.13 |  0.24 |  0.19 | -0.15 |  1.00 | -0.39 |  0.08 |  0.14 |\n",
       "| max_heart_rate_achieved | -0.42 | -0.02 | -0.30 | -0.28 |  0.06 | -0.10 | -0.07 | -0.34 | -0.05 | -0.39 |  1.00 | -0.37 | -0.38 |\n",
       "| exercise_induced_angina |  0.23 |  0.12 |  0.35 |  0.15 | -0.01 |  0.04 |  0.08 |  0.25 |  0.25 |  0.08 | -0.37 |  1.00 |  0.45 |\n",
       "| heart_disease_present |  0.34 |  0.08 |  0.41 |  0.42 |  0.00 |  0.15 |  0.08 |  0.38 |  0.34 |  0.14 | -0.38 |  0.45 |  1.00 |\n",
       "\n"
      ],
      "text/plain": [
       "                                     slope_of_peak_exercise_st_segment\n",
       "slope_of_peak_exercise_st_segment     1.00                            \n",
       "resting_blood_pressure                0.10                            \n",
       "chest_pain_type                       0.12                            \n",
       "num_major_vessels                     0.08                            \n",
       "fasting_blood_sugar_gt_120_mg_per_dl  0.05                            \n",
       "resting_ekg_results                   0.17                            \n",
       "serum_cholesterol_mg_per_dl          -0.03                            \n",
       "oldpeak_eq_st_depression              0.62                            \n",
       "sex                                   0.09                            \n",
       "age                                   0.17                            \n",
       "max_heart_rate_achieved              -0.42                            \n",
       "exercise_induced_angina               0.23                            \n",
       "heart_disease_present                 0.34                            \n",
       "                                     resting_blood_pressure chest_pain_type\n",
       "slope_of_peak_exercise_st_segment     0.10                   0.12          \n",
       "resting_blood_pressure                1.00                  -0.03          \n",
       "chest_pain_type                      -0.03                   1.00          \n",
       "num_major_vessels                     0.04                   0.25          \n",
       "fasting_blood_sugar_gt_120_mg_per_dl  0.17                  -0.09          \n",
       "resting_ekg_results                   0.08                   0.03          \n",
       "serum_cholesterol_mg_per_dl           0.14                   0.06          \n",
       "oldpeak_eq_st_depression              0.22                   0.08          \n",
       "sex                                  -0.06                   0.09          \n",
       "age                                   0.28                   0.09          \n",
       "max_heart_rate_achieved              -0.02                  -0.30          \n",
       "exercise_induced_angina               0.12                   0.35          \n",
       "heart_disease_present                 0.08                   0.41          \n",
       "                                     num_major_vessels\n",
       "slope_of_peak_exercise_st_segment     0.08            \n",
       "resting_blood_pressure                0.04            \n",
       "chest_pain_type                       0.25            \n",
       "num_major_vessels                     1.00            \n",
       "fasting_blood_sugar_gt_120_mg_per_dl  0.17            \n",
       "resting_ekg_results                   0.10            \n",
       "serum_cholesterol_mg_per_dl           0.10            \n",
       "oldpeak_eq_st_depression              0.21            \n",
       "sex                                   0.07            \n",
       "age                                   0.35            \n",
       "max_heart_rate_achieved              -0.28            \n",
       "exercise_induced_angina               0.15            \n",
       "heart_disease_present                 0.42            \n",
       "                                     fasting_blood_sugar_gt_120_mg_per_dl\n",
       "slope_of_peak_exercise_st_segment     0.05                               \n",
       "resting_blood_pressure                0.17                               \n",
       "chest_pain_type                      -0.09                               \n",
       "num_major_vessels                     0.17                               \n",
       "fasting_blood_sugar_gt_120_mg_per_dl  1.00                               \n",
       "resting_ekg_results                   0.05                               \n",
       "serum_cholesterol_mg_per_dl           0.03                               \n",
       "oldpeak_eq_st_depression             -0.04                               \n",
       "sex                                   0.07                               \n",
       "age                                   0.18                               \n",
       "max_heart_rate_achieved               0.06                               \n",
       "exercise_induced_angina              -0.01                               \n",
       "heart_disease_present                 0.00                               \n",
       "                                     resting_ekg_results\n",
       "slope_of_peak_exercise_st_segment     0.17              \n",
       "resting_blood_pressure                0.08              \n",
       "chest_pain_type                       0.03              \n",
       "num_major_vessels                     0.10              \n",
       "fasting_blood_sugar_gt_120_mg_per_dl  0.05              \n",
       "resting_ekg_results                   1.00              \n",
       "serum_cholesterol_mg_per_dl           0.17              \n",
       "oldpeak_eq_st_depression              0.10              \n",
       "sex                                   0.05              \n",
       "age                                   0.13              \n",
       "max_heart_rate_achieved              -0.10              \n",
       "exercise_induced_angina               0.04              \n",
       "heart_disease_present                 0.15              \n",
       "                                     serum_cholesterol_mg_per_dl\n",
       "slope_of_peak_exercise_st_segment    -0.03                      \n",
       "resting_blood_pressure                0.14                      \n",
       "chest_pain_type                       0.06                      \n",
       "num_major_vessels                     0.10                      \n",
       "fasting_blood_sugar_gt_120_mg_per_dl  0.03                      \n",
       "resting_ekg_results                   0.17                      \n",
       "serum_cholesterol_mg_per_dl           1.00                      \n",
       "oldpeak_eq_st_depression             -0.02                      \n",
       "sex                                  -0.15                      \n",
       "age                                   0.24                      \n",
       "max_heart_rate_achieved              -0.07                      \n",
       "exercise_induced_angina               0.08                      \n",
       "heart_disease_present                 0.08                      \n",
       "                                     oldpeak_eq_st_depression sex   age  \n",
       "slope_of_peak_exercise_st_segment     0.62                     0.09  0.17\n",
       "resting_blood_pressure                0.22                    -0.06  0.28\n",
       "chest_pain_type                       0.08                     0.09  0.09\n",
       "num_major_vessels                     0.21                     0.07  0.35\n",
       "fasting_blood_sugar_gt_120_mg_per_dl -0.04                     0.07  0.18\n",
       "resting_ekg_results                   0.10                     0.05  0.13\n",
       "serum_cholesterol_mg_per_dl          -0.02                    -0.15  0.24\n",
       "oldpeak_eq_st_depression              1.00                     0.10  0.19\n",
       "sex                                   0.10                     1.00 -0.15\n",
       "age                                   0.19                    -0.15  1.00\n",
       "max_heart_rate_achieved              -0.34                    -0.05 -0.39\n",
       "exercise_induced_angina               0.25                     0.25  0.08\n",
       "heart_disease_present                 0.38                     0.34  0.14\n",
       "                                     max_heart_rate_achieved\n",
       "slope_of_peak_exercise_st_segment    -0.42                  \n",
       "resting_blood_pressure               -0.02                  \n",
       "chest_pain_type                      -0.30                  \n",
       "num_major_vessels                    -0.28                  \n",
       "fasting_blood_sugar_gt_120_mg_per_dl  0.06                  \n",
       "resting_ekg_results                  -0.10                  \n",
       "serum_cholesterol_mg_per_dl          -0.07                  \n",
       "oldpeak_eq_st_depression             -0.34                  \n",
       "sex                                  -0.05                  \n",
       "age                                  -0.39                  \n",
       "max_heart_rate_achieved               1.00                  \n",
       "exercise_induced_angina              -0.37                  \n",
       "heart_disease_present                -0.38                  \n",
       "                                     exercise_induced_angina\n",
       "slope_of_peak_exercise_st_segment     0.23                  \n",
       "resting_blood_pressure                0.12                  \n",
       "chest_pain_type                       0.35                  \n",
       "num_major_vessels                     0.15                  \n",
       "fasting_blood_sugar_gt_120_mg_per_dl -0.01                  \n",
       "resting_ekg_results                   0.04                  \n",
       "serum_cholesterol_mg_per_dl           0.08                  \n",
       "oldpeak_eq_st_depression              0.25                  \n",
       "sex                                   0.25                  \n",
       "age                                   0.08                  \n",
       "max_heart_rate_achieved              -0.37                  \n",
       "exercise_induced_angina               1.00                  \n",
       "heart_disease_present                 0.45                  \n",
       "                                     heart_disease_present\n",
       "slope_of_peak_exercise_st_segment     0.34                \n",
       "resting_blood_pressure                0.08                \n",
       "chest_pain_type                       0.41                \n",
       "num_major_vessels                     0.42                \n",
       "fasting_blood_sugar_gt_120_mg_per_dl  0.00                \n",
       "resting_ekg_results                   0.15                \n",
       "serum_cholesterol_mg_per_dl           0.08                \n",
       "oldpeak_eq_st_depression              0.38                \n",
       "sex                                   0.34                \n",
       "age                                   0.14                \n",
       "max_heart_rate_achieved              -0.38                \n",
       "exercise_induced_angina               0.45                \n",
       "heart_disease_present                 1.00                "
      ]
     },
     "metadata": {},
     "output_type": "display_data"
    }
   ],
   "source": [
    "# Compute correlation matrix\n",
    "\n",
    "names(train)\n",
    "db_cor <- round(cor(train[c(2,4:15)]),2)\n",
    "db_cor"
   ]
  },
  {
   "cell_type": "code",
   "execution_count": 22,
   "metadata": {},
   "outputs": [
    {
     "data": {
      "image/png": "[encoded data removed]",
      "text/plain": [
       "plot without title"
      ]
     },
     "metadata": {},
     "output_type": "display_data"
    }
   ],
   "source": [
    "library(ggcorrplot)\n",
    "ggcorrplot(db_cor)"
   ]
  },
  {
   "cell_type": "markdown",
   "metadata": {},
   "source": [
    "- Looking at the correlation matrix, none of these variables seems to be strong predictors of heart disease."
   ]
  },
  {
   "cell_type": "markdown",
   "metadata": {},
   "source": [
    "### What does thalium stress test indicate about heart disease?\n",
    "\n",
    "- A thallium stress test is a nuclear imaging test that shows how well blood flows into your heart while you’re exercising or at rest. This test is also called a cardiac or nuclear stress test.\n",
    "- The thallium stress test can show:\n",
    "    - the size of your heart chambers\n",
    "    - how effectively your heart pumps —that is, its ventricular function\n",
    "    - how well your coronary arteries supply your heart with blood, known as myocardial perfusion\n",
    "    - if your heart muscle is damaged or scarred from previous heart attacks\n",
    "    \n",
    "https://www.healthline.com/health/thallium-stress-test"
   ]
  },
  {
   "cell_type": "code",
   "execution_count": 23,
   "metadata": {},
   "outputs": [
    {
     "data": {
      "text/html": [
       "<ol class=list-inline>\n",
       "\t<li>'patient_id'</li>\n",
       "\t<li>'slope_of_peak_exercise_st_segment'</li>\n",
       "\t<li>'thal'</li>\n",
       "\t<li>'resting_blood_pressure'</li>\n",
       "\t<li>'chest_pain_type'</li>\n",
       "\t<li>'num_major_vessels'</li>\n",
       "\t<li>'fasting_blood_sugar_gt_120_mg_per_dl'</li>\n",
       "\t<li>'resting_ekg_results'</li>\n",
       "\t<li>'serum_cholesterol_mg_per_dl'</li>\n",
       "\t<li>'oldpeak_eq_st_depression'</li>\n",
       "\t<li>'sex'</li>\n",
       "\t<li>'age'</li>\n",
       "\t<li>'max_heart_rate_achieved'</li>\n",
       "\t<li>'exercise_induced_angina'</li>\n",
       "\t<li>'heart_disease_present'</li>\n",
       "\t<li>'age_range'</li>\n",
       "</ol>\n"
      ],
      "text/latex": [
       "\\begin{enumerate*}\n",
       "\\item 'patient\\_id'\n",
       "\\item 'slope\\_of\\_peak\\_exercise\\_st\\_segment'\n",
       "\\item 'thal'\n",
       "\\item 'resting\\_blood\\_pressure'\n",
       "\\item 'chest\\_pain\\_type'\n",
       "\\item 'num\\_major\\_vessels'\n",
       "\\item 'fasting\\_blood\\_sugar\\_gt\\_120\\_mg\\_per\\_dl'\n",
       "\\item 'resting\\_ekg\\_results'\n",
       "\\item 'serum\\_cholesterol\\_mg\\_per\\_dl'\n",
       "\\item 'oldpeak\\_eq\\_st\\_depression'\n",
       "\\item 'sex'\n",
       "\\item 'age'\n",
       "\\item 'max\\_heart\\_rate\\_achieved'\n",
       "\\item 'exercise\\_induced\\_angina'\n",
       "\\item 'heart\\_disease\\_present'\n",
       "\\item 'age\\_range'\n",
       "\\end{enumerate*}\n"
      ],
      "text/markdown": [
       "1. 'patient_id'\n",
       "2. 'slope_of_peak_exercise_st_segment'\n",
       "3. 'thal'\n",
       "4. 'resting_blood_pressure'\n",
       "5. 'chest_pain_type'\n",
       "6. 'num_major_vessels'\n",
       "7. 'fasting_blood_sugar_gt_120_mg_per_dl'\n",
       "8. 'resting_ekg_results'\n",
       "9. 'serum_cholesterol_mg_per_dl'\n",
       "10. 'oldpeak_eq_st_depression'\n",
       "11. 'sex'\n",
       "12. 'age'\n",
       "13. 'max_heart_rate_achieved'\n",
       "14. 'exercise_induced_angina'\n",
       "15. 'heart_disease_present'\n",
       "16. 'age_range'\n",
       "\n",
       "\n"
      ],
      "text/plain": [
       " [1] \"patient_id\"                          \n",
       " [2] \"slope_of_peak_exercise_st_segment\"   \n",
       " [3] \"thal\"                                \n",
       " [4] \"resting_blood_pressure\"              \n",
       " [5] \"chest_pain_type\"                     \n",
       " [6] \"num_major_vessels\"                   \n",
       " [7] \"fasting_blood_sugar_gt_120_mg_per_dl\"\n",
       " [8] \"resting_ekg_results\"                 \n",
       " [9] \"serum_cholesterol_mg_per_dl\"         \n",
       "[10] \"oldpeak_eq_st_depression\"            \n",
       "[11] \"sex\"                                 \n",
       "[12] \"age\"                                 \n",
       "[13] \"max_heart_rate_achieved\"             \n",
       "[14] \"exercise_induced_angina\"             \n",
       "[15] \"heart_disease_present\"               \n",
       "[16] \"age_range\"                           "
      ]
     },
     "metadata": {},
     "output_type": "display_data"
    }
   ],
   "source": [
    "names(train_copy)"
   ]
  },
  {
   "cell_type": "code",
   "execution_count": 30,
   "metadata": {},
   "outputs": [
    {
     "data": {
      "image/png": "[encoded data removed]",
      "text/plain": [
       "plot without title"
      ]
     },
     "metadata": {},
     "output_type": "display_data"
    }
   ],
   "source": [
    "# Distribution of 'thal' variable by Heart disease present\n",
    "\n",
    "ggplot(train_copy, aes(thal, fill=heart_disease_present)) +\n",
    "    geom_bar() +\n",
    "    theme(legend.position='bottom', plot.title=element_text(hjust=0.5)) +\n",
    "    ggtitle('Thalium stress test indicator for heart disease') +\n",
    "    xlab('Thalium stress test categories') +\n",
    "    ylab('frequency')"
   ]
  },
  {
   "cell_type": "code",
   "execution_count": null,
   "metadata": {},
   "outputs": [],
   "source": []
  }
 ],
 "metadata": {
  "kernelspec": {
   "display_name": "R",
   "language": "R",
   "name": "ir"
  },
  "language_info": {
   "codemirror_mode": "r",
   "file_extension": ".r",
   "mimetype": "text/x-r-source",
   "name": "R",
   "pygments_lexer": "r",
   "version": "3.6.1"
  }
 },
 "nbformat": 4,
 "nbformat_minor": 2
}
