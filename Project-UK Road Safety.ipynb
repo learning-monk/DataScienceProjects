{
 "cells": [
  {
   "cell_type": "markdown",
   "metadata": {
    "collapsed": true
   },
   "source": [
    "# Case Study – UK Road Safety"
   ]
  },
  {
   "cell_type": "markdown",
   "metadata": {},
   "source": [
    "## About Case study\n",
    "\n",
    "A digital agency has been approached by several organisations interested in  road safety in the UK (Driver and Vehicle Standards Agency, brake.org, The AA, The RAC).  \n",
    "\n",
    "These organisations would like to collaborate on a digital safety campaign covering all road users but want to make it geographically targeted and **focus on serious and fatal accidents only.** \n",
    "\n",
    "They would like to rent up to 20 digital advertising boards throughout the UK but want to place them in the areas they would have most impact and include some key attributes about road safety for everyone who uses the road.  \n",
    "\n",
    "**The objective is to identify where the digital advertising boards should be located and include several additional factors to be aware of to improve road safety.  ** \n"
   ]
  },
  {
   "cell_type": "code",
   "execution_count": 1,
   "metadata": {},
   "outputs": [
    {
     "name": "stderr",
     "output_type": "stream",
     "text": [
      "Installing package into '/home/nbcommon/R'\n",
      "(as 'lib' is unspecified)\n",
      "also installing the dependencies 'viridisLite', 'scales'\n",
      "\n",
      "Installing package into '/home/nbcommon/R'\n",
      "(as 'lib' is unspecified)\n",
      "also installing the dependencies 'bindr', 'bindrcpp', 'glue', 'rlang', 'Rcpp', 'tibble', 'plogr'\n",
      "\n",
      "Installing package into '/home/nbcommon/R'\n",
      "(as 'lib' is unspecified)\n"
     ]
    }
   ],
   "source": [
    "# install necessary packages\n",
    "\n",
    "install.packages('ggplot2')\n",
    "install.packages('dplyr')\n",
    "install.packages('directlabels')"
   ]
  },
  {
   "cell_type": "markdown",
   "metadata": {},
   "source": [
    "### Load datasets"
   ]
  },
  {
   "cell_type": "code",
   "execution_count": 2,
   "metadata": {
    "collapsed": true
   },
   "outputs": [],
   "source": [
    "# Load datasets\n",
    "\n",
    "accidents_2016 <- read.csv('https://onedrive.live.com/download?cid=0CDFE5661336D233&resid=CDFE5661336D233%21133&authkey=AJQ560wVf1UNpY0', header=TRUE, stringsAsFactor=FALSE)\n",
    "\n",
    "accidents_2015 <- read.csv('https://onedrive.live.com/download?cid=0CDFE5661336D233&resid=CDFE5661336D233%21132&authkey=APVwsRXQ_FCQdF0', header=TRUE, stringsAsFactor=FALSE)\n",
    "\n",
    "accidents_0514 <- read.csv('https://onedrive.live.com/download?cid=0CDFE5661336D233&resid=CDFE5661336D233%21136&authkey=ALHbP-pqq1cpYvI', header=TRUE, stringsAsFactor=FALSE)\n",
    "\n",
    "casualties_0514 <- read.csv('https://onedrive.live.com/download?cid=0CDFE5661336D233&resid=CDFE5661336D233%21135&authkey=AASDZupXwpCiyG8', header=TRUE, stringsAsFactor=FALSE)\n",
    "\n",
    "casualties_2015 <- read.csv('https://onedrive.live.com/download?cid=0CDFE5661336D233&resid=CDFE5661336D233%21137&authkey=AJdNOw2bryDHf0U', header=TRUE, stringsAsFactor=FALSE)\n",
    "\n",
    "casualties_2016 <- read.csv('https://onedrive.live.com/download?cid=0CDFE5661336D233&resid=CDFE5661336D233%21138&authkey=AEIp_ivxQOR6Dgw', header=TRUE, stringsAsFactor=FALSE)\n",
    "\n",
    "vehicles_0514 <- read.csv('https://onedrive.live.com/download?cid=0CDFE5661336D233&resid=CDFE5661336D233%21134&authkey=AOVfxMTrPPfdRKk', header=TRUE, stringsAsFactor=FALSE)\n",
    "\n",
    "vehicles_2015 <- read.csv('https://onedrive.live.com/download?cid=0CDFE5661336D233&resid=CDFE5661336D233%21140&authkey=AJXkylRn_xNanSY', header=TRUE, stringsAsFactor=FALSE)\n",
    "\n",
    "vehicles_2016 <- read.csv('https://onedrive.live.com/download?cid=0CDFE5661336D233&resid=CDFE5661336D233%21139&authkey=AKcXlLZm7jti5hQ', header=TRUE, stringsAsFactor=FALSE)\n",
    "\n",
    "LA_district <- read.csv('https://onedrive.live.com/download?cid=0CDFE5661336D233&resid=CDFE5661336D233%21149&authkey=ABxNPIFDkJetal4', sep='\\t',header=TRUE, strip.white=TRUE)\n",
    "\n",
    "LA_highway <- read.csv('https://onedrive.live.com/download?cid=0CDFE5661336D233&resid=CDFE5661336D233%21148&authkey=ACacDXoq3qNmMfk', sep='\\t',header=TRUE, strip.white=TRUE)\n",
    "\n",
    "LSOA <- read.csv('https://onedrive.live.com/download?cid=0CDFE5661336D233&resid=CDFE5661336D233%21151&authkey=AJU3J9PFJ0cRzYM', sep='\\t',header=TRUE, strip.white=TRUE)"
   ]
  },
  {
   "cell_type": "markdown",
   "metadata": {},
   "source": [
    "**Captured LSOA names based on LSOA codes from the link below:**  \n",
    "\n",
    "https://data.england.nhs.uk/dataset/ods-data-supplied-by-the-office-of-national-statistics/resource/38f809c2-83c0-46cf-9599-2941d426bb7f"
   ]
  },
  {
   "cell_type": "markdown",
   "metadata": {},
   "source": [
    "### Merge all three accident datasets"
   ]
  },
  {
   "cell_type": "code",
   "execution_count": 3,
   "metadata": {
    "collapsed": true
   },
   "outputs": [],
   "source": [
    "accidents_2016$data_year <- '2016'\n",
    "accidents_2015$data_year <- '2015'\n",
    "accidents_0514$data_year <- '0514'"
   ]
  },
  {
   "cell_type": "code",
   "execution_count": 4,
   "metadata": {
    "collapsed": true
   },
   "outputs": [],
   "source": [
    "colnames(accidents_0514)[1] = 'Accident_Index'"
   ]
  },
  {
   "cell_type": "code",
   "execution_count": 5,
   "metadata": {},
   "outputs": [
    {
     "name": "stderr",
     "output_type": "stream",
     "text": [
      "Warning message in eval(expr, envir, enclos):\n",
      "\"NAs introduced by coercion\""
     ]
    }
   ],
   "source": [
    "accidents_2016$Speed_limit <- as.integer(accidents_2016$Speed_limit)"
   ]
  },
  {
   "cell_type": "code",
   "execution_count": 6,
   "metadata": {},
   "outputs": [
    {
     "data": {
      "text/plain": [
       "\n",
       "   0514    2015    2016 \n",
       "1640597  140056  136621 "
      ]
     },
     "metadata": {},
     "output_type": "display_data"
    }
   ],
   "source": [
    "# Merge all three accident datasets (2016, 2015 and 0514)\n",
    "\n",
    "accidents_1615 <- merge(accidents_2016, accidents_2015, all=TRUE)\n",
    "accidents <- merge(accidents_1615, accidents_0514, all=TRUE)\n",
    "table(accidents$data_year)"
   ]
  },
  {
   "cell_type": "code",
   "execution_count": 7,
   "metadata": {},
   "outputs": [
    {
     "name": "stdout",
     "output_type": "stream",
     "text": [
      "'data.frame':\t1917274 obs. of  33 variables:\n",
      " $ Accident_Index                             : chr  \"200501BS00001\" \"200501BS00002\" \"200501BS00003\" \"200501BS00004\" ...\n",
      " $ Location_Easting_OSGR                      : int  525680 524170 524520 526900 528060 524770 524220 525890 527350 524550 ...\n",
      " $ Location_Northing_OSGR                     : int  178240 181650 182240 177530 179040 181160 180830 179710 177650 180810 ...\n",
      " $ Longitude                                  : num  -0.191 -0.212 -0.206 -0.174 -0.157 ...\n",
      " $ Latitude                                   : num  51.5 51.5 51.5 51.5 51.5 ...\n",
      " $ Police_Force                               : int  1 1 1 1 1 1 1 1 1 1 ...\n",
      " $ Accident_Severity                          : int  2 3 3 3 3 3 3 3 3 3 ...\n",
      " $ Number_of_Vehicles                         : int  1 1 2 1 1 2 2 1 2 2 ...\n",
      " $ Number_of_Casualties                       : int  1 1 1 1 1 1 1 2 2 5 ...\n",
      " $ Date                                       : chr  \"04/01/2005\" \"05/01/2005\" \"06/01/2005\" \"07/01/2005\" ...\n",
      " $ Day_of_Week                                : int  3 4 5 6 2 3 5 6 7 7 ...\n",
      " $ Time                                       : chr  \"17:42\" \"17:36\" \"00:15\" \"10:35\" ...\n",
      " $ Local_Authority_.District.                 : int  12 12 12 12 12 12 12 12 12 12 ...\n",
      " $ Local_Authority_.Highway.                  : chr  \"E09000020\" \"E09000020\" \"E09000020\" \"E09000020\" ...\n",
      " $ X1st_Road_Class                            : int  3 4 5 3 6 6 5 3 3 4 ...\n",
      " $ X1st_Road_Number                           : int  3218 450 0 3220 0 0 0 315 3212 450 ...\n",
      " $ Road_Type                                  : int  6 3 6 6 6 6 6 3 6 6 ...\n",
      " $ Speed_limit                                : int  30 30 30 30 30 30 30 30 30 30 ...\n",
      " $ Junction_Detail                            : int  0 6 0 0 0 0 3 0 6 3 ...\n",
      " $ Junction_Control                           : int  -1 2 -1 -1 -1 -1 4 -1 2 4 ...\n",
      " $ X2nd_Road_Class                            : int  -1 5 -1 -1 -1 -1 6 -1 4 5 ...\n",
      " $ X2nd_Road_Number                           : int  0 0 0 0 0 0 0 0 304 0 ...\n",
      " $ Pedestrian_Crossing.Human_Control          : int  0 0 0 0 0 0 0 0 0 0 ...\n",
      " $ Pedestrian_Crossing.Physical_Facilities    : int  1 5 0 0 0 0 0 0 5 8 ...\n",
      " $ Light_Conditions                           : int  1 4 4 1 7 1 4 1 4 1 ...\n",
      " $ Weather_Conditions                         : int  2 1 1 1 1 2 1 1 1 1 ...\n",
      " $ Road_Surface_Conditions                    : int  2 1 1 1 2 2 1 1 1 1 ...\n",
      " $ Special_Conditions_at_Site                 : int  0 0 0 0 0 6 0 0 0 0 ...\n",
      " $ Carriageway_Hazards                        : int  0 0 0 0 0 0 0 0 0 0 ...\n",
      " $ Urban_or_Rural_Area                        : int  1 1 1 1 1 1 1 1 1 1 ...\n",
      " $ Did_Police_Officer_Attend_Scene_of_Accident: int  1 1 1 1 1 1 1 1 1 1 ...\n",
      " $ LSOA_of_Accident_Location                  : chr  \"E01002849\" \"E01002909\" \"E01002857\" \"E01002840\" ...\n",
      " $ data_year                                  : chr  \"0514\" \"0514\" \"0514\" \"0514\" ...\n"
     ]
    }
   ],
   "source": [
    "# Let's examine the structure of accidents dataset\n",
    "\n",
    "str(accidents)"
   ]
  },
  {
   "cell_type": "markdown",
   "metadata": {},
   "source": [
    "### Merge all three casualties datasets"
   ]
  },
  {
   "cell_type": "code",
   "execution_count": 8,
   "metadata": {
    "collapsed": true
   },
   "outputs": [],
   "source": [
    "colnames(casualties_0514)[1] = 'Accident_Index'"
   ]
  },
  {
   "cell_type": "code",
   "execution_count": 9,
   "metadata": {
    "collapsed": true
   },
   "outputs": [],
   "source": [
    "casualties_2016$data_year <- '2016'\n",
    "casualties_2015$data_year <- '2015'\n",
    "casualties_0514$data_year <- '0514'"
   ]
  },
  {
   "cell_type": "code",
   "execution_count": 10,
   "metadata": {},
   "outputs": [
    {
     "data": {
      "text/plain": [
       "\n",
       "   0514    2015    2016 \n",
       "2216720  186189  181384 "
      ]
     },
     "metadata": {},
     "output_type": "display_data"
    }
   ],
   "source": [
    "# Merge all three casualties datasets (2016, 2015 and 0514)\n",
    "\n",
    "casualties_1615 <- merge(casualties_2016, casualties_2015, all=TRUE)\n",
    "casualties <- merge(casualties_1615, casualties_0514, all=TRUE)\n",
    "table(casualties$data_year)"
   ]
  },
  {
   "cell_type": "code",
   "execution_count": 11,
   "metadata": {},
   "outputs": [
    {
     "name": "stdout",
     "output_type": "stream",
     "text": [
      "'data.frame':\t2584293 obs. of  17 variables:\n",
      " $ Accident_Index                    : chr  \"200501BS00001\" \"200501BS00002\" \"200501BS00003\" \"200501BS00004\" ...\n",
      " $ Vehicle_Reference                 : int  1 1 2 1 1 2 1 1 1 1 ...\n",
      " $ Casualty_Reference                : int  1 1 1 1 1 1 1 1 2 1 ...\n",
      " $ Casualty_Class                    : int  3 2 1 3 1 1 1 3 3 1 ...\n",
      " $ Sex_of_Casualty                   : int  1 1 1 1 1 2 1 2 2 1 ...\n",
      " $ Age_of_Casualty                   : int  37 37 62 30 49 30 31 13 13 35 ...\n",
      " $ Age_Band_of_Casualty              : int  7 7 9 6 8 6 6 3 3 6 ...\n",
      " $ Casualty_Severity                 : int  2 3 3 3 3 3 3 3 3 3 ...\n",
      " $ Pedestrian_Location               : int  1 0 0 5 0 0 0 6 6 0 ...\n",
      " $ Pedestrian_Movement               : int  1 0 0 2 0 0 0 9 9 0 ...\n",
      " $ Car_Passenger                     : int  0 0 0 0 0 0 0 0 0 0 ...\n",
      " $ Bus_or_Coach_Passenger            : int  0 4 0 0 0 0 0 0 0 0 ...\n",
      " $ Pedestrian_Road_Maintenance_Worker: int  -1 -1 -1 -1 -1 -1 -1 -1 -1 -1 ...\n",
      " $ Casualty_Type                     : int  0 11 9 0 3 3 3 0 0 9 ...\n",
      " $ Casualty_Home_Area_Type           : int  1 1 1 1 -1 1 -1 1 1 1 ...\n",
      " $ data_year                         : chr  \"0514\" \"0514\" \"0514\" \"0514\" ...\n",
      " $ Casualty_IMD_Decile               : int  NA NA NA NA NA NA NA NA NA NA ...\n"
     ]
    }
   ],
   "source": [
    "# Let's examine the structure of Casualties dataset\n",
    "\n",
    "str(casualties)"
   ]
  },
  {
   "cell_type": "markdown",
   "metadata": {},
   "source": [
    "### Merge all three vehicles datasets"
   ]
  },
  {
   "cell_type": "code",
   "execution_count": 12,
   "metadata": {
    "collapsed": true
   },
   "outputs": [],
   "source": [
    "vehicles_0514$Vehicle_IMD_Decile <- NA"
   ]
  },
  {
   "cell_type": "code",
   "execution_count": 13,
   "metadata": {
    "collapsed": true
   },
   "outputs": [],
   "source": [
    "vehicles_0514$Vehicle_IMD_Decile <- as.integer(vehicles_0514$Vehicle_IMD_Decile)"
   ]
  },
  {
   "cell_type": "code",
   "execution_count": 14,
   "metadata": {
    "collapsed": true
   },
   "outputs": [],
   "source": [
    "colnames(vehicles_0514)[1] = 'Accident_Index'"
   ]
  },
  {
   "cell_type": "code",
   "execution_count": 15,
   "metadata": {
    "collapsed": true
   },
   "outputs": [],
   "source": [
    "vehicles_2016$data_year <- '2016'\n",
    "vehicles_2015$data_year <- '2015'\n",
    "vehicles_0514$data_year <- '0514'"
   ]
  },
  {
   "cell_type": "code",
   "execution_count": 16,
   "metadata": {},
   "outputs": [
    {
     "data": {
      "text/plain": [
       "\n",
       "   0514    2015    2016 \n",
       "3004425  257845  252500 "
      ]
     },
     "metadata": {},
     "output_type": "display_data"
    }
   ],
   "source": [
    "# Merge all three vehicles datasets (2016, 2015 and 0514)\n",
    "\n",
    "vehicles_1615 <- merge(vehicles_2016, vehicles_2015, all=TRUE)\n",
    "vehicles <- merge(vehicles_1615, vehicles_0514, all=TRUE)\n",
    "table(vehicles$data_year)"
   ]
  },
  {
   "cell_type": "code",
   "execution_count": 17,
   "metadata": {},
   "outputs": [
    {
     "name": "stdout",
     "output_type": "stream",
     "text": [
      "'data.frame':\t3514770 obs. of  24 variables:\n",
      " $ Accident_Index                  : chr  \"200501BS00001\" \"200501BS00002\" \"200501BS00003\" \"200501BS00003\" ...\n",
      " $ Vehicle_Reference               : int  1 1 1 2 1 1 1 2 1 2 ...\n",
      " $ Vehicle_Type                    : int  9 11 11 9 9 3 9 3 3 9 ...\n",
      " $ Towing_and_Articulation         : int  0 0 0 0 0 0 0 0 0 0 ...\n",
      " $ Vehicle_Manoeuvre               : int  18 4 17 2 18 18 5 18 18 2 ...\n",
      " $ Vehicle_Location.Restricted_Lane: int  0 0 0 0 0 0 0 0 0 0 ...\n",
      " $ Junction_Location               : int  0 3 0 0 0 0 0 0 1 1 ...\n",
      " $ Skidding_and_Overturning        : int  0 0 0 0 0 1 0 0 0 0 ...\n",
      " $ Hit_Object_in_Carriageway       : int  0 0 4 0 0 10 0 0 4 0 ...\n",
      " $ Vehicle_Leaving_Carriageway     : int  0 0 0 0 0 0 0 0 0 0 ...\n",
      " $ Hit_Object_off_Carriageway      : int  0 0 0 0 0 0 0 0 0 0 ...\n",
      " $ X1st_Point_of_Impact            : int  1 4 4 3 1 1 0 0 1 2 ...\n",
      " $ Was_Vehicle_Left_Hand_Drive.    : int  1 1 1 1 1 1 1 1 1 1 ...\n",
      " $ Journey_Purpose_of_Driver       : int  15 1 1 15 15 15 15 15 15 15 ...\n",
      " $ Sex_of_Driver                   : int  2 1 1 1 2 1 1 2 1 1 ...\n",
      " $ Age_of_Driver                   : int  74 42 35 62 49 49 51 30 31 41 ...\n",
      " $ Age_Band_of_Driver              : int  10 7 6 9 8 8 8 6 6 7 ...\n",
      " $ Engine_Capacity_.CC.            : int  -1 8268 8300 1762 1769 85 2976 124 -1 4266 ...\n",
      " $ Propulsion_Code                 : int  -1 2 2 1 1 1 1 1 -1 1 ...\n",
      " $ Age_of_Vehicle                  : int  -1 3 5 6 4 10 1 2 -1 4 ...\n",
      " $ Driver_IMD_Decile               : int  7 -1 2 1 2 -1 4 1 -1 6 ...\n",
      " $ Driver_Home_Area_Type           : int  1 -1 1 1 1 -1 1 1 -1 1 ...\n",
      " $ Vehicle_IMD_Decile              : int  NA NA NA NA NA NA NA NA NA NA ...\n",
      " $ data_year                       : chr  \"0514\" \"0514\" \"0514\" \"0514\" ...\n"
     ]
    }
   ],
   "source": [
    "# Let's examine the structure of Vehicles dataset\n",
    "\n",
    "str(vehicles)\n"
   ]
  },
  {
   "cell_type": "markdown",
   "metadata": {},
   "source": [
    "### Exploring accidents dataset\n",
    "\n",
    "Adding new variables as necessary"
   ]
  },
  {
   "cell_type": "code",
   "execution_count": 18,
   "metadata": {},
   "outputs": [
    {
     "name": "stdout",
     "output_type": "stream",
     "text": [
      "'data.frame':\t1917274 obs. of  33 variables:\n",
      " $ Accident_Index                             : chr  \"200501BS00001\" \"200501BS00002\" \"200501BS00003\" \"200501BS00004\" ...\n",
      " $ Location_Easting_OSGR                      : int  525680 524170 524520 526900 528060 524770 524220 525890 527350 524550 ...\n",
      " $ Location_Northing_OSGR                     : int  178240 181650 182240 177530 179040 181160 180830 179710 177650 180810 ...\n",
      " $ Longitude                                  : num  -0.191 -0.212 -0.206 -0.174 -0.157 ...\n",
      " $ Latitude                                   : num  51.5 51.5 51.5 51.5 51.5 ...\n",
      " $ Police_Force                               : int  1 1 1 1 1 1 1 1 1 1 ...\n",
      " $ Accident_Severity                          : int  2 3 3 3 3 3 3 3 3 3 ...\n",
      " $ Number_of_Vehicles                         : int  1 1 2 1 1 2 2 1 2 2 ...\n",
      " $ Number_of_Casualties                       : int  1 1 1 1 1 1 1 2 2 5 ...\n",
      " $ Date                                       : chr  \"04/01/2005\" \"05/01/2005\" \"06/01/2005\" \"07/01/2005\" ...\n",
      " $ Day_of_Week                                : int  3 4 5 6 2 3 5 6 7 7 ...\n",
      " $ Time                                       : chr  \"17:42\" \"17:36\" \"00:15\" \"10:35\" ...\n",
      " $ Local_Authority_.District.                 : int  12 12 12 12 12 12 12 12 12 12 ...\n",
      " $ Local_Authority_.Highway.                  : chr  \"E09000020\" \"E09000020\" \"E09000020\" \"E09000020\" ...\n",
      " $ X1st_Road_Class                            : int  3 4 5 3 6 6 5 3 3 4 ...\n",
      " $ X1st_Road_Number                           : int  3218 450 0 3220 0 0 0 315 3212 450 ...\n",
      " $ Road_Type                                  : int  6 3 6 6 6 6 6 3 6 6 ...\n",
      " $ Speed_limit                                : int  30 30 30 30 30 30 30 30 30 30 ...\n",
      " $ Junction_Detail                            : int  0 6 0 0 0 0 3 0 6 3 ...\n",
      " $ Junction_Control                           : int  -1 2 -1 -1 -1 -1 4 -1 2 4 ...\n",
      " $ X2nd_Road_Class                            : int  -1 5 -1 -1 -1 -1 6 -1 4 5 ...\n",
      " $ X2nd_Road_Number                           : int  0 0 0 0 0 0 0 0 304 0 ...\n",
      " $ Pedestrian_Crossing.Human_Control          : int  0 0 0 0 0 0 0 0 0 0 ...\n",
      " $ Pedestrian_Crossing.Physical_Facilities    : int  1 5 0 0 0 0 0 0 5 8 ...\n",
      " $ Light_Conditions                           : int  1 4 4 1 7 1 4 1 4 1 ...\n",
      " $ Weather_Conditions                         : int  2 1 1 1 1 2 1 1 1 1 ...\n",
      " $ Road_Surface_Conditions                    : int  2 1 1 1 2 2 1 1 1 1 ...\n",
      " $ Special_Conditions_at_Site                 : int  0 0 0 0 0 6 0 0 0 0 ...\n",
      " $ Carriageway_Hazards                        : int  0 0 0 0 0 0 0 0 0 0 ...\n",
      " $ Urban_or_Rural_Area                        : int  1 1 1 1 1 1 1 1 1 1 ...\n",
      " $ Did_Police_Officer_Attend_Scene_of_Accident: int  1 1 1 1 1 1 1 1 1 1 ...\n",
      " $ LSOA_of_Accident_Location                  : chr  \"E01002849\" \"E01002909\" \"E01002857\" \"E01002840\" ...\n",
      " $ data_year                                  : chr  \"0514\" \"0514\" \"0514\" \"0514\" ...\n"
     ]
    }
   ],
   "source": [
    "str(accidents)"
   ]
  },
  {
   "cell_type": "code",
   "execution_count": 19,
   "metadata": {},
   "outputs": [
    {
     "data": {
      "text/plain": [
       " Accident_Index     Location_Easting_OSGR Location_Northing_OSGR\n",
       " Length:1917274     Min.   : 64950        Min.   :  10290       \n",
       " Class :character   1st Qu.:377346        1st Qu.: 177890       \n",
       " Mode  :character   Median :442260        Median : 263260       \n",
       "                    Mean   :440787        Mean   : 297788       \n",
       "                    3rd Qu.:523810        3rd Qu.: 396070       \n",
       "                    Max.   :655540        Max.   :1208800       \n",
       "                    NA's   :145           NA's   :145           \n",
       "   Longitude          Latitude      Police_Force   Accident_Severity\n",
       " Min.   :-7.5162   Min.   :49.91   Min.   : 1.00   Min.   :1.000    \n",
       " 1st Qu.:-2.3413   1st Qu.:51.49   1st Qu.: 7.00   1st Qu.:3.000    \n",
       " Median :-1.3741   Median :52.25   Median :31.00   Median :3.000    \n",
       " Mean   :-1.4198   Mean   :52.57   Mean   :30.69   Mean   :2.837    \n",
       " 3rd Qu.:-0.2111   3rd Qu.:53.46   3rd Qu.:46.00   3rd Qu.:3.000    \n",
       " Max.   : 1.7620   Max.   :60.76   Max.   :98.00   Max.   :3.000    \n",
       " NA's   :145       NA's   :145                                      \n",
       " Number_of_Vehicles Number_of_Casualties     Date            Day_of_Week   \n",
       " Min.   : 1.000     Min.   : 1.000       Length:1917274     Min.   :1.000  \n",
       " 1st Qu.: 1.000     1st Qu.: 1.000       Class :character   1st Qu.:2.000  \n",
       " Median : 2.000     Median : 1.000       Mode  :character   Median :4.000  \n",
       " Mean   : 1.833     Mean   : 1.348                          Mean   :4.115  \n",
       " 3rd Qu.: 2.000     3rd Qu.: 1.000                          3rd Qu.:6.000  \n",
       " Max.   :67.000     Max.   :93.000                          Max.   :7.000  \n",
       "                                                                           \n",
       "     Time           Local_Authority_.District. Local_Authority_.Highway.\n",
       " Length:1917274     Min.   :  1.0              Length:1917274           \n",
       " Class :character   1st Qu.:120.0              Class :character         \n",
       " Mode  :character   Median :327.0              Mode  :character         \n",
       "                    Mean   :352.5                                       \n",
       "                    3rd Qu.:531.0                                       \n",
       "                    Max.   :941.0                                       \n",
       "                                                                        \n",
       " X1st_Road_Class X1st_Road_Number   Road_Type       Speed_limit   \n",
       " Min.   :1.000   Min.   :  -1     Min.   :-1.000   Min.   : 0.00  \n",
       " 1st Qu.:3.000   1st Qu.:   0     1st Qu.: 6.000   1st Qu.:30.00  \n",
       " Median :4.000   Median : 124     Median : 6.000   Median :30.00  \n",
       " Mean   :4.095   Mean   :1002     Mean   : 5.168   Mean   :38.95  \n",
       " 3rd Qu.:6.000   3rd Qu.: 720     3rd Qu.: 6.000   3rd Qu.:50.00  \n",
       " Max.   :6.000   Max.   :9999     Max.   : 9.000   Max.   :70.00  \n",
       "                                                   NA's   :37     \n",
       " Junction_Detail  Junction_Control X2nd_Road_Class  X2nd_Road_Number\n",
       " Min.   :-1.000   Min.   :-1.000   Min.   :-1.000   Min.   :  -1.0  \n",
       " 1st Qu.: 0.000   1st Qu.:-1.000   1st Qu.:-1.000   1st Qu.:   0.0  \n",
       " Median : 2.000   Median : 2.000   Median : 3.000   Median :   0.0  \n",
       " Mean   : 2.326   Mean   : 1.802   Mean   : 2.662   Mean   : 374.2  \n",
       " 3rd Qu.: 3.000   3rd Qu.: 4.000   3rd Qu.: 6.000   3rd Qu.:   0.0  \n",
       " Max.   : 9.000   Max.   : 4.000   Max.   : 6.000   Max.   :9999.0  \n",
       "                                                                    \n",
       " Pedestrian_Crossing.Human_Control Pedestrian_Crossing.Physical_Facilities\n",
       " Min.   :-1.000000                 Min.   :-1.0000                        \n",
       " 1st Qu.: 0.000000                 1st Qu.: 0.0000                        \n",
       " Median : 0.000000                 Median : 0.0000                        \n",
       " Mean   : 0.009399                 Mean   : 0.7437                        \n",
       " 3rd Qu.: 0.000000                 3rd Qu.: 0.0000                        \n",
       " Max.   : 2.000000                 Max.   : 8.0000                        \n",
       "                                                                          \n",
       " Light_Conditions Weather_Conditions Road_Surface_Conditions\n",
       " Min.   :-1.000   Min.   :-1.000     Min.   :-1.000         \n",
       " 1st Qu.: 1.000   1st Qu.: 1.000     1st Qu.: 1.000         \n",
       " Median : 1.000   Median : 1.000     Median : 1.000         \n",
       " Mean   : 1.953   Mean   : 1.574     Mean   : 1.354         \n",
       " 3rd Qu.: 4.000   3rd Qu.: 1.000     3rd Qu.: 2.000         \n",
       " Max.   : 7.000   Max.   : 9.000     Max.   : 5.000         \n",
       "                                                            \n",
       " Special_Conditions_at_Site Carriageway_Hazards Urban_or_Rural_Area\n",
       " Min.   :-1.0000            Min.   :-1.000      Min.   :1.000      \n",
       " 1st Qu.: 0.0000            1st Qu.: 0.000      1st Qu.:1.000      \n",
       " Median : 0.0000            Median : 0.000      Median :1.000      \n",
       " Mean   : 0.1074            Mean   : 0.071      Mean   :1.356      \n",
       " 3rd Qu.: 0.0000            3rd Qu.: 0.000      3rd Qu.:2.000      \n",
       " Max.   : 7.0000            Max.   : 7.000      Max.   :3.000      \n",
       "                                                                   \n",
       " Did_Police_Officer_Attend_Scene_of_Accident LSOA_of_Accident_Location\n",
       " Min.   :-1.000                              Length:1917274           \n",
       " 1st Qu.: 1.000                              Class :character         \n",
       " Median : 1.000                              Mode  :character         \n",
       " Mean   : 1.198                                                       \n",
       " 3rd Qu.: 1.000                                                       \n",
       " Max.   : 3.000                                                       \n",
       "                                                                      \n",
       "  data_year        \n",
       " Length:1917274    \n",
       " Class :character  \n",
       " Mode  :character  \n",
       "                   \n",
       "                   \n",
       "                   \n",
       "                   "
      ]
     },
     "metadata": {},
     "output_type": "display_data"
    }
   ],
   "source": [
    "summary(accidents)"
   ]
  },
  {
   "cell_type": "code",
   "execution_count": 20,
   "metadata": {
    "collapsed": true
   },
   "outputs": [],
   "source": [
    "# Replace -1 & '' with NAs in accidents dataset\n",
    "\n",
    "accidents$X1st_Road_Number[accidents$X1st_Road_Number==-1] <- NA\n",
    "accidents$Road_Type[accidents$Road_Type==-1] <- NA\n",
    "accidents$Junction_Detail[accidents$Junction_Detail==-1] <- NA\n",
    "accidents$Junction_Control[accidents$Junction_Control==-1] <- NA\n",
    "accidents$X2nd_Road_Class[accidents$X2nd_Road_Class==-1] <- NA\n",
    "accidents$X2nd_Road_Number[accidents$X2nd_Road_Number==-1] <- NA\n",
    "accidents$Pedestrian_Crossing.Human_Control[accidents$Pedestrian_Crossing.Human_Control==-1] <- NA\n",
    "accidents$Pedestrian_Crossing.Physical_Facilities[accidents$Pedestrian_Crossing.Physical_Facilities==-1] <- NA\n",
    "accidents$Light_Conditions[accidents$Light_Conditions==-1] <- NA\n",
    "accidents$Weather_Conditions[accidents$Weather_Conditions==-1] <- NA\n",
    "accidents$Road_Surface_Conditions[accidents$Road_Surface_Conditions==-1] <- NA\n",
    "accidents$Special_Conditions_at_Site[accidents$Special_Conditions_at_Site==-1] <- NA\n",
    "accidents$Carriageway_Hazards[accidents$Carriageway_Hazards==-1] <- NA\n",
    "accidents$Urban_or_Rural_Area[accidents$Urban_or_Rural_Area==-1] <- NA\n",
    "accidents$Did_Police_Officer_Attend_Scene_of_Accident[accidents$Did_Police_Officer_Attend_Scene_of_Accident==-1] <- NA\n",
    "accidents$LSOA_of_Accident_Location[accidents$LSOA_of_Accident_Location==''] <- NA"
   ]
  },
  {
   "cell_type": "code",
   "execution_count": 21,
   "metadata": {
    "collapsed": true
   },
   "outputs": [],
   "source": [
    "# Format date\n",
    "accidents$Date <- as.Date(accidents$Date, format = \"%d/%m/%Y\")"
   ]
  },
  {
   "cell_type": "code",
   "execution_count": 22,
   "metadata": {},
   "outputs": [
    {
     "data": {
      "text/plain": [
       "\n",
       "  January  February     March     April       May      June      July    August \n",
       "   153857    142323    153319    147545    162072    162219    168401    157275 \n",
       "September   October  November  December \n",
       "   164925    172805    175525    157008 "
      ]
     },
     "metadata": {},
     "output_type": "display_data"
    }
   ],
   "source": [
    "# Extract Month\n",
    "accidents$Month <- months(accidents$Date)\n",
    "accidents$Month <- factor(accidents$Month, levels = c('January','February','March','April','May','June','July','August','September','October','November','December'))\n",
    "table(accidents$Month)"
   ]
  },
  {
   "cell_type": "code",
   "execution_count": 23,
   "metadata": {},
   "outputs": [
    {
     "data": {
      "text/plain": [
       "\n",
       "   Friday    Monday  Saturday    Sunday  Thursday   Tuesday Wednesday \n",
       "   313938    272546    255926    210350    288443    286810    289261 "
      ]
     },
     "metadata": {},
     "output_type": "display_data"
    }
   ],
   "source": [
    "# Assign weekday to respective label\n",
    "\n",
    "accidents$weekday <- ifelse(accidents$Day_of_Week==1,'Sunday',\n",
    "                     ifelse(accidents$Day_of_Week==2,'Monday',\n",
    "                     ifelse(accidents$Day_of_Week==3,'Tuesday',\n",
    "                     ifelse(accidents$Day_of_Week==4,'Wednesday',\n",
    "                     ifelse(accidents$Day_of_Week==5,'Thursday',\n",
    "                     ifelse(accidents$Day_of_Week==6,'Friday',\n",
    "                     ifelse(accidents$Day_of_Week==7,'Saturday',\"\")))))))\n",
    "\n",
    "table(accidents$weekday)"
   ]
  },
  {
   "cell_type": "code",
   "execution_count": 24,
   "metadata": {
    "collapsed": true
   },
   "outputs": [],
   "source": [
    "# Bucket accident time into 4 zones\n",
    "## midnight to 6AM = early morning, 6AM - 12PM = morning, 12PM - 6PM = afternoon, 6PM - 12AM = evening\n",
    "\n",
    "accidents$timezone <- ifelse((as.integer(substr(accidents$Time,1,2))>=0) & (as.integer(substr(accidents$Time,1,2))<6),'early morning',\n",
    "                 ifelse((as.integer(substr(accidents$Time,1,2))>=6) & (as.integer(substr(accidents$Time,1,2))<12),'morning',\n",
    "                 ifelse((as.integer(substr(accidents$Time,1,2))>=12) & (as.integer(substr(accidents$Time,1,2))<18),'afternoon',\n",
    "                 ifelse((as.integer(substr(accidents$Time,1,2))>=18) & (as.integer(substr(accidents$Time,1,2))<24),'evening',''))))"
   ]
  },
  {
   "cell_type": "code",
   "execution_count": 25,
   "metadata": {},
   "outputs": [
    {
     "data": {
      "text/plain": [
       "\n",
       "early morning       morning     afternoon       evening           Sum \n",
       "       107584        536065        818943        454529       1917121 "
      ]
     },
     "metadata": {},
     "output_type": "display_data"
    }
   ],
   "source": [
    "# Convert timezone variable to factor\n",
    "\n",
    "accidents$timezone <- factor(accidents$timezone, levels = c('early morning', 'morning', 'afternoon', 'evening'))\n",
    "addmargins(table(accidents$timezone))"
   ]
  },
  {
   "cell_type": "code",
   "execution_count": 26,
   "metadata": {
    "collapsed": true
   },
   "outputs": [],
   "source": [
    "# Extract year\n",
    "\n",
    "accidents$Year <- as.numeric(format(accidents$Date,\"%Y\"))\n"
   ]
  },
  {
   "cell_type": "code",
   "execution_count": 27,
   "metadata": {},
   "outputs": [
    {
     "data": {
      "text/plain": [
       "\n",
       "  2005   2006   2007   2008   2009   2010   2011   2012   2013   2014   2015 \n",
       "198735 189161 182115 170591 163554 154414 151474 145571 138660 146322 140056 \n",
       "  2016 \n",
       "136621 "
      ]
     },
     "metadata": {},
     "output_type": "display_data"
    }
   ],
   "source": [
    "# Convert Year to factor\n",
    "\n",
    "accidents$Year <- factor(accidents$Year)\n",
    "table(accidents$Year)"
   ]
  },
  {
   "cell_type": "code",
   "execution_count": 28,
   "metadata": {},
   "outputs": [
    {
     "data": {
      "text/plain": [
       " Accident_Index     Location_Easting_OSGR Location_Northing_OSGR\n",
       " Length:1917274     Min.   : 64950        Min.   :  10290       \n",
       " Class :character   1st Qu.:377346        1st Qu.: 177890       \n",
       " Mode  :character   Median :442260        Median : 263260       \n",
       "                    Mean   :440787        Mean   : 297788       \n",
       "                    3rd Qu.:523810        3rd Qu.: 396070       \n",
       "                    Max.   :655540        Max.   :1208800       \n",
       "                    NA's   :145           NA's   :145           \n",
       "   Longitude          Latitude      Police_Force   Accident_Severity\n",
       " Min.   :-7.5162   Min.   :49.91   Min.   : 1.00   Min.   :1.000    \n",
       " 1st Qu.:-2.3413   1st Qu.:51.49   1st Qu.: 7.00   1st Qu.:3.000    \n",
       " Median :-1.3741   Median :52.25   Median :31.00   Median :3.000    \n",
       " Mean   :-1.4198   Mean   :52.57   Mean   :30.69   Mean   :2.837    \n",
       " 3rd Qu.:-0.2111   3rd Qu.:53.46   3rd Qu.:46.00   3rd Qu.:3.000    \n",
       " Max.   : 1.7620   Max.   :60.76   Max.   :98.00   Max.   :3.000    \n",
       " NA's   :145       NA's   :145                                      \n",
       " Number_of_Vehicles Number_of_Casualties      Date             Day_of_Week   \n",
       " Min.   : 1.000     Min.   : 1.000       Min.   :2005-01-01   Min.   :1.000  \n",
       " 1st Qu.: 1.000     1st Qu.: 1.000       1st Qu.:2007-07-05   1st Qu.:2.000  \n",
       " Median : 2.000     Median : 1.000       Median :2010-05-17   Median :4.000  \n",
       " Mean   : 1.833     Mean   : 1.348       Mean   :2010-08-05   Mean   :4.115  \n",
       " 3rd Qu.: 2.000     3rd Qu.: 1.000       3rd Qu.:2013-08-16   3rd Qu.:6.000  \n",
       " Max.   :67.000     Max.   :93.000       Max.   :2016-12-31   Max.   :7.000  \n",
       "                                                                             \n",
       "     Time           Local_Authority_.District. Local_Authority_.Highway.\n",
       " Length:1917274     Min.   :  1.0              Length:1917274           \n",
       " Class :character   1st Qu.:120.0              Class :character         \n",
       " Mode  :character   Median :327.0              Mode  :character         \n",
       "                    Mean   :352.5                                       \n",
       "                    3rd Qu.:531.0                                       \n",
       "                    Max.   :941.0                                       \n",
       "                                                                        \n",
       " X1st_Road_Class X1st_Road_Number   Road_Type      Speed_limit   \n",
       " Min.   :1.000   Min.   :   0     Min.   :1.000   Min.   : 0.00  \n",
       " 1st Qu.:3.000   1st Qu.:   0     1st Qu.:6.000   1st Qu.:30.00  \n",
       " Median :4.000   Median : 124     Median :6.000   Median :30.00  \n",
       " Mean   :4.095   Mean   :1002     Mean   :5.168   Mean   :38.95  \n",
       " 3rd Qu.:6.000   3rd Qu.: 720     3rd Qu.:6.000   3rd Qu.:50.00  \n",
       " Max.   :6.000   Max.   :9999     Max.   :9.000   Max.   :70.00  \n",
       "                 NA's   :2        NA's   :1       NA's   :37     \n",
       " Junction_Detail Junction_Control X2nd_Road_Class  X2nd_Road_Number\n",
       " Min.   :0.000   Min.   :0.0      Min.   :1.0      Min.   :   0.0  \n",
       " 1st Qu.:0.000   1st Qu.:4.0      1st Qu.:5.0      1st Qu.:   0.0  \n",
       " Median :2.000   Median :4.0      Median :6.0      Median :   0.0  \n",
       " Mean   :2.326   Mean   :3.4      Mean   :5.2      Mean   : 377.7  \n",
       " 3rd Qu.:3.000   3rd Qu.:4.0      3rd Qu.:6.0      3rd Qu.:   0.0  \n",
       " Max.   :9.000   Max.   :4.0      Max.   :6.0      Max.   :9999.0  \n",
       " NA's   :125     NA's   :698015   NA's   :789860   NA's   :17440   \n",
       " Pedestrian_Crossing.Human_Control Pedestrian_Crossing.Physical_Facilities\n",
       " Min.   :0.0000                    Min.   :0.0000                         \n",
       " 1st Qu.:0.0000                    1st Qu.:0.0000                         \n",
       " Median :0.0000                    Median :0.0000                         \n",
       " Mean   :0.0096                    Mean   :0.7444                         \n",
       " 3rd Qu.:0.0000                    3rd Qu.:0.0000                         \n",
       " Max.   :2.0000                    Max.   :8.0000                         \n",
       " NA's   :346                       NA's   :795                            \n",
       " Light_Conditions Weather_Conditions Road_Surface_Conditions\n",
       " Min.   :1.000    Min.   :1.000      Min.   :1.000          \n",
       " 1st Qu.:1.000    1st Qu.:1.000      1st Qu.:1.000          \n",
       " Median :1.000    Median :1.000      Median :1.000          \n",
       " Mean   :1.953    Mean   :1.574      Mean   :1.358          \n",
       " 3rd Qu.:4.000    3rd Qu.:1.000      3rd Qu.:2.000          \n",
       " Max.   :7.000    Max.   :9.000      Max.   :5.000          \n",
       " NA's   :13       NA's   :174        NA's   :3208           \n",
       " Special_Conditions_at_Site Carriageway_Hazards Urban_or_Rural_Area\n",
       " Min.   :0.0000             Min.   :0.0000      Min.   :1.000      \n",
       " 1st Qu.:0.0000             1st Qu.:0.0000      1st Qu.:1.000      \n",
       " Median :0.0000             Median :0.0000      Median :1.000      \n",
       " Mean   :0.1077             Mean   :0.0714      Mean   :1.356      \n",
       " 3rd Qu.:0.0000             3rd Qu.:0.0000      3rd Qu.:2.000      \n",
       " Max.   :7.0000             Max.   :7.0000      Max.   :3.000      \n",
       " NA's   :629                NA's   :673                            \n",
       " Did_Police_Officer_Attend_Scene_of_Accident LSOA_of_Accident_Location\n",
       " Min.   :1.000                               Length:1917274           \n",
       " 1st Qu.:1.000                               Class :character         \n",
       " Median :1.000                               Mode  :character         \n",
       " Mean   :1.198                                                        \n",
       " 3rd Qu.:1.000                                                        \n",
       " Max.   :3.000                                                        \n",
       " NA's   :278                                                          \n",
       "  data_year               Month          weekday         \n",
       " Length:1917274     November :175525   Length:1917274    \n",
       " Class :character   October  :172805   Class :character  \n",
       " Mode  :character   July     :168401   Mode  :character  \n",
       "                    September:164925                     \n",
       "                    June     :162219                     \n",
       "                    May      :162072                     \n",
       "                    (Other)  :911327                     \n",
       "          timezone           Year       \n",
       " early morning:107584   2005   :198735  \n",
       " morning      :536065   2006   :189161  \n",
       " afternoon    :818943   2007   :182115  \n",
       " evening      :454529   2008   :170591  \n",
       " NA's         :   153   2009   :163554  \n",
       "                        2010   :154414  \n",
       "                        (Other):858704  "
      ]
     },
     "metadata": {},
     "output_type": "display_data"
    }
   ],
   "source": [
    "summary(accidents)"
   ]
  },
  {
   "cell_type": "code",
   "execution_count": 29,
   "metadata": {},
   "outputs": [
    {
     "data": {
      "text/html": [
       "<table>\n",
       "<thead><tr><th></th><th scope=col>na_count</th></tr></thead>\n",
       "<tbody>\n",
       "\t<tr><th scope=row>Accident_Index</th><td>     0</td></tr>\n",
       "\t<tr><th scope=row>Location_Easting_OSGR</th><td>   145</td></tr>\n",
       "\t<tr><th scope=row>Location_Northing_OSGR</th><td>   145</td></tr>\n",
       "\t<tr><th scope=row>Longitude</th><td>   145</td></tr>\n",
       "\t<tr><th scope=row>Latitude</th><td>   145</td></tr>\n",
       "\t<tr><th scope=row>Police_Force</th><td>     0</td></tr>\n",
       "\t<tr><th scope=row>Accident_Severity</th><td>     0</td></tr>\n",
       "\t<tr><th scope=row>Number_of_Vehicles</th><td>     0</td></tr>\n",
       "\t<tr><th scope=row>Number_of_Casualties</th><td>     0</td></tr>\n",
       "\t<tr><th scope=row>Date</th><td>     0</td></tr>\n",
       "\t<tr><th scope=row>Day_of_Week</th><td>     0</td></tr>\n",
       "\t<tr><th scope=row>Time</th><td>     0</td></tr>\n",
       "\t<tr><th scope=row>Local_Authority_.District.</th><td>     0</td></tr>\n",
       "\t<tr><th scope=row>Local_Authority_.Highway.</th><td>     0</td></tr>\n",
       "\t<tr><th scope=row>X1st_Road_Class</th><td>     0</td></tr>\n",
       "\t<tr><th scope=row>X1st_Road_Number</th><td>     2</td></tr>\n",
       "\t<tr><th scope=row>Road_Type</th><td>     1</td></tr>\n",
       "\t<tr><th scope=row>Speed_limit</th><td>    37</td></tr>\n",
       "\t<tr><th scope=row>Junction_Detail</th><td>   125</td></tr>\n",
       "\t<tr><th scope=row>Junction_Control</th><td>698015</td></tr>\n",
       "\t<tr><th scope=row>X2nd_Road_Class</th><td>789860</td></tr>\n",
       "\t<tr><th scope=row>X2nd_Road_Number</th><td> 17440</td></tr>\n",
       "\t<tr><th scope=row>Pedestrian_Crossing.Human_Control</th><td>   346</td></tr>\n",
       "\t<tr><th scope=row>Pedestrian_Crossing.Physical_Facilities</th><td>   795</td></tr>\n",
       "\t<tr><th scope=row>Light_Conditions</th><td>    13</td></tr>\n",
       "\t<tr><th scope=row>Weather_Conditions</th><td>   174</td></tr>\n",
       "\t<tr><th scope=row>Road_Surface_Conditions</th><td>  3208</td></tr>\n",
       "\t<tr><th scope=row>Special_Conditions_at_Site</th><td>   629</td></tr>\n",
       "\t<tr><th scope=row>Carriageway_Hazards</th><td>   673</td></tr>\n",
       "\t<tr><th scope=row>Urban_or_Rural_Area</th><td>     0</td></tr>\n",
       "\t<tr><th scope=row>Did_Police_Officer_Attend_Scene_of_Accident</th><td>   278</td></tr>\n",
       "\t<tr><th scope=row>LSOA_of_Accident_Location</th><td>137822</td></tr>\n",
       "\t<tr><th scope=row>data_year</th><td>     0</td></tr>\n",
       "\t<tr><th scope=row>Month</th><td>     0</td></tr>\n",
       "\t<tr><th scope=row>weekday</th><td>     0</td></tr>\n",
       "\t<tr><th scope=row>timezone</th><td>   153</td></tr>\n",
       "\t<tr><th scope=row>Year</th><td>     0</td></tr>\n",
       "</tbody>\n",
       "</table>\n"
      ],
      "text/latex": [
       "\\begin{tabular}{r|l}\n",
       "  & na\\_count\\\\\n",
       "\\hline\n",
       "\tAccident\\_Index &      0\\\\\n",
       "\tLocation\\_Easting\\_OSGR &    145\\\\\n",
       "\tLocation\\_Northing\\_OSGR &    145\\\\\n",
       "\tLongitude &    145\\\\\n",
       "\tLatitude &    145\\\\\n",
       "\tPolice\\_Force &      0\\\\\n",
       "\tAccident\\_Severity &      0\\\\\n",
       "\tNumber\\_of\\_Vehicles &      0\\\\\n",
       "\tNumber\\_of\\_Casualties &      0\\\\\n",
       "\tDate &      0\\\\\n",
       "\tDay\\_of\\_Week &      0\\\\\n",
       "\tTime &      0\\\\\n",
       "\tLocal\\_Authority\\_.District. &      0\\\\\n",
       "\tLocal\\_Authority\\_.Highway. &      0\\\\\n",
       "\tX1st\\_Road\\_Class &      0\\\\\n",
       "\tX1st\\_Road\\_Number &      2\\\\\n",
       "\tRoad\\_Type &      1\\\\\n",
       "\tSpeed\\_limit &     37\\\\\n",
       "\tJunction\\_Detail &    125\\\\\n",
       "\tJunction\\_Control & 698015\\\\\n",
       "\tX2nd\\_Road\\_Class & 789860\\\\\n",
       "\tX2nd\\_Road\\_Number &  17440\\\\\n",
       "\tPedestrian\\_Crossing.Human\\_Control &    346\\\\\n",
       "\tPedestrian\\_Crossing.Physical\\_Facilities &    795\\\\\n",
       "\tLight\\_Conditions &     13\\\\\n",
       "\tWeather\\_Conditions &    174\\\\\n",
       "\tRoad\\_Surface\\_Conditions &   3208\\\\\n",
       "\tSpecial\\_Conditions\\_at\\_Site &    629\\\\\n",
       "\tCarriageway\\_Hazards &    673\\\\\n",
       "\tUrban\\_or\\_Rural\\_Area &      0\\\\\n",
       "\tDid\\_Police\\_Officer\\_Attend\\_Scene\\_of\\_Accident &    278\\\\\n",
       "\tLSOA\\_of\\_Accident\\_Location & 137822\\\\\n",
       "\tdata\\_year &      0\\\\\n",
       "\tMonth &      0\\\\\n",
       "\tweekday &      0\\\\\n",
       "\ttimezone &    153\\\\\n",
       "\tYear &      0\\\\\n",
       "\\end{tabular}\n"
      ],
      "text/markdown": [
       "\n",
       "| <!--/--> | na_count | \n",
       "|---|---|---|---|---|---|---|---|---|---|---|---|---|---|---|---|---|---|---|---|---|---|---|---|---|---|---|---|---|---|---|---|---|---|---|---|---|\n",
       "| Accident_Index |      0 | \n",
       "| Location_Easting_OSGR |    145 | \n",
       "| Location_Northing_OSGR |    145 | \n",
       "| Longitude |    145 | \n",
       "| Latitude |    145 | \n",
       "| Police_Force |      0 | \n",
       "| Accident_Severity |      0 | \n",
       "| Number_of_Vehicles |      0 | \n",
       "| Number_of_Casualties |      0 | \n",
       "| Date |      0 | \n",
       "| Day_of_Week |      0 | \n",
       "| Time |      0 | \n",
       "| Local_Authority_.District. |      0 | \n",
       "| Local_Authority_.Highway. |      0 | \n",
       "| X1st_Road_Class |      0 | \n",
       "| X1st_Road_Number |      2 | \n",
       "| Road_Type |      1 | \n",
       "| Speed_limit |     37 | \n",
       "| Junction_Detail |    125 | \n",
       "| Junction_Control | 698015 | \n",
       "| X2nd_Road_Class | 789860 | \n",
       "| X2nd_Road_Number |  17440 | \n",
       "| Pedestrian_Crossing.Human_Control |    346 | \n",
       "| Pedestrian_Crossing.Physical_Facilities |    795 | \n",
       "| Light_Conditions |     13 | \n",
       "| Weather_Conditions |    174 | \n",
       "| Road_Surface_Conditions |   3208 | \n",
       "| Special_Conditions_at_Site |    629 | \n",
       "| Carriageway_Hazards |    673 | \n",
       "| Urban_or_Rural_Area |      0 | \n",
       "| Did_Police_Officer_Attend_Scene_of_Accident |    278 | \n",
       "| LSOA_of_Accident_Location | 137822 | \n",
       "| data_year |      0 | \n",
       "| Month |      0 | \n",
       "| weekday |      0 | \n",
       "| timezone |    153 | \n",
       "| Year |      0 | \n",
       "\n",
       "\n"
      ],
      "text/plain": [
       "                                            na_count\n",
       "Accident_Index                                   0  \n",
       "Location_Easting_OSGR                          145  \n",
       "Location_Northing_OSGR                         145  \n",
       "Longitude                                      145  \n",
       "Latitude                                       145  \n",
       "Police_Force                                     0  \n",
       "Accident_Severity                                0  \n",
       "Number_of_Vehicles                               0  \n",
       "Number_of_Casualties                             0  \n",
       "Date                                             0  \n",
       "Day_of_Week                                      0  \n",
       "Time                                             0  \n",
       "Local_Authority_.District.                       0  \n",
       "Local_Authority_.Highway.                        0  \n",
       "X1st_Road_Class                                  0  \n",
       "X1st_Road_Number                                 2  \n",
       "Road_Type                                        1  \n",
       "Speed_limit                                     37  \n",
       "Junction_Detail                                125  \n",
       "Junction_Control                            698015  \n",
       "X2nd_Road_Class                             789860  \n",
       "X2nd_Road_Number                             17440  \n",
       "Pedestrian_Crossing.Human_Control              346  \n",
       "Pedestrian_Crossing.Physical_Facilities        795  \n",
       "Light_Conditions                                13  \n",
       "Weather_Conditions                             174  \n",
       "Road_Surface_Conditions                       3208  \n",
       "Special_Conditions_at_Site                     629  \n",
       "Carriageway_Hazards                            673  \n",
       "Urban_or_Rural_Area                              0  \n",
       "Did_Police_Officer_Attend_Scene_of_Accident    278  \n",
       "LSOA_of_Accident_Location                   137822  \n",
       "data_year                                        0  \n",
       "Month                                            0  \n",
       "weekday                                          0  \n",
       "timezone                                       153  \n",
       "Year                                             0  "
      ]
     },
     "metadata": {},
     "output_type": "display_data"
    }
   ],
   "source": [
    "# Find missing values in accidents datasets\n",
    "\n",
    "na_count <-sapply(accidents, function(y) sum(length(which(is.na(y)))))\n",
    "na_count <- data.frame(na_count)\n",
    "na_count"
   ]
  },
  {
   "cell_type": "code",
   "execution_count": 30,
   "metadata": {},
   "outputs": [
    {
     "data": {
      "text/plain": [
       "\n",
       "     1      2    Sum \n",
       " 24693 263805 288498 "
      ]
     },
     "metadata": {},
     "output_type": "display_data"
    }
   ],
   "source": [
    "# Subset serious and fatal accidents in accidents dataset\n",
    "\n",
    "accidents_sf <- subset(accidents, Accident_Severity==1 | Accident_Severity==2)\n",
    "addmargins(table(accidents_sf$Accident_Severity))"
   ]
  },
  {
   "cell_type": "code",
   "execution_count": 31,
   "metadata": {},
   "outputs": [
    {
     "data": {
      "text/html": [
       "<table>\n",
       "<thead><tr><th></th><th scope=col>na_count</th></tr></thead>\n",
       "<tbody>\n",
       "\t<tr><th scope=row>Accident_Index</th><td>     0</td></tr>\n",
       "\t<tr><th scope=row>Location_Easting_OSGR</th><td>    23</td></tr>\n",
       "\t<tr><th scope=row>Location_Northing_OSGR</th><td>    23</td></tr>\n",
       "\t<tr><th scope=row>Longitude</th><td>    23</td></tr>\n",
       "\t<tr><th scope=row>Latitude</th><td>    23</td></tr>\n",
       "\t<tr><th scope=row>Police_Force</th><td>     0</td></tr>\n",
       "\t<tr><th scope=row>Accident_Severity</th><td>     0</td></tr>\n",
       "\t<tr><th scope=row>Number_of_Vehicles</th><td>     0</td></tr>\n",
       "\t<tr><th scope=row>Number_of_Casualties</th><td>     0</td></tr>\n",
       "\t<tr><th scope=row>Date</th><td>     0</td></tr>\n",
       "\t<tr><th scope=row>Day_of_Week</th><td>     0</td></tr>\n",
       "\t<tr><th scope=row>Time</th><td>     0</td></tr>\n",
       "\t<tr><th scope=row>Local_Authority_.District.</th><td>     0</td></tr>\n",
       "\t<tr><th scope=row>Local_Authority_.Highway.</th><td>     0</td></tr>\n",
       "\t<tr><th scope=row>X1st_Road_Class</th><td>     0</td></tr>\n",
       "\t<tr><th scope=row>X1st_Road_Number</th><td>     0</td></tr>\n",
       "\t<tr><th scope=row>Road_Type</th><td>     0</td></tr>\n",
       "\t<tr><th scope=row>Speed_limit</th><td>     3</td></tr>\n",
       "\t<tr><th scope=row>Junction_Detail</th><td>     8</td></tr>\n",
       "\t<tr><th scope=row>Junction_Control</th><td>126144</td></tr>\n",
       "\t<tr><th scope=row>X2nd_Road_Class</th><td>141825</td></tr>\n",
       "\t<tr><th scope=row>X2nd_Road_Number</th><td>  2646</td></tr>\n",
       "\t<tr><th scope=row>Pedestrian_Crossing.Human_Control</th><td>    52</td></tr>\n",
       "\t<tr><th scope=row>Pedestrian_Crossing.Physical_Facilities</th><td>    75</td></tr>\n",
       "\t<tr><th scope=row>Light_Conditions</th><td>     1</td></tr>\n",
       "\t<tr><th scope=row>Weather_Conditions</th><td>    18</td></tr>\n",
       "\t<tr><th scope=row>Road_Surface_Conditions</th><td>   334</td></tr>\n",
       "\t<tr><th scope=row>Special_Conditions_at_Site</th><td>    44</td></tr>\n",
       "\t<tr><th scope=row>Carriageway_Hazards</th><td>    53</td></tr>\n",
       "\t<tr><th scope=row>Urban_or_Rural_Area</th><td>     0</td></tr>\n",
       "\t<tr><th scope=row>Did_Police_Officer_Attend_Scene_of_Accident</th><td>    54</td></tr>\n",
       "\t<tr><th scope=row>LSOA_of_Accident_Location</th><td> 25354</td></tr>\n",
       "\t<tr><th scope=row>data_year</th><td>     0</td></tr>\n",
       "\t<tr><th scope=row>Month</th><td>     0</td></tr>\n",
       "\t<tr><th scope=row>weekday</th><td>     0</td></tr>\n",
       "\t<tr><th scope=row>timezone</th><td>    30</td></tr>\n",
       "\t<tr><th scope=row>Year</th><td>     0</td></tr>\n",
       "</tbody>\n",
       "</table>\n"
      ],
      "text/latex": [
       "\\begin{tabular}{r|l}\n",
       "  & na\\_count\\\\\n",
       "\\hline\n",
       "\tAccident\\_Index &      0\\\\\n",
       "\tLocation\\_Easting\\_OSGR &     23\\\\\n",
       "\tLocation\\_Northing\\_OSGR &     23\\\\\n",
       "\tLongitude &     23\\\\\n",
       "\tLatitude &     23\\\\\n",
       "\tPolice\\_Force &      0\\\\\n",
       "\tAccident\\_Severity &      0\\\\\n",
       "\tNumber\\_of\\_Vehicles &      0\\\\\n",
       "\tNumber\\_of\\_Casualties &      0\\\\\n",
       "\tDate &      0\\\\\n",
       "\tDay\\_of\\_Week &      0\\\\\n",
       "\tTime &      0\\\\\n",
       "\tLocal\\_Authority\\_.District. &      0\\\\\n",
       "\tLocal\\_Authority\\_.Highway. &      0\\\\\n",
       "\tX1st\\_Road\\_Class &      0\\\\\n",
       "\tX1st\\_Road\\_Number &      0\\\\\n",
       "\tRoad\\_Type &      0\\\\\n",
       "\tSpeed\\_limit &      3\\\\\n",
       "\tJunction\\_Detail &      8\\\\\n",
       "\tJunction\\_Control & 126144\\\\\n",
       "\tX2nd\\_Road\\_Class & 141825\\\\\n",
       "\tX2nd\\_Road\\_Number &   2646\\\\\n",
       "\tPedestrian\\_Crossing.Human\\_Control &     52\\\\\n",
       "\tPedestrian\\_Crossing.Physical\\_Facilities &     75\\\\\n",
       "\tLight\\_Conditions &      1\\\\\n",
       "\tWeather\\_Conditions &     18\\\\\n",
       "\tRoad\\_Surface\\_Conditions &    334\\\\\n",
       "\tSpecial\\_Conditions\\_at\\_Site &     44\\\\\n",
       "\tCarriageway\\_Hazards &     53\\\\\n",
       "\tUrban\\_or\\_Rural\\_Area &      0\\\\\n",
       "\tDid\\_Police\\_Officer\\_Attend\\_Scene\\_of\\_Accident &     54\\\\\n",
       "\tLSOA\\_of\\_Accident\\_Location &  25354\\\\\n",
       "\tdata\\_year &      0\\\\\n",
       "\tMonth &      0\\\\\n",
       "\tweekday &      0\\\\\n",
       "\ttimezone &     30\\\\\n",
       "\tYear &      0\\\\\n",
       "\\end{tabular}\n"
      ],
      "text/markdown": [
       "\n",
       "| <!--/--> | na_count | \n",
       "|---|---|---|---|---|---|---|---|---|---|---|---|---|---|---|---|---|---|---|---|---|---|---|---|---|---|---|---|---|---|---|---|---|---|---|---|---|\n",
       "| Accident_Index |      0 | \n",
       "| Location_Easting_OSGR |     23 | \n",
       "| Location_Northing_OSGR |     23 | \n",
       "| Longitude |     23 | \n",
       "| Latitude |     23 | \n",
       "| Police_Force |      0 | \n",
       "| Accident_Severity |      0 | \n",
       "| Number_of_Vehicles |      0 | \n",
       "| Number_of_Casualties |      0 | \n",
       "| Date |      0 | \n",
       "| Day_of_Week |      0 | \n",
       "| Time |      0 | \n",
       "| Local_Authority_.District. |      0 | \n",
       "| Local_Authority_.Highway. |      0 | \n",
       "| X1st_Road_Class |      0 | \n",
       "| X1st_Road_Number |      0 | \n",
       "| Road_Type |      0 | \n",
       "| Speed_limit |      3 | \n",
       "| Junction_Detail |      8 | \n",
       "| Junction_Control | 126144 | \n",
       "| X2nd_Road_Class | 141825 | \n",
       "| X2nd_Road_Number |   2646 | \n",
       "| Pedestrian_Crossing.Human_Control |     52 | \n",
       "| Pedestrian_Crossing.Physical_Facilities |     75 | \n",
       "| Light_Conditions |      1 | \n",
       "| Weather_Conditions |     18 | \n",
       "| Road_Surface_Conditions |    334 | \n",
       "| Special_Conditions_at_Site |     44 | \n",
       "| Carriageway_Hazards |     53 | \n",
       "| Urban_or_Rural_Area |      0 | \n",
       "| Did_Police_Officer_Attend_Scene_of_Accident |     54 | \n",
       "| LSOA_of_Accident_Location |  25354 | \n",
       "| data_year |      0 | \n",
       "| Month |      0 | \n",
       "| weekday |      0 | \n",
       "| timezone |     30 | \n",
       "| Year |      0 | \n",
       "\n",
       "\n"
      ],
      "text/plain": [
       "                                            na_count\n",
       "Accident_Index                                   0  \n",
       "Location_Easting_OSGR                           23  \n",
       "Location_Northing_OSGR                          23  \n",
       "Longitude                                       23  \n",
       "Latitude                                        23  \n",
       "Police_Force                                     0  \n",
       "Accident_Severity                                0  \n",
       "Number_of_Vehicles                               0  \n",
       "Number_of_Casualties                             0  \n",
       "Date                                             0  \n",
       "Day_of_Week                                      0  \n",
       "Time                                             0  \n",
       "Local_Authority_.District.                       0  \n",
       "Local_Authority_.Highway.                        0  \n",
       "X1st_Road_Class                                  0  \n",
       "X1st_Road_Number                                 0  \n",
       "Road_Type                                        0  \n",
       "Speed_limit                                      3  \n",
       "Junction_Detail                                  8  \n",
       "Junction_Control                            126144  \n",
       "X2nd_Road_Class                             141825  \n",
       "X2nd_Road_Number                              2646  \n",
       "Pedestrian_Crossing.Human_Control               52  \n",
       "Pedestrian_Crossing.Physical_Facilities         75  \n",
       "Light_Conditions                                 1  \n",
       "Weather_Conditions                              18  \n",
       "Road_Surface_Conditions                        334  \n",
       "Special_Conditions_at_Site                      44  \n",
       "Carriageway_Hazards                             53  \n",
       "Urban_or_Rural_Area                              0  \n",
       "Did_Police_Officer_Attend_Scene_of_Accident     54  \n",
       "LSOA_of_Accident_Location                    25354  \n",
       "data_year                                        0  \n",
       "Month                                            0  \n",
       "weekday                                          0  \n",
       "timezone                                        30  \n",
       "Year                                             0  "
      ]
     },
     "metadata": {},
     "output_type": "display_data"
    }
   ],
   "source": [
    "# Find missing values in subset of accidents datasets (Fatal and Serious)\n",
    "\n",
    "na_count <-sapply(accidents_sf, function(y) sum(length(which(is.na(y)))))\n",
    "na_count <- data.frame(na_count)\n",
    "na_count"
   ]
  },
  {
   "cell_type": "markdown",
   "metadata": {},
   "source": [
    "## Exploring casualties dataset"
   ]
  },
  {
   "cell_type": "code",
   "execution_count": 32,
   "metadata": {},
   "outputs": [
    {
     "data": {
      "text/plain": [
       " Accident_Index     Vehicle_Reference Casualty_Reference Casualty_Class \n",
       " Length:2584293     Min.   : 1.000    Min.   :  1.000    Min.   :1.000  \n",
       " Class :character   1st Qu.: 1.000    1st Qu.:  1.000    1st Qu.:1.000  \n",
       " Mode  :character   Median : 1.000    Median :  1.000    Median :1.000  \n",
       "                    Mean   : 1.486    Mean   :  1.431    Mean   :1.492  \n",
       "                    3rd Qu.: 2.000    3rd Qu.:  2.000    3rd Qu.:2.000  \n",
       "                    Max.   :91.000    Max.   :852.000    Max.   :3.000  \n",
       "                                                                        \n",
       " Sex_of_Casualty  Age_of_Casualty  Age_Band_of_Casualty Casualty_Severity\n",
       " Min.   :-1.000   Min.   : -1.00   Min.   :-1.000       Min.   :1.000    \n",
       " 1st Qu.: 1.000   1st Qu.: 20.00   1st Qu.: 4.000       1st Qu.:3.000    \n",
       " Median : 1.000   Median : 31.00   Median : 6.000       Median :3.000    \n",
       " Mean   : 1.415   Mean   : 34.62   Mean   : 6.054       Mean   :2.865    \n",
       " 3rd Qu.: 2.000   3rd Qu.: 47.00   3rd Qu.: 8.000       3rd Qu.:3.000    \n",
       " Max.   : 2.000   Max.   :104.00   Max.   :11.000       Max.   :3.000    \n",
       "                                                                         \n",
       " Pedestrian_Location Pedestrian_Movement Car_Passenger    \n",
       " Min.   :-1.0000     Min.   :-1.0000     Min.   :-1.0000  \n",
       " 1st Qu.: 0.0000     1st Qu.: 0.0000     1st Qu.: 0.0000  \n",
       " Median : 0.0000     Median : 0.0000     Median : 0.0000  \n",
       " Mean   : 0.6679     Mean   : 0.4765     Mean   : 0.2789  \n",
       " 3rd Qu.: 0.0000     3rd Qu.: 0.0000     3rd Qu.: 0.0000  \n",
       " Max.   :10.0000     Max.   : 9.0000     Max.   : 2.0000  \n",
       "                                                          \n",
       " Bus_or_Coach_Passenger Pedestrian_Road_Maintenance_Worker Casualty_Type  \n",
       " Min.   :-1.00000       Min.   :-1.0000                    Min.   : 0.00  \n",
       " 1st Qu.: 0.00000       1st Qu.:-1.0000                    1st Qu.: 3.00  \n",
       " Median : 0.00000       Median :-1.0000                    Median : 9.00  \n",
       " Mean   : 0.08884       Mean   :-0.5272                    Mean   : 7.48  \n",
       " 3rd Qu.: 0.00000       3rd Qu.: 0.0000                    3rd Qu.: 9.00  \n",
       " Max.   : 4.00000       Max.   : 2.0000                    Max.   :98.00  \n",
       "                                                                          \n",
       " Casualty_Home_Area_Type  data_year         Casualty_IMD_Decile\n",
       " Min.   :-1.0000         Length:2584293     Min.   :-1.0       \n",
       " 1st Qu.: 1.0000         Class :character   1st Qu.: 1.0       \n",
       " Median : 1.0000         Mode  :character   Median : 4.0       \n",
       " Mean   : 0.9975                            Mean   : 3.8       \n",
       " 3rd Qu.: 1.0000                            3rd Qu.: 7.0       \n",
       " Max.   : 3.0000                            Max.   :10.0       \n",
       "                                            NA's   :2216720    "
      ]
     },
     "metadata": {},
     "output_type": "display_data"
    }
   ],
   "source": [
    "summary(casualties)"
   ]
  },
  {
   "cell_type": "code",
   "execution_count": 33,
   "metadata": {
    "collapsed": true
   },
   "outputs": [],
   "source": [
    "# Replace -1 with NAs in casualties dataset\n",
    "\n",
    "casualties$Sex_of_Casualty[casualties$Sex_of_Casualty==-1] <- NA\n",
    "casualties$Age_of_Casualty[casualties$Age_of_Casualty==-1] <- NA\n",
    "casualties$Age_Band_of_Casualty[casualties$Age_Band_of_Casualty==-1] <- NA\n",
    "casualties$Pedestrian_Location[casualties$Pedestrian_Location==-1] <- NA\n",
    "casualties$Pedestrian_Movement[casualties$Pedestrian_Movement==-1] <- NA\n",
    "casualties$Car_Passenger[casualties$Car_Passenger==-1] <- NA\n",
    "casualties$Bus_or_Coach_Passenger[casualties$Bus_or_Coach_Passenger==-1] <- NA\n",
    "casualties$Pedestrian_Road_Maintenance_Worker[casualties$Pedestrian_Road_Maintenance_Worker==-1] <- NA\n",
    "casualties$Casualty_Home_Area_Type[casualties$Casualty_Home_Area_Type==-1] <- NA"
   ]
  },
  {
   "cell_type": "code",
   "execution_count": 34,
   "metadata": {},
   "outputs": [
    {
     "data": {
      "text/plain": [
       " Accident_Index     Vehicle_Reference Casualty_Reference Casualty_Class \n",
       " Length:2584293     Min.   : 1.000    Min.   :  1.000    Min.   :1.000  \n",
       " Class :character   1st Qu.: 1.000    1st Qu.:  1.000    1st Qu.:1.000  \n",
       " Mode  :character   Median : 1.000    Median :  1.000    Median :1.000  \n",
       "                    Mean   : 1.486    Mean   :  1.431    Mean   :1.492  \n",
       "                    3rd Qu.: 2.000    3rd Qu.:  2.000    3rd Qu.:2.000  \n",
       "                    Max.   :91.000    Max.   :852.000    Max.   :3.000  \n",
       "                                                                        \n",
       " Sex_of_Casualty Age_of_Casualty  Age_Band_of_Casualty Casualty_Severity\n",
       " Min.   :1.000   Min.   :  0.00   Min.   : 1.0         Min.   :1.000    \n",
       " 1st Qu.:1.000   1st Qu.: 21.00   1st Qu.: 5.0         1st Qu.:3.000    \n",
       " Median :1.000   Median : 32.00   Median : 6.0         Median :3.000    \n",
       " Mean   :1.415   Mean   : 35.35   Mean   : 6.2         Mean   :2.865    \n",
       " 3rd Qu.:2.000   3rd Qu.: 47.00   3rd Qu.: 8.0         3rd Qu.:3.000    \n",
       " Max.   :2.000   Max.   :104.00   Max.   :11.0         Max.   :3.000    \n",
       " NA's   :743     NA's   :51760    NA's   :51760                         \n",
       " Pedestrian_Location Pedestrian_Movement Car_Passenger   \n",
       " Min.   : 0.0000     Min.   :0.0000      Min.   :0.0000  \n",
       " 1st Qu.: 0.0000     1st Qu.:0.0000      1st Qu.:0.0000  \n",
       " Median : 0.0000     Median :0.0000      Median :0.0000  \n",
       " Mean   : 0.6679     Mean   :0.4765      Mean   :0.2796  \n",
       " 3rd Qu.: 0.0000     3rd Qu.:0.0000      3rd Qu.:0.0000  \n",
       " Max.   :10.0000     Max.   :9.0000      Max.   :2.0000  \n",
       " NA's   :19          NA's   :31          NA's   :1255    \n",
       " Bus_or_Coach_Passenger Pedestrian_Road_Maintenance_Worker Casualty_Type  \n",
       " Min.   :0.00000        Min.   :0.0                        Min.   : 0.00  \n",
       " 1st Qu.:0.00000        1st Qu.:0.0                        1st Qu.: 3.00  \n",
       " Median :0.00000        Median :0.0                        Median : 9.00  \n",
       " Mean   :0.08888        Mean   :0.1                        Mean   : 7.48  \n",
       " 3rd Qu.:0.00000        3rd Qu.:0.0                        3rd Qu.: 9.00  \n",
       " Max.   :4.00000        Max.   :2.0                        Max.   :98.00  \n",
       " NA's   :101            NA's   :1439331                                   \n",
       " Casualty_Home_Area_Type  data_year         Casualty_IMD_Decile\n",
       " Min.   :1.0             Length:2584293     Min.   :-1.0       \n",
       " 1st Qu.:1.0             Class :character   1st Qu.: 1.0       \n",
       " Median :1.0             Mode  :character   Median : 4.0       \n",
       " Mean   :1.3                                Mean   : 3.8       \n",
       " 3rd Qu.:1.0                                3rd Qu.: 7.0       \n",
       " Max.   :3.0                                Max.   :10.0       \n",
       " NA's   :365469                             NA's   :2216720    "
      ]
     },
     "metadata": {},
     "output_type": "display_data"
    }
   ],
   "source": [
    "# Check if all -1 are replaced with NA's\n",
    "\n",
    "summary(casualties)"
   ]
  },
  {
   "cell_type": "code",
   "execution_count": 35,
   "metadata": {},
   "outputs": [
    {
     "data": {
      "text/plain": [
       "\n",
       "     1      2    Sum \n",
       " 26594 295655 322249 "
      ]
     },
     "metadata": {},
     "output_type": "display_data"
    }
   ],
   "source": [
    "# Subset serious and fatal accidents in casualties dataset\n",
    "\n",
    "casualties_sf <- subset(casualties,Casualty_Severity==1 | Casualty_Severity==2) \n",
    "addmargins(table(casualties_sf$Casualty_Severity))"
   ]
  },
  {
   "cell_type": "code",
   "execution_count": 36,
   "metadata": {},
   "outputs": [
    {
     "name": "stdout",
     "output_type": "stream",
     "text": [
      "'data.frame':\t322249 obs. of  17 variables:\n",
      " $ Accident_Index                    : chr  \"200501BS00001\" \"200501BS00019\" \"200501BS00022\" \"200501BS70003\" ...\n",
      " $ Vehicle_Reference                 : int  1 1 1 2 1 1 2 1 2 1 ...\n",
      " $ Casualty_Reference                : int  1 1 1 2 1 1 1 1 1 1 ...\n",
      " $ Casualty_Class                    : int  3 1 3 1 3 1 1 2 1 1 ...\n",
      " $ Sex_of_Casualty                   : int  1 1 1 1 1 1 1 1 2 1 ...\n",
      " $ Age_of_Casualty                   : int  37 54 NA 28 NA 31 74 42 44 33 ...\n",
      " $ Age_Band_of_Casualty              : int  7 8 NA 6 NA 6 10 7 7 6 ...\n",
      " $ Casualty_Severity                 : int  2 2 2 2 2 2 2 2 2 2 ...\n",
      " $ Pedestrian_Location               : int  1 0 5 0 4 0 0 0 0 0 ...\n",
      " $ Pedestrian_Movement               : int  1 0 1 0 1 0 0 0 0 0 ...\n",
      " $ Car_Passenger                     : int  0 0 0 0 0 0 0 0 0 0 ...\n",
      " $ Bus_or_Coach_Passenger            : int  0 0 0 0 0 0 0 2 0 0 ...\n",
      " $ Pedestrian_Road_Maintenance_Worker: int  NA NA NA NA NA NA NA NA NA NA ...\n",
      " $ Casualty_Type                     : int  0 5 0 5 0 2 1 11 1 3 ...\n",
      " $ Casualty_Home_Area_Type           : int  1 1 NA 1 NA 1 1 1 1 1 ...\n",
      " $ data_year                         : chr  \"0514\" \"0514\" \"0514\" \"0514\" ...\n",
      " $ Casualty_IMD_Decile               : int  NA NA NA NA NA NA NA NA NA NA ...\n"
     ]
    }
   ],
   "source": [
    "# Let's examine the structure of subset of casualties (Fatal and Serious accidents)\n",
    "\n",
    "str(casualties_sf)"
   ]
  },
  {
   "cell_type": "markdown",
   "metadata": {},
   "source": [
    "## Exploring vehicles dataset"
   ]
  },
  {
   "cell_type": "code",
   "execution_count": 37,
   "metadata": {},
   "outputs": [
    {
     "name": "stdout",
     "output_type": "stream",
     "text": [
      "'data.frame':\t3514770 obs. of  24 variables:\n",
      " $ Accident_Index                  : chr  \"200501BS00001\" \"200501BS00002\" \"200501BS00003\" \"200501BS00003\" ...\n",
      " $ Vehicle_Reference               : int  1 1 1 2 1 1 1 2 1 2 ...\n",
      " $ Vehicle_Type                    : int  9 11 11 9 9 3 9 3 3 9 ...\n",
      " $ Towing_and_Articulation         : int  0 0 0 0 0 0 0 0 0 0 ...\n",
      " $ Vehicle_Manoeuvre               : int  18 4 17 2 18 18 5 18 18 2 ...\n",
      " $ Vehicle_Location.Restricted_Lane: int  0 0 0 0 0 0 0 0 0 0 ...\n",
      " $ Junction_Location               : int  0 3 0 0 0 0 0 0 1 1 ...\n",
      " $ Skidding_and_Overturning        : int  0 0 0 0 0 1 0 0 0 0 ...\n",
      " $ Hit_Object_in_Carriageway       : int  0 0 4 0 0 10 0 0 4 0 ...\n",
      " $ Vehicle_Leaving_Carriageway     : int  0 0 0 0 0 0 0 0 0 0 ...\n",
      " $ Hit_Object_off_Carriageway      : int  0 0 0 0 0 0 0 0 0 0 ...\n",
      " $ X1st_Point_of_Impact            : int  1 4 4 3 1 1 0 0 1 2 ...\n",
      " $ Was_Vehicle_Left_Hand_Drive.    : int  1 1 1 1 1 1 1 1 1 1 ...\n",
      " $ Journey_Purpose_of_Driver       : int  15 1 1 15 15 15 15 15 15 15 ...\n",
      " $ Sex_of_Driver                   : int  2 1 1 1 2 1 1 2 1 1 ...\n",
      " $ Age_of_Driver                   : int  74 42 35 62 49 49 51 30 31 41 ...\n",
      " $ Age_Band_of_Driver              : int  10 7 6 9 8 8 8 6 6 7 ...\n",
      " $ Engine_Capacity_.CC.            : int  -1 8268 8300 1762 1769 85 2976 124 -1 4266 ...\n",
      " $ Propulsion_Code                 : int  -1 2 2 1 1 1 1 1 -1 1 ...\n",
      " $ Age_of_Vehicle                  : int  -1 3 5 6 4 10 1 2 -1 4 ...\n",
      " $ Driver_IMD_Decile               : int  7 -1 2 1 2 -1 4 1 -1 6 ...\n",
      " $ Driver_Home_Area_Type           : int  1 -1 1 1 1 -1 1 1 -1 1 ...\n",
      " $ Vehicle_IMD_Decile              : int  NA NA NA NA NA NA NA NA NA NA ...\n",
      " $ data_year                       : chr  \"0514\" \"0514\" \"0514\" \"0514\" ...\n"
     ]
    }
   ],
   "source": [
    "str(vehicles)"
   ]
  },
  {
   "cell_type": "code",
   "execution_count": 38,
   "metadata": {},
   "outputs": [
    {
     "data": {
      "text/plain": [
       " Accident_Index     Vehicle_Reference  Vehicle_Type    Towing_and_Articulation\n",
       " Length:3514770     Min.   : 1.000    Min.   :-1.000   Min.   :-1.00000       \n",
       " Class :character   1st Qu.: 1.000    1st Qu.: 9.000   1st Qu.: 0.00000       \n",
       " Mode  :character   Median : 1.000    Median : 9.000   Median : 0.00000       \n",
       "                    Mean   : 1.556    Mean   : 9.654   Mean   : 0.03081       \n",
       "                    3rd Qu.: 2.000    3rd Qu.: 9.000   3rd Qu.: 0.00000       \n",
       "                    Max.   :91.000    Max.   :98.000   Max.   : 5.00000       \n",
       "                                                                              \n",
       " Vehicle_Manoeuvre Vehicle_Location.Restricted_Lane Junction_Location\n",
       " Min.   :-1.00     Min.   :-1.0000                  Min.   :-1.00    \n",
       " 1st Qu.: 7.00     1st Qu.: 0.0000                  1st Qu.: 0.00    \n",
       " Median :17.00     Median : 0.0000                  Median : 1.00    \n",
       " Mean   :12.67     Mean   : 0.1326                  Mean   : 2.55    \n",
       " 3rd Qu.:18.00     3rd Qu.: 0.0000                  3rd Qu.: 6.00    \n",
       " Max.   :18.00     Max.   : 9.0000                  Max.   : 8.00    \n",
       "                                                                     \n",
       " Skidding_and_Overturning Hit_Object_in_Carriageway Vehicle_Leaving_Carriageway\n",
       " Min.   :-1.0000          Min.   :-1.0000           Min.   :-1.0000            \n",
       " 1st Qu.: 0.0000          1st Qu.: 0.0000           1st Qu.: 0.0000            \n",
       " Median : 0.0000          Median : 0.0000           Median : 0.0000            \n",
       " Mean   : 0.2103          Mean   : 0.3053           Mean   : 0.3673            \n",
       " 3rd Qu.: 0.0000          3rd Qu.: 0.0000           3rd Qu.: 0.0000            \n",
       " Max.   : 5.0000          Max.   :12.0000           Max.   : 8.0000            \n",
       "                                                                               \n",
       " Hit_Object_off_Carriageway X1st_Point_of_Impact Was_Vehicle_Left_Hand_Drive.\n",
       " Min.   :-1.000             Min.   :-1.00        Min.   :-1.0000             \n",
       " 1st Qu.: 0.000             1st Qu.: 1.00        1st Qu.: 1.0000             \n",
       " Median : 0.000             Median : 1.00        Median : 1.0000             \n",
       " Mean   : 0.559             Mean   : 1.77        Mean   : 0.9903             \n",
       " 3rd Qu.: 0.000             3rd Qu.: 3.00        3rd Qu.: 1.0000             \n",
       " Max.   :11.000             Max.   : 4.00        Max.   : 2.0000             \n",
       "                                                                             \n",
       " Journey_Purpose_of_Driver Sex_of_Driver    Age_of_Driver    Age_Band_of_Driver\n",
       " Min.   :-1.000            Min.   :-1.000   Min.   : -1.00   Min.   :-1.000    \n",
       " 1st Qu.: 2.000            1st Qu.: 1.000   1st Qu.: 22.00   1st Qu.: 5.000    \n",
       " Median : 6.000            Median : 1.000   Median : 34.00   Median : 6.000    \n",
       " Mean   : 8.139            Mean   : 1.402   Mean   : 34.49   Mean   : 5.866    \n",
       " 3rd Qu.:15.000            3rd Qu.: 2.000   3rd Qu.: 48.00   3rd Qu.: 8.000    \n",
       " Max.   :15.000            Max.   : 3.000   Max.   :101.00   Max.   :11.000    \n",
       "                                                                               \n",
       " Engine_Capacity_.CC. Propulsion_Code   Age_of_Vehicle    Driver_IMD_Decile\n",
       " Min.   :   -1        Min.   :-1.0000   Min.   : -1.000   Min.   :-1.000   \n",
       " 1st Qu.:   -1        1st Qu.:-1.0000   1st Qu.: -1.000   1st Qu.:-1.000   \n",
       " Median : 1388        Median : 1.0000   Median :  4.000   Median : 3.000   \n",
       " Mean   : 1410        Mean   : 0.7692   Mean   :  4.923   Mean   : 3.224   \n",
       " 3rd Qu.: 1896        3rd Qu.: 2.0000   3rd Qu.:  9.000   3rd Qu.: 6.000   \n",
       " Max.   :99999        Max.   :12.0000   Max.   :111.000   Max.   :10.000   \n",
       "                                                                           \n",
       " Driver_Home_Area_Type Vehicle_IMD_Decile  data_year        \n",
       " Min.   :-1.0000       Min.   :-1.0       Length:3514770    \n",
       " 1st Qu.: 1.0000       1st Qu.:-1.0       Class :character  \n",
       " Median : 1.0000       Median :-1.0       Mode  :character  \n",
       " Mean   : 0.8836       Mean   : 1.3                         \n",
       " 3rd Qu.: 1.0000       3rd Qu.: 3.0                         \n",
       " Max.   : 3.0000       Max.   :10.0                         \n",
       "                       NA's   :3004425                      "
      ]
     },
     "metadata": {},
     "output_type": "display_data"
    }
   ],
   "source": [
    "summary(vehicles)"
   ]
  },
  {
   "cell_type": "code",
   "execution_count": 39,
   "metadata": {
    "collapsed": true
   },
   "outputs": [],
   "source": [
    "# Replace -1 with NAs in vehicles dataset\n",
    "\n",
    "vehicles$Vehicle_Type[vehicles$Vehicle_Type==-1] <- NA\n",
    "vehicles$Towing_and_Articulation[vehicles$Towing_and_Articulation==-1] <- NA\n",
    "vehicles$Vehicle_Manoeuvre[vehicles$Vehicle_Manoeuvre==-1] <- NA\n",
    "vehicles$Vehicle_Location.Restricted_Lane[vehicles$Vehicle_Location.Restricted_Lane==-1] <- NA\n",
    "vehicles$Junction_Location[vehicles$Junction_Location==-1] <- NA\n",
    "vehicles$Skidding_and_Overturning[vehicles$Skidding_and_Overturning==-1] <- NA\n",
    "vehicles$Hit_Object_in_Carriageway[vehicles$Hit_Object_in_Carriageway==-1] <- NA\n",
    "vehicles$Vehicle_Leaving_Carriageway[vehicles$Vehicle_Leaving_Carriageway==-1] <- NA\n",
    "vehicles$Hit_Object_off_Carriageway[vehicles$Hit_Object_off_Carriageway==-1] <- NA\n",
    "vehicles$X1st_Point_of_Impact[vehicles$X1st_Point_of_Impact==-1] <- NA\n",
    "vehicles$Was_Vehicle_Left_Hand_Drive.[vehicles$Was_Vehicle_Left_Hand_Drive.==-1] <- NA\n",
    "vehicles$Journey_Purpose_of_Driver[vehicles$Journey_Purpose_of_Driver==-1] <- NA\n",
    "vehicles$Sex_of_Driver[vehicles$Sex_of_Driver==-1] <- NA\n",
    "vehicles$Age_of_Driver[vehicles$Age_of_Driver==-1] <- NA\n",
    "vehicles$Age_Band_of_Driver[vehicles$Age_Band_of_Driver==-1] <- NA\n",
    "vehicles$Engine_Capacity_.CC.[vehicles$Engine_Capacity_.CC.==-1] <- NA\n",
    "vehicles$Propulsion_Code[vehicles$Propulsion_Code==-1] <- NA\n",
    "vehicles$Age_of_Vehicle[vehicles$Age_of_Vehicle==-1] <- NA\n",
    "vehicles$Driver_IMD_Decile[vehicles$Driver_IMD_Decile==-1] <- NA\n",
    "vehicles$Driver_Home_Area_Type[vehicles$Driver_Home_Area_Type==-1] <- NA\n",
    "\n"
   ]
  },
  {
   "cell_type": "code",
   "execution_count": 40,
   "metadata": {},
   "outputs": [
    {
     "name": "stdout",
     "output_type": "stream",
     "text": [
      "'data.frame':\t3514770 obs. of  24 variables:\n",
      " $ Accident_Index                  : chr  \"200501BS00001\" \"200501BS00002\" \"200501BS00003\" \"200501BS00003\" ...\n",
      " $ Vehicle_Reference               : int  1 1 1 2 1 1 1 2 1 2 ...\n",
      " $ Vehicle_Type                    : int  9 11 11 9 9 3 9 3 3 9 ...\n",
      " $ Towing_and_Articulation         : int  0 0 0 0 0 0 0 0 0 0 ...\n",
      " $ Vehicle_Manoeuvre               : int  18 4 17 2 18 18 5 18 18 2 ...\n",
      " $ Vehicle_Location.Restricted_Lane: int  0 0 0 0 0 0 0 0 0 0 ...\n",
      " $ Junction_Location               : int  0 3 0 0 0 0 0 0 1 1 ...\n",
      " $ Skidding_and_Overturning        : int  0 0 0 0 0 1 0 0 0 0 ...\n",
      " $ Hit_Object_in_Carriageway       : int  0 0 4 0 0 10 0 0 4 0 ...\n",
      " $ Vehicle_Leaving_Carriageway     : int  0 0 0 0 0 0 0 0 0 0 ...\n",
      " $ Hit_Object_off_Carriageway      : int  0 0 0 0 0 0 0 0 0 0 ...\n",
      " $ X1st_Point_of_Impact            : int  1 4 4 3 1 1 0 0 1 2 ...\n",
      " $ Was_Vehicle_Left_Hand_Drive.    : int  1 1 1 1 1 1 1 1 1 1 ...\n",
      " $ Journey_Purpose_of_Driver       : int  15 1 1 15 15 15 15 15 15 15 ...\n",
      " $ Sex_of_Driver                   : int  2 1 1 1 2 1 1 2 1 1 ...\n",
      " $ Age_of_Driver                   : int  74 42 35 62 49 49 51 30 31 41 ...\n",
      " $ Age_Band_of_Driver              : int  10 7 6 9 8 8 8 6 6 7 ...\n",
      " $ Engine_Capacity_.CC.            : int  NA 8268 8300 1762 1769 85 2976 124 NA 4266 ...\n",
      " $ Propulsion_Code                 : int  NA 2 2 1 1 1 1 1 NA 1 ...\n",
      " $ Age_of_Vehicle                  : int  NA 3 5 6 4 10 1 2 NA 4 ...\n",
      " $ Driver_IMD_Decile               : int  7 NA 2 1 2 NA 4 1 NA 6 ...\n",
      " $ Driver_Home_Area_Type           : int  1 NA 1 1 1 NA 1 1 NA 1 ...\n",
      " $ Vehicle_IMD_Decile              : int  NA NA NA NA NA NA NA NA NA NA ...\n",
      " $ data_year                       : chr  \"0514\" \"0514\" \"0514\" \"0514\" ...\n"
     ]
    }
   ],
   "source": [
    "# Let's check if all -1 are replaced with NAs\n",
    "\n",
    "str(vehicles)"
   ]
  },
  {
   "cell_type": "markdown",
   "metadata": {},
   "source": [
    "## Merge accidents and casualties datasets (fatal & serious cases only)"
   ]
  },
  {
   "cell_type": "code",
   "execution_count": 41,
   "metadata": {},
   "outputs": [
    {
     "name": "stdout",
     "output_type": "stream",
     "text": [
      "'data.frame':\t288498 obs. of  44 variables:\n",
      " $ Accident_Index                             : chr  \"200501BS00001\" \"200501BS00019\" \"200501BS00022\" \"200501BS70003\" ...\n",
      " $ Location_Easting_OSGR                      : int  525680 524680 526790 523910 524100 524830 525000 524730 524120 524290 ...\n",
      " $ Location_Northing_OSGR                     : int  178240 179450 178980 181390 181830 179160 180660 179110 180010 179420 ...\n",
      " $ Longitude                                  : num  -0.191 -0.205 -0.175 -0.216 -0.213 ...\n",
      " $ Latitude                                   : num  51.5 51.5 51.5 51.5 51.5 ...\n",
      " $ Police_Force                               : int  1 1 1 1 1 1 1 1 1 1 ...\n",
      " $ Accident_Severity                          : int  2 2 2 2 2 2 2 2 2 2 ...\n",
      " $ Number_of_Vehicles                         : int  1 2 1 2 1 2 2 2 2 2 ...\n",
      " $ Number_of_Casualties                       : int  1 1 1 2 1 1 1 1 1 1 ...\n",
      " $ Date                                       : Date, format: \"2005-01-04\" \"2005-01-20\" ...\n",
      " $ Day_of_Week                                : int  3 5 7 3 3 3 7 3 4 4 ...\n",
      " $ Time                                       : chr  \"17:42\" \"00:15\" \"03:00\" \"17:30\" ...\n",
      " $ Local_Authority_.District.                 : int  12 12 12 12 12 12 12 12 12 12 ...\n",
      " $ Local_Authority_.Highway.                  : chr  \"E09000020\" \"E09000020\" \"E09000020\" \"E09000020\" ...\n",
      " $ X1st_Road_Class                            : int  3 6 3 4 4 3 4 3 3 3 ...\n",
      " $ X1st_Road_Number                           : int  3218 0 4 412 450 315 415 315 402 3220 ...\n",
      " $ Road_Type                                  : int  6 6 6 2 6 6 6 3 2 6 ...\n",
      " $ Speed_limit                                : int  30 30 30 30 30 30 30 30 30 30 ...\n",
      " $ Junction_Detail                            : int  0 3 3 2 0 0 3 6 3 0 ...\n",
      " $ Junction_Control                           : int  NA 4 4 4 NA NA 4 2 2 NA ...\n",
      " $ X2nd_Road_Class                            : int  NA 6 6 6 NA NA 6 3 5 NA ...\n",
      " $ X2nd_Road_Number                           : int  0 0 0 0 0 0 0 3220 0 0 ...\n",
      " $ Pedestrian_Crossing.Human_Control          : int  0 0 0 0 0 0 0 0 0 0 ...\n",
      " $ Pedestrian_Crossing.Physical_Facilities    : int  1 0 0 0 1 0 0 5 5 0 ...\n",
      " $ Light_Conditions                           : int  1 4 4 4 4 4 4 1 1 4 ...\n",
      " $ Weather_Conditions                         : int  2 1 1 2 1 2 2 1 1 1 ...\n",
      " $ Road_Surface_Conditions                    : int  2 1 1 2 1 2 2 1 1 1 ...\n",
      " $ Special_Conditions_at_Site                 : int  0 0 0 0 0 0 0 0 0 0 ...\n",
      " $ Carriageway_Hazards                        : int  0 0 0 0 0 0 0 0 0 0 ...\n",
      " $ Urban_or_Rural_Area                        : int  1 1 1 1 1 1 1 1 1 1 ...\n",
      " $ Did_Police_Officer_Attend_Scene_of_Accident: int  1 1 1 1 1 2 1 1 1 1 ...\n",
      " $ LSOA_of_Accident_Location                  : chr  \"E01002849\" \"E01002864\" \"E01002821\" \"E01002878\" ...\n",
      " $ data_year                                  : chr  \"0514\" \"0514\" \"0514\" \"0514\" ...\n",
      " $ Month                                      : Factor w/ 12 levels \"January\",\"February\",..: 1 1 1 2 2 3 3 3 3 3 ...\n",
      " $ weekday                                    : chr  \"Tuesday\" \"Thursday\" \"Saturday\" \"Tuesday\" ...\n",
      " $ timezone                                   : Factor w/ 4 levels \"early morning\",..: 3 1 1 3 4 4 4 2 2 4 ...\n",
      " $ Year                                       : Factor w/ 12 levels \"2005\",\"2006\",..: 1 1 1 1 1 1 1 1 1 1 ...\n",
      " $ Casualty_Class                             : int  3 1 3 1 3 1 1 2 1 1 ...\n",
      " $ Sex_of_Casualty                            : int  1 1 1 1 1 1 1 1 2 1 ...\n",
      " $ Age_of_Casualty                            : int  37 54 NA 28 NA 31 74 42 44 33 ...\n",
      " $ Age_Band_of_Casualty                       : int  7 8 NA 6 NA 6 10 7 7 6 ...\n",
      " $ Casualty_Severity                          : int  2 2 2 2 2 2 2 2 2 2 ...\n",
      " $ Pedestrian_Movement                        : int  1 0 1 0 1 0 0 0 0 0 ...\n",
      " $ Casualty_Type                              : int  0 5 0 5 0 2 1 11 1 3 ...\n"
     ]
    }
   ],
   "source": [
    "# Merge accidents and casualties (serious & fatal cases only) datasets\n",
    "\n",
    "accidents_casualties <- accidents_sf\n",
    "\n",
    "accidents_casualties$Casualty_Class <- casualties_sf$Casualty_Class[match(accidents_casualties$Accident_Index,casualties_sf$Accident_Index)]\n",
    "accidents_casualties$Sex_of_Casualty <- casualties_sf$Sex_of_Casualty[match(accidents_casualties$Accident_Index,casualties_sf$Accident_Index)]\n",
    "accidents_casualties$Age_of_Casualty <- casualties_sf$Age_of_Casualty[match(accidents_casualties$Accident_Index,casualties_sf$Accident_Index)]\n",
    "accidents_casualties$Age_Band_of_Casualty <- casualties_sf$Age_Band_of_Casualty[match(accidents_casualties$Accident_Index,casualties_sf$Accident_Index)]\n",
    "accidents_casualties$Casualty_Severity <- casualties_sf$Casualty_Severity[match(accidents_casualties$Accident_Index,casualties_sf$Accident_Index)]\n",
    "accidents_casualties$Pedestrian_Movement <- casualties_sf$Pedestrian_Movement[match(accidents_casualties$Accident_Index,casualties_sf$Accident_Index)]\n",
    "accidents_casualties$Casualty_Type <- casualties_sf$Casualty_Type[match(accidents_casualties$Accident_Index,casualties_sf$Accident_Index)]\n",
    "\n",
    "\n",
    "str(accidents_casualties)"
   ]
  },
  {
   "cell_type": "markdown",
   "metadata": {},
   "source": [
    "## Merge vehicles dataset with accidents_casualties dataset"
   ]
  },
  {
   "cell_type": "code",
   "execution_count": 42,
   "metadata": {},
   "outputs": [
    {
     "name": "stdout",
     "output_type": "stream",
     "text": [
      "'data.frame':\t3514770 obs. of  24 variables:\n",
      " $ Accident_Index                  : chr  \"200501BS00001\" \"200501BS00002\" \"200501BS00003\" \"200501BS00003\" ...\n",
      " $ Vehicle_Reference               : int  1 1 1 2 1 1 1 2 1 2 ...\n",
      " $ Vehicle_Type                    : int  9 11 11 9 9 3 9 3 3 9 ...\n",
      " $ Towing_and_Articulation         : int  0 0 0 0 0 0 0 0 0 0 ...\n",
      " $ Vehicle_Manoeuvre               : int  18 4 17 2 18 18 5 18 18 2 ...\n",
      " $ Vehicle_Location.Restricted_Lane: int  0 0 0 0 0 0 0 0 0 0 ...\n",
      " $ Junction_Location               : int  0 3 0 0 0 0 0 0 1 1 ...\n",
      " $ Skidding_and_Overturning        : int  0 0 0 0 0 1 0 0 0 0 ...\n",
      " $ Hit_Object_in_Carriageway       : int  0 0 4 0 0 10 0 0 4 0 ...\n",
      " $ Vehicle_Leaving_Carriageway     : int  0 0 0 0 0 0 0 0 0 0 ...\n",
      " $ Hit_Object_off_Carriageway      : int  0 0 0 0 0 0 0 0 0 0 ...\n",
      " $ X1st_Point_of_Impact            : int  1 4 4 3 1 1 0 0 1 2 ...\n",
      " $ Was_Vehicle_Left_Hand_Drive.    : int  1 1 1 1 1 1 1 1 1 1 ...\n",
      " $ Journey_Purpose_of_Driver       : int  15 1 1 15 15 15 15 15 15 15 ...\n",
      " $ Sex_of_Driver                   : int  2 1 1 1 2 1 1 2 1 1 ...\n",
      " $ Age_of_Driver                   : int  74 42 35 62 49 49 51 30 31 41 ...\n",
      " $ Age_Band_of_Driver              : int  10 7 6 9 8 8 8 6 6 7 ...\n",
      " $ Engine_Capacity_.CC.            : int  NA 8268 8300 1762 1769 85 2976 124 NA 4266 ...\n",
      " $ Propulsion_Code                 : int  NA 2 2 1 1 1 1 1 NA 1 ...\n",
      " $ Age_of_Vehicle                  : int  NA 3 5 6 4 10 1 2 NA 4 ...\n",
      " $ Driver_IMD_Decile               : int  7 NA 2 1 2 NA 4 1 NA 6 ...\n",
      " $ Driver_Home_Area_Type           : int  1 NA 1 1 1 NA 1 1 NA 1 ...\n",
      " $ Vehicle_IMD_Decile              : int  NA NA NA NA NA NA NA NA NA NA ...\n",
      " $ data_year                       : chr  \"0514\" \"0514\" \"0514\" \"0514\" ...\n"
     ]
    }
   ],
   "source": [
    "str(vehicles)"
   ]
  },
  {
   "cell_type": "code",
   "execution_count": 43,
   "metadata": {},
   "outputs": [
    {
     "name": "stdout",
     "output_type": "stream",
     "text": [
      "'data.frame':\t288498 obs. of  59 variables:\n",
      " $ Accident_Index                             : chr  \"200501BS00001\" \"200501BS00019\" \"200501BS00022\" \"200501BS70003\" ...\n",
      " $ Location_Easting_OSGR                      : int  525680 524680 526790 523910 524100 524830 525000 524730 524120 524290 ...\n",
      " $ Location_Northing_OSGR                     : int  178240 179450 178980 181390 181830 179160 180660 179110 180010 179420 ...\n",
      " $ Longitude                                  : num  -0.191 -0.205 -0.175 -0.216 -0.213 ...\n",
      " $ Latitude                                   : num  51.5 51.5 51.5 51.5 51.5 ...\n",
      " $ Police_Force                               : int  1 1 1 1 1 1 1 1 1 1 ...\n",
      " $ Accident_Severity                          : int  2 2 2 2 2 2 2 2 2 2 ...\n",
      " $ Number_of_Vehicles                         : int  1 2 1 2 1 2 2 2 2 2 ...\n",
      " $ Number_of_Casualties                       : int  1 1 1 2 1 1 1 1 1 1 ...\n",
      " $ Date                                       : Date, format: \"2005-01-04\" \"2005-01-20\" ...\n",
      " $ Day_of_Week                                : int  3 5 7 3 3 3 7 3 4 4 ...\n",
      " $ Time                                       : chr  \"17:42\" \"00:15\" \"03:00\" \"17:30\" ...\n",
      " $ Local_Authority_.District.                 : int  12 12 12 12 12 12 12 12 12 12 ...\n",
      " $ Local_Authority_.Highway.                  : chr  \"E09000020\" \"E09000020\" \"E09000020\" \"E09000020\" ...\n",
      " $ X1st_Road_Class                            : int  3 6 3 4 4 3 4 3 3 3 ...\n",
      " $ X1st_Road_Number                           : int  3218 0 4 412 450 315 415 315 402 3220 ...\n",
      " $ Road_Type                                  : int  6 6 6 2 6 6 6 3 2 6 ...\n",
      " $ Speed_limit                                : int  30 30 30 30 30 30 30 30 30 30 ...\n",
      " $ Junction_Detail                            : int  0 3 3 2 0 0 3 6 3 0 ...\n",
      " $ Junction_Control                           : int  NA 4 4 4 NA NA 4 2 2 NA ...\n",
      " $ X2nd_Road_Class                            : int  NA 6 6 6 NA NA 6 3 5 NA ...\n",
      " $ X2nd_Road_Number                           : int  0 0 0 0 0 0 0 3220 0 0 ...\n",
      " $ Pedestrian_Crossing.Human_Control          : int  0 0 0 0 0 0 0 0 0 0 ...\n",
      " $ Pedestrian_Crossing.Physical_Facilities    : int  1 0 0 0 1 0 0 5 5 0 ...\n",
      " $ Light_Conditions                           : int  1 4 4 4 4 4 4 1 1 4 ...\n",
      " $ Weather_Conditions                         : int  2 1 1 2 1 2 2 1 1 1 ...\n",
      " $ Road_Surface_Conditions                    : int  2 1 1 2 1 2 2 1 1 1 ...\n",
      " $ Special_Conditions_at_Site                 : int  0 0 0 0 0 0 0 0 0 0 ...\n",
      " $ Carriageway_Hazards                        : int  0 0 0 0 0 0 0 0 0 0 ...\n",
      " $ Urban_or_Rural_Area                        : int  1 1 1 1 1 1 1 1 1 1 ...\n",
      " $ Did_Police_Officer_Attend_Scene_of_Accident: int  1 1 1 1 1 2 1 1 1 1 ...\n",
      " $ LSOA_of_Accident_Location                  : chr  \"E01002849\" \"E01002864\" \"E01002821\" \"E01002878\" ...\n",
      " $ data_year                                  : chr  \"0514\" \"0514\" \"0514\" \"0514\" ...\n",
      " $ Month                                      : Factor w/ 12 levels \"January\",\"February\",..: 1 1 1 2 2 3 3 3 3 3 ...\n",
      " $ weekday                                    : chr  \"Tuesday\" \"Thursday\" \"Saturday\" \"Tuesday\" ...\n",
      " $ timezone                                   : Factor w/ 4 levels \"early morning\",..: 3 1 1 3 4 4 4 2 2 4 ...\n",
      " $ Year                                       : Factor w/ 12 levels \"2005\",\"2006\",..: 1 1 1 1 1 1 1 1 1 1 ...\n",
      " $ Casualty_Class                             : int  3 1 3 1 3 1 1 2 1 1 ...\n",
      " $ Sex_of_Casualty                            : int  1 1 1 1 1 1 1 1 2 1 ...\n",
      " $ Age_of_Casualty                            : int  37 54 NA 28 NA 31 74 42 44 33 ...\n",
      " $ Age_Band_of_Casualty                       : int  7 8 NA 6 NA 6 10 7 7 6 ...\n",
      " $ Casualty_Severity                          : int  2 2 2 2 2 2 2 2 2 2 ...\n",
      " $ Pedestrian_Movement                        : int  1 0 1 0 1 0 0 0 0 0 ...\n",
      " $ Casualty_Type                              : int  0 5 0 5 0 2 1 11 1 3 ...\n",
      " $ Vehicle_Type                               : int  9 5 9 3 5 2 8 11 9 3 ...\n",
      " $ Vehicle_Manoeuvre                          : int  18 18 18 18 18 14 18 3 18 13 ...\n",
      " $ Vehicle_Location.Restricted_Lane           : int  0 0 0 0 0 0 0 0 0 0 ...\n",
      " $ Junction_Location                          : int  0 8 1 8 0 0 1 8 8 0 ...\n",
      " $ Skidding_and_Overturning                   : int  0 0 0 0 0 0 0 0 0 0 ...\n",
      " $ Hit_Object_in_Carriageway                  : int  0 0 0 0 0 8 0 0 0 0 ...\n",
      " $ X1st_Point_of_Impact                       : int  1 1 1 1 1 4 1 0 1 1 ...\n",
      " $ Was_Vehicle_Left_Hand_Drive.               : int  1 1 1 1 1 1 1 1 1 1 ...\n",
      " $ Journey_Purpose_of_Driver                  : int  15 15 15 15 15 15 15 15 15 15 ...\n",
      " $ Sex_of_Driver                              : int  2 1 1 1 1 1 1 1 2 1 ...\n",
      " $ Age_of_Driver                              : int  74 54 28 24 25 31 34 54 57 33 ...\n",
      " $ Age_Band_of_Driver                         : int  10 8 6 5 5 6 6 8 9 6 ...\n",
      " $ Engine_Capacity_.CC.                       : int  NA 599 1997 124 599 49 NA 8268 1895 124 ...\n",
      " $ Propulsion_Code                            : int  NA 1 1 1 1 1 NA 2 1 1 ...\n",
      " $ Age_of_Vehicle                             : int  NA 6 1 3 7 2 NA 3 4 2 ...\n"
     ]
    }
   ],
   "source": [
    "FINAL <- accidents_casualties\n",
    "\n",
    "FINAL$Vehicle_Type <- vehicles$Vehicle_Type[match(FINAL$Accident_Index,vehicles$Accident_Index)]\n",
    "FINAL$Vehicle_Manoeuvre <- vehicles$Vehicle_Manoeuvre[match(FINAL$Accident_Index,vehicles$Accident_Index)]\n",
    "FINAL$Vehicle_Location.Restricted_Lane <- vehicles$Vehicle_Location.Restricted_Lane[match(FINAL$Accident_Index,vehicles$Accident_Index)]\n",
    "FINAL$Junction_Location <- vehicles$Junction_Location[match(FINAL$Accident_Index,vehicles$Accident_Index)]\n",
    "FINAL$Skidding_and_Overturning <- vehicles$Skidding_and_Overturning[match(FINAL$Accident_Index,vehicles$Accident_Index)]\n",
    "FINAL$Hit_Object_in_Carriageway <- vehicles$Hit_Object_in_Carriageway[match(FINAL$Accident_Index,vehicles$Accident_Index)]\n",
    "FINAL$X1st_Point_of_Impact <- vehicles$X1st_Point_of_Impact[match(FINAL$Accident_Index,vehicles$Accident_Index)]\n",
    "FINAL$Was_Vehicle_Left_Hand_Drive. <- vehicles$Was_Vehicle_Left_Hand_Drive.[match(FINAL$Accident_Index,vehicles$Accident_Index)]\n",
    "FINAL$Journey_Purpose_of_Driver <- vehicles$Journey_Purpose_of_Driver[match(FINAL$Accident_Index,vehicles$Accident_Index)]\n",
    "FINAL$Sex_of_Driver <- vehicles$Sex_of_Driver[match(FINAL$Accident_Index,vehicles$Accident_Index)]\n",
    "FINAL$Age_of_Driver <- vehicles$Age_of_Driver[match(FINAL$Accident_Index,vehicles$Accident_Index)]\n",
    "FINAL$Age_Band_of_Driver <- vehicles$Age_Band_of_Driver[match(FINAL$Accident_Index,vehicles$Accident_Index)]\n",
    "FINAL$Engine_Capacity_.CC. <- vehicles$Engine_Capacity_.CC.[match(FINAL$Accident_Index,vehicles$Accident_Index)]\n",
    "FINAL$Propulsion_Code <- vehicles$Propulsion_Code[match(FINAL$Accident_Index,vehicles$Accident_Index)]\n",
    "FINAL$Age_of_Vehicle <- vehicles$Age_of_Vehicle[match(FINAL$Accident_Index,vehicles$Accident_Index)]\n",
    "\n",
    "str(FINAL)"
   ]
  },
  {
   "cell_type": "code",
   "execution_count": 44,
   "metadata": {
    "collapsed": true
   },
   "outputs": [],
   "source": [
    "# Convert categorical variables to factors\n",
    "\n",
    "FINAL$Police_Force <- factor(FINAL$Police_Force)\n",
    "FINAL$Accident_Severity <- factor(FINAL$Accident_Severity)\n",
    "FINAL$Local_Authority_.District. <- factor(FINAL$Local_Authority_.District.)\n",
    "FINAL$Local_Authority_.Highway. <- factor(FINAL$Local_Authority_.Highway.)\n",
    "FINAL$X1st_Road_Class <- factor(FINAL$X1st_Road_Class)\n",
    "FINAL$Road_Type <- factor(FINAL$Road_Type)\n",
    "FINAL$Junction_Detail <- factor(FINAL$Junction_Detail)\n",
    "FINAL$Junction_Control <- factor(FINAL$Junction_Control)\n",
    "FINAL$X2nd_Road_Class <- factor(FINAL$X2nd_Road_Class)\n",
    "FINAL$Pedestrian_Crossing.Human_Control <- factor(FINAL$Pedestrian_Crossing.Human_Control)\n",
    "FINAL$Pedestrian_Crossing.Physical_Facilities <- factor(FINAL$Pedestrian_Crossing.Physical_Facilities)\n",
    "FINAL$Light_Conditions <- factor(FINAL$Light_Conditions)\n",
    "FINAL$Weather_Conditions <- factor(FINAL$Weather_Conditions)\n",
    "FINAL$Road_Surface_Conditions <- factor(FINAL$Road_Surface_Conditions)\n",
    "FINAL$Special_Conditions_at_Site <- factor(FINAL$Special_Conditions_at_Site)\n",
    "FINAL$Carriageway_Hazards <- factor(FINAL$Carriageway_Hazards)\n",
    "FINAL$Urban_or_Rural_Area <- factor(FINAL$Urban_or_Rural_Area)\n",
    "FINAL$Did_Police_Officer_Attend_Scene_of_Accident <- factor(FINAL$Did_Police_Officer_Attend_Scene_of_Accident)\n",
    "FINAL$Casualty_Class <- factor(FINAL$Casualty_Class)\n",
    "FINAL$Sex_of_Casualty  <- factor(FINAL$Sex_of_Casualty)\n",
    "FINAL$Age_Band_of_Casualty <- factor(FINAL$Age_Band_of_Casualty)\n",
    "FINAL$Casualty_Severity <- factor(FINAL$Casualty_Severity)\n",
    "FINAL$Pedestrian_Movement <- factor(FINAL$Pedestrian_Movement)\n",
    "FINAL$Casualty_Type <- factor(FINAL$Casualty_Type)\n",
    "FINAL$Vehicle_Type <- factor(FINAL$Vehicle_Type)\n",
    "FINAL$Vehicle_Manoeuvre <- factor(FINAL$Vehicle_Manoeuvre)\n",
    "FINAL$Vehicle_Location.Restricted_Lane <- factor(FINAL$Vehicle_Location.Restricted_Lane)\n",
    "FINAL$Junction_Location <- factor(FINAL$Junction_Location)\n",
    "FINAL$Skidding_and_Overturning <- factor(FINAL$Skidding_and_Overturning)\n",
    "FINAL$Hit_Object_in_Carriageway <- factor(FINAL$Hit_Object_in_Carriageway)\n",
    "FINAL$X1st_Point_of_Impact <- factor(FINAL$X1st_Point_of_Impact)\n",
    "FINAL$Was_Vehicle_Left_Hand_Drive. <- factor(FINAL$Was_Vehicle_Left_Hand_Drive.)\n",
    "FINAL$Journey_Purpose_of_Driver <- factor(FINAL$Journey_Purpose_of_Driver)\n",
    "FINAL$Sex_of_Driver <- factor(FINAL$Sex_of_Driver)\n",
    "FINAL$Age_Band_of_Driver <- factor(FINAL$Age_Band_of_Driver)\n",
    "FINAL$Engine_Capacity_.CC. <- factor(FINAL$Engine_Capacity_.CC.)\n",
    "FINAL$Propulsion_Code <- factor(FINAL$Propulsion_Code)\n",
    "FINAL$weekday <- factor(FINAL$weekday, levels = c('Sunday','Monday','Tuesday','Wednesday','Thursday','Friday','Saturday'))\n",
    "  "
   ]
  },
  {
   "cell_type": "markdown",
   "metadata": {},
   "source": [
    "## Here is the Final dataset which includes accidents + casualties + vehicles datasets"
   ]
  },
  {
   "cell_type": "code",
   "execution_count": 45,
   "metadata": {},
   "outputs": [
    {
     "name": "stdout",
     "output_type": "stream",
     "text": [
      "'data.frame':\t288498 obs. of  59 variables:\n",
      " $ Accident_Index                             : chr  \"200501BS00001\" \"200501BS00019\" \"200501BS00022\" \"200501BS70003\" ...\n",
      " $ Location_Easting_OSGR                      : int  525680 524680 526790 523910 524100 524830 525000 524730 524120 524290 ...\n",
      " $ Location_Northing_OSGR                     : int  178240 179450 178980 181390 181830 179160 180660 179110 180010 179420 ...\n",
      " $ Longitude                                  : num  -0.191 -0.205 -0.175 -0.216 -0.213 ...\n",
      " $ Latitude                                   : num  51.5 51.5 51.5 51.5 51.5 ...\n",
      " $ Police_Force                               : Factor w/ 51 levels \"1\",\"3\",\"4\",\"5\",..: 1 1 1 1 1 1 1 1 1 1 ...\n",
      " $ Accident_Severity                          : Factor w/ 2 levels \"1\",\"2\": 2 2 2 2 2 2 2 2 2 2 ...\n",
      " $ Number_of_Vehicles                         : int  1 2 1 2 1 2 2 2 2 2 ...\n",
      " $ Number_of_Casualties                       : int  1 1 1 2 1 1 1 1 1 1 ...\n",
      " $ Date                                       : Date, format: \"2005-01-04\" \"2005-01-20\" ...\n",
      " $ Day_of_Week                                : int  3 5 7 3 3 3 7 3 4 4 ...\n",
      " $ Time                                       : chr  \"17:42\" \"00:15\" \"03:00\" \"17:30\" ...\n",
      " $ Local_Authority_.District.                 : Factor w/ 416 levels \"1\",\"2\",\"3\",\"4\",..: 12 12 12 12 12 12 12 12 12 12 ...\n",
      " $ Local_Authority_.Highway.                  : Factor w/ 207 levels \"E06000001\",\"E06000002\",..: 112 112 112 112 112 112 112 112 112 112 ...\n",
      " $ X1st_Road_Class                            : Factor w/ 6 levels \"1\",\"2\",\"3\",\"4\",..: 3 6 3 4 4 3 4 3 3 3 ...\n",
      " $ X1st_Road_Number                           : int  3218 0 4 412 450 315 415 315 402 3220 ...\n",
      " $ Road_Type                                  : Factor w/ 6 levels \"1\",\"2\",\"3\",\"6\",..: 4 4 4 2 4 4 4 3 2 4 ...\n",
      " $ Speed_limit                                : int  30 30 30 30 30 30 30 30 30 30 ...\n",
      " $ Junction_Detail                            : Factor w/ 9 levels \"0\",\"1\",\"2\",\"3\",..: 1 4 4 3 1 1 4 6 4 1 ...\n",
      " $ Junction_Control                           : Factor w/ 5 levels \"0\",\"1\",\"2\",\"3\",..: NA 5 5 5 NA NA 5 3 3 NA ...\n",
      " $ X2nd_Road_Class                            : Factor w/ 6 levels \"1\",\"2\",\"3\",\"4\",..: NA 6 6 6 NA NA 6 3 5 NA ...\n",
      " $ X2nd_Road_Number                           : int  0 0 0 0 0 0 0 3220 0 0 ...\n",
      " $ Pedestrian_Crossing.Human_Control          : Factor w/ 3 levels \"0\",\"1\",\"2\": 1 1 1 1 1 1 1 1 1 1 ...\n",
      " $ Pedestrian_Crossing.Physical_Facilities    : Factor w/ 6 levels \"0\",\"1\",\"4\",\"5\",..: 2 1 1 1 2 1 1 4 4 1 ...\n",
      " $ Light_Conditions                           : Factor w/ 5 levels \"1\",\"4\",\"5\",\"6\",..: 1 2 2 2 2 2 2 1 1 2 ...\n",
      " $ Weather_Conditions                         : Factor w/ 9 levels \"1\",\"2\",\"3\",\"4\",..: 2 1 1 2 1 2 2 1 1 1 ...\n",
      " $ Road_Surface_Conditions                    : Factor w/ 5 levels \"1\",\"2\",\"3\",\"4\",..: 2 1 1 2 1 2 2 1 1 1 ...\n",
      " $ Special_Conditions_at_Site                 : Factor w/ 8 levels \"0\",\"1\",\"2\",\"3\",..: 1 1 1 1 1 1 1 1 1 1 ...\n",
      " $ Carriageway_Hazards                        : Factor w/ 6 levels \"0\",\"1\",\"2\",\"3\",..: 1 1 1 1 1 1 1 1 1 1 ...\n",
      " $ Urban_or_Rural_Area                        : Factor w/ 3 levels \"1\",\"2\",\"3\": 1 1 1 1 1 1 1 1 1 1 ...\n",
      " $ Did_Police_Officer_Attend_Scene_of_Accident: Factor w/ 3 levels \"1\",\"2\",\"3\": 1 1 1 1 1 2 1 1 1 1 ...\n",
      " $ LSOA_of_Accident_Location                  : chr  \"E01002849\" \"E01002864\" \"E01002821\" \"E01002878\" ...\n",
      " $ data_year                                  : chr  \"0514\" \"0514\" \"0514\" \"0514\" ...\n",
      " $ Month                                      : Factor w/ 12 levels \"January\",\"February\",..: 1 1 1 2 2 3 3 3 3 3 ...\n",
      " $ weekday                                    : Factor w/ 7 levels \"Sunday\",\"Monday\",..: 3 5 7 3 3 3 7 3 4 4 ...\n",
      " $ timezone                                   : Factor w/ 4 levels \"early morning\",..: 3 1 1 3 4 4 4 2 2 4 ...\n",
      " $ Year                                       : Factor w/ 12 levels \"2005\",\"2006\",..: 1 1 1 1 1 1 1 1 1 1 ...\n",
      " $ Casualty_Class                             : Factor w/ 3 levels \"1\",\"2\",\"3\": 3 1 3 1 3 1 1 2 1 1 ...\n",
      " $ Sex_of_Casualty                            : Factor w/ 2 levels \"1\",\"2\": 1 1 1 1 1 1 1 1 2 1 ...\n",
      " $ Age_of_Casualty                            : int  37 54 NA 28 NA 31 74 42 44 33 ...\n",
      " $ Age_Band_of_Casualty                       : Factor w/ 11 levels \"1\",\"2\",\"3\",\"4\",..: 7 8 NA 6 NA 6 10 7 7 6 ...\n",
      " $ Casualty_Severity                          : Factor w/ 2 levels \"1\",\"2\": 2 2 2 2 2 2 2 2 2 2 ...\n",
      " $ Pedestrian_Movement                        : Factor w/ 10 levels \"0\",\"1\",\"2\",\"3\",..: 2 1 2 1 2 1 1 1 1 1 ...\n",
      " $ Casualty_Type                              : Factor w/ 21 levels \"0\",\"1\",\"2\",\"3\",..: 1 6 1 6 1 3 2 10 2 4 ...\n",
      " $ Vehicle_Type                               : Factor w/ 20 levels \"1\",\"2\",\"3\",\"4\",..: 7 5 7 3 5 2 6 9 7 3 ...\n",
      " $ Vehicle_Manoeuvre                          : Factor w/ 18 levels \"1\",\"2\",\"3\",\"4\",..: 18 18 18 18 18 14 18 3 18 13 ...\n",
      " $ Vehicle_Location.Restricted_Lane           : Factor w/ 10 levels \"0\",\"1\",\"2\",\"3\",..: 1 1 1 1 1 1 1 1 1 1 ...\n",
      " $ Junction_Location                          : Factor w/ 9 levels \"0\",\"1\",\"2\",\"3\",..: 1 9 2 9 1 1 2 9 9 1 ...\n",
      " $ Skidding_and_Overturning                   : Factor w/ 6 levels \"0\",\"1\",\"2\",\"3\",..: 1 1 1 1 1 1 1 1 1 1 ...\n",
      " $ Hit_Object_in_Carriageway                  : Factor w/ 12 levels \"0\",\"1\",\"2\",\"4\",..: 1 1 1 1 1 8 1 1 1 1 ...\n",
      " $ X1st_Point_of_Impact                       : Factor w/ 5 levels \"0\",\"1\",\"2\",\"3\",..: 2 2 2 2 2 5 2 1 2 2 ...\n",
      " $ Was_Vehicle_Left_Hand_Drive.               : Factor w/ 2 levels \"1\",\"2\": 1 1 1 1 1 1 1 1 1 1 ...\n",
      " $ Journey_Purpose_of_Driver                  : Factor w/ 7 levels \"1\",\"2\",\"3\",\"4\",..: 7 7 7 7 7 7 7 7 7 7 ...\n",
      " $ Sex_of_Driver                              : Factor w/ 3 levels \"1\",\"2\",\"3\": 2 1 1 1 1 1 1 1 2 1 ...\n",
      " $ Age_of_Driver                              : int  74 54 28 24 25 31 34 54 57 33 ...\n",
      " $ Age_Band_of_Driver                         : Factor w/ 11 levels \"1\",\"2\",\"3\",\"4\",..: 10 8 6 5 5 6 6 8 9 6 ...\n",
      " $ Engine_Capacity_.CC.                       : Factor w/ 1525 levels \"1\",\"4\",\"6\",\"10\",..: NA 207 748 50 207 14 NA 1365 700 50 ...\n",
      " $ Propulsion_Code                            : Factor w/ 11 levels \"1\",\"2\",\"3\",\"4\",..: NA 1 1 1 1 1 NA 2 1 1 ...\n",
      " $ Age_of_Vehicle                             : int  NA 6 1 3 7 2 NA 3 4 2 ...\n"
     ]
    }
   ],
   "source": [
    "# Let's examine the structure of FINAL dataset\n",
    "\n",
    "str(FINAL)"
   ]
  },
  {
   "cell_type": "code",
   "execution_count": 46,
   "metadata": {},
   "outputs": [
    {
     "data": {
      "text/html": [
       "<table>\n",
       "<thead><tr><th></th><th scope=col>Accident_Index</th><th scope=col>Location_Easting_OSGR</th><th scope=col>Location_Northing_OSGR</th><th scope=col>Longitude</th><th scope=col>Latitude</th><th scope=col>Police_Force</th><th scope=col>Accident_Severity</th><th scope=col>Number_of_Vehicles</th><th scope=col>Number_of_Casualties</th><th scope=col>Date</th><th scope=col>...</th><th scope=col>Hit_Object_in_Carriageway</th><th scope=col>X1st_Point_of_Impact</th><th scope=col>Was_Vehicle_Left_Hand_Drive.</th><th scope=col>Journey_Purpose_of_Driver</th><th scope=col>Sex_of_Driver</th><th scope=col>Age_of_Driver</th><th scope=col>Age_Band_of_Driver</th><th scope=col>Engine_Capacity_.CC.</th><th scope=col>Propulsion_Code</th><th scope=col>Age_of_Vehicle</th></tr></thead>\n",
       "<tbody>\n",
       "\t<tr><th scope=row>1</th><td>200501BS00001</td><td>525680       </td><td>178240       </td><td>-0.191170    </td><td>51.48910     </td><td>1            </td><td>2            </td><td>1            </td><td>1            </td><td>2005-01-04   </td><td>...          </td><td>0            </td><td>1            </td><td>1            </td><td>15           </td><td>2            </td><td>74           </td><td>10           </td><td>NA           </td><td>NA           </td><td>NA           </td></tr>\n",
       "\t<tr><th scope=row>17</th><td>200501BS00019</td><td>524680       </td><td>179450       </td><td>-0.205139    </td><td>51.50019     </td><td>1            </td><td>2            </td><td>2            </td><td>1            </td><td>2005-01-20   </td><td>...          </td><td>0            </td><td>1            </td><td>1            </td><td>15           </td><td>1            </td><td>54           </td><td>8            </td><td>599          </td><td>1            </td><td> 6           </td></tr>\n",
       "\t<tr><th scope=row>20</th><td>200501BS00022</td><td>526790       </td><td>178980       </td><td>-0.174925    </td><td>51.49550     </td><td>1            </td><td>2            </td><td>1            </td><td>1            </td><td>2005-01-08   </td><td>...          </td><td>0            </td><td>1            </td><td>1            </td><td>15           </td><td>1            </td><td>28           </td><td>6            </td><td>1997         </td><td>1            </td><td> 1           </td></tr>\n",
       "\t<tr><th scope=row>31</th><td>200501BS70003</td><td>523910       </td><td>181390       </td><td>-0.215545    </td><td>51.51780     </td><td>1            </td><td>2            </td><td>2            </td><td>2            </td><td>2005-02-01   </td><td>...          </td><td>0            </td><td>1            </td><td>1            </td><td>15           </td><td>1            </td><td>24           </td><td>5            </td><td>124          </td><td>1            </td><td> 3           </td></tr>\n",
       "\t<tr><th scope=row>53</th><td>200501BS70029</td><td>524100       </td><td>181830       </td><td>-0.212653    </td><td>51.52171     </td><td>1            </td><td>2            </td><td>1            </td><td>1            </td><td>2005-02-15   </td><td>...          </td><td>0            </td><td>1            </td><td>1            </td><td>15           </td><td>1            </td><td>25           </td><td>5            </td><td>599          </td><td>1            </td><td> 7           </td></tr>\n",
       "\t<tr><th scope=row>86</th><td>200501BS70066</td><td>524830       </td><td>179160       </td><td>-0.203081    </td><td>51.49755     </td><td>1            </td><td>2            </td><td>2            </td><td>1            </td><td>2005-03-01   </td><td>...          </td><td>8            </td><td>4            </td><td>1            </td><td>15           </td><td>1            </td><td>31           </td><td>6            </td><td>49           </td><td>1            </td><td> 2           </td></tr>\n",
       "</tbody>\n",
       "</table>\n"
      ],
      "text/latex": [
       "\\begin{tabular}{r|lllllllllllllllllllllllllllllllllllllllllllllllllllllllllll}\n",
       "  & Accident\\_Index & Location\\_Easting\\_OSGR & Location\\_Northing\\_OSGR & Longitude & Latitude & Police\\_Force & Accident\\_Severity & Number\\_of\\_Vehicles & Number\\_of\\_Casualties & Date & ... & Hit\\_Object\\_in\\_Carriageway & X1st\\_Point\\_of\\_Impact & Was\\_Vehicle\\_Left\\_Hand\\_Drive. & Journey\\_Purpose\\_of\\_Driver & Sex\\_of\\_Driver & Age\\_of\\_Driver & Age\\_Band\\_of\\_Driver & Engine\\_Capacity\\_.CC. & Propulsion\\_Code & Age\\_of\\_Vehicle\\\\\n",
       "\\hline\n",
       "\t1 & 200501BS00001 & 525680        & 178240        & -0.191170     & 51.48910      & 1             & 2             & 1             & 1             & 2005-01-04    & ...           & 0             & 1             & 1             & 15            & 2             & 74            & 10            & NA            & NA            & NA           \\\\\n",
       "\t17 & 200501BS00019 & 524680        & 179450        & -0.205139     & 51.50019      & 1             & 2             & 2             & 1             & 2005-01-20    & ...           & 0             & 1             & 1             & 15            & 1             & 54            & 8             & 599           & 1             &  6           \\\\\n",
       "\t20 & 200501BS00022 & 526790        & 178980        & -0.174925     & 51.49550      & 1             & 2             & 1             & 1             & 2005-01-08    & ...           & 0             & 1             & 1             & 15            & 1             & 28            & 6             & 1997          & 1             &  1           \\\\\n",
       "\t31 & 200501BS70003 & 523910        & 181390        & -0.215545     & 51.51780      & 1             & 2             & 2             & 2             & 2005-02-01    & ...           & 0             & 1             & 1             & 15            & 1             & 24            & 5             & 124           & 1             &  3           \\\\\n",
       "\t53 & 200501BS70029 & 524100        & 181830        & -0.212653     & 51.52171      & 1             & 2             & 1             & 1             & 2005-02-15    & ...           & 0             & 1             & 1             & 15            & 1             & 25            & 5             & 599           & 1             &  7           \\\\\n",
       "\t86 & 200501BS70066 & 524830        & 179160        & -0.203081     & 51.49755      & 1             & 2             & 2             & 1             & 2005-03-01    & ...           & 8             & 4             & 1             & 15            & 1             & 31            & 6             & 49            & 1             &  2           \\\\\n",
       "\\end{tabular}\n"
      ],
      "text/markdown": [
       "\n",
       "| <!--/--> | Accident_Index | Location_Easting_OSGR | Location_Northing_OSGR | Longitude | Latitude | Police_Force | Accident_Severity | Number_of_Vehicles | Number_of_Casualties | Date | ... | Hit_Object_in_Carriageway | X1st_Point_of_Impact | Was_Vehicle_Left_Hand_Drive. | Journey_Purpose_of_Driver | Sex_of_Driver | Age_of_Driver | Age_Band_of_Driver | Engine_Capacity_.CC. | Propulsion_Code | Age_of_Vehicle | \n",
       "|---|---|---|---|---|---|\n",
       "| 1 | 200501BS00001 | 525680        | 178240        | -0.191170     | 51.48910      | 1             | 2             | 1             | 1             | 2005-01-04    | ...           | 0             | 1             | 1             | 15            | 2             | 74            | 10            | NA            | NA            | NA            | \n",
       "| 17 | 200501BS00019 | 524680        | 179450        | -0.205139     | 51.50019      | 1             | 2             | 2             | 1             | 2005-01-20    | ...           | 0             | 1             | 1             | 15            | 1             | 54            | 8             | 599           | 1             |  6            | \n",
       "| 20 | 200501BS00022 | 526790        | 178980        | -0.174925     | 51.49550      | 1             | 2             | 1             | 1             | 2005-01-08    | ...           | 0             | 1             | 1             | 15            | 1             | 28            | 6             | 1997          | 1             |  1            | \n",
       "| 31 | 200501BS70003 | 523910        | 181390        | -0.215545     | 51.51780      | 1             | 2             | 2             | 2             | 2005-02-01    | ...           | 0             | 1             | 1             | 15            | 1             | 24            | 5             | 124           | 1             |  3            | \n",
       "| 53 | 200501BS70029 | 524100        | 181830        | -0.212653     | 51.52171      | 1             | 2             | 1             | 1             | 2005-02-15    | ...           | 0             | 1             | 1             | 15            | 1             | 25            | 5             | 599           | 1             |  7            | \n",
       "| 86 | 200501BS70066 | 524830        | 179160        | -0.203081     | 51.49755      | 1             | 2             | 2             | 1             | 2005-03-01    | ...           | 8             | 4             | 1             | 15            | 1             | 31            | 6             | 49            | 1             |  2            | \n",
       "\n",
       "\n"
      ],
      "text/plain": [
       "   Accident_Index Location_Easting_OSGR Location_Northing_OSGR Longitude\n",
       "1  200501BS00001  525680                178240                 -0.191170\n",
       "17 200501BS00019  524680                179450                 -0.205139\n",
       "20 200501BS00022  526790                178980                 -0.174925\n",
       "31 200501BS70003  523910                181390                 -0.215545\n",
       "53 200501BS70029  524100                181830                 -0.212653\n",
       "86 200501BS70066  524830                179160                 -0.203081\n",
       "   Latitude Police_Force Accident_Severity Number_of_Vehicles\n",
       "1  51.48910 1            2                 1                 \n",
       "17 51.50019 1            2                 2                 \n",
       "20 51.49550 1            2                 1                 \n",
       "31 51.51780 1            2                 2                 \n",
       "53 51.52171 1            2                 1                 \n",
       "86 51.49755 1            2                 2                 \n",
       "   Number_of_Casualties Date       ... Hit_Object_in_Carriageway\n",
       "1  1                    2005-01-04 ... 0                        \n",
       "17 1                    2005-01-20 ... 0                        \n",
       "20 1                    2005-01-08 ... 0                        \n",
       "31 2                    2005-02-01 ... 0                        \n",
       "53 1                    2005-02-15 ... 0                        \n",
       "86 1                    2005-03-01 ... 8                        \n",
       "   X1st_Point_of_Impact Was_Vehicle_Left_Hand_Drive. Journey_Purpose_of_Driver\n",
       "1  1                    1                            15                       \n",
       "17 1                    1                            15                       \n",
       "20 1                    1                            15                       \n",
       "31 1                    1                            15                       \n",
       "53 1                    1                            15                       \n",
       "86 4                    1                            15                       \n",
       "   Sex_of_Driver Age_of_Driver Age_Band_of_Driver Engine_Capacity_.CC.\n",
       "1  2             74            10                 NA                  \n",
       "17 1             54            8                  599                 \n",
       "20 1             28            6                  1997                \n",
       "31 1             24            5                  124                 \n",
       "53 1             25            5                  599                 \n",
       "86 1             31            6                  49                  \n",
       "   Propulsion_Code Age_of_Vehicle\n",
       "1  NA              NA            \n",
       "17 1                6            \n",
       "20 1                1            \n",
       "31 1                3            \n",
       "53 1                7            \n",
       "86 1                2            "
      ]
     },
     "metadata": {},
     "output_type": "display_data"
    }
   ],
   "source": [
    "# Let's examine first few rows of data\n",
    "\n",
    "head(FINAL)"
   ]
  },
  {
   "cell_type": "code",
   "execution_count": 47,
   "metadata": {},
   "outputs": [
    {
     "data": {
      "text/html": [
       "<table>\n",
       "<thead><tr><th></th><th scope=col>na_count</th></tr></thead>\n",
       "<tbody>\n",
       "\t<tr><th scope=row>Accident_Index</th><td>     0</td></tr>\n",
       "\t<tr><th scope=row>Location_Easting_OSGR</th><td>    23</td></tr>\n",
       "\t<tr><th scope=row>Location_Northing_OSGR</th><td>    23</td></tr>\n",
       "\t<tr><th scope=row>Longitude</th><td>    23</td></tr>\n",
       "\t<tr><th scope=row>Latitude</th><td>    23</td></tr>\n",
       "\t<tr><th scope=row>Police_Force</th><td>     0</td></tr>\n",
       "\t<tr><th scope=row>Accident_Severity</th><td>     0</td></tr>\n",
       "\t<tr><th scope=row>Number_of_Vehicles</th><td>     0</td></tr>\n",
       "\t<tr><th scope=row>Number_of_Casualties</th><td>     0</td></tr>\n",
       "\t<tr><th scope=row>Date</th><td>     0</td></tr>\n",
       "\t<tr><th scope=row>Day_of_Week</th><td>     0</td></tr>\n",
       "\t<tr><th scope=row>Time</th><td>     0</td></tr>\n",
       "\t<tr><th scope=row>Local_Authority_.District.</th><td>     0</td></tr>\n",
       "\t<tr><th scope=row>Local_Authority_.Highway.</th><td>     0</td></tr>\n",
       "\t<tr><th scope=row>X1st_Road_Class</th><td>     0</td></tr>\n",
       "\t<tr><th scope=row>X1st_Road_Number</th><td>     0</td></tr>\n",
       "\t<tr><th scope=row>Road_Type</th><td>     0</td></tr>\n",
       "\t<tr><th scope=row>Speed_limit</th><td>     3</td></tr>\n",
       "\t<tr><th scope=row>Junction_Detail</th><td>     8</td></tr>\n",
       "\t<tr><th scope=row>Junction_Control</th><td>126144</td></tr>\n",
       "\t<tr><th scope=row>X2nd_Road_Class</th><td>141825</td></tr>\n",
       "\t<tr><th scope=row>X2nd_Road_Number</th><td>  2646</td></tr>\n",
       "\t<tr><th scope=row>Pedestrian_Crossing.Human_Control</th><td>    52</td></tr>\n",
       "\t<tr><th scope=row>Pedestrian_Crossing.Physical_Facilities</th><td>    75</td></tr>\n",
       "\t<tr><th scope=row>Light_Conditions</th><td>     1</td></tr>\n",
       "\t<tr><th scope=row>Weather_Conditions</th><td>    18</td></tr>\n",
       "\t<tr><th scope=row>Road_Surface_Conditions</th><td>   334</td></tr>\n",
       "\t<tr><th scope=row>Special_Conditions_at_Site</th><td>    44</td></tr>\n",
       "\t<tr><th scope=row>Carriageway_Hazards</th><td>    53</td></tr>\n",
       "\t<tr><th scope=row>Urban_or_Rural_Area</th><td>     0</td></tr>\n",
       "\t<tr><th scope=row>Did_Police_Officer_Attend_Scene_of_Accident</th><td>    54</td></tr>\n",
       "\t<tr><th scope=row>LSOA_of_Accident_Location</th><td> 25354</td></tr>\n",
       "\t<tr><th scope=row>data_year</th><td>     0</td></tr>\n",
       "\t<tr><th scope=row>Month</th><td>     0</td></tr>\n",
       "\t<tr><th scope=row>weekday</th><td>     0</td></tr>\n",
       "\t<tr><th scope=row>timezone</th><td>    30</td></tr>\n",
       "\t<tr><th scope=row>Year</th><td>     0</td></tr>\n",
       "\t<tr><th scope=row>Casualty_Class</th><td>     0</td></tr>\n",
       "\t<tr><th scope=row>Sex_of_Casualty</th><td>    35</td></tr>\n",
       "\t<tr><th scope=row>Age_of_Casualty</th><td>  3654</td></tr>\n",
       "\t<tr><th scope=row>Age_Band_of_Casualty</th><td>  3654</td></tr>\n",
       "\t<tr><th scope=row>Casualty_Severity</th><td>     0</td></tr>\n",
       "\t<tr><th scope=row>Pedestrian_Movement</th><td>     8</td></tr>\n",
       "\t<tr><th scope=row>Casualty_Type</th><td>     0</td></tr>\n",
       "\t<tr><th scope=row>Vehicle_Type</th><td>    75</td></tr>\n",
       "\t<tr><th scope=row>Vehicle_Manoeuvre</th><td>   116</td></tr>\n",
       "\t<tr><th scope=row>Vehicle_Location.Restricted_Lane</th><td>    56</td></tr>\n",
       "\t<tr><th scope=row>Junction_Location</th><td>   627</td></tr>\n",
       "\t<tr><th scope=row>Skidding_and_Overturning</th><td>    50</td></tr>\n",
       "\t<tr><th scope=row>Hit_Object_in_Carriageway</th><td>    82</td></tr>\n",
       "\t<tr><th scope=row>X1st_Point_of_Impact</th><td>   134</td></tr>\n",
       "\t<tr><th scope=row>Was_Vehicle_Left_Hand_Drive.</th><td>  1626</td></tr>\n",
       "\t<tr><th scope=row>Journey_Purpose_of_Driver</th><td>  2807</td></tr>\n",
       "\t<tr><th scope=row>Sex_of_Driver</th><td>     1</td></tr>\n",
       "\t<tr><th scope=row>Age_of_Driver</th><td> 19817</td></tr>\n",
       "\t<tr><th scope=row>Age_Band_of_Driver</th><td> 19817</td></tr>\n",
       "\t<tr><th scope=row>Engine_Capacity_.CC.</th><td> 69213</td></tr>\n",
       "\t<tr><th scope=row>Propulsion_Code</th><td> 67517</td></tr>\n",
       "\t<tr><th scope=row>Age_of_Vehicle</th><td> 78321</td></tr>\n",
       "</tbody>\n",
       "</table>\n"
      ],
      "text/latex": [
       "\\begin{tabular}{r|l}\n",
       "  & na\\_count\\\\\n",
       "\\hline\n",
       "\tAccident\\_Index &      0\\\\\n",
       "\tLocation\\_Easting\\_OSGR &     23\\\\\n",
       "\tLocation\\_Northing\\_OSGR &     23\\\\\n",
       "\tLongitude &     23\\\\\n",
       "\tLatitude &     23\\\\\n",
       "\tPolice\\_Force &      0\\\\\n",
       "\tAccident\\_Severity &      0\\\\\n",
       "\tNumber\\_of\\_Vehicles &      0\\\\\n",
       "\tNumber\\_of\\_Casualties &      0\\\\\n",
       "\tDate &      0\\\\\n",
       "\tDay\\_of\\_Week &      0\\\\\n",
       "\tTime &      0\\\\\n",
       "\tLocal\\_Authority\\_.District. &      0\\\\\n",
       "\tLocal\\_Authority\\_.Highway. &      0\\\\\n",
       "\tX1st\\_Road\\_Class &      0\\\\\n",
       "\tX1st\\_Road\\_Number &      0\\\\\n",
       "\tRoad\\_Type &      0\\\\\n",
       "\tSpeed\\_limit &      3\\\\\n",
       "\tJunction\\_Detail &      8\\\\\n",
       "\tJunction\\_Control & 126144\\\\\n",
       "\tX2nd\\_Road\\_Class & 141825\\\\\n",
       "\tX2nd\\_Road\\_Number &   2646\\\\\n",
       "\tPedestrian\\_Crossing.Human\\_Control &     52\\\\\n",
       "\tPedestrian\\_Crossing.Physical\\_Facilities &     75\\\\\n",
       "\tLight\\_Conditions &      1\\\\\n",
       "\tWeather\\_Conditions &     18\\\\\n",
       "\tRoad\\_Surface\\_Conditions &    334\\\\\n",
       "\tSpecial\\_Conditions\\_at\\_Site &     44\\\\\n",
       "\tCarriageway\\_Hazards &     53\\\\\n",
       "\tUrban\\_or\\_Rural\\_Area &      0\\\\\n",
       "\tDid\\_Police\\_Officer\\_Attend\\_Scene\\_of\\_Accident &     54\\\\\n",
       "\tLSOA\\_of\\_Accident\\_Location &  25354\\\\\n",
       "\tdata\\_year &      0\\\\\n",
       "\tMonth &      0\\\\\n",
       "\tweekday &      0\\\\\n",
       "\ttimezone &     30\\\\\n",
       "\tYear &      0\\\\\n",
       "\tCasualty\\_Class &      0\\\\\n",
       "\tSex\\_of\\_Casualty &     35\\\\\n",
       "\tAge\\_of\\_Casualty &   3654\\\\\n",
       "\tAge\\_Band\\_of\\_Casualty &   3654\\\\\n",
       "\tCasualty\\_Severity &      0\\\\\n",
       "\tPedestrian\\_Movement &      8\\\\\n",
       "\tCasualty\\_Type &      0\\\\\n",
       "\tVehicle\\_Type &     75\\\\\n",
       "\tVehicle\\_Manoeuvre &    116\\\\\n",
       "\tVehicle\\_Location.Restricted\\_Lane &     56\\\\\n",
       "\tJunction\\_Location &    627\\\\\n",
       "\tSkidding\\_and\\_Overturning &     50\\\\\n",
       "\tHit\\_Object\\_in\\_Carriageway &     82\\\\\n",
       "\tX1st\\_Point\\_of\\_Impact &    134\\\\\n",
       "\tWas\\_Vehicle\\_Left\\_Hand\\_Drive. &   1626\\\\\n",
       "\tJourney\\_Purpose\\_of\\_Driver &   2807\\\\\n",
       "\tSex\\_of\\_Driver &      1\\\\\n",
       "\tAge\\_of\\_Driver &  19817\\\\\n",
       "\tAge\\_Band\\_of\\_Driver &  19817\\\\\n",
       "\tEngine\\_Capacity\\_.CC. &  69213\\\\\n",
       "\tPropulsion\\_Code &  67517\\\\\n",
       "\tAge\\_of\\_Vehicle &  78321\\\\\n",
       "\\end{tabular}\n"
      ],
      "text/markdown": [
       "\n",
       "| <!--/--> | na_count | \n",
       "|---|---|---|---|---|---|---|---|---|---|---|---|---|---|---|---|---|---|---|---|---|---|---|---|---|---|---|---|---|---|---|---|---|---|---|---|---|---|---|---|---|---|---|---|---|---|---|---|---|---|---|---|---|---|---|---|---|---|---|\n",
       "| Accident_Index |      0 | \n",
       "| Location_Easting_OSGR |     23 | \n",
       "| Location_Northing_OSGR |     23 | \n",
       "| Longitude |     23 | \n",
       "| Latitude |     23 | \n",
       "| Police_Force |      0 | \n",
       "| Accident_Severity |      0 | \n",
       "| Number_of_Vehicles |      0 | \n",
       "| Number_of_Casualties |      0 | \n",
       "| Date |      0 | \n",
       "| Day_of_Week |      0 | \n",
       "| Time |      0 | \n",
       "| Local_Authority_.District. |      0 | \n",
       "| Local_Authority_.Highway. |      0 | \n",
       "| X1st_Road_Class |      0 | \n",
       "| X1st_Road_Number |      0 | \n",
       "| Road_Type |      0 | \n",
       "| Speed_limit |      3 | \n",
       "| Junction_Detail |      8 | \n",
       "| Junction_Control | 126144 | \n",
       "| X2nd_Road_Class | 141825 | \n",
       "| X2nd_Road_Number |   2646 | \n",
       "| Pedestrian_Crossing.Human_Control |     52 | \n",
       "| Pedestrian_Crossing.Physical_Facilities |     75 | \n",
       "| Light_Conditions |      1 | \n",
       "| Weather_Conditions |     18 | \n",
       "| Road_Surface_Conditions |    334 | \n",
       "| Special_Conditions_at_Site |     44 | \n",
       "| Carriageway_Hazards |     53 | \n",
       "| Urban_or_Rural_Area |      0 | \n",
       "| Did_Police_Officer_Attend_Scene_of_Accident |     54 | \n",
       "| LSOA_of_Accident_Location |  25354 | \n",
       "| data_year |      0 | \n",
       "| Month |      0 | \n",
       "| weekday |      0 | \n",
       "| timezone |     30 | \n",
       "| Year |      0 | \n",
       "| Casualty_Class |      0 | \n",
       "| Sex_of_Casualty |     35 | \n",
       "| Age_of_Casualty |   3654 | \n",
       "| Age_Band_of_Casualty |   3654 | \n",
       "| Casualty_Severity |      0 | \n",
       "| Pedestrian_Movement |      8 | \n",
       "| Casualty_Type |      0 | \n",
       "| Vehicle_Type |     75 | \n",
       "| Vehicle_Manoeuvre |    116 | \n",
       "| Vehicle_Location.Restricted_Lane |     56 | \n",
       "| Junction_Location |    627 | \n",
       "| Skidding_and_Overturning |     50 | \n",
       "| Hit_Object_in_Carriageway |     82 | \n",
       "| X1st_Point_of_Impact |    134 | \n",
       "| Was_Vehicle_Left_Hand_Drive. |   1626 | \n",
       "| Journey_Purpose_of_Driver |   2807 | \n",
       "| Sex_of_Driver |      1 | \n",
       "| Age_of_Driver |  19817 | \n",
       "| Age_Band_of_Driver |  19817 | \n",
       "| Engine_Capacity_.CC. |  69213 | \n",
       "| Propulsion_Code |  67517 | \n",
       "| Age_of_Vehicle |  78321 | \n",
       "\n",
       "\n"
      ],
      "text/plain": [
       "                                            na_count\n",
       "Accident_Index                                   0  \n",
       "Location_Easting_OSGR                           23  \n",
       "Location_Northing_OSGR                          23  \n",
       "Longitude                                       23  \n",
       "Latitude                                        23  \n",
       "Police_Force                                     0  \n",
       "Accident_Severity                                0  \n",
       "Number_of_Vehicles                               0  \n",
       "Number_of_Casualties                             0  \n",
       "Date                                             0  \n",
       "Day_of_Week                                      0  \n",
       "Time                                             0  \n",
       "Local_Authority_.District.                       0  \n",
       "Local_Authority_.Highway.                        0  \n",
       "X1st_Road_Class                                  0  \n",
       "X1st_Road_Number                                 0  \n",
       "Road_Type                                        0  \n",
       "Speed_limit                                      3  \n",
       "Junction_Detail                                  8  \n",
       "Junction_Control                            126144  \n",
       "X2nd_Road_Class                             141825  \n",
       "X2nd_Road_Number                              2646  \n",
       "Pedestrian_Crossing.Human_Control               52  \n",
       "Pedestrian_Crossing.Physical_Facilities         75  \n",
       "Light_Conditions                                 1  \n",
       "Weather_Conditions                              18  \n",
       "Road_Surface_Conditions                        334  \n",
       "Special_Conditions_at_Site                      44  \n",
       "Carriageway_Hazards                             53  \n",
       "Urban_or_Rural_Area                              0  \n",
       "Did_Police_Officer_Attend_Scene_of_Accident     54  \n",
       "LSOA_of_Accident_Location                    25354  \n",
       "data_year                                        0  \n",
       "Month                                            0  \n",
       "weekday                                          0  \n",
       "timezone                                        30  \n",
       "Year                                             0  \n",
       "Casualty_Class                                   0  \n",
       "Sex_of_Casualty                                 35  \n",
       "Age_of_Casualty                               3654  \n",
       "Age_Band_of_Casualty                          3654  \n",
       "Casualty_Severity                                0  \n",
       "Pedestrian_Movement                              8  \n",
       "Casualty_Type                                    0  \n",
       "Vehicle_Type                                    75  \n",
       "Vehicle_Manoeuvre                              116  \n",
       "Vehicle_Location.Restricted_Lane                56  \n",
       "Junction_Location                              627  \n",
       "Skidding_and_Overturning                        50  \n",
       "Hit_Object_in_Carriageway                       82  \n",
       "X1st_Point_of_Impact                           134  \n",
       "Was_Vehicle_Left_Hand_Drive.                  1626  \n",
       "Journey_Purpose_of_Driver                     2807  \n",
       "Sex_of_Driver                                    1  \n",
       "Age_of_Driver                                19817  \n",
       "Age_Band_of_Driver                           19817  \n",
       "Engine_Capacity_.CC.                         69213  \n",
       "Propulsion_Code                              67517  \n",
       "Age_of_Vehicle                               78321  "
      ]
     },
     "metadata": {},
     "output_type": "display_data"
    }
   ],
   "source": [
    "# Find missing values in FINAL dataset\n",
    "\n",
    "na_count <-sapply(FINAL, function(y) sum(length(which(is.na(y)))))\n",
    "na_count <- data.frame(na_count)\n",
    "na_count"
   ]
  },
  {
   "cell_type": "markdown",
   "metadata": {},
   "source": [
    "## Plotting accidents trend by year, month, weekday and timezones"
   ]
  },
  {
   "cell_type": "code",
   "execution_count": 48,
   "metadata": {},
   "outputs": [
    {
     "data": {
      "text/html": [
       "<table>\n",
       "<thead><tr><th scope=col>year</th><th scope=col>Accident_Severity</th><th scope=col>Freq</th></tr></thead>\n",
       "<tbody>\n",
       "\t<tr><td>2005 </td><td>Fatal</td><td>2913 </td></tr>\n",
       "\t<tr><td>2006 </td><td>Fatal</td><td>2926 </td></tr>\n",
       "\t<tr><td>2007 </td><td>Fatal</td><td>2714 </td></tr>\n",
       "\t<tr><td>2008 </td><td>Fatal</td><td>2341 </td></tr>\n",
       "\t<tr><td>2009 </td><td>Fatal</td><td>2057 </td></tr>\n",
       "\t<tr><td>2010 </td><td>Fatal</td><td>1731 </td></tr>\n",
       "</tbody>\n",
       "</table>\n"
      ],
      "text/latex": [
       "\\begin{tabular}{r|lll}\n",
       " year & Accident\\_Severity & Freq\\\\\n",
       "\\hline\n",
       "\t 2005  & Fatal & 2913 \\\\\n",
       "\t 2006  & Fatal & 2926 \\\\\n",
       "\t 2007  & Fatal & 2714 \\\\\n",
       "\t 2008  & Fatal & 2341 \\\\\n",
       "\t 2009  & Fatal & 2057 \\\\\n",
       "\t 2010  & Fatal & 1731 \\\\\n",
       "\\end{tabular}\n"
      ],
      "text/markdown": [
       "\n",
       "year | Accident_Severity | Freq | \n",
       "|---|---|---|---|---|---|\n",
       "| 2005  | Fatal | 2913  | \n",
       "| 2006  | Fatal | 2926  | \n",
       "| 2007  | Fatal | 2714  | \n",
       "| 2008  | Fatal | 2341  | \n",
       "| 2009  | Fatal | 2057  | \n",
       "| 2010  | Fatal | 1731  | \n",
       "\n",
       "\n"
      ],
      "text/plain": [
       "  year Accident_Severity Freq\n",
       "1 2005 Fatal             2913\n",
       "2 2006 Fatal             2926\n",
       "3 2007 Fatal             2714\n",
       "4 2008 Fatal             2341\n",
       "5 2009 Fatal             2057\n",
       "6 2010 Fatal             1731"
      ]
     },
     "metadata": {},
     "output_type": "display_data"
    }
   ],
   "source": [
    "# Aggregate accidents (fatal + serious) by year\n",
    "\n",
    "by_year <- table(FINAL$Year, FINAL$Accident_Severity)\n",
    "\n",
    "colnames(by_year) <- c('Fatal','Serious')\n",
    "\n",
    "by_year <- data.frame(by_year)\n",
    "colnames(by_year) <- c('year','Accident_Severity','Freq')\n",
    "\n",
    "head(by_year)\n"
   ]
  },
  {
   "cell_type": "code",
   "execution_count": 49,
   "metadata": {},
   "outputs": [
    {
     "name": "stderr",
     "output_type": "stream",
     "text": [
      "Loading required package: repr\n"
     ]
    },
    {
     "data": {},
     "metadata": {},
     "output_type": "display_data"
    },
    {
     "data": {
      "image/png": "[encoded data removed]"
     },
     "metadata": {},
     "output_type": "display_data"
    }
   ],
   "source": [
    "# Plot accidents by year\n",
    "\n",
    "require(repr)\n",
    "options(repr.plot.width = 8, repr.plot.height = 4)\n",
    "\n",
    "library(ggplot2)\n",
    "\n",
    "ggplot(aes(year,Freq, group=Accident_Severity, color=Accident_Severity),data=by_year) +\n",
    "    geom_line() +\n",
    "    geom_point() +\n",
    "    scale_y_continuous(limits=c(0,26000), breaks = seq(0,26000,2000)) +\n",
    "    ylab('Number of accidents') +\n",
    "    ggtitle('Accidents by Year') +\n",
    "    theme(plot.title = element_text(hjust = 0.5))\n",
    "    "
   ]
  },
  {
   "cell_type": "markdown",
   "metadata": {},
   "source": [
    "- **Fatal accidents** declined from 2005 - 2010 and seems to be consistent since then.\n",
    "- **Serious accidents** also followed a declining trend from 2005 - 2010, remained almost consistent till 2012 and declined in 2013. 2016 recorded high again."
   ]
  },
  {
   "cell_type": "code",
   "execution_count": 50,
   "metadata": {},
   "outputs": [
    {
     "data": {
      "text/html": [
       "<table>\n",
       "<thead><tr><th scope=col>Month</th><th scope=col>Accident_Severity</th><th scope=col>Freq</th></tr></thead>\n",
       "<tbody>\n",
       "\t<tr><td>January </td><td>Fatal   </td><td>2008    </td></tr>\n",
       "\t<tr><td>February</td><td>Fatal   </td><td>1747    </td></tr>\n",
       "\t<tr><td>March   </td><td>Fatal   </td><td>1875    </td></tr>\n",
       "\t<tr><td>April   </td><td>Fatal   </td><td>1922    </td></tr>\n",
       "\t<tr><td>May     </td><td>Fatal   </td><td>2048    </td></tr>\n",
       "\t<tr><td>June    </td><td>Fatal   </td><td>2003    </td></tr>\n",
       "</tbody>\n",
       "</table>\n"
      ],
      "text/latex": [
       "\\begin{tabular}{r|lll}\n",
       " Month & Accident\\_Severity & Freq\\\\\n",
       "\\hline\n",
       "\t January  & Fatal    & 2008    \\\\\n",
       "\t February & Fatal    & 1747    \\\\\n",
       "\t March    & Fatal    & 1875    \\\\\n",
       "\t April    & Fatal    & 1922    \\\\\n",
       "\t May      & Fatal    & 2048    \\\\\n",
       "\t June     & Fatal    & 2003    \\\\\n",
       "\\end{tabular}\n"
      ],
      "text/markdown": [
       "\n",
       "Month | Accident_Severity | Freq | \n",
       "|---|---|---|---|---|---|\n",
       "| January  | Fatal    | 2008     | \n",
       "| February | Fatal    | 1747     | \n",
       "| March    | Fatal    | 1875     | \n",
       "| April    | Fatal    | 1922     | \n",
       "| May      | Fatal    | 2048     | \n",
       "| June     | Fatal    | 2003     | \n",
       "\n",
       "\n"
      ],
      "text/plain": [
       "  Month    Accident_Severity Freq\n",
       "1 January  Fatal             2008\n",
       "2 February Fatal             1747\n",
       "3 March    Fatal             1875\n",
       "4 April    Fatal             1922\n",
       "5 May      Fatal             2048\n",
       "6 June     Fatal             2003"
      ]
     },
     "metadata": {},
     "output_type": "display_data"
    }
   ],
   "source": [
    "# Aggregate accidents (fatal + serious) by month\n",
    "\n",
    "by_month <- table(FINAL$Month, FINAL$Accident_Severity)\n",
    "\n",
    "colnames(by_month) <- c('Fatal','Serious')\n",
    "\n",
    "by_month <- data.frame(by_month)\n",
    "colnames(by_month) <- c('Month','Accident_Severity','Freq')\n",
    "\n",
    "head(by_month)"
   ]
  },
  {
   "cell_type": "code",
   "execution_count": 51,
   "metadata": {},
   "outputs": [
    {
     "data": {},
     "metadata": {},
     "output_type": "display_data"
    },
    {
     "data": {
      "image/png": "[encoded data removed]"
     },
     "metadata": {},
     "output_type": "display_data"
    }
   ],
   "source": [
    "# Plot accidents by Month\n",
    "\n",
    "require(repr)\n",
    "options(repr.plot.width = 6, repr.plot.height = 4)\n",
    "\n",
    "library(ggplot2)\n",
    "\n",
    "ggplot(aes(Month,Freq, group=Accident_Severity, color=Accident_Severity),data=by_month) +\n",
    "    geom_line() +\n",
    "    geom_point() +\n",
    "    scale_y_continuous(limits=c(0,26000), breaks = seq(0,26000,2000)) +\n",
    "    ylab('Number of accidents') +\n",
    "    ggtitle('Accidents by Month') +\n",
    "    theme(axis.text.x = element_text(angle=45, hjust=1)) +\n",
    "    theme(plot.title = element_text(hjust = 0.5))"
   ]
  },
  {
   "cell_type": "markdown",
   "metadata": {},
   "source": [
    "- **February** month recorded lowest Serious accidents.\n",
    "- **March - July** recorded increasing trend in Serious accidents\n",
    "- **August - December** showed a decreasing trend in Serious accidents\n",
    "- **Fatal accidents** remained alomost consistent accross months. Showing a slight decline in **February** month."
   ]
  },
  {
   "cell_type": "code",
   "execution_count": 52,
   "metadata": {},
   "outputs": [
    {
     "data": {
      "text/html": [
       "<table>\n",
       "<thead><tr><th scope=col>weekday</th><th scope=col>Accident_Severity</th><th scope=col>Freq</th></tr></thead>\n",
       "<tbody>\n",
       "\t<tr><td>Sunday   </td><td>Fatal    </td><td>3908     </td></tr>\n",
       "\t<tr><td>Monday   </td><td>Fatal    </td><td>3173     </td></tr>\n",
       "\t<tr><td>Tuesday  </td><td>Fatal    </td><td>3172     </td></tr>\n",
       "\t<tr><td>Wednesday</td><td>Fatal    </td><td>3132     </td></tr>\n",
       "\t<tr><td>Thursday </td><td>Fatal    </td><td>3287     </td></tr>\n",
       "\t<tr><td>Friday   </td><td>Fatal    </td><td>3784     </td></tr>\n",
       "</tbody>\n",
       "</table>\n"
      ],
      "text/latex": [
       "\\begin{tabular}{r|lll}\n",
       " weekday & Accident\\_Severity & Freq\\\\\n",
       "\\hline\n",
       "\t Sunday    & Fatal     & 3908     \\\\\n",
       "\t Monday    & Fatal     & 3173     \\\\\n",
       "\t Tuesday   & Fatal     & 3172     \\\\\n",
       "\t Wednesday & Fatal     & 3132     \\\\\n",
       "\t Thursday  & Fatal     & 3287     \\\\\n",
       "\t Friday    & Fatal     & 3784     \\\\\n",
       "\\end{tabular}\n"
      ],
      "text/markdown": [
       "\n",
       "weekday | Accident_Severity | Freq | \n",
       "|---|---|---|---|---|---|\n",
       "| Sunday    | Fatal     | 3908      | \n",
       "| Monday    | Fatal     | 3173      | \n",
       "| Tuesday   | Fatal     | 3172      | \n",
       "| Wednesday | Fatal     | 3132      | \n",
       "| Thursday  | Fatal     | 3287      | \n",
       "| Friday    | Fatal     | 3784      | \n",
       "\n",
       "\n"
      ],
      "text/plain": [
       "  weekday   Accident_Severity Freq\n",
       "1 Sunday    Fatal             3908\n",
       "2 Monday    Fatal             3173\n",
       "3 Tuesday   Fatal             3172\n",
       "4 Wednesday Fatal             3132\n",
       "5 Thursday  Fatal             3287\n",
       "6 Friday    Fatal             3784"
      ]
     },
     "metadata": {},
     "output_type": "display_data"
    }
   ],
   "source": [
    "# Aggregate accidents (fatal + serious) by weekday\n",
    "\n",
    "by_weekday <- table(FINAL$weekday, FINAL$Accident_Severity)\n",
    "\n",
    "colnames(by_weekday) <- c('Fatal','Serious')\n",
    "\n",
    "by_weekday <- data.frame(by_weekday)\n",
    "colnames(by_weekday) <- c('weekday','Accident_Severity','Freq')\n",
    "\n",
    "head(by_weekday)"
   ]
  },
  {
   "cell_type": "code",
   "execution_count": 53,
   "metadata": {},
   "outputs": [
    {
     "data": {},
     "metadata": {},
     "output_type": "display_data"
    },
    {
     "data": {
      "image/png": "[encoded data removed]"
     },
     "metadata": {},
     "output_type": "display_data"
    }
   ],
   "source": [
    "# Plot accidents by Weekday\n",
    "\n",
    "require(repr)\n",
    "options(repr.plot.width = 6, repr.plot.height = 4)\n",
    "\n",
    "library(ggplot2)\n",
    "\n",
    "ggplot(aes(weekday,Freq, group=Accident_Severity, color=Accident_Severity),data=by_weekday) +\n",
    "    geom_line() +\n",
    "    geom_point() +\n",
    "    scale_y_continuous(limits=c(0,45000), breaks = seq(0,45000,5000)) +\n",
    "    ylab('Number of accidents') +\n",
    "    ggtitle('Accidents by Weekday') +\n",
    "    theme(axis.text.x = element_text(angle=45, hjust=1)) +\n",
    "    theme(plot.title = element_text(hjust = 0.5))"
   ]
  },
  {
   "cell_type": "markdown",
   "metadata": {},
   "source": [
    "- **Serious accidents** recorded highest on Friday - Is it due to weekend?\n",
    "- Whereas **Fatal accidents** recorded slightly high on **Friday, Saturday and Sunday** and remained almost consistent in weekdays."
   ]
  },
  {
   "cell_type": "code",
   "execution_count": 54,
   "metadata": {},
   "outputs": [
    {
     "data": {
      "text/html": [
       "<table>\n",
       "<thead><tr><th scope=col>timezone</th><th scope=col>Accident_Severity</th><th scope=col>Freq</th></tr></thead>\n",
       "<tbody>\n",
       "\t<tr><td>early morning</td><td>Fatal        </td><td>  3621       </td></tr>\n",
       "\t<tr><td>morning      </td><td>Fatal        </td><td>  5660       </td></tr>\n",
       "\t<tr><td>afternoon    </td><td>Fatal        </td><td>  8434       </td></tr>\n",
       "\t<tr><td>evening      </td><td>Fatal        </td><td>  6976       </td></tr>\n",
       "\t<tr><td>early morning</td><td>Serious      </td><td> 20913       </td></tr>\n",
       "\t<tr><td>morning      </td><td>Serious      </td><td> 65437       </td></tr>\n",
       "\t<tr><td>afternoon    </td><td>Serious      </td><td>108221       </td></tr>\n",
       "\t<tr><td>evening      </td><td>Serious      </td><td> 69206       </td></tr>\n",
       "</tbody>\n",
       "</table>\n"
      ],
      "text/latex": [
       "\\begin{tabular}{r|lll}\n",
       " timezone & Accident\\_Severity & Freq\\\\\n",
       "\\hline\n",
       "\t early morning & Fatal         &   3621       \\\\\n",
       "\t morning       & Fatal         &   5660       \\\\\n",
       "\t afternoon     & Fatal         &   8434       \\\\\n",
       "\t evening       & Fatal         &   6976       \\\\\n",
       "\t early morning & Serious       &  20913       \\\\\n",
       "\t morning       & Serious       &  65437       \\\\\n",
       "\t afternoon     & Serious       & 108221       \\\\\n",
       "\t evening       & Serious       &  69206       \\\\\n",
       "\\end{tabular}\n"
      ],
      "text/markdown": [
       "\n",
       "timezone | Accident_Severity | Freq | \n",
       "|---|---|---|---|---|---|---|---|\n",
       "| early morning | Fatal         |   3621        | \n",
       "| morning       | Fatal         |   5660        | \n",
       "| afternoon     | Fatal         |   8434        | \n",
       "| evening       | Fatal         |   6976        | \n",
       "| early morning | Serious       |  20913        | \n",
       "| morning       | Serious       |  65437        | \n",
       "| afternoon     | Serious       | 108221        | \n",
       "| evening       | Serious       |  69206        | \n",
       "\n",
       "\n"
      ],
      "text/plain": [
       "  timezone      Accident_Severity Freq  \n",
       "1 early morning Fatal               3621\n",
       "2 morning       Fatal               5660\n",
       "3 afternoon     Fatal               8434\n",
       "4 evening       Fatal               6976\n",
       "5 early morning Serious            20913\n",
       "6 morning       Serious            65437\n",
       "7 afternoon     Serious           108221\n",
       "8 evening       Serious            69206"
      ]
     },
     "metadata": {},
     "output_type": "display_data"
    }
   ],
   "source": [
    "# Aggregate accidents (fatal + serious) by timezone\n",
    "\n",
    "by_timezone <- table(FINAL$timezone, FINAL$Accident_Severity)\n",
    "\n",
    "colnames(by_timezone) <- c('Fatal','Serious')\n",
    "\n",
    "by_timezone <- data.frame(by_timezone)\n",
    "colnames(by_timezone) <- c('timezone','Accident_Severity','Freq')\n",
    "\n",
    "by_timezone"
   ]
  },
  {
   "cell_type": "code",
   "execution_count": 55,
   "metadata": {},
   "outputs": [
    {
     "data": {},
     "metadata": {},
     "output_type": "display_data"
    },
    {
     "data": {
      "image/png": "[encoded data removed]"
     },
     "metadata": {},
     "output_type": "display_data"
    }
   ],
   "source": [
    "# Plot accidents by timezone\n",
    "\n",
    "## midnight to 6AM = early morning, 6AM - 12PM = morning, 12PM - 6PM = afternoon, 6PM - 12AM = evening\n",
    "\n",
    "require(repr)\n",
    "options(repr.plot.width = 6, repr.plot.height = 4)\n",
    "\n",
    "library(ggplot2)\n",
    "\n",
    "ggplot(aes(timezone,Freq, group=Accident_Severity, color=Accident_Severity),data=by_timezone) +\n",
    "    geom_line() +\n",
    "    geom_point() +\n",
    "    ylab('Number of accidents') +\n",
    "    ggtitle('Accidents by Timezone') +\n",
    "    theme(axis.text.x = element_text(angle=45, hjust=1)) +\n",
    "    theme(plot.title = element_text(hjust = 0.5))"
   ]
  },
  {
   "cell_type": "markdown",
   "metadata": {},
   "source": [
    "Both **Serious and Fatal** accidents seems to be high in afternoons (12PM - 6PM)"
   ]
  },
  {
   "cell_type": "markdown",
   "metadata": {},
   "source": [
    "## Exploring variables of interest to identify those which had influence on accidents"
   ]
  },
  {
   "cell_type": "code",
   "execution_count": 56,
   "metadata": {},
   "outputs": [
    {
     "data": {
      "text/html": [
       "<table>\n",
       "<thead><tr><th></th><th scope=col>Fatal</th><th scope=col>Serious</th><th scope=col>Sum</th></tr></thead>\n",
       "<tbody>\n",
       "\t<tr><th scope=row>Roundabout</th><td>0.00</td><td>0.04</td><td>0.04</td></tr>\n",
       "\t<tr><th scope=row>One way street</th><td>0.00</td><td>0.02</td><td>0.02</td></tr>\n",
       "\t<tr><th scope=row>Dual carriageway</th><td>0.02</td><td>0.12</td><td>0.14</td></tr>\n",
       "\t<tr><th scope=row>Single carriageway</th><td>0.07</td><td>0.73</td><td>0.79</td></tr>\n",
       "\t<tr><th scope=row>Slip road</th><td>0.00</td><td>0.01</td><td>0.01</td></tr>\n",
       "\t<tr><th scope=row>Unknown</th><td>0.00</td><td>0.00</td><td>0.00</td></tr>\n",
       "\t<tr><th scope=row>Sum</th><td>0.09</td><td>0.91</td><td>1.00</td></tr>\n",
       "</tbody>\n",
       "</table>\n"
      ],
      "text/latex": [
       "\\begin{tabular}{r|lll}\n",
       "  & Fatal & Serious & Sum\\\\\n",
       "\\hline\n",
       "\tRoundabout & 0.00 & 0.04 & 0.04\\\\\n",
       "\tOne way street & 0.00 & 0.02 & 0.02\\\\\n",
       "\tDual carriageway & 0.02 & 0.12 & 0.14\\\\\n",
       "\tSingle carriageway & 0.07 & 0.73 & 0.79\\\\\n",
       "\tSlip road & 0.00 & 0.01 & 0.01\\\\\n",
       "\tUnknown & 0.00 & 0.00 & 0.00\\\\\n",
       "\tSum & 0.09 & 0.91 & 1.00\\\\\n",
       "\\end{tabular}\n"
      ],
      "text/markdown": [
       "\n",
       "| <!--/--> | Fatal | Serious | Sum | \n",
       "|---|---|---|---|---|---|---|\n",
       "| Roundabout | 0.00 | 0.04 | 0.04 | \n",
       "| One way street | 0.00 | 0.02 | 0.02 | \n",
       "| Dual carriageway | 0.02 | 0.12 | 0.14 | \n",
       "| Single carriageway | 0.07 | 0.73 | 0.79 | \n",
       "| Slip road | 0.00 | 0.01 | 0.01 | \n",
       "| Unknown | 0.00 | 0.00 | 0.00 | \n",
       "| Sum | 0.09 | 0.91 | 1.00 | \n",
       "\n",
       "\n"
      ],
      "text/plain": [
       "                    \n",
       "                     Fatal Serious Sum \n",
       "  Roundabout         0.00  0.04    0.04\n",
       "  One way street     0.00  0.02    0.02\n",
       "  Dual carriageway   0.02  0.12    0.14\n",
       "  Single carriageway 0.07  0.73    0.79\n",
       "  Slip road          0.00  0.01    0.01\n",
       "  Unknown            0.00  0.00    0.00\n",
       "  Sum                0.09  0.91    1.00"
      ]
     },
     "metadata": {},
     "output_type": "display_data"
    }
   ],
   "source": [
    "# Accident Severity by Road Type\n",
    "\n",
    "Sev_road <- round(addmargins(prop.table(table(FINAL$Road_Type, FINAL$Accident_Severity))),2)\n",
    "\n",
    "colnames(Sev_road) <- c('Fatal','Serious','Sum')\n",
    "row.names(Sev_road) <- c('Roundabout','One way street','Dual carriageway','Single carriageway','Slip road','Unknown','Sum')\n",
    "\n",
    "Sev_road"
   ]
  },
  {
   "cell_type": "code",
   "execution_count": 57,
   "metadata": {},
   "outputs": [
    {
     "data": {},
     "metadata": {},
     "output_type": "display_data"
    },
    {
     "data": {
      "image/png": "[encoded data removed]"
     },
     "metadata": {},
     "output_type": "display_data"
    }
   ],
   "source": [
    "# Influence of Road Type on accidents\n",
    "\n",
    "## Accident severity 1 = FATAL, Accident severity 2 = SERIOUS\n",
    "## Road Type 1 = Roundabout, Road Type 2 = One way street, Road Type 3 = Dual carriageway, Road Type 6 = Single carriageway,\n",
    "## Road Type 7 = Slip road, Road Type 9 = Unknown   \n",
    "\n",
    "require(repr)\n",
    "options(repr.plot.width = 6, repr.plot.height = 4)\n",
    "\n",
    "library(ggplot2)\n",
    "\n",
    "ggplot(aes(Road_Type, fill=Accident_Severity),data=FINAL) +\n",
    "    geom_bar() +\n",
    "    xlab('Road Type') +\n",
    "    ylab('Number of accidents') +\n",
    "    ggtitle('Influence of Road Type on accidents')+\n",
    "    theme(plot.title = element_text(hjust = 0.5))"
   ]
  },
  {
   "cell_type": "markdown",
   "metadata": {},
   "source": [
    "- Most of the **Fatal accidents** occurred in **Dual carriageway** and **Single carriageway**\n",
    "- Large number of **Serious** accidents occured in **Single carriageway** "
   ]
  },
  {
   "cell_type": "code",
   "execution_count": 58,
   "metadata": {},
   "outputs": [
    {
     "data": {},
     "metadata": {},
     "output_type": "display_data"
    },
    {
     "data": {
      "image/png": "[encoded data removed]"
     },
     "metadata": {},
     "output_type": "display_data"
    }
   ],
   "source": [
    "# Influence of Road Surface Conditions on Accidents\n",
    "\n",
    "## Accident severity 1 = FATAL, Accident severity 2 = SERIOUS\n",
    "## Road Surface 1 = Dry, Road Surface 2 = Wet or damp, Road Surface 3 = Snow, Road Surface 4 = Frost or ice, \n",
    "## Road Surface 5 = Flood over 3cm. deep , Road Surface 6 = Oil or diesel, Road Surface 7 = Mud   \n",
    "\n",
    "require(repr)\n",
    "options(repr.plot.width = 6, repr.plot.height = 4)\n",
    "\n",
    "library(ggplot2)\n",
    "\n",
    "ggplot(aes(Road_Surface_Conditions, fill=Accident_Severity),data=subset(FINAL, !is.na(FINAL$Road_Surface_Conditions))) +\n",
    "    geom_bar() +\n",
    "    xlab('Road Surface') +\n",
    "    ylab('Number of accidents') +\n",
    "    ggtitle('Influence of Road Surface on accidents')+\n",
    "    theme(plot.title = element_text(hjust = 0.5))"
   ]
  },
  {
   "cell_type": "markdown",
   "metadata": {},
   "source": [
    "- Most of the **Fatal accidents** occurred on **dry surface** followed by wet or damp surface.\n",
    "- **Serious accidents** are high on **dry surface**."
   ]
  },
  {
   "cell_type": "code",
   "execution_count": 59,
   "metadata": {},
   "outputs": [
    {
     "data": {},
     "metadata": {},
     "output_type": "display_data"
    },
    {
     "data": {
      "image/png": "[encoded data removed]"
     },
     "metadata": {},
     "output_type": "display_data"
    }
   ],
   "source": [
    "# Influence of light conditions on accidents\n",
    "\n",
    "## Accident severity 1 = FATAL, Accident severity 2 = SERIOUS\n",
    "## light conditions 1 = Daylight, light conditions 4 = Darkness - lights lit, light conditions 5 = Darkness - lights unlit,\n",
    "## light conditions 6 = Darkness - no lighting , light conditions 7 = Darkness - lighting unknown\n",
    "\n",
    "require(repr)\n",
    "options(repr.plot.width = 6, repr.plot.height = 4)\n",
    "\n",
    "library(ggplot2)\n",
    "\n",
    "ggplot(aes(Light_Conditions, fill=Accident_Severity),data=subset(FINAL, !is.na(FINAL$Light_Conditions))) +\n",
    "    geom_bar() +\n",
    "    xlab('Light Conditions') +\n",
    "    ylab('Number of accidents') +\n",
    "    ggtitle('Influence of Light Conditions on accidents')+\n",
    "    theme(plot.title = element_text(hjust = 0.5))"
   ]
  },
  {
   "cell_type": "markdown",
   "metadata": {},
   "source": [
    "- Most of the **Fatal accidents** occurred in **day light** followed by **Darkness - lights lit** and **Darkness - no lighting**\n",
    "- Accidents that happened due to **Darkness - lights unlit** (which is could be due to negligence) seems to be pretty low.\n",
    "- **Serious accidents** seems to be pretty high in **day light**"
   ]
  },
  {
   "cell_type": "code",
   "execution_count": 60,
   "metadata": {},
   "outputs": [
    {
     "data": {},
     "metadata": {},
     "output_type": "display_data"
    },
    {
     "data": {
      "image/png": "[encoded data removed]"
     },
     "metadata": {},
     "output_type": "display_data"
    }
   ],
   "source": [
    "# Influence of Junctions on accidents\n",
    "\n",
    "## Accident severity 0 = FATAL, Accident severity 2 = SERIOUS\n",
    "## Junction detail 0 = Not at junction or within 20 metres, Junction detail 1 = Roundabout, \n",
    "## Junction detail 2 = Mini-roundabout, Junction detail 3 = T or staggered junction, \n",
    "## Junction detail 5 = Slip road , Junction detail 6 = Crossroads, Junction detail 7 = More than 4 arms (not roundabout),\n",
    "## Junction detail 8 = Private drive or entrance, Junction detail 9 = Other junction\n",
    "\n",
    "require(repr)\n",
    "options(repr.plot.width = 6, repr.plot.height = 4)\n",
    "\n",
    "library(ggplot2)\n",
    "\n",
    "ggplot(aes(Junction_Detail, fill=Accident_Severity),data=subset(FINAL, !is.na(FINAL$Junction_Detail))) +\n",
    "    geom_bar() +\n",
    "    xlab('Junction Detail') +\n",
    "    ylab('Number of accidents') +\n",
    "    ggtitle('Influence of Junctions on accidents')+\n",
    "    theme(plot.title = element_text(hjust = 0.5))"
   ]
  },
  {
   "cell_type": "markdown",
   "metadata": {},
   "source": [
    "- Most of the **Fatal accidents** occured at **Not at junction or within 20 metres** and **T or staggered junction**\n",
    "- Also, large number of **Serious accidents** occurred at these junctions"
   ]
  },
  {
   "cell_type": "code",
   "execution_count": 61,
   "metadata": {},
   "outputs": [
    {
     "data": {},
     "metadata": {},
     "output_type": "display_data"
    },
    {
     "data": {
      "image/png": "[encoded data removed]"
     },
     "metadata": {},
     "output_type": "display_data"
    }
   ],
   "source": [
    "# Influence of Junction location on accidents\n",
    "\n",
    "## Accident severity 0 = FATAL, Accident severity 2 = SERIOUS\n",
    "## Junction Location 0 = Not at or within 20 metres of junction, Junction Location 1 = Approaching junction or waiting/parked at junction approach, \n",
    "## Junction Location 2 = Cleared junction or waiting/parked at junction exit, Junction Location 3 = Leaving roundabout, \n",
    "## Junction Location 4 = Entering roundabout , Junction Location 5 = Leaving main road, Junction Location 6 = Entering main road,\n",
    "## Junction Location 7 = Entering from slip road, Junction Location 8 = Mid Junction - on roundabout or on main road\n",
    "\n",
    "require(repr)\n",
    "options(repr.plot.width = 6, repr.plot.height = 4)\n",
    "\n",
    "library(ggplot2)\n",
    "\n",
    "ggplot(aes(Junction_Location, fill=Accident_Severity),data=subset(FINAL, !is.na(FINAL$Junction_Location))) +\n",
    "    geom_bar() +\n",
    "    xlab('Junction Location') +\n",
    "    ylab('Number of accidents') +\n",
    "    ggtitle('Influence of Junction location on accidents')+\n",
    "    theme(plot.title = element_text(hjust = 0.5))"
   ]
  },
  {
   "cell_type": "markdown",
   "metadata": {},
   "source": [
    "- Most of the **Fatal accidents** occured at **Not at or within 20 metres of junction**\n",
    "- Most of the **Serious accidents** occured at **Approaching junction or waiting/parked at junction approach** and **Mid Junction - on roundabout or on main road**\n",
    "- These junctions need to be considered for setting up digital advertising boards"
   ]
  },
  {
   "cell_type": "code",
   "execution_count": 62,
   "metadata": {},
   "outputs": [
    {
     "data": {},
     "metadata": {},
     "output_type": "display_data"
    },
    {
     "data": {
      "image/png": "[encoded data removed]"
     },
     "metadata": {},
     "output_type": "display_data"
    }
   ],
   "source": [
    "# Influence of Pedestrian crossing (Physical) on accidents\n",
    "\n",
    "## Accident severity 0 = FATAL, Accident severity 2 = SERIOUS\n",
    "## Ped cross-Physical 0 = No physical crossing facilities within 50 metres, Ped cross-Physical 1 = Zebra, \n",
    "## Ped cross-Physical 4 = Pelican, puffin, toucan or similar non-junction pedestrian light crossing,\n",
    "## Ped cross-Physical 5 = Pedestrian phase at traffic signal junction , Ped cross-Physical 7 = Footbridge or subway,\n",
    "## Ped cross-Physical 8 = Central refuge\n",
    "\n",
    "require(repr)\n",
    "options(repr.plot.width = 6, repr.plot.height = 4)\n",
    "\n",
    "library(ggplot2)\n",
    "\n",
    "ggplot(aes(Pedestrian_Crossing.Physical_Facilities, fill=Accident_Severity),data=subset(FINAL, !is.na(FINAL$Pedestrian_Crossing.Physical_Facilities))) +\n",
    "    geom_bar() +\n",
    "    xlab('Pedestrian Crossing') +\n",
    "    ylab('Number of accidents') +\n",
    "    ggtitle('Influence of Pedestrian crossing on accidents')+\n",
    "    theme(plot.title = element_text(hjust = 0.5))"
   ]
  },
  {
   "cell_type": "markdown",
   "metadata": {},
   "source": [
    "- Large number of **Fatal** and **Serious** accidents occured where there are **no physical crossing facilities within 50 metres**\n",
    "- There is a need for sign boards at these places warning pedestrians that they are not crossing zones or provide crossing facilities at these places if feasible"
   ]
  },
  {
   "cell_type": "code",
   "execution_count": 63,
   "metadata": {},
   "outputs": [
    {
     "data": {},
     "metadata": {},
     "output_type": "display_data"
    },
    {
     "data": {
      "image/png": "[encoded data removed]"
     },
     "metadata": {},
     "output_type": "display_data"
    }
   ],
   "source": [
    "# Influence of Pedestrian Movement on accidents\n",
    "\n",
    "## Accident severity 0 = FATAL, Accident severity 2 = SERIOUS\n",
    "## Ped Movement 0 = Not a Pedestrian, Ped Movement 1 = Crossing from driver's nearside, \n",
    "## Ped Movement 2 = Crossing from nearside - masked by parked or stationary vehicle,\n",
    "## Ped Movement 3 = Crossing from driver's offside , Ped Movement 4 = Crossing from offside - masked by  parked or stationary vehicle,\n",
    "## Ped Movement 5 = In carriageway, stationary - not crossing  (standing or playing),\n",
    "## Ped Movement 6 = In carriageway, stationary - not crossing  (standing or playing) - masked by parked or stationary vehicle,\n",
    "## Ped Movement 7 = Walking along in carriageway, facing traffic,\n",
    "## Ped Movement 8 = Walking along in carriageway, back to traffic, Ped Movement 9 = Unknown or other\n",
    "\n",
    "require(repr)\n",
    "options(repr.plot.width = 6, repr.plot.height = 4)\n",
    "\n",
    "library(ggplot2)\n",
    "\n",
    "ggplot(aes(Pedestrian_Movement, fill=Accident_Severity),data=subset(FINAL, !is.na(FINAL$Pedestrian_Movement))) +\n",
    "    geom_bar() +\n",
    "    xlab('Pedestrian Movement') +\n",
    "    ylab('Number of accidents') +\n",
    "    ggtitle('Influence of Pedestrian Movement on accidents')+\n",
    "    theme(plot.title = element_text(hjust = 0.5))"
   ]
  },
  {
   "cell_type": "markdown",
   "metadata": {},
   "source": [
    "Large number of **Fatal** and **Serious** accidents occured when **no pedestrians are crossing**.   \n",
    "***Can we assume that animals might have caused these accidents?***  \n",
    "If that is the case, a sign board is necessary warning drivers to slow down at these places"
   ]
  },
  {
   "cell_type": "code",
   "execution_count": 64,
   "metadata": {},
   "outputs": [
    {
     "data": {},
     "metadata": {},
     "output_type": "display_data"
    },
    {
     "data": {
      "image/png": "[encoded data removed]"
     },
     "metadata": {},
     "output_type": "display_data"
    }
   ],
   "source": [
    "# Influence of Age band of Driver on accidents\n",
    "\n",
    "## Accident severity 0 = FATAL, Accident severity 2 = SERIOUS\n",
    "## Age_Band_of_Driver 1 = 0 - 5, Age_Band_of_Driver 2 = 6 - 10, Age_Band_of_Driver 3 = 11 - 15,\n",
    "## Age_Band_of_Driver 4 = 16 - 20, Age_Band_of_Driver 5 = 21 - 25, Age_Band_of_Driver 6 = 26 - 35,\n",
    "## Age_Band_of_Driver 7 = 36 - 45, Age_Band_of_Driver 8 = 46 - 55, Age_Band_of_Driver 9 = 56 - 65,\n",
    "## Age_Band_of_Driver 10 = 66 - 75, Age_Band_of_Driver 11 = Over 75\n",
    "\n",
    "require(repr)\n",
    "options(repr.plot.width = 6, repr.plot.height = 4)\n",
    "\n",
    "library(ggplot2)\n",
    "\n",
    "ggplot(aes(Age_Band_of_Driver, fill=Accident_Severity),data=subset(FINAL, !is.na(FINAL$Age_Band_of_Driver))) +\n",
    "    geom_bar() +\n",
    "    xlab('Age band of Driver') +\n",
    "    ylab('Number of accidents') +\n",
    "    ggtitle('Influence of Age band of Driver on accidents')+\n",
    "    theme(plot.title = element_text(hjust = 0.5))"
   ]
  },
  {
   "cell_type": "markdown",
   "metadata": {},
   "source": [
    "- The above chart is almost following a normal distribution.\n",
    "- Most of the accidents were committed by people between the **ages 16-65**.\n",
    "- Highest number of accidents (both Fatal and Serious) were committed by people between the **ages 26-35**.\n",
    "- There is a serious need of counselling for people between the ages 26 - 35"
   ]
  },
  {
   "cell_type": "markdown",
   "metadata": {},
   "source": [
    "### Top 20 Local authority districts which recorded high number of accidents"
   ]
  },
  {
   "cell_type": "code",
   "execution_count": 65,
   "metadata": {},
   "outputs": [
    {
     "name": "stderr",
     "output_type": "stream",
     "text": [
      "\n",
      "Attaching package: 'dplyr'\n",
      "\n",
      "The following objects are masked from 'package:stats':\n",
      "\n",
      "    filter, lag\n",
      "\n",
      "The following objects are masked from 'package:base':\n",
      "\n",
      "    intersect, setdiff, setequal, union\n",
      "\n",
      "Loading required package: reshape2\n",
      "Using Freq as value column: use value.var to override.\n"
     ]
    },
    {
     "data": {
      "text/html": [
       "<table>\n",
       "<thead><tr><th scope=col>District</th><th scope=col>Fatal</th><th scope=col>Serious</th><th scope=col>Total_accidents</th><th scope=col>rank</th><th scope=col>District_Name</th></tr></thead>\n",
       "<tbody>\n",
       "\t<tr><td>300                     </td><td>313                     </td><td>4549                    </td><td>4862                    </td><td> 1                      </td><td>Birmingham              </td></tr>\n",
       "\t<tr><td>204                     </td><td>249                     </td><td>3406                    </td><td>3655                    </td><td> 2                      </td><td>Leeds                   </td></tr>\n",
       "\t<tr><td>926                     </td><td>160                     </td><td>2409                    </td><td>2569                    </td><td> 3                      </td><td>Glasgow City            </td></tr>\n",
       "\t<tr><td>91                      </td><td>124                     </td><td>2409                    </td><td>2533                    </td><td> 4                      </td><td>Liverpool               </td></tr>\n",
       "\t<tr><td>1                       </td><td>112                     </td><td>2338                    </td><td>2450                    </td><td> 5                      </td><td>Westminster             </td></tr>\n",
       "\t<tr><td>200                     </td><td>177                     </td><td>2266                    </td><td>2443                    </td><td> 6                      </td><td>Bradford                </td></tr>\n",
       "\t<tr><td>215                     </td><td>127                     </td><td>2137                    </td><td>2264                    </td><td> 7                      </td><td>Sheffield               </td></tr>\n",
       "\t<tr><td>231                     </td><td>213                     </td><td>1910                    </td><td>2123                    </td><td> 8                      </td><td>East Riding of Yorkshire</td></tr>\n",
       "\t<tr><td>102                     </td><td>158                     </td><td>1963                    </td><td>2121                    </td><td> 9                      </td><td>Manchester              </td></tr>\n",
       "\t<tr><td>923                     </td><td> 99                     </td><td>1870                    </td><td>1969                    </td><td>10                      </td><td>Edinburgh, City of      </td></tr>\n",
       "\t<tr><td>911                     </td><td>265                     </td><td>1658                    </td><td>1923                    </td><td>11                      </td><td>Aberdeenshire           </td></tr>\n",
       "\t<tr><td>203                     </td><td>116                     </td><td>1738                    </td><td>1854                    </td><td>12                      </td><td>Kirklees                </td></tr>\n",
       "\t<tr><td>565                     </td><td> 62                     </td><td>1718                    </td><td>1780                    </td><td>13                      </td><td>Brighton and Hove       </td></tr>\n",
       "\t<tr><td>9                       </td><td> 81                     </td><td>1646                    </td><td>1727                    </td><td>14                      </td><td>Lambeth                 </td></tr>\n",
       "\t<tr><td>346                     </td><td> 68                     </td><td>1628                    </td><td>1696                    </td><td>15                      </td><td>Nottingham              </td></tr>\n",
       "\t<tr><td>206                     </td><td>150                     </td><td>1483                    </td><td>1633                    </td><td>16                      </td><td>Wakefield               </td></tr>\n",
       "\t<tr><td>601                     </td><td>110                     </td><td>1489                    </td><td>1599                    </td><td>17                      </td><td>Bristol, City of        </td></tr>\n",
       "\t<tr><td>596                     </td><td>162                     </td><td>1410                    </td><td>1572                    </td><td>18                      </td><td>Cornwall                </td></tr>\n",
       "\t<tr><td>129                     </td><td>111                     </td><td>1455                    </td><td>1566                    </td><td>19                      </td><td>Cheshire East           </td></tr>\n",
       "\t<tr><td>635                     </td><td>177                     </td><td>1389                    </td><td>1566                    </td><td>20                      </td><td>Wiltshire               </td></tr>\n",
       "</tbody>\n",
       "</table>\n"
      ],
      "text/latex": [
       "\\begin{tabular}{r|llllll}\n",
       " District & Fatal & Serious & Total\\_accidents & rank & District\\_Name\\\\\n",
       "\\hline\n",
       "\t 300                      & 313                      & 4549                     & 4862                     &  1                       & Birmingham              \\\\\n",
       "\t 204                      & 249                      & 3406                     & 3655                     &  2                       & Leeds                   \\\\\n",
       "\t 926                      & 160                      & 2409                     & 2569                     &  3                       & Glasgow City            \\\\\n",
       "\t 91                       & 124                      & 2409                     & 2533                     &  4                       & Liverpool               \\\\\n",
       "\t 1                        & 112                      & 2338                     & 2450                     &  5                       & Westminster             \\\\\n",
       "\t 200                      & 177                      & 2266                     & 2443                     &  6                       & Bradford                \\\\\n",
       "\t 215                      & 127                      & 2137                     & 2264                     &  7                       & Sheffield               \\\\\n",
       "\t 231                      & 213                      & 1910                     & 2123                     &  8                       & East Riding of Yorkshire\\\\\n",
       "\t 102                      & 158                      & 1963                     & 2121                     &  9                       & Manchester              \\\\\n",
       "\t 923                      &  99                      & 1870                     & 1969                     & 10                       & Edinburgh, City of      \\\\\n",
       "\t 911                      & 265                      & 1658                     & 1923                     & 11                       & Aberdeenshire           \\\\\n",
       "\t 203                      & 116                      & 1738                     & 1854                     & 12                       & Kirklees                \\\\\n",
       "\t 565                      &  62                      & 1718                     & 1780                     & 13                       & Brighton and Hove       \\\\\n",
       "\t 9                        &  81                      & 1646                     & 1727                     & 14                       & Lambeth                 \\\\\n",
       "\t 346                      &  68                      & 1628                     & 1696                     & 15                       & Nottingham              \\\\\n",
       "\t 206                      & 150                      & 1483                     & 1633                     & 16                       & Wakefield               \\\\\n",
       "\t 601                      & 110                      & 1489                     & 1599                     & 17                       & Bristol, City of        \\\\\n",
       "\t 596                      & 162                      & 1410                     & 1572                     & 18                       & Cornwall                \\\\\n",
       "\t 129                      & 111                      & 1455                     & 1566                     & 19                       & Cheshire East           \\\\\n",
       "\t 635                      & 177                      & 1389                     & 1566                     & 20                       & Wiltshire               \\\\\n",
       "\\end{tabular}\n"
      ],
      "text/markdown": [
       "\n",
       "District | Fatal | Serious | Total_accidents | rank | District_Name | \n",
       "|---|---|---|---|---|---|---|---|---|---|---|---|---|---|---|---|---|---|---|---|\n",
       "| 300                      | 313                      | 4549                     | 4862                     |  1                       | Birmingham               | \n",
       "| 204                      | 249                      | 3406                     | 3655                     |  2                       | Leeds                    | \n",
       "| 926                      | 160                      | 2409                     | 2569                     |  3                       | Glasgow City             | \n",
       "| 91                       | 124                      | 2409                     | 2533                     |  4                       | Liverpool                | \n",
       "| 1                        | 112                      | 2338                     | 2450                     |  5                       | Westminster              | \n",
       "| 200                      | 177                      | 2266                     | 2443                     |  6                       | Bradford                 | \n",
       "| 215                      | 127                      | 2137                     | 2264                     |  7                       | Sheffield                | \n",
       "| 231                      | 213                      | 1910                     | 2123                     |  8                       | East Riding of Yorkshire | \n",
       "| 102                      | 158                      | 1963                     | 2121                     |  9                       | Manchester               | \n",
       "| 923                      |  99                      | 1870                     | 1969                     | 10                       | Edinburgh, City of       | \n",
       "| 911                      | 265                      | 1658                     | 1923                     | 11                       | Aberdeenshire            | \n",
       "| 203                      | 116                      | 1738                     | 1854                     | 12                       | Kirklees                 | \n",
       "| 565                      |  62                      | 1718                     | 1780                     | 13                       | Brighton and Hove        | \n",
       "| 9                        |  81                      | 1646                     | 1727                     | 14                       | Lambeth                  | \n",
       "| 346                      |  68                      | 1628                     | 1696                     | 15                       | Nottingham               | \n",
       "| 206                      | 150                      | 1483                     | 1633                     | 16                       | Wakefield                | \n",
       "| 601                      | 110                      | 1489                     | 1599                     | 17                       | Bristol, City of         | \n",
       "| 596                      | 162                      | 1410                     | 1572                     | 18                       | Cornwall                 | \n",
       "| 129                      | 111                      | 1455                     | 1566                     | 19                       | Cheshire East            | \n",
       "| 635                      | 177                      | 1389                     | 1566                     | 20                       | Wiltshire                | \n",
       "\n",
       "\n"
      ],
      "text/plain": [
       "   District Fatal Serious Total_accidents rank District_Name           \n",
       "1  300      313   4549    4862             1   Birmingham              \n",
       "2  204      249   3406    3655             2   Leeds                   \n",
       "3  926      160   2409    2569             3   Glasgow City            \n",
       "4  91       124   2409    2533             4   Liverpool               \n",
       "5  1        112   2338    2450             5   Westminster             \n",
       "6  200      177   2266    2443             6   Bradford                \n",
       "7  215      127   2137    2264             7   Sheffield               \n",
       "8  231      213   1910    2123             8   East Riding of Yorkshire\n",
       "9  102      158   1963    2121             9   Manchester              \n",
       "10 923       99   1870    1969            10   Edinburgh, City of      \n",
       "11 911      265   1658    1923            11   Aberdeenshire           \n",
       "12 203      116   1738    1854            12   Kirklees                \n",
       "13 565       62   1718    1780            13   Brighton and Hove       \n",
       "14 9         81   1646    1727            14   Lambeth                 \n",
       "15 346       68   1628    1696            15   Nottingham              \n",
       "16 206      150   1483    1633            16   Wakefield               \n",
       "17 601      110   1489    1599            17   Bristol, City of        \n",
       "18 596      162   1410    1572            18   Cornwall                \n",
       "19 129      111   1455    1566            19   Cheshire East           \n",
       "20 635      177   1389    1566            20   Wiltshire               "
      ]
     },
     "metadata": {},
     "output_type": "display_data"
    }
   ],
   "source": [
    "# Top 20 Local authority districts which recorded high number of accidents\n",
    "\n",
    "library(dplyr)\n",
    "require(reshape2)\n",
    "\n",
    "by_district <- table(FINAL$Local_Authority_.District., FINAL$Accident_Severity)\n",
    "\n",
    "colnames(by_district) <- c('Fatal','Serious')\n",
    "\n",
    "by_district <- data.frame(by_district)\n",
    "\n",
    "colnames(by_district) <- c('District','Accident_Severity','Freq')\n",
    "\n",
    "new_by_district <- dcast(by_district, District ~ Accident_Severity, sum)\n",
    "new_by_district$Total_accidents <- new_by_district$Fatal + new_by_district$Serious\n",
    "rank_district <- new_by_district[with(new_by_district, order(-Total_accidents)),]\n",
    "\n",
    "# rank district by descending order of total accidents\n",
    "rank_district$rank <- as.integer(rank(-rank_district$Total_accidents, ties.method='first'))\n",
    "\n",
    "new_rank_district <- rank_district %>%\n",
    "                       select(District, Fatal, Serious, Total_accidents, rank) %>%\n",
    "                       dplyr::filter(rank >= 1 & rank <=20)\n",
    "\n",
    "new_rank_district$District_Name <- LA_district$label[match(new_rank_district$District,LA_district$District.code)]\n",
    "new_rank_district"
   ]
  },
  {
   "cell_type": "markdown",
   "metadata": {},
   "source": [
    "As these top 20 districts recorded high number of accidents from 2005 - 2016, the organizations which are working on road safety should work with these district authorities to improve road safety conditions."
   ]
  },
  {
   "cell_type": "markdown",
   "metadata": {},
   "source": [
    "### Top 20 Highway authorities which recorded high number of accidents"
   ]
  },
  {
   "cell_type": "code",
   "execution_count": 66,
   "metadata": {},
   "outputs": [
    {
     "name": "stderr",
     "output_type": "stream",
     "text": [
      "Using Freq as value column: use value.var to override.\n"
     ]
    },
    {
     "data": {
      "text/html": [
       "<table>\n",
       "<thead><tr><th scope=col>Highway</th><th scope=col>Fatal</th><th scope=col>Serious</th><th scope=col>Total_accidents</th><th scope=col>rank</th><th scope=col>highway_auth_Name</th></tr></thead>\n",
       "<tbody>\n",
       "\t<tr><td>E10000017       </td><td>535             </td><td>7420            </td><td>7955            </td><td> 1              </td><td>Lancashire      </td></tr>\n",
       "\t<tr><td>E10000012       </td><td>577             </td><td>7243            </td><td>7820            </td><td> 2              </td><td>Essex           </td></tr>\n",
       "\t<tr><td>E10000014       </td><td>524             </td><td>7024            </td><td>7548            </td><td> 3              </td><td>Hampshire       </td></tr>\n",
       "\t<tr><td>E10000016       </td><td>692             </td><td>6131            </td><td>6823            </td><td> 4              </td><td>Kent            </td></tr>\n",
       "\t<tr><td>E10000030       </td><td>425             </td><td>6045            </td><td>6470            </td><td> 5              </td><td>Surrey          </td></tr>\n",
       "\t<tr><td>E10000023       </td><td>522             </td><td>4791            </td><td>5313            </td><td> 6              </td><td>North Yorkshire </td></tr>\n",
       "\t<tr><td>E10000032       </td><td>377             </td><td>4511            </td><td>4888            </td><td> 7              </td><td>West Sussex     </td></tr>\n",
       "\t<tr><td>E08000025       </td><td>313             </td><td>4549            </td><td>4862            </td><td> 8              </td><td>Birmingham      </td></tr>\n",
       "\t<tr><td>E10000015       </td><td>402             </td><td>4358            </td><td>4760            </td><td> 9              </td><td>Hertfordshire   </td></tr>\n",
       "\t<tr><td>E10000024       </td><td>390             </td><td>4234            </td><td>4624            </td><td>10              </td><td>Nottinghamshire </td></tr>\n",
       "\t<tr><td>E10000020       </td><td>507             </td><td>3731            </td><td>4238            </td><td>11              </td><td>Norfolk         </td></tr>\n",
       "\t<tr><td>E10000019       </td><td>564             </td><td>3663            </td><td>4227            </td><td>12              </td><td>Lincolnshire    </td></tr>\n",
       "\t<tr><td>E10000007       </td><td>385             </td><td>3694            </td><td>4079            </td><td>13              </td><td>Derbyshire      </td></tr>\n",
       "\t<tr><td>E10000021       </td><td>394             </td><td>3544            </td><td>3938            </td><td>14              </td><td>Northamptonshire</td></tr>\n",
       "\t<tr><td>E10000025       </td><td>382             </td><td>3425            </td><td>3807            </td><td>15              </td><td>Oxfordshire     </td></tr>\n",
       "\t<tr><td>E10000011       </td><td>287             </td><td>3491            </td><td>3778            </td><td>16              </td><td>East Sussex     </td></tr>\n",
       "\t<tr><td>E10000003       </td><td>405             </td><td>3343            </td><td>3748            </td><td>17              </td><td>Cambridgeshire  </td></tr>\n",
       "\t<tr><td>E08000035       </td><td>249             </td><td>3406            </td><td>3655            </td><td>18              </td><td>Leeds           </td></tr>\n",
       "\t<tr><td>E10000031       </td><td>365             </td><td>3202            </td><td>3567            </td><td>19              </td><td>Warwickshire    </td></tr>\n",
       "\t<tr><td>E10000029       </td><td>356             </td><td>3061            </td><td>3417            </td><td>20              </td><td>Suffolk         </td></tr>\n",
       "</tbody>\n",
       "</table>\n"
      ],
      "text/latex": [
       "\\begin{tabular}{r|llllll}\n",
       " Highway & Fatal & Serious & Total\\_accidents & rank & highway\\_auth\\_Name\\\\\n",
       "\\hline\n",
       "\t E10000017        & 535              & 7420             & 7955             &  1               & Lancashire      \\\\\n",
       "\t E10000012        & 577              & 7243             & 7820             &  2               & Essex           \\\\\n",
       "\t E10000014        & 524              & 7024             & 7548             &  3               & Hampshire       \\\\\n",
       "\t E10000016        & 692              & 6131             & 6823             &  4               & Kent            \\\\\n",
       "\t E10000030        & 425              & 6045             & 6470             &  5               & Surrey          \\\\\n",
       "\t E10000023        & 522              & 4791             & 5313             &  6               & North Yorkshire \\\\\n",
       "\t E10000032        & 377              & 4511             & 4888             &  7               & West Sussex     \\\\\n",
       "\t E08000025        & 313              & 4549             & 4862             &  8               & Birmingham      \\\\\n",
       "\t E10000015        & 402              & 4358             & 4760             &  9               & Hertfordshire   \\\\\n",
       "\t E10000024        & 390              & 4234             & 4624             & 10               & Nottinghamshire \\\\\n",
       "\t E10000020        & 507              & 3731             & 4238             & 11               & Norfolk         \\\\\n",
       "\t E10000019        & 564              & 3663             & 4227             & 12               & Lincolnshire    \\\\\n",
       "\t E10000007        & 385              & 3694             & 4079             & 13               & Derbyshire      \\\\\n",
       "\t E10000021        & 394              & 3544             & 3938             & 14               & Northamptonshire\\\\\n",
       "\t E10000025        & 382              & 3425             & 3807             & 15               & Oxfordshire     \\\\\n",
       "\t E10000011        & 287              & 3491             & 3778             & 16               & East Sussex     \\\\\n",
       "\t E10000003        & 405              & 3343             & 3748             & 17               & Cambridgeshire  \\\\\n",
       "\t E08000035        & 249              & 3406             & 3655             & 18               & Leeds           \\\\\n",
       "\t E10000031        & 365              & 3202             & 3567             & 19               & Warwickshire    \\\\\n",
       "\t E10000029        & 356              & 3061             & 3417             & 20               & Suffolk         \\\\\n",
       "\\end{tabular}\n"
      ],
      "text/markdown": [
       "\n",
       "Highway | Fatal | Serious | Total_accidents | rank | highway_auth_Name | \n",
       "|---|---|---|---|---|---|---|---|---|---|---|---|---|---|---|---|---|---|---|---|\n",
       "| E10000017        | 535              | 7420             | 7955             |  1               | Lancashire       | \n",
       "| E10000012        | 577              | 7243             | 7820             |  2               | Essex            | \n",
       "| E10000014        | 524              | 7024             | 7548             |  3               | Hampshire        | \n",
       "| E10000016        | 692              | 6131             | 6823             |  4               | Kent             | \n",
       "| E10000030        | 425              | 6045             | 6470             |  5               | Surrey           | \n",
       "| E10000023        | 522              | 4791             | 5313             |  6               | North Yorkshire  | \n",
       "| E10000032        | 377              | 4511             | 4888             |  7               | West Sussex      | \n",
       "| E08000025        | 313              | 4549             | 4862             |  8               | Birmingham       | \n",
       "| E10000015        | 402              | 4358             | 4760             |  9               | Hertfordshire    | \n",
       "| E10000024        | 390              | 4234             | 4624             | 10               | Nottinghamshire  | \n",
       "| E10000020        | 507              | 3731             | 4238             | 11               | Norfolk          | \n",
       "| E10000019        | 564              | 3663             | 4227             | 12               | Lincolnshire     | \n",
       "| E10000007        | 385              | 3694             | 4079             | 13               | Derbyshire       | \n",
       "| E10000021        | 394              | 3544             | 3938             | 14               | Northamptonshire | \n",
       "| E10000025        | 382              | 3425             | 3807             | 15               | Oxfordshire      | \n",
       "| E10000011        | 287              | 3491             | 3778             | 16               | East Sussex      | \n",
       "| E10000003        | 405              | 3343             | 3748             | 17               | Cambridgeshire   | \n",
       "| E08000035        | 249              | 3406             | 3655             | 18               | Leeds            | \n",
       "| E10000031        | 365              | 3202             | 3567             | 19               | Warwickshire     | \n",
       "| E10000029        | 356              | 3061             | 3417             | 20               | Suffolk          | \n",
       "\n",
       "\n"
      ],
      "text/plain": [
       "   Highway   Fatal Serious Total_accidents rank highway_auth_Name\n",
       "1  E10000017 535   7420    7955             1   Lancashire       \n",
       "2  E10000012 577   7243    7820             2   Essex            \n",
       "3  E10000014 524   7024    7548             3   Hampshire        \n",
       "4  E10000016 692   6131    6823             4   Kent             \n",
       "5  E10000030 425   6045    6470             5   Surrey           \n",
       "6  E10000023 522   4791    5313             6   North Yorkshire  \n",
       "7  E10000032 377   4511    4888             7   West Sussex      \n",
       "8  E08000025 313   4549    4862             8   Birmingham       \n",
       "9  E10000015 402   4358    4760             9   Hertfordshire    \n",
       "10 E10000024 390   4234    4624            10   Nottinghamshire  \n",
       "11 E10000020 507   3731    4238            11   Norfolk          \n",
       "12 E10000019 564   3663    4227            12   Lincolnshire     \n",
       "13 E10000007 385   3694    4079            13   Derbyshire       \n",
       "14 E10000021 394   3544    3938            14   Northamptonshire \n",
       "15 E10000025 382   3425    3807            15   Oxfordshire      \n",
       "16 E10000011 287   3491    3778            16   East Sussex      \n",
       "17 E10000003 405   3343    3748            17   Cambridgeshire   \n",
       "18 E08000035 249   3406    3655            18   Leeds            \n",
       "19 E10000031 365   3202    3567            19   Warwickshire     \n",
       "20 E10000029 356   3061    3417            20   Suffolk          "
      ]
     },
     "metadata": {},
     "output_type": "display_data"
    }
   ],
   "source": [
    "# Top 20 Highway authorities of highways which recorded high number of accidents\n",
    "\n",
    "library(dplyr)\n",
    "require(reshape2)\n",
    "\n",
    "by_highway <- table(FINAL$Local_Authority_.Highway., FINAL$Accident_Severity)\n",
    "\n",
    "colnames(by_highway) <- c('Fatal','Serious')\n",
    "\n",
    "by_highway <- data.frame(by_highway)\n",
    "\n",
    "colnames(by_highway) <- c('Highway','Accident_Severity','Freq')\n",
    "\n",
    "new_by_highway <- dcast(by_highway, Highway ~ Accident_Severity, sum)\n",
    "new_by_highway$Total_accidents <- new_by_highway$Fatal + new_by_highway$Serious\n",
    "rank_highway <- new_by_highway[with(new_by_highway, order(-Total_accidents)),]\n",
    "\n",
    "# rank highway by descending order of total accidents\n",
    "rank_highway$rank <- as.integer(rank(-rank_highway$Total_accidents, ties.method='first'))\n",
    "\n",
    "new_rank_highway <- rank_highway %>%\n",
    "                     select(Highway, Fatal, Serious, Total_accidents, rank) %>%\n",
    "                     dplyr::filter(rank >= 1 & rank <=20)\n",
    "\n",
    "new_rank_highway$highway_auth_Name <- LA_highway$Label[match(new_rank_highway$Highway,LA_highway$Highway.authority.Code)]\n",
    "new_rank_highway"
   ]
  },
  {
   "cell_type": "markdown",
   "metadata": {},
   "source": [
    "As high number of accidents from 2005 - 2016 were recorded in the areas which come under these highway authorities, these highways can be looked at for putting up **digital advertising boards.**"
   ]
  },
  {
   "cell_type": "code",
   "execution_count": 67,
   "metadata": {},
   "outputs": [
    {
     "name": "stderr",
     "output_type": "stream",
     "text": [
      "Using Freq as value column: use value.var to override.\n"
     ]
    },
    {
     "data": {
      "text/html": [
       "<table>\n",
       "<thead><tr><th scope=col>LSOA</th><th scope=col>Fatal</th><th scope=col>Serious</th><th scope=col>Total_accidents</th><th scope=col>rank</th><th scope=col>LSOA_Name</th></tr></thead>\n",
       "<tbody>\n",
       "\t<tr><td>E01000004               </td><td> 9                      </td><td>336                     </td><td>345                     </td><td> 1                      </td><td>City of London 001D     </td></tr>\n",
       "\t<tr><td>E01004736               </td><td>10                      </td><td>217                     </td><td>227                     </td><td> 2                      </td><td>Westminster 018C        </td></tr>\n",
       "\t<tr><td>E01011365               </td><td> 8                      </td><td>169                     </td><td>177                     </td><td> 3                      </td><td>Leeds 084A              </td></tr>\n",
       "\t<tr><td>E01018648               </td><td>21                      </td><td>129                     </td><td>150                     </td><td> 4                      </td><td>Macclesfield 007C       </td></tr>\n",
       "\t<tr><td>E01016952               </td><td> 4                      </td><td>144                     </td><td>148                     </td><td> 5                      </td><td>Brighton and Hove 027A  </td></tr>\n",
       "\t<tr><td>E01004764               </td><td> 5                      </td><td>139                     </td><td>144                     </td><td> 6                      </td><td>Westminster 013C        </td></tr>\n",
       "\t<tr><td>E01008440               </td><td> 5                      </td><td>127                     </td><td>132                     </td><td> 7                      </td><td>Newcastle upon Tyne 024F</td></tr>\n",
       "\t<tr><td>E01032739               </td><td> 4                      </td><td>127                     </td><td>131                     </td><td> 8                      </td><td>City of London 001F     </td></tr>\n",
       "\t<tr><td>E01021800               </td><td>10                      </td><td>117                     </td><td>127                     </td><td> 9                      </td><td>Epping Forest 003C      </td></tr>\n",
       "\t<tr><td>E01013869               </td><td> 3                      </td><td>110                     </td><td>113                     </td><td>10                      </td><td>Nottingham 033A         </td></tr>\n",
       "\t<tr><td>E01004735               </td><td> 4                      </td><td>108                     </td><td>112                     </td><td>11                      </td><td>Westminster 018B        </td></tr>\n",
       "\t<tr><td>E01005131               </td><td> 8                      </td><td>104                     </td><td>112                     </td><td>12                      </td><td>Manchester 014C         </td></tr>\n",
       "\t<tr><td>E01001771               </td><td> 2                      </td><td>109                     </td><td>111                     </td><td>13                      </td><td>Hackney 027A            </td></tr>\n",
       "\t<tr><td>E01004689               </td><td> 2                      </td><td>107                     </td><td>109                     </td><td>14                      </td><td>Westminster 019C        </td></tr>\n",
       "\t<tr><td>E01004763               </td><td> 4                      </td><td>104                     </td><td>108                     </td><td>15                      </td><td>Westminster 013B        </td></tr>\n",
       "\t<tr><td>E01022999               </td><td>12                      </td><td> 96                     </td><td>108                     </td><td>16                      </td><td>New Forest 017B         </td></tr>\n",
       "\t<tr><td>E01023722               </td><td>12                      </td><td> 94                     </td><td>106                     </td><td>17                      </td><td>St Albans 006A          </td></tr>\n",
       "\t<tr><td>E01023584               </td><td> 5                      </td><td> 98                     </td><td>103                     </td><td>18                      </td><td>Hertsmere 004D          </td></tr>\n",
       "\t<tr><td>E01016012               </td><td>12                      </td><td> 87                     </td><td> 99                     </td><td>19                      </td><td>Thurrock 015C           </td></tr>\n",
       "\t<tr><td>E01004733               </td><td> 4                      </td><td> 94                     </td><td> 98                     </td><td>20                      </td><td>Westminster 020C        </td></tr>\n",
       "</tbody>\n",
       "</table>\n"
      ],
      "text/latex": [
       "\\begin{tabular}{r|llllll}\n",
       " LSOA & Fatal & Serious & Total\\_accidents & rank & LSOA\\_Name\\\\\n",
       "\\hline\n",
       "\t E01000004                &  9                       & 336                      & 345                      &  1                       & City of London 001D     \\\\\n",
       "\t E01004736                & 10                       & 217                      & 227                      &  2                       & Westminster 018C        \\\\\n",
       "\t E01011365                &  8                       & 169                      & 177                      &  3                       & Leeds 084A              \\\\\n",
       "\t E01018648                & 21                       & 129                      & 150                      &  4                       & Macclesfield 007C       \\\\\n",
       "\t E01016952                &  4                       & 144                      & 148                      &  5                       & Brighton and Hove 027A  \\\\\n",
       "\t E01004764                &  5                       & 139                      & 144                      &  6                       & Westminster 013C        \\\\\n",
       "\t E01008440                &  5                       & 127                      & 132                      &  7                       & Newcastle upon Tyne 024F\\\\\n",
       "\t E01032739                &  4                       & 127                      & 131                      &  8                       & City of London 001F     \\\\\n",
       "\t E01021800                & 10                       & 117                      & 127                      &  9                       & Epping Forest 003C      \\\\\n",
       "\t E01013869                &  3                       & 110                      & 113                      & 10                       & Nottingham 033A         \\\\\n",
       "\t E01004735                &  4                       & 108                      & 112                      & 11                       & Westminster 018B        \\\\\n",
       "\t E01005131                &  8                       & 104                      & 112                      & 12                       & Manchester 014C         \\\\\n",
       "\t E01001771                &  2                       & 109                      & 111                      & 13                       & Hackney 027A            \\\\\n",
       "\t E01004689                &  2                       & 107                      & 109                      & 14                       & Westminster 019C        \\\\\n",
       "\t E01004763                &  4                       & 104                      & 108                      & 15                       & Westminster 013B        \\\\\n",
       "\t E01022999                & 12                       &  96                      & 108                      & 16                       & New Forest 017B         \\\\\n",
       "\t E01023722                & 12                       &  94                      & 106                      & 17                       & St Albans 006A          \\\\\n",
       "\t E01023584                &  5                       &  98                      & 103                      & 18                       & Hertsmere 004D          \\\\\n",
       "\t E01016012                & 12                       &  87                      &  99                      & 19                       & Thurrock 015C           \\\\\n",
       "\t E01004733                &  4                       &  94                      &  98                      & 20                       & Westminster 020C        \\\\\n",
       "\\end{tabular}\n"
      ],
      "text/markdown": [
       "\n",
       "LSOA | Fatal | Serious | Total_accidents | rank | LSOA_Name | \n",
       "|---|---|---|---|---|---|---|---|---|---|---|---|---|---|---|---|---|---|---|---|\n",
       "| E01000004                |  9                       | 336                      | 345                      |  1                       | City of London 001D      | \n",
       "| E01004736                | 10                       | 217                      | 227                      |  2                       | Westminster 018C         | \n",
       "| E01011365                |  8                       | 169                      | 177                      |  3                       | Leeds 084A               | \n",
       "| E01018648                | 21                       | 129                      | 150                      |  4                       | Macclesfield 007C        | \n",
       "| E01016952                |  4                       | 144                      | 148                      |  5                       | Brighton and Hove 027A   | \n",
       "| E01004764                |  5                       | 139                      | 144                      |  6                       | Westminster 013C         | \n",
       "| E01008440                |  5                       | 127                      | 132                      |  7                       | Newcastle upon Tyne 024F | \n",
       "| E01032739                |  4                       | 127                      | 131                      |  8                       | City of London 001F      | \n",
       "| E01021800                | 10                       | 117                      | 127                      |  9                       | Epping Forest 003C       | \n",
       "| E01013869                |  3                       | 110                      | 113                      | 10                       | Nottingham 033A          | \n",
       "| E01004735                |  4                       | 108                      | 112                      | 11                       | Westminster 018B         | \n",
       "| E01005131                |  8                       | 104                      | 112                      | 12                       | Manchester 014C          | \n",
       "| E01001771                |  2                       | 109                      | 111                      | 13                       | Hackney 027A             | \n",
       "| E01004689                |  2                       | 107                      | 109                      | 14                       | Westminster 019C         | \n",
       "| E01004763                |  4                       | 104                      | 108                      | 15                       | Westminster 013B         | \n",
       "| E01022999                | 12                       |  96                      | 108                      | 16                       | New Forest 017B          | \n",
       "| E01023722                | 12                       |  94                      | 106                      | 17                       | St Albans 006A           | \n",
       "| E01023584                |  5                       |  98                      | 103                      | 18                       | Hertsmere 004D           | \n",
       "| E01016012                | 12                       |  87                      |  99                      | 19                       | Thurrock 015C            | \n",
       "| E01004733                |  4                       |  94                      |  98                      | 20                       | Westminster 020C         | \n",
       "\n",
       "\n"
      ],
      "text/plain": [
       "   LSOA      Fatal Serious Total_accidents rank LSOA_Name               \n",
       "1  E01000004  9    336     345              1   City of London 001D     \n",
       "2  E01004736 10    217     227              2   Westminster 018C        \n",
       "3  E01011365  8    169     177              3   Leeds 084A              \n",
       "4  E01018648 21    129     150              4   Macclesfield 007C       \n",
       "5  E01016952  4    144     148              5   Brighton and Hove 027A  \n",
       "6  E01004764  5    139     144              6   Westminster 013C        \n",
       "7  E01008440  5    127     132              7   Newcastle upon Tyne 024F\n",
       "8  E01032739  4    127     131              8   City of London 001F     \n",
       "9  E01021800 10    117     127              9   Epping Forest 003C      \n",
       "10 E01013869  3    110     113             10   Nottingham 033A         \n",
       "11 E01004735  4    108     112             11   Westminster 018B        \n",
       "12 E01005131  8    104     112             12   Manchester 014C         \n",
       "13 E01001771  2    109     111             13   Hackney 027A            \n",
       "14 E01004689  2    107     109             14   Westminster 019C        \n",
       "15 E01004763  4    104     108             15   Westminster 013B        \n",
       "16 E01022999 12     96     108             16   New Forest 017B         \n",
       "17 E01023722 12     94     106             17   St Albans 006A          \n",
       "18 E01023584  5     98     103             18   Hertsmere 004D          \n",
       "19 E01016012 12     87      99             19   Thurrock 015C           \n",
       "20 E01004733  4     94      98             20   Westminster 020C        "
      ]
     },
     "metadata": {},
     "output_type": "display_data"
    }
   ],
   "source": [
    "# Top 20 LSOA of accident locations which recorded high number of accidents\n",
    "## LSOA - Lower layer Super Output Area which is a geograhic area - designed to improve the reporting of\n",
    "## small area statistics in England and Wales\n",
    "\n",
    "library(dplyr)\n",
    "require(reshape2)\n",
    "\n",
    "FINAL_LSOA_NONA <- subset(FINAL, !is.na(FINAL$LSOA_of_Accident_Location))\n",
    "\n",
    "by_LSOA <- table(FINAL_LSOA_NONA$LSOA_of_Accident_Location, FINAL_LSOA_NONA$Accident_Severity)\n",
    "\n",
    "colnames(by_LSOA) <- c('Fatal','Serious')\n",
    "\n",
    "by_LSOA <- data.frame(by_LSOA)\n",
    "\n",
    "colnames(by_LSOA) <- c('LSOA','Accident_Severity','Freq')\n",
    "\n",
    "new_by_LSOA <- dcast(by_LSOA, LSOA ~ Accident_Severity, sum)\n",
    "new_by_LSOA$Total_accidents <- new_by_LSOA$Fatal + new_by_LSOA$Serious\n",
    "rank_LSOA <- new_by_LSOA[with(new_by_LSOA, order(-Total_accidents)),]\n",
    "\n",
    "# rank LSOA by descending order of total accidents\n",
    "rank_LSOA$rank <- as.integer(rank(-rank_LSOA$Total_accidents, ties.method='first'))\n",
    "\n",
    "new_rank_LSOA <- rank_LSOA %>%\n",
    "                     select(LSOA, Fatal, Serious, Total_accidents, rank) %>%\n",
    "                     dplyr::filter(rank >= 1 & rank <=20)\n",
    "\n",
    "\n",
    "new_rank_LSOA$LSOA_Name <- LSOA$Area[match(new_rank_LSOA$LSOA,LSOA$LSOA)]\n",
    "new_rank_LSOA"
   ]
  },
  {
   "cell_type": "markdown",
   "metadata": {
    "collapsed": true
   },
   "source": [
    "**Westminster** LSOA appeared 6 times in top 20 LSOA's which recorded high accidents"
   ]
  },
  {
   "cell_type": "markdown",
   "metadata": {
    "collapsed": true
   },
   "source": [
    "## Observations:"
   ]
  },
  {
   "cell_type": "markdown",
   "metadata": {},
   "source": [
    "- **Westminster** and **City of London** which are in top 20 LSOA's need to be considered for putting up digital advertising sign boards. As **Westmister appeared 6 times and City of London appeared twice in top 20 LSOA's.**\n",
    "- Organizations working on road safety should work with top 20 district authorities (listed above) in improving road safety.\n",
    "- As high number of accidents from 2005 - 2016 were recorded on highways which comes under the top 20 highway authorities (listed above), these highways should be considered for putting up digital advertising boards.\n",
    "- Most of the **Fatal accidents** occurred in **Dual carriageway** and **Single carriageway** - These road types need to be considered for sign boards\n",
    "- Most of the **Fatal & Serious accidents** occured at **Not at junction or within 20 metres** and **T or staggered junction.** Which means sign boards should not only be targeted at junctions but also at **non-juctions.**\n",
    "- Most of the **Fatal accidents** occured at **Not at or within 20 metres of junction** and most of the **Serious accidents** occured at **Approaching junction or waiting/parked at junction approach** and **Mid Junction - on roundabout or on main road**. So, we need to watch out for these junction locations.\n",
    "- Large number of **Fatal and Serious accidents** occured where there are **no physical crossing facilities within 50 metres**. There is a need for sign boards at these places warning pedestrians that these are not crossing zones or provide crossing facilities at these places if feasible.\n",
    "- Large number of **Fatal and Serious accidents** occured when **no pedestrians are crossing.** Can we assume that animals might have caused these accidents? If that is the case, a sign board is necessary warning drivers to slow down at these places.\n",
    "- Highest number of accidents (both Fatal and Serious) were committed by people between the **ages 26-35**. There is a serious need of counselling for people in this age group."
   ]
  },
  {
   "cell_type": "code",
   "execution_count": null,
   "metadata": {
    "collapsed": true
   },
   "outputs": [],
   "source": []
  }
 ],
 "metadata": {
  "kernelspec": {
   "display_name": "R",
   "language": "R",
   "name": "r"
  },
  "language_info": {
   "codemirror_mode": "r",
   "file_extension": ".r",
   "mimetype": "text/x-r-source",
   "name": "R",
   "pygments_lexer": "r",
   "version": "3.4.1"
  }
 },
 "nbformat": 4,
 "nbformat_minor": 2
}
