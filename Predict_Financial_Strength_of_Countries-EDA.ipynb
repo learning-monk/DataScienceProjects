{
 "cells": [
  {
   "cell_type": "markdown",
   "metadata": {},
   "source": [
    "# MLDS Predict Financial Strength Of Countries"
   ]
  },
  {
   "cell_type": "markdown",
   "metadata": {},
   "source": [
    "## Features of the dataset:\n",
    "\n",
    "**Country Name:** Name of the country\n",
    "\n",
    "**Country Code:** Code assigned of the country\n",
    "\n",
    "**Year**\n",
    "\n",
    "**Balance:** International balance with the world bank for the country. *(To be predicted)*\n",
    "\n",
    "**Inflation:** Inflation in percentage for that particular year\n",
    "\n",
    "**GDP:** GDP growth for that particular year\n",
    "\n",
    "**Exports:** Exports of the country for that particular year\n",
    "\n",
    "**Trade:** Trade figures for the country for that particular year"
   ]
  },
  {
   "cell_type": "code",
   "execution_count": 56,
   "metadata": {},
   "outputs": [
    {
     "data": {
      "text/plain": [
       "               _                           \n",
       "platform       x86_64-w64-mingw32          \n",
       "arch           x86_64                      \n",
       "os             mingw32                     \n",
       "system         x86_64, mingw32             \n",
       "status                                     \n",
       "major          3                           \n",
       "minor          5.3                         \n",
       "year           2019                        \n",
       "month          03                          \n",
       "day            11                          \n",
       "svn rev        76217                       \n",
       "language       R                           \n",
       "version.string R version 3.5.3 (2019-03-11)\n",
       "nickname       Great Truth                 "
      ]
     },
     "metadata": {},
     "output_type": "display_data"
    }
   ],
   "source": [
    "version"
   ]
  },
  {
   "cell_type": "code",
   "execution_count": 57,
   "metadata": {},
   "outputs": [
    {
     "name": "stderr",
     "output_type": "stream",
     "text": [
      "Installing package into 'C:/Users/ksp/Documents/R/win-library/3.5'\n",
      "(as 'lib' is unspecified)\n"
     ]
    },
    {
     "name": "stdout",
     "output_type": "stream",
     "text": [
      "package 'ggplot2' successfully unpacked and MD5 sums checked\n",
      "\n",
      "The downloaded binary packages are in\n",
      "\tC:\\Users\\ksp\\AppData\\Local\\Temp\\RtmpGAfBz1\\downloaded_packages\n"
     ]
    },
    {
     "name": "stderr",
     "output_type": "stream",
     "text": [
      "Installing package into 'C:/Users/ksp/Documents/R/win-library/3.5'\n",
      "(as 'lib' is unspecified)\n"
     ]
    },
    {
     "name": "stdout",
     "output_type": "stream",
     "text": [
      "package 'dplyr' successfully unpacked and MD5 sums checked\n"
     ]
    },
    {
     "name": "stderr",
     "output_type": "stream",
     "text": [
      "Warning message:\n",
      "\"cannot remove prior installation of package 'dplyr'\""
     ]
    },
    {
     "name": "stdout",
     "output_type": "stream",
     "text": [
      "\n",
      "The downloaded binary packages are in\n",
      "\tC:\\Users\\ksp\\AppData\\Local\\Temp\\RtmpGAfBz1\\downloaded_packages\n"
     ]
    }
   ],
   "source": [
    "# Install necessary packages\n",
    "\n",
    "install.packages('ggplot2')\n",
    "install.packages('dplyr')\n"
   ]
  },
  {
   "cell_type": "code",
   "execution_count": 58,
   "metadata": {},
   "outputs": [],
   "source": [
    "# Read datasets\n",
    "\n",
    "train <- read.csv('https://www.dropbox.com/s/ghnw3fbf2pfmfxn/final_train_data.csv?raw=1', header = T)\n",
    "\n",
    "test <- read.csv('https://www.dropbox.com/s/e8my78li4fs9kd6/final_test_data.csv?raw=1', header = T)"
   ]
  },
  {
   "cell_type": "code",
   "execution_count": 59,
   "metadata": {},
   "outputs": [
    {
     "data": {
      "text/html": [
       "<table>\n",
       "<thead><tr><th scope=col>id</th><th scope=col>Country.Name</th><th scope=col>Country.Code</th><th scope=col>Year</th><th scope=col>Balance</th><th scope=col>Inflation</th><th scope=col>GDP</th><th scope=col>Exports</th><th scope=col>Trade</th></tr></thead>\n",
       "<tbody>\n",
       "\t<tr><td>0          </td><td>Senegal    </td><td>SEN        </td><td>1983       </td><td> -304382939</td><td> 9.274213  </td><td>-5.326393  </td><td>  618000000</td><td>59.22430   </td></tr>\n",
       "\t<tr><td>1          </td><td>Togo       </td><td>TGO        </td><td>2009       </td><td> -176669246</td><td> 1.855275  </td><td> 3.510297  </td><td>  903026000</td><td>76.24254   </td></tr>\n",
       "\t<tr><td>2          </td><td>Pakistan   </td><td>PAK        </td><td>1992       </td><td>-1876092233</td><td>10.057085  </td><td> 7.705898  </td><td> 7351000000</td><td>34.48944   </td></tr>\n",
       "\t<tr><td>3          </td><td>Nepal      </td><td>NPL        </td><td>1988       </td><td> -271450571</td><td>11.815310  </td><td> 7.696809  </td><td>  190000000</td><td>24.97842   </td></tr>\n",
       "\t<tr><td>5          </td><td>Malta      </td><td>MLT        </td><td>2016       </td><td>  726913236</td><td> 1.604548  </td><td> 5.516617  </td><td> 3017298710</td><td>83.78147   </td></tr>\n",
       "\t<tr><td>6          </td><td>Israel     </td><td>ISR        </td><td>2006       </td><td> 6883600000</td><td> 1.992213  </td><td> 5.210821  </td><td>46789400000</td><td>63.08043   </td></tr>\n",
       "</tbody>\n",
       "</table>\n"
      ],
      "text/latex": [
       "\\begin{tabular}{r|lllllllll}\n",
       " id & Country.Name & Country.Code & Year & Balance & Inflation & GDP & Exports & Trade\\\\\n",
       "\\hline\n",
       "\t 0           & Senegal     & SEN         & 1983        &  -304382939 &  9.274213   & -5.326393   &   618000000 & 59.22430   \\\\\n",
       "\t 1           & Togo        & TGO         & 2009        &  -176669246 &  1.855275   &  3.510297   &   903026000 & 76.24254   \\\\\n",
       "\t 2           & Pakistan    & PAK         & 1992        & -1876092233 & 10.057085   &  7.705898   &  7351000000 & 34.48944   \\\\\n",
       "\t 3           & Nepal       & NPL         & 1988        &  -271450571 & 11.815310   &  7.696809   &   190000000 & 24.97842   \\\\\n",
       "\t 5           & Malta       & MLT         & 2016        &   726913236 &  1.604548   &  5.516617   &  3017298710 & 83.78147   \\\\\n",
       "\t 6           & Israel      & ISR         & 2006        &  6883600000 &  1.992213   &  5.210821   & 46789400000 & 63.08043   \\\\\n",
       "\\end{tabular}\n"
      ],
      "text/markdown": [
       "\n",
       "| id | Country.Name | Country.Code | Year | Balance | Inflation | GDP | Exports | Trade |\n",
       "|---|---|---|---|---|---|---|---|---|\n",
       "| 0           | Senegal     | SEN         | 1983        |  -304382939 |  9.274213   | -5.326393   |   618000000 | 59.22430    |\n",
       "| 1           | Togo        | TGO         | 2009        |  -176669246 |  1.855275   |  3.510297   |   903026000 | 76.24254    |\n",
       "| 2           | Pakistan    | PAK         | 1992        | -1876092233 | 10.057085   |  7.705898   |  7351000000 | 34.48944    |\n",
       "| 3           | Nepal       | NPL         | 1988        |  -271450571 | 11.815310   |  7.696809   |   190000000 | 24.97842    |\n",
       "| 5           | Malta       | MLT         | 2016        |   726913236 |  1.604548   |  5.516617   |  3017298710 | 83.78147    |\n",
       "| 6           | Israel      | ISR         | 2006        |  6883600000 |  1.992213   |  5.210821   | 46789400000 | 63.08043    |\n",
       "\n"
      ],
      "text/plain": [
       "  id Country.Name Country.Code Year Balance     Inflation GDP       Exports    \n",
       "1 0  Senegal      SEN          1983  -304382939  9.274213 -5.326393   618000000\n",
       "2 1  Togo         TGO          2009  -176669246  1.855275  3.510297   903026000\n",
       "3 2  Pakistan     PAK          1992 -1876092233 10.057085  7.705898  7351000000\n",
       "4 3  Nepal        NPL          1988  -271450571 11.815310  7.696809   190000000\n",
       "5 5  Malta        MLT          2016   726913236  1.604548  5.516617  3017298710\n",
       "6 6  Israel       ISR          2006  6883600000  1.992213  5.210821 46789400000\n",
       "  Trade   \n",
       "1 59.22430\n",
       "2 76.24254\n",
       "3 34.48944\n",
       "4 24.97842\n",
       "5 83.78147\n",
       "6 63.08043"
      ]
     },
     "metadata": {},
     "output_type": "display_data"
    }
   ],
   "source": [
    "head(train)"
   ]
  },
  {
   "cell_type": "code",
   "execution_count": 60,
   "metadata": {},
   "outputs": [
    {
     "name": "stdout",
     "output_type": "stream",
     "text": [
      "'data.frame':\t4506 obs. of  9 variables:\n",
      " $ id          : int  0 1 2 3 5 6 7 9 10 11 ...\n",
      " $ Country.Name: Factor w/ 150 levels \"Albania\",\"Algeria\",..: 116 136 103 96 87 64 96 5 18 135 ...\n",
      " $ Country.Code: Factor w/ 150 levels \"ABW\",\"AGO\",\"ALB\",..: 120 132 108 106 93 65 106 4 20 133 ...\n",
      " $ Year        : int  1983 2009 1992 1988 2016 2006 1990 2008 2013 2011 ...\n",
      " $ Balance     : num  -3.04e+08 -1.77e+08 -1.88e+09 -2.71e+08 7.27e+08 ...\n",
      " $ Inflation   : num  9.27 1.86 10.06 11.82 1.6 ...\n",
      " $ GDP         : num  -5.33 3.51 7.71 7.7 5.52 ...\n",
      " $ Exports     : num  6.18e+08 9.03e+08 7.35e+09 1.90e+08 3.02e+09 ...\n",
      " $ Trade       : num  59.2 76.2 34.5 25 83.8 ...\n"
     ]
    }
   ],
   "source": [
    "# Examine structure of the dataset\n",
    "\n",
    "str(train)"
   ]
  },
  {
   "cell_type": "code",
   "execution_count": 61,
   "metadata": {},
   "outputs": [
    {
     "data": {
      "text/plain": [
       "       id                   Country.Name   Country.Code       Year     \n",
       " Min.   :   0   Israel            :  47   ISR    :  47   Min.   :1960  \n",
       " 1st Qu.:1430   South Africa      :  45   ZAF    :  45   1st Qu.:1986  \n",
       " Median :2834   Canada            :  43   CAN    :  43   Median :1997  \n",
       " Mean   :2844   Dominican Republic:  39   DOM    :  39   Mean   :1996  \n",
       " 3rd Qu.:4255   Malaysia          :  39   MYS    :  39   3rd Qu.:2007  \n",
       " Max.   :5703   Saudi Arabia      :  39   SAU    :  39   Max.   :2016  \n",
       "                (Other)           :4254   (Other):4254                 \n",
       "    Balance             Inflation              GDP             Exports         \n",
       " Min.   :-8.060e+11   Min.   :  -29.691   Min.   :-62.076   Min.   :2.000e+06  \n",
       " 1st Qu.:-9.812e+08   1st Qu.:    2.400   1st Qu.:  1.481   1st Qu.:4.804e+08  \n",
       " Median :-1.603e+08   Median :    6.184   Median :  3.800   Median :2.930e+09  \n",
       " Mean   :-5.132e+08   Mean   :   31.613   Mean   :  3.641   Mean   :4.340e+10  \n",
       " 3rd Qu.: 2.885e+07   3rd Qu.:   12.410   3rd Qu.:  6.050   3rd Qu.:2.045e+10  \n",
       " Max.   : 4.210e+11   Max.   :13611.635   Max.   : 34.500   Max.   :2.340e+12  \n",
       "                      NA's   :245         NA's   :244       NA's   :16         \n",
       "     Trade        \n",
       " Min.   :  7.921  \n",
       " 1st Qu.: 38.096  \n",
       " Median : 52.437  \n",
       " Mean   : 62.889  \n",
       " 3rd Qu.: 76.746  \n",
       " Max.   :957.784  \n",
       " NA's   :202      "
      ]
     },
     "metadata": {},
     "output_type": "display_data"
    }
   ],
   "source": [
    "summary(train)"
   ]
  },
  {
   "cell_type": "markdown",
   "metadata": {},
   "source": [
    "Looks like, there are missing values in train. Let's count them."
   ]
  },
  {
   "cell_type": "code",
   "execution_count": 62,
   "metadata": {},
   "outputs": [
    {
     "data": {
      "text/html": [
       "<table>\n",
       "<thead><tr><th></th><th scope=col>na_count</th></tr></thead>\n",
       "<tbody>\n",
       "\t<tr><th scope=row>id</th><td>  0</td></tr>\n",
       "\t<tr><th scope=row>Country.Name</th><td>  0</td></tr>\n",
       "\t<tr><th scope=row>Country.Code</th><td>  0</td></tr>\n",
       "\t<tr><th scope=row>Year</th><td>  0</td></tr>\n",
       "\t<tr><th scope=row>Balance</th><td>  0</td></tr>\n",
       "\t<tr><th scope=row>Inflation</th><td>245</td></tr>\n",
       "\t<tr><th scope=row>GDP</th><td>244</td></tr>\n",
       "\t<tr><th scope=row>Exports</th><td> 16</td></tr>\n",
       "\t<tr><th scope=row>Trade</th><td>202</td></tr>\n",
       "</tbody>\n",
       "</table>\n"
      ],
      "text/latex": [
       "\\begin{tabular}{r|l}\n",
       "  & na\\_count\\\\\n",
       "\\hline\n",
       "\tid &   0\\\\\n",
       "\tCountry.Name &   0\\\\\n",
       "\tCountry.Code &   0\\\\\n",
       "\tYear &   0\\\\\n",
       "\tBalance &   0\\\\\n",
       "\tInflation & 245\\\\\n",
       "\tGDP & 244\\\\\n",
       "\tExports &  16\\\\\n",
       "\tTrade & 202\\\\\n",
       "\\end{tabular}\n"
      ],
      "text/markdown": [
       "\n",
       "| <!--/--> | na_count |\n",
       "|---|---|\n",
       "| id |   0 |\n",
       "| Country.Name |   0 |\n",
       "| Country.Code |   0 |\n",
       "| Year |   0 |\n",
       "| Balance |   0 |\n",
       "| Inflation | 245 |\n",
       "| GDP | 244 |\n",
       "| Exports |  16 |\n",
       "| Trade | 202 |\n",
       "\n"
      ],
      "text/plain": [
       "             na_count\n",
       "id             0     \n",
       "Country.Name   0     \n",
       "Country.Code   0     \n",
       "Year           0     \n",
       "Balance        0     \n",
       "Inflation    245     \n",
       "GDP          244     \n",
       "Exports       16     \n",
       "Trade        202     "
      ]
     },
     "metadata": {},
     "output_type": "display_data"
    }
   ],
   "source": [
    "# Check for missing values in train\n",
    "\n",
    "na_count <- sapply(train, function(y) sum(length(which(is.na(y)))))\n",
    "na_count <- data.frame(na_count)\n",
    "na_count"
   ]
  },
  {
   "cell_type": "markdown",
   "metadata": {},
   "source": [
    "**Inflation, GDP, Exports & Trade columns have missing values**"
   ]
  },
  {
   "cell_type": "code",
   "execution_count": 63,
   "metadata": {},
   "outputs": [
    {
     "data": {
      "text/html": [
       "<table>\n",
       "<thead><tr><th></th><th scope=col>Country.Name</th><th scope=col>Year</th><th scope=col>Balance</th><th scope=col>Inflation</th><th scope=col>GDP</th><th scope=col>Exports</th><th scope=col>Trade</th></tr></thead>\n",
       "<tbody>\n",
       "\t<tr><th scope=row>67</th><td>Maldives </td><td>1977     </td><td>0        </td><td>      NA </td><td>       NA</td><td>  3390000</td><td>       NA</td></tr>\n",
       "\t<tr><th scope=row>2387</th><td>Israel   </td><td>1962     </td><td>0        </td><td>8.901592 </td><td>10.156117</td><td>279200000</td><td> 36.42629</td></tr>\n",
       "\t<tr><th scope=row>2519</th><td>Lesotho  </td><td>1979     </td><td>0        </td><td>2.428386 </td><td> 2.893919</td><td> 45083100</td><td>128.42485</td></tr>\n",
       "\t<tr><th scope=row>3329</th><td>Israel   </td><td>1964     </td><td>0        </td><td>5.433481 </td><td> 7.937192</td><td>372400000</td><td> 35.58242</td></tr>\n",
       "</tbody>\n",
       "</table>\n"
      ],
      "text/latex": [
       "\\begin{tabular}{r|lllllll}\n",
       "  & Country.Name & Year & Balance & Inflation & GDP & Exports & Trade\\\\\n",
       "\\hline\n",
       "\t67 & Maldives  & 1977      & 0         &       NA  &        NA &   3390000 &        NA\\\\\n",
       "\t2387 & Israel    & 1962      & 0         & 8.901592  & 10.156117 & 279200000 &  36.42629\\\\\n",
       "\t2519 & Lesotho   & 1979      & 0         & 2.428386  &  2.893919 &  45083100 & 128.42485\\\\\n",
       "\t3329 & Israel    & 1964      & 0         & 5.433481  &  7.937192 & 372400000 &  35.58242\\\\\n",
       "\\end{tabular}\n"
      ],
      "text/markdown": [
       "\n",
       "| <!--/--> | Country.Name | Year | Balance | Inflation | GDP | Exports | Trade |\n",
       "|---|---|---|---|---|---|---|---|\n",
       "| 67 | Maldives  | 1977      | 0         |       NA  |        NA |   3390000 |        NA |\n",
       "| 2387 | Israel    | 1962      | 0         | 8.901592  | 10.156117 | 279200000 |  36.42629 |\n",
       "| 2519 | Lesotho   | 1979      | 0         | 2.428386  |  2.893919 |  45083100 | 128.42485 |\n",
       "| 3329 | Israel    | 1964      | 0         | 5.433481  |  7.937192 | 372400000 |  35.58242 |\n",
       "\n"
      ],
      "text/plain": [
       "     Country.Name Year Balance Inflation GDP       Exports   Trade    \n",
       "67   Maldives     1977 0             NA         NA   3390000        NA\n",
       "2387 Israel       1962 0       8.901592  10.156117 279200000  36.42629\n",
       "2519 Lesotho      1979 0       2.428386   2.893919  45083100 128.42485\n",
       "3329 Israel       1964 0       5.433481   7.937192 372400000  35.58242"
      ]
     },
     "metadata": {},
     "output_type": "display_data"
    }
   ],
   "source": [
    "# Find rows with Balance 0\n",
    "\n",
    "train[train$Balance==0, c(2,4,5,6,7,8,9)]"
   ]
  },
  {
   "cell_type": "code",
   "execution_count": 64,
   "metadata": {},
   "outputs": [
    {
     "data": {
      "text/html": [
       "<table>\n",
       "<thead><tr><th></th><th scope=col>id</th><th scope=col>Country.Name</th><th scope=col>Country.Code</th><th scope=col>Year</th><th scope=col>Balance</th><th scope=col>Inflation</th><th scope=col>GDP</th><th scope=col>Exports</th><th scope=col>Trade</th></tr></thead>\n",
       "<tbody>\n",
       "\t<tr><th scope=row>42</th><td> 56        </td><td>Libya      </td><td>LBY        </td><td>1977       </td><td> 2159087462</td><td>NA         </td><td>NA         </td><td>11410900000</td><td>      NA   </td></tr>\n",
       "\t<tr><th scope=row>46</th><td> 62        </td><td>Libya      </td><td>LBY        </td><td>1992       </td><td> 1407193323</td><td>NA         </td><td>NA         </td><td> 9942000000</td><td>44.58790   </td></tr>\n",
       "\t<tr><th scope=row>50</th><td> 66        </td><td>Maldives   </td><td>MDV        </td><td>1988       </td><td>    9042358</td><td>NA         </td><td>NA         </td><td>   40000000</td><td>77.10078   </td></tr>\n",
       "\t<tr><th scope=row>67</th><td> 91        </td><td>Maldives   </td><td>MDV        </td><td>1977       </td><td>          0</td><td>NA         </td><td>NA         </td><td>    3390000</td><td>      NA   </td></tr>\n",
       "\t<tr><th scope=row>76</th><td>102        </td><td>Maldives   </td><td>MDV        </td><td>1984       </td><td>  -16300000</td><td>NA         </td><td>NA         </td><td>   18000000</td><td>64.83808   </td></tr>\n",
       "\t<tr><th scope=row>79</th><td>105        </td><td>Poland     </td><td>POL        </td><td>1978       </td><td>-2545000000</td><td>NA         </td><td>NA         </td><td>12238000000</td><td>      NA   </td></tr>\n",
       "</tbody>\n",
       "</table>\n"
      ],
      "text/latex": [
       "\\begin{tabular}{r|lllllllll}\n",
       "  & id & Country.Name & Country.Code & Year & Balance & Inflation & GDP & Exports & Trade\\\\\n",
       "\\hline\n",
       "\t42 &  56         & Libya       & LBY         & 1977        &  2159087462 & NA          & NA          & 11410900000 &       NA   \\\\\n",
       "\t46 &  62         & Libya       & LBY         & 1992        &  1407193323 & NA          & NA          &  9942000000 & 44.58790   \\\\\n",
       "\t50 &  66         & Maldives    & MDV         & 1988        &     9042358 & NA          & NA          &    40000000 & 77.10078   \\\\\n",
       "\t67 &  91         & Maldives    & MDV         & 1977        &           0 & NA          & NA          &     3390000 &       NA   \\\\\n",
       "\t76 & 102         & Maldives    & MDV         & 1984        &   -16300000 & NA          & NA          &    18000000 & 64.83808   \\\\\n",
       "\t79 & 105         & Poland      & POL         & 1978        & -2545000000 & NA          & NA          & 12238000000 &       NA   \\\\\n",
       "\\end{tabular}\n"
      ],
      "text/markdown": [
       "\n",
       "| <!--/--> | id | Country.Name | Country.Code | Year | Balance | Inflation | GDP | Exports | Trade |\n",
       "|---|---|---|---|---|---|---|---|---|---|\n",
       "| 42 |  56         | Libya       | LBY         | 1977        |  2159087462 | NA          | NA          | 11410900000 |       NA    |\n",
       "| 46 |  62         | Libya       | LBY         | 1992        |  1407193323 | NA          | NA          |  9942000000 | 44.58790    |\n",
       "| 50 |  66         | Maldives    | MDV         | 1988        |     9042358 | NA          | NA          |    40000000 | 77.10078    |\n",
       "| 67 |  91         | Maldives    | MDV         | 1977        |           0 | NA          | NA          |     3390000 |       NA    |\n",
       "| 76 | 102         | Maldives    | MDV         | 1984        |   -16300000 | NA          | NA          |    18000000 | 64.83808    |\n",
       "| 79 | 105         | Poland      | POL         | 1978        | -2545000000 | NA          | NA          | 12238000000 |       NA    |\n",
       "\n"
      ],
      "text/plain": [
       "   id  Country.Name Country.Code Year Balance     Inflation GDP Exports    \n",
       "42  56 Libya        LBY          1977  2159087462 NA        NA  11410900000\n",
       "46  62 Libya        LBY          1992  1407193323 NA        NA   9942000000\n",
       "50  66 Maldives     MDV          1988     9042358 NA        NA     40000000\n",
       "67  91 Maldives     MDV          1977           0 NA        NA      3390000\n",
       "76 102 Maldives     MDV          1984   -16300000 NA        NA     18000000\n",
       "79 105 Poland       POL          1978 -2545000000 NA        NA  12238000000\n",
       "   Trade   \n",
       "42       NA\n",
       "46 44.58790\n",
       "50 77.10078\n",
       "67       NA\n",
       "76 64.83808\n",
       "79       NA"
      ]
     },
     "metadata": {},
     "output_type": "display_data"
    }
   ],
   "source": [
    "# First few missing rows\n",
    "\n",
    "head(train[rowSums(is.na(train))>0,])"
   ]
  },
  {
   "cell_type": "code",
   "execution_count": 65,
   "metadata": {},
   "outputs": [
    {
     "data": {
      "text/html": [
       "6.41"
      ],
      "text/latex": [
       "6.41"
      ],
      "text/markdown": [
       "6.41"
      ],
      "text/plain": [
       "[1] 6.41"
      ]
     },
     "metadata": {},
     "output_type": "display_data"
    }
   ],
   "source": [
    "# Percentage of missing value rows in train\n",
    "\n",
    "round(nrow(train[rowSums(is.na(train))>0,])/nrow(train)*100,2)"
   ]
  },
  {
   "cell_type": "code",
   "execution_count": 66,
   "metadata": {},
   "outputs": [
    {
     "data": {
      "text/html": [
       "<table>\n",
       "<thead><tr><th scope=col>id</th><th scope=col>Year</th><th scope=col>Balance</th><th scope=col>Inflation</th><th scope=col>GDP</th><th scope=col>Exports</th><th scope=col>Trade</th></tr></thead>\n",
       "<tbody>\n",
       "\t<tr><td>0   </td><td>0   </td><td>0   </td><td>5.44</td><td>5.42</td><td>0.36</td><td>4.48</td></tr>\n",
       "</tbody>\n",
       "</table>\n"
      ],
      "text/latex": [
       "\\begin{tabular}{lllllll}\n",
       " id & Year & Balance & Inflation & GDP & Exports & Trade\\\\\n",
       "\\hline\n",
       "\t 0    & 0    & 0    & 5.44 & 5.42 & 0.36 & 4.48\\\\\n",
       "\\end{tabular}\n"
      ],
      "text/markdown": [
       "\n",
       "| id | Year | Balance | Inflation | GDP | Exports | Trade |\n",
       "|---|---|---|---|---|---|---|\n",
       "| 0    | 0    | 0    | 5.44 | 5.42 | 0.36 | 4.48 |\n",
       "\n"
      ],
      "text/plain": [
       "     id Year Balance Inflation GDP  Exports Trade\n",
       "[1,] 0  0    0       5.44      5.42 0.36    4.48 "
      ]
     },
     "metadata": {},
     "output_type": "display_data"
    }
   ],
   "source": [
    "# Subset numerical values in train data\n",
    "train_num <- subset(train, select = c(1,4,5,6,7,8,9))\n",
    "\n",
    "# Compute missing value% by column\n",
    "Pmiss <- function(x) {round(sum(is.na(x))/length(x)*100,2)}\n",
    "\n",
    "# Missing value % by column and transpose it\n",
    "t(apply(train_num, 2, Pmiss))"
   ]
  },
  {
   "cell_type": "markdown",
   "metadata": {},
   "source": [
    "- Checked original dataset on GDP from this link https://data.worldbank.org/indicator/NY.GDP.MKTP.CD\n",
    "- These values were not recorded for those years that were missing in our dataset\n",
    "- As values were not recorded, it doesn't make sense imputing them. So, replacing NA with 0"
   ]
  },
  {
   "cell_type": "code",
   "execution_count": 67,
   "metadata": {},
   "outputs": [
    {
     "data": {
      "text/html": [
       "<table>\n",
       "<thead><tr><th></th><th scope=col>na_count</th></tr></thead>\n",
       "<tbody>\n",
       "\t<tr><th scope=row>id</th><td>0</td></tr>\n",
       "\t<tr><th scope=row>Country.Name</th><td>0</td></tr>\n",
       "\t<tr><th scope=row>Country.Code</th><td>0</td></tr>\n",
       "\t<tr><th scope=row>Year</th><td>0</td></tr>\n",
       "\t<tr><th scope=row>Balance</th><td>0</td></tr>\n",
       "\t<tr><th scope=row>Inflation</th><td>0</td></tr>\n",
       "\t<tr><th scope=row>GDP</th><td>0</td></tr>\n",
       "\t<tr><th scope=row>Exports</th><td>0</td></tr>\n",
       "\t<tr><th scope=row>Trade</th><td>0</td></tr>\n",
       "</tbody>\n",
       "</table>\n"
      ],
      "text/latex": [
       "\\begin{tabular}{r|l}\n",
       "  & na\\_count\\\\\n",
       "\\hline\n",
       "\tid & 0\\\\\n",
       "\tCountry.Name & 0\\\\\n",
       "\tCountry.Code & 0\\\\\n",
       "\tYear & 0\\\\\n",
       "\tBalance & 0\\\\\n",
       "\tInflation & 0\\\\\n",
       "\tGDP & 0\\\\\n",
       "\tExports & 0\\\\\n",
       "\tTrade & 0\\\\\n",
       "\\end{tabular}\n"
      ],
      "text/markdown": [
       "\n",
       "| <!--/--> | na_count |\n",
       "|---|---|\n",
       "| id | 0 |\n",
       "| Country.Name | 0 |\n",
       "| Country.Code | 0 |\n",
       "| Year | 0 |\n",
       "| Balance | 0 |\n",
       "| Inflation | 0 |\n",
       "| GDP | 0 |\n",
       "| Exports | 0 |\n",
       "| Trade | 0 |\n",
       "\n"
      ],
      "text/plain": [
       "             na_count\n",
       "id           0       \n",
       "Country.Name 0       \n",
       "Country.Code 0       \n",
       "Year         0       \n",
       "Balance      0       \n",
       "Inflation    0       \n",
       "GDP          0       \n",
       "Exports      0       \n",
       "Trade        0       "
      ]
     },
     "metadata": {},
     "output_type": "display_data"
    }
   ],
   "source": [
    "train_noNA <- na.omit(train)\n",
    "\n",
    "# Check missing values now\n",
    "na_count <- sapply(train_noNA, function(y) sum(length(which(is.na(y)))))\n",
    "na_count <- data.frame(na_count)\n",
    "na_count"
   ]
  },
  {
   "cell_type": "markdown",
   "metadata": {},
   "source": [
    "**Considered data from the year 1990 onwards**"
   ]
  },
  {
   "cell_type": "code",
   "execution_count": 68,
   "metadata": {},
   "outputs": [
    {
     "data": {
      "text/html": [
       "1961"
      ],
      "text/latex": [
       "1961"
      ],
      "text/markdown": [
       "1961"
      ],
      "text/plain": [
       "[1] 1961"
      ]
     },
     "metadata": {},
     "output_type": "display_data"
    },
    {
     "data": {
      "text/html": [
       "2016"
      ],
      "text/latex": [
       "2016"
      ],
      "text/markdown": [
       "2016"
      ],
      "text/plain": [
       "[1] 2016"
      ]
     },
     "metadata": {},
     "output_type": "display_data"
    }
   ],
   "source": [
    "min(train_noNA$Year)\n",
    "max(train_noNA$Year)"
   ]
  },
  {
   "cell_type": "code",
   "execution_count": 69,
   "metadata": {},
   "outputs": [
    {
     "data": {
      "text/html": [
       "2971"
      ],
      "text/latex": [
       "2971"
      ],
      "text/markdown": [
       "2971"
      ],
      "text/plain": [
       "[1] 2971"
      ]
     },
     "metadata": {},
     "output_type": "display_data"
    }
   ],
   "source": [
    "train_from1990 <- train_noNA[train_noNA$Year>=1990,2:9]\n",
    "\n",
    "nrow(train_from1990)"
   ]
  },
  {
   "cell_type": "code",
   "execution_count": 70,
   "metadata": {},
   "outputs": [],
   "source": [
    "# Separate datasets by Year\n",
    "\n",
    "mycols = c('Country.Name', 'Country.Code', 'Balance', 'Inflation', 'GDP', 'Exports', 'Trade')\n",
    "\n",
    "train_1990 <- train_from1990[train_from1990$Year==1990, mycols]\n",
    "train_1991 <- train_from1990[train_from1990$Year==1991, mycols]\n",
    "train_1992 <- train_from1990[train_from1990$Year==1992, mycols]\n",
    "train_1993 <- train_from1990[train_from1990$Year==1993, mycols]\n",
    "train_1994 <- train_from1990[train_from1990$Year==1994, mycols]\n",
    "train_1995 <- train_from1990[train_from1990$Year==1995, mycols]\n",
    "train_1996 <- train_from1990[train_from1990$Year==1996, mycols]\n",
    "train_1997 <- train_from1990[train_from1990$Year==1997, mycols]\n",
    "train_1998 <- train_from1990[train_from1990$Year==1998, mycols]\n",
    "train_1999 <- train_from1990[train_from1990$Year==1999, mycols]\n",
    "train_2000 <- train_from1990[train_from1990$Year==2000, mycols]\n",
    "train_2001 <- train_from1990[train_from1990$Year==2001, mycols]\n",
    "train_2002 <- train_from1990[train_from1990$Year==2002, mycols]\n",
    "train_2003 <- train_from1990[train_from1990$Year==2003, mycols]\n",
    "train_2004 <- train_from1990[train_from1990$Year==2004, mycols]\n",
    "train_2005 <- train_from1990[train_from1990$Year==2005, mycols]\n",
    "train_2006 <- train_from1990[train_from1990$Year==2006, mycols]\n",
    "train_2007 <- train_from1990[train_from1990$Year==2007, mycols]\n",
    "train_2008 <- train_from1990[train_from1990$Year==2008, mycols]\n",
    "train_2009 <- train_from1990[train_from1990$Year==2009, mycols]\n",
    "train_2010 <- train_from1990[train_from1990$Year==2010, mycols]\n",
    "train_2011 <- train_from1990[train_from1990$Year==2011, mycols]\n",
    "train_2012 <- train_from1990[train_from1990$Year==2012, mycols]\n",
    "train_2013 <- train_from1990[train_from1990$Year==2013, mycols]\n",
    "train_2014 <- train_from1990[train_from1990$Year==2014, mycols]\n",
    "train_2015 <- train_from1990[train_from1990$Year==2015, mycols]\n",
    "train_2016 <- train_from1990[train_from1990$Year==2016, mycols]\n"
   ]
  },
  {
   "cell_type": "code",
   "execution_count": 71,
   "metadata": {},
   "outputs": [],
   "source": [
    "# Rename columns\n",
    "colnames(train_1990) <- c('CountryName','CountryCode','Balance_1990','Inflation_1990','GDP_1990','Exports_1990','Trade_1990')\n",
    "colnames(train_1991) <- c('CountryName','CountryCode','Balance_1991','Inflation_1991','GDP_1991','Exports_1991','Trade_1991')\n",
    "colnames(train_1992) <- c('CountryName','CountryCode','Balance_1992','Inflation_1992','GDP_1992','Exports_1992','Trade_1992')\n",
    "colnames(train_1993) <- c('CountryName','CountryCode','Balance_1993','Inflation_1993','GDP_1993','Exports_1993','Trade_1993')\n",
    "colnames(train_1994) <- c('CountryName','CountryCode','Balance_1994','Inflation_1994','GDP_1994','Exports_1994','Trade_1994')\n",
    "colnames(train_1995) <- c('CountryName','CountryCode','Balance_1995','Inflation_1995','GDP_1995','Exports_1995','Trade_1995')\n",
    "colnames(train_1996) <- c('CountryName','CountryCode','Balance_1996','Inflation_1996','GDP_1996','Exports_1996','Trade_1996')\n",
    "colnames(train_1997) <- c('CountryName','CountryCode','Balance_1997','Inflation_1997','GDP_1997','Exports_1997','Trade_1997')\n",
    "colnames(train_1998) <- c('CountryName','CountryCode','Balance_1998','Inflation_1998','GDP_1998','Exports_1998','Trade_1998')\n",
    "colnames(train_1999) <- c('CountryName','CountryCode','Balance_1999','Inflation_1999','GDP_1999','Exports_1999','Trade_1999')\n",
    "colnames(train_2000) <- c('CountryName','CountryCode','Balance_2000','Inflation_2000','GDP_2000','Exports_2000','Trade_2000')\n",
    "colnames(train_2001) <- c('CountryName','CountryCode','Balance_2001','Inflation_2001','GDP_2001','Exports_2001','Trade_2001')\n",
    "colnames(train_2002) <- c('CountryName','CountryCode','Balance_2002','Inflation_2002','GDP_2002','Exports_2002','Trade_2002')\n",
    "colnames(train_2003) <- c('CountryName','CountryCode','Balance_2003','Inflation_2003','GDP_2003','Exports_2003','Trade_2003')\n",
    "colnames(train_2004) <- c('CountryName','CountryCode','Balance_2004','Inflation_2004','GDP_2004','Exports_2004','Trade_2004')\n",
    "colnames(train_2005) <- c('CountryName','CountryCode','Balance_2005','Inflation_2005','GDP_2005','Exports_2005','Trade_2005')\n",
    "colnames(train_2006) <- c('CountryName','CountryCode','Balance_2006','Inflation_2006','GDP_2006','Exports_2006','Trade_2006')\n",
    "colnames(train_2007) <- c('CountryName','CountryCode','Balance_2007','Inflation_2007','GDP_2007','Exports_2007','Trade_2007')\n",
    "colnames(train_2008) <- c('CountryName','CountryCode','Balance_2008','Inflation_2008','GDP_2008','Exports_2008','Trade_2008')\n",
    "colnames(train_2009) <- c('CountryName','CountryCode','Balance_2009','Inflation_2009','GDP_2009','Exports_2009','Trade_2009')\n",
    "colnames(train_2010) <- c('CountryName','CountryCode','Balance_2010','Inflation_2010','GDP_2010','Exports_2010','Trade_2010')\n",
    "colnames(train_2011) <- c('CountryName','CountryCode','Balance_2011','Inflation_2011','GDP_2011','Exports_2011','Trade_2011')\n",
    "colnames(train_2012) <- c('CountryName','CountryCode','Balance_2012','Inflation_2012','GDP_2012','Exports_2012','Trade_2012')\n",
    "colnames(train_2013) <- c('CountryName','CountryCode','Balance_2013','Inflation_2013','GDP_2013','Exports_2013','Trade_2013')\n",
    "colnames(train_2014) <- c('CountryName','CountryCode','Balance_2014','Inflation_2014','GDP_2014','Exports_2014','Trade_2014')\n",
    "colnames(train_2015) <- c('CountryName','CountryCode','Balance_2015','Inflation_2015','GDP_2015','Exports_2015','Trade_2015')\n",
    "colnames(train_2016) <- c('CountryName','CountryCode','Balance_2016','Inflation_2016','GDP_2016','Exports_2016','Trade_2016')\n"
   ]
  },
  {
   "cell_type": "code",
   "execution_count": 72,
   "metadata": {},
   "outputs": [
    {
     "data": {
      "text/html": [
       "102"
      ],
      "text/latex": [
       "102"
      ],
      "text/markdown": [
       "102"
      ],
      "text/plain": [
       "[1] 102"
      ]
     },
     "metadata": {},
     "output_type": "display_data"
    },
    {
     "data": {
      "text/html": [
       "<table>\n",
       "<thead><tr><th></th><th scope=col>CountryName</th><th scope=col>CountryCode</th><th scope=col>Balance_2016</th><th scope=col>Inflation_2016</th><th scope=col>GDP_2016</th><th scope=col>Exports_2016</th><th scope=col>Trade_2016</th></tr></thead>\n",
       "<tbody>\n",
       "\t<tr><th scope=row>5</th><td>Malta       </td><td>MLT         </td><td>   726913236</td><td> 1.60454816 </td><td>5.5166172   </td><td>3.017299e+09</td><td>83.78147    </td></tr>\n",
       "\t<tr><th scope=row>48</th><td>Germany     </td><td>DEU         </td><td>287000000000</td><td> 1.32921070 </td><td>1.9436254   </td><td>1.340000e+12</td><td>68.81783    </td></tr>\n",
       "\t<tr><th scope=row>88</th><td>Japan       </td><td>JPN         </td><td>187000000000</td><td> 0.27355774 </td><td>0.9381939   </td><td>6.450000e+11</td><td>25.30679    </td></tr>\n",
       "\t<tr><th scope=row>116</th><td>Paraguay    </td><td>PRY         </td><td>   414532813</td><td> 5.27924056 </td><td>4.0195550   </td><td>8.493659e+09</td><td>66.53359    </td></tr>\n",
       "\t<tr><th scope=row>141</th><td>Haiti       </td><td>HTI         </td><td>   -72459348</td><td>12.70684553 </td><td>1.4399078   </td><td>9.948500e+08</td><td>55.06667    </td></tr>\n",
       "\t<tr><th scope=row>151</th><td>Denmark     </td><td>DNK         </td><td> 22459550689</td><td>-0.04644416 </td><td>1.9640771   </td><td>9.534593e+10</td><td>58.93944    </td></tr>\n",
       "</tbody>\n",
       "</table>\n"
      ],
      "text/latex": [
       "\\begin{tabular}{r|lllllll}\n",
       "  & CountryName & CountryCode & Balance\\_2016 & Inflation\\_2016 & GDP\\_2016 & Exports\\_2016 & Trade\\_2016\\\\\n",
       "\\hline\n",
       "\t5 & Malta        & MLT          &    726913236 &  1.60454816  & 5.5166172    & 3.017299e+09 & 83.78147    \\\\\n",
       "\t48 & Germany      & DEU          & 287000000000 &  1.32921070  & 1.9436254    & 1.340000e+12 & 68.81783    \\\\\n",
       "\t88 & Japan        & JPN          & 187000000000 &  0.27355774  & 0.9381939    & 6.450000e+11 & 25.30679    \\\\\n",
       "\t116 & Paraguay     & PRY          &    414532813 &  5.27924056  & 4.0195550    & 8.493659e+09 & 66.53359    \\\\\n",
       "\t141 & Haiti        & HTI          &    -72459348 & 12.70684553  & 1.4399078    & 9.948500e+08 & 55.06667    \\\\\n",
       "\t151 & Denmark      & DNK          &  22459550689 & -0.04644416  & 1.9640771    & 9.534593e+10 & 58.93944    \\\\\n",
       "\\end{tabular}\n"
      ],
      "text/markdown": [
       "\n",
       "| <!--/--> | CountryName | CountryCode | Balance_2016 | Inflation_2016 | GDP_2016 | Exports_2016 | Trade_2016 |\n",
       "|---|---|---|---|---|---|---|---|\n",
       "| 5 | Malta        | MLT          |    726913236 |  1.60454816  | 5.5166172    | 3.017299e+09 | 83.78147     |\n",
       "| 48 | Germany      | DEU          | 287000000000 |  1.32921070  | 1.9436254    | 1.340000e+12 | 68.81783     |\n",
       "| 88 | Japan        | JPN          | 187000000000 |  0.27355774  | 0.9381939    | 6.450000e+11 | 25.30679     |\n",
       "| 116 | Paraguay     | PRY          |    414532813 |  5.27924056  | 4.0195550    | 8.493659e+09 | 66.53359     |\n",
       "| 141 | Haiti        | HTI          |    -72459348 | 12.70684553  | 1.4399078    | 9.948500e+08 | 55.06667     |\n",
       "| 151 | Denmark      | DNK          |  22459550689 | -0.04644416  | 1.9640771    | 9.534593e+10 | 58.93944     |\n",
       "\n"
      ],
      "text/plain": [
       "    CountryName CountryCode Balance_2016 Inflation_2016 GDP_2016  Exports_2016\n",
       "5   Malta       MLT            726913236  1.60454816    5.5166172 3.017299e+09\n",
       "48  Germany     DEU         287000000000  1.32921070    1.9436254 1.340000e+12\n",
       "88  Japan       JPN         187000000000  0.27355774    0.9381939 6.450000e+11\n",
       "116 Paraguay    PRY            414532813  5.27924056    4.0195550 8.493659e+09\n",
       "141 Haiti       HTI            -72459348 12.70684553    1.4399078 9.948500e+08\n",
       "151 Denmark     DNK          22459550689 -0.04644416    1.9640771 9.534593e+10\n",
       "    Trade_2016\n",
       "5   83.78147  \n",
       "48  68.81783  \n",
       "88  25.30679  \n",
       "116 66.53359  \n",
       "141 55.06667  \n",
       "151 58.93944  "
      ]
     },
     "metadata": {},
     "output_type": "display_data"
    }
   ],
   "source": [
    "nrow(train_2016)\n",
    "head(train_2016)"
   ]
  },
  {
   "cell_type": "code",
   "execution_count": 73,
   "metadata": {},
   "outputs": [
    {
     "data": {
      "text/html": [
       "150"
      ],
      "text/latex": [
       "150"
      ],
      "text/markdown": [
       "150"
      ],
      "text/plain": [
       "[1] 150"
      ]
     },
     "metadata": {},
     "output_type": "display_data"
    }
   ],
   "source": [
    "# Unique Countries\n",
    "length(unique(train_from1990$Country.Code))"
   ]
  },
  {
   "cell_type": "code",
   "execution_count": 74,
   "metadata": {},
   "outputs": [
    {
     "data": {
      "text/html": [
       "150"
      ],
      "text/latex": [
       "150"
      ],
      "text/markdown": [
       "150"
      ],
      "text/plain": [
       "[1] 150"
      ]
     },
     "metadata": {},
     "output_type": "display_data"
    },
    {
     "data": {
      "text/html": [
       "<table>\n",
       "<thead><tr><th></th><th scope=col>Country.Name</th><th scope=col>Country.Code</th></tr></thead>\n",
       "<tbody>\n",
       "\t<tr><th scope=row>2</th><td>Togo     </td><td>TGO      </td></tr>\n",
       "\t<tr><th scope=row>3</th><td>Pakistan </td><td>PAK      </td></tr>\n",
       "\t<tr><th scope=row>5</th><td>Malta    </td><td>MLT      </td></tr>\n",
       "\t<tr><th scope=row>6</th><td>Israel   </td><td>ISR      </td></tr>\n",
       "\t<tr><th scope=row>7</th><td>Nepal    </td><td>NPL      </td></tr>\n",
       "\t<tr><th scope=row>8</th><td>Argentina</td><td>ARG      </td></tr>\n",
       "</tbody>\n",
       "</table>\n"
      ],
      "text/latex": [
       "\\begin{tabular}{r|ll}\n",
       "  & Country.Name & Country.Code\\\\\n",
       "\\hline\n",
       "\t2 & Togo      & TGO      \\\\\n",
       "\t3 & Pakistan  & PAK      \\\\\n",
       "\t5 & Malta     & MLT      \\\\\n",
       "\t6 & Israel    & ISR      \\\\\n",
       "\t7 & Nepal     & NPL      \\\\\n",
       "\t8 & Argentina & ARG      \\\\\n",
       "\\end{tabular}\n"
      ],
      "text/markdown": [
       "\n",
       "| <!--/--> | Country.Name | Country.Code |\n",
       "|---|---|---|\n",
       "| 2 | Togo      | TGO       |\n",
       "| 3 | Pakistan  | PAK       |\n",
       "| 5 | Malta     | MLT       |\n",
       "| 6 | Israel    | ISR       |\n",
       "| 7 | Nepal     | NPL       |\n",
       "| 8 | Argentina | ARG       |\n",
       "\n"
      ],
      "text/plain": [
       "  Country.Name Country.Code\n",
       "2 Togo         TGO         \n",
       "3 Pakistan     PAK         \n",
       "5 Malta        MLT         \n",
       "6 Israel       ISR         \n",
       "7 Nepal        NPL         \n",
       "8 Argentina    ARG         "
      ]
     },
     "metadata": {},
     "output_type": "display_data"
    }
   ],
   "source": [
    "CompleteTrain <- unique(train_from1990[,c('Country.Name','Country.Code')])\n",
    "nrow(CompleteTrain)\n",
    "head(CompleteTrain)"
   ]
  },
  {
   "cell_type": "code",
   "execution_count": 75,
   "metadata": {},
   "outputs": [
    {
     "data": {
      "text/html": [
       "'list'"
      ],
      "text/latex": [
       "'list'"
      ],
      "text/markdown": [
       "'list'"
      ],
      "text/plain": [
       "[1] \"list\""
      ]
     },
     "metadata": {},
     "output_type": "display_data"
    },
    {
     "data": {
      "text/html": [
       "'data.frame'"
      ],
      "text/latex": [
       "'data.frame'"
      ],
      "text/markdown": [
       "'data.frame'"
      ],
      "text/plain": [
       "[1] \"data.frame\""
      ]
     },
     "metadata": {},
     "output_type": "display_data"
    }
   ],
   "source": [
    "typeof(CompleteTrain)\n",
    "class(CompleteTrain)"
   ]
  },
  {
   "cell_type": "code",
   "execution_count": 76,
   "metadata": {},
   "outputs": [
    {
     "data": {
      "text/html": [
       "<table>\n",
       "<thead><tr><th></th><th scope=col>CountryName</th><th scope=col>CountryCode</th></tr></thead>\n",
       "<tbody>\n",
       "\t<tr><th scope=row>2</th><td>Togo     </td><td>TGO      </td></tr>\n",
       "\t<tr><th scope=row>3</th><td>Pakistan </td><td>PAK      </td></tr>\n",
       "\t<tr><th scope=row>5</th><td>Malta    </td><td>MLT      </td></tr>\n",
       "\t<tr><th scope=row>6</th><td>Israel   </td><td>ISR      </td></tr>\n",
       "\t<tr><th scope=row>7</th><td>Nepal    </td><td>NPL      </td></tr>\n",
       "\t<tr><th scope=row>8</th><td>Argentina</td><td>ARG      </td></tr>\n",
       "</tbody>\n",
       "</table>\n"
      ],
      "text/latex": [
       "\\begin{tabular}{r|ll}\n",
       "  & CountryName & CountryCode\\\\\n",
       "\\hline\n",
       "\t2 & Togo      & TGO      \\\\\n",
       "\t3 & Pakistan  & PAK      \\\\\n",
       "\t5 & Malta     & MLT      \\\\\n",
       "\t6 & Israel    & ISR      \\\\\n",
       "\t7 & Nepal     & NPL      \\\\\n",
       "\t8 & Argentina & ARG      \\\\\n",
       "\\end{tabular}\n"
      ],
      "text/markdown": [
       "\n",
       "| <!--/--> | CountryName | CountryCode |\n",
       "|---|---|---|\n",
       "| 2 | Togo      | TGO       |\n",
       "| 3 | Pakistan  | PAK       |\n",
       "| 5 | Malta     | MLT       |\n",
       "| 6 | Israel    | ISR       |\n",
       "| 7 | Nepal     | NPL       |\n",
       "| 8 | Argentina | ARG       |\n",
       "\n"
      ],
      "text/plain": [
       "  CountryName CountryCode\n",
       "2 Togo        TGO        \n",
       "3 Pakistan    PAK        \n",
       "5 Malta       MLT        \n",
       "6 Israel      ISR        \n",
       "7 Nepal       NPL        \n",
       "8 Argentina   ARG        "
      ]
     },
     "metadata": {},
     "output_type": "display_data"
    }
   ],
   "source": [
    "colnames(CompleteTrain) <- c('CountryName', 'CountryCode')\n",
    "head(CompleteTrain)"
   ]
  },
  {
   "cell_type": "code",
   "execution_count": 77,
   "metadata": {},
   "outputs": [],
   "source": [
    "# Merge datasets\n",
    "\n",
    "final <- Reduce(function(x,y) merge(x, y, by = c('CountryCode', 'CountryName'), all.x=TRUE), \n",
    "               list(CompleteTrain, train_1990, train_1991, train_1992, train_1993, train_1994, train_1995, train_1996,\n",
    "               train_1997, train_1998, train_1999, train_2000, train_2001, train_2002, train_2003,\n",
    "               train_2004, train_2005, train_2006, train_2007, train_2008, train_2009, train_2010,\n",
    "               train_2011, train_2012, train_2013, train_2014, train_2015, train_2016))\n"
   ]
  },
  {
   "cell_type": "code",
   "execution_count": 78,
   "metadata": {},
   "outputs": [
    {
     "data": {
      "text/html": [
       "'data.frame'"
      ],
      "text/latex": [
       "'data.frame'"
      ],
      "text/markdown": [
       "'data.frame'"
      ],
      "text/plain": [
       "[1] \"data.frame\""
      ]
     },
     "metadata": {},
     "output_type": "display_data"
    }
   ],
   "source": [
    "class(final)"
   ]
  },
  {
   "cell_type": "code",
   "execution_count": 79,
   "metadata": {},
   "outputs": [
    {
     "name": "stdout",
     "output_type": "stream",
     "text": [
      "'data.frame':\t150 obs. of  137 variables:\n",
      " $ CountryCode   : Factor w/ 150 levels \"ABW\",\"AGO\",\"ALB\",..: 1 2 3 4 5 6 7 8 9 10 ...\n",
      " $ CountryName   : Factor w/ 150 levels \"Albania\",\"Algeria\",..: 7 3 1 5 6 4 8 9 21 16 ...\n",
      " $ Balance_1990  : num  NA -2.36e+08 -1.18e+08 4.55e+09 NA ...\n",
      " $ Inflation_1990: num  NA 0.301 -0.469 2076.793 NA ...\n",
      " $ GDP_1990      : num  NA -0.3 -9.58 -2.4 NA ...\n",
      " $ Exports_1990  : num  NA 3.91e+09 2.30e+08 1.24e+10 NA ...\n",
      " $ Trade_1990    : num  NA 54.7 29 11.6 NA ...\n",
      " $ Balance_1991  : num  NA -5.80e+08 NA -6.47e+08 NA ...\n",
      " $ Inflation_1991: num  NA 170 NA 133 NA ...\n",
      " $ GDP_1991      : num  NA -1.2 NA 12.7 NA ...\n",
      " $ Exports_1991  : num  NA 3.41e+09 NA 1.20e+10 NA ...\n",
      " $ Trade_1991    : num  NA 39.3 NA 10.7 NA ...\n",
      " $ Balance_1992  : num  NA -7.35e+08 NA -5.55e+09 NA ...\n",
      " $ Inflation_1992: num  NA 249.1 NA 11.9 NA ...\n",
      " $ GDP_1992      : num  NA -6.9 NA 11.9 NA ...\n",
      " $ Exports_1992  : num  NA 3.76e+09 NA 1.22e+10 NA ...\n",
      " $ Trade_1992    : num  NA 101 NA 11.8 NA ...\n",
      " $ Balance_1993  : num  NA -6.68e+08 NA -8.21e+09 NA ...\n",
      " $ Inflation_1993: num  NA 1273.99 NA -1.47 NA ...\n",
      " $ GDP_1993      : num  NA -24.7 NA 5.91 NA ...\n",
      " $ Exports_1993  : num  NA 3.76e+09 NA 1.31e+10 NA ...\n",
      " $ Trade_1993    : num  NA 99 NA 12.6 NA ...\n",
      " $ Balance_1994  : num  NA -3.4e+08 NA -1.1e+10 NA ...\n",
      " $ Inflation_1994: num  NA 2127.61 NA 2.85 NA ...\n",
      " $ GDP_1994      : num  NA 3.5 NA 5.84 NA ...\n",
      " $ Exports_1994  : num  NA 3.02e+09 NA 1.57e+10 NA ...\n",
      " $ Trade_1994    : num  NA 110.2 NA 14.4 NA ...\n",
      " $ Balance_1995  : num  -2.79e+05 -2.95e+08 -1.15e+07 -5.12e+09 -2.21e+08 ...\n",
      " $ Inflation_1995: num  -1.93 1895.32 5.57 3.17 161.16 ...\n",
      " $ GDP_1995      : num  1.25 10.4 13.3 -2.85 6.9 ...\n",
      " $ Exports_1995  : num  1.35e+09 3.64e+09 2.02e+08 2.10e+10 2.71e+08 ...\n",
      " $ Trade_1995    : num  222.9 101.4 37.8 15.9 64.4 ...\n",
      " $ Balance_1996  : num  -6.91e+07 3.27e+09 NA -6.77e+09 NA ...\n",
      " $ Inflation_1996: num  -3.0891 5399.5069 NA -0.0524 NA ...\n",
      " $ GDP_1996      : num  7.81 11.2 NA 5.53 NA ...\n",
      " $ Exports_1996  : num  1.73e+09 5.10e+09 NA 2.38e+10 NA ...\n",
      " $ Trade_1996    : num  273.1 94.8 NA 17.5 NA ...\n",
      " $ Balance_1997  : num  -1.96e+08 -8.84e+08 -2.72e+08 NA -3.36e+08 ...\n",
      " $ Inflation_1997: num  4.07 94.32 12.09 NA 17.74 ...\n",
      " $ GDP_1997      : num  6.67 7.9 -10.84 NA 3.32 ...\n",
      " $ Exports_1997  : num  1.72e+09 5.01e+09 1.39e+08 NA 2.33e+08 ...\n",
      " $ Trade_1997    : num  250.7 99.4 33.3 NA 68.6 ...\n",
      " $ Balance_1998  : num  -1.88e+07 NA NA NA -4.16e+08 ...\n",
      " $ Inflation_1998: num  7.48 NA NA NA 10.7 ...\n",
      " $ GDP_1998      : num  1.15 NA NA NA 7.3 ...\n",
      " $ Exports_1998  : num  1.16e+09 NA NA NA 2.21e+08 ...\n",
      " $ Trade_1998    : num  161.1 NA NA NA 59.3 ...\n",
      " $ Balance_1999  : num  -4.36e+08 -1.71e+09 -1.55e+08 -1.19e+10 -3.13e+08 ...\n",
      " $ Inflation_1999: num  -1.0192 556.9393 1.5333 -1.8366 0.0538 ...\n",
      " $ GDP_1999      : num  4.51 3.24 13.5 -3.39 3.3 ...\n",
      " $ Exports_1999  : num  1.39e+09 5.16e+09 3.51e+08 2.33e+10 2.32e+08 ...\n",
      " $ Trade_1999    : num  196.4 134.3 44.1 17.2 55.9 ...\n",
      " $ Balance_2000  : num  2.07e+08 NA -1.56e+08 -8.98e+09 -3.02e+08 ...\n",
      " $ Inflation_2000: num  9.14 NA 3.98 1.04 -1.37 ...\n",
      " $ GDP_2000      : num  -0.365 NA 6.667 -0.789 5.9 ...\n",
      " $ Exports_2000  : num  2.52e+09 NA 2.58e+08 2.63e+10 2.94e+08 ...\n",
      " $ Trade_2000    : num  272.5 NA 37.1 18.1 61.5 ...\n",
      " $ Balance_2001  : num  3.09e+08 -1.43e+09 -2.17e+08 -3.78e+09 -2.21e+08 ...\n",
      " $ Inflation_2001: num  4.77 106.32 3.33 -1.1 4.07 ...\n",
      " $ GDP_2001      : num  -2.16 4.22 7.94 -4.41 9.56 ...\n",
      " $ Exports_2001  : num  2.42e+09 6.53e+09 3.07e+08 2.65e+10 3.43e+08 ...\n",
      " $ Trade_2001    : num  249.7 108.7 40.2 17.4 57.4 ...\n",
      " $ Balance_2002  : num  NA NA -4.08e+08 8.77e+09 -1.48e+08 ...\n",
      " $ Inflation_2002: num  NA NA 2.41 30.56 2.37 ...\n",
      " $ GDP_2002      : num  NA NA 4.23 -10.89 13.19 ...\n",
      " $ Exports_2002  : num  NA NA 3.40e+08 2.56e+10 5.05e+08 ...\n",
      " $ Trade_2002    : num  NA NA 41.6 35.4 62.8 ...\n",
      " $ Balance_2003  : num  NA -7.20e+08 NA 8.14e+09 -1.74e+08 ...\n",
      " $ Inflation_2003: num  NA 84.89 NA 10.5 4.56 ...\n",
      " $ GDP_2003      : num  NA 5.25 NA 8.84 14.04 ...\n",
      " $ Exports_2003  : num  NA 9.51e+09 NA 2.96e+10 6.86e+08 ...\n",
      " $ Trade_2003    : num  NA 106 NA 34 70 ...\n",
      " $ Balance_2004  : num  2.71e+08 6.81e+08 NA 3.21e+09 -7.88e+07 ...\n",
      " $ Inflation_2004: num  8.96 39.79 NA 18.36 6.31 ...\n",
      " $ GDP_2004      : num  1.18 10.88 NA 9.03 10.47 ...\n",
      " $ Exports_2004  : num  3.43e+09 1.35e+10 NA 3.46e+10 7.23e+08 ...\n",
      " $ Trade_2004    : num  315.2 98.3 NA 34.6 58 ...\n",
      " $ Balance_2005  : num  1.05e+08 5.14e+09 NA 5.27e+09 -1.24e+08 ...\n",
      " $ Inflation_2005: num  4.21 26.82 NA 10.32 3.24 ...\n",
      " $ GDP_2005      : num  0.38 18.26 NA 8.85 13.87 ...\n",
      " $ Exports_2005  : num  4.42e+09 2.41e+10 NA 4.04e+10 9.74e+08 ...\n",
      " $ Trade_2005    : num  373.4 115 NA 34.7 56.6 ...\n",
      " $ Balance_2006  : num  3.11e+08 1.07e+10 -6.71e+08 6.50e+09 -1.53e+08 ...\n",
      " $ Inflation_2006: num  1.49 13.04 2.7 13.74 4.62 ...\n",
      " $ GDP_2006      : num  2.36 20.74 5.43 8.05 13.2 ...\n",
      " $ Exports_2006  : num  4.72e+09 3.19e+10 7.98e+08 4.65e+10 9.85e+08 ...\n",
      " $ Trade_2006    : num  389.8 97.2 42.9 34.7 49.8 ...\n",
      " $ Balance_2007  : num  2.58e+08 1.06e+10 NA 6.05e+09 -6.77e+08 ...\n",
      " $ Inflation_2007: num  12.46 12.62 NA 14.94 4.23 ...\n",
      " $ GDP_2007      : num  -3.65 22.59 NA 9.01 13.75 ...\n",
      " $ Exports_2007  : num  5.21e+09 4.44e+10 NA 5.58e+10 1.15e+09 ...\n",
      " $ Trade_2007    : num  393.8 96 NA 34.9 48 ...\n",
      " $ Balance_2008  : num  1.12e+05 7.19e+09 -2.02e+09 5.42e+09 NA ...\n",
      " $ Inflation_2008: num  14.28 19.68 7.63 23.17 NA ...\n",
      " $ GDP_2008      : num  -6.88 13.82 3.76 4.06 NA ...\n",
      " $ Exports_2008  : num  5.46e+09 6.39e+10 1.35e+09 7.00e+10 NA ...\n",
      " $ Trade_2008    : num  410.7 100.9 51.3 35.3 NA ...\n",
      " $ Balance_2009  : num  NA NA -1.85e+09 7.25e+09 -1.43e+09 ...\n",
      " $ Inflation_2009: num  NA NA 2.42 15.38 2.56 ...\n",
      "  [list output truncated]\n"
     ]
    }
   ],
   "source": [
    "str(final)"
   ]
  },
  {
   "cell_type": "code",
   "execution_count": 80,
   "metadata": {},
   "outputs": [
    {
     "data": {
      "text/html": [
       "<table>\n",
       "<thead><tr><th scope=col>CountryCode</th><th scope=col>CountryName</th><th scope=col>Balance_1990</th><th scope=col>Inflation_1990</th><th scope=col>GDP_1990</th><th scope=col>Exports_1990</th><th scope=col>Trade_1990</th><th scope=col>Balance_1991</th><th scope=col>Inflation_1991</th><th scope=col>GDP_1991</th><th scope=col>...</th><th scope=col>Balance_2015</th><th scope=col>Inflation_2015</th><th scope=col>GDP_2015</th><th scope=col>Exports_2015</th><th scope=col>Trade_2015</th><th scope=col>Balance_2016</th><th scope=col>Inflation_2016</th><th scope=col>GDP_2016</th><th scope=col>Exports_2016</th><th scope=col>Trade_2016</th></tr></thead>\n",
       "<tbody>\n",
       "\t<tr><td>ABW                </td><td>Aruba              </td><td>        NA         </td><td>          NA       </td><td>       NA          </td><td>        NA         </td><td>      NA           </td><td>        NA         </td><td>        NA         </td><td>       NA          </td><td>...                </td><td>          NA       </td><td>        NA         </td><td>      NA           </td><td>         NA        </td><td>      NA           </td><td>          NA       </td><td>      NA           </td><td>        NA         </td><td>         NA        </td><td>      NA           </td></tr>\n",
       "\t<tr><td>AGO                </td><td>Angola             </td><td>-235500000         </td><td>   0.3009027       </td><td>-0.300000          </td><td>3.9100e+09         </td><td>54.73365           </td><td>-579600000         </td><td>169.905533         </td><td>-1.200000          </td><td>...                </td><td>-10272841903       </td><td>-4.0176477         </td><td>3.006981           </td><td>33181130226        </td><td>52.32371           </td><td> -3070971745       </td><td>27.42131           </td><td>-0.6653533         </td><td>27306200000        </td><td>41.79405           </td></tr>\n",
       "\t<tr><td>ALB                </td><td>Albania            </td><td>-118300000         </td><td>  -0.4687074       </td><td>-9.575640          </td><td>2.3000e+08         </td><td>29.02516           </td><td>        NA         </td><td>        NA         </td><td>       NA          </td><td>...                </td><td>  -978125860       </td><td> 0.1000312         </td><td>2.226581           </td><td> 1929552771        </td><td>55.13723           </td><td>          NA       </td><td>      NA           </td><td>        NA         </td><td>         NA        </td><td>      NA           </td></tr>\n",
       "\t<tr><td>ARG                </td><td>Argentina          </td><td>4552000000         </td><td>2076.7934730       </td><td>-2.398959          </td><td>1.2353e+10         </td><td>11.62273           </td><td>-647000000         </td><td>132.953228         </td><td>12.669710          </td><td>...                </td><td>-17621985168       </td><td>24.5453565         </td><td>2.647271           </td><td>56788000000        </td><td>19.93200           </td><td>-14693041563       </td><td>40.67531           </td><td>-2.2453441         </td><td>57732800000        </td><td>20.77853           </td></tr>\n",
       "\t<tr><td>ARM                </td><td>Armenia            </td><td>        NA         </td><td>          NA       </td><td>       NA          </td><td>        NA         </td><td>      NA           </td><td>        NA         </td><td>        NA         </td><td>       NA          </td><td>...                </td><td>  -272427725       </td><td> 1.2139099         </td><td>3.200000           </td><td> 1485300000        </td><td>44.76783           </td><td>          NA       </td><td>      NA           </td><td>        NA         </td><td>         NA        </td><td>      NA           </td></tr>\n",
       "\t<tr><td>ATG                </td><td>Antigua and Barbuda</td><td> -30985185         </td><td>   1.6502636       </td><td> 3.011646          </td><td>2.1000e+07         </td><td>60.06933           </td><td> -30922222         </td><td>  2.606167         </td><td> 2.176873          </td><td>...                </td><td>    92810679       </td><td> 2.4587683         </td><td>4.060219           </td><td>   66261989        </td><td>38.58929           </td><td>          NA       </td><td>      NA           </td><td>        NA         </td><td>         NA        </td><td>      NA           </td></tr>\n",
       "</tbody>\n",
       "</table>\n"
      ],
      "text/latex": [
       "\\begin{tabular}{r|lllllllllllllllllllllllllllllllllllllllllllllllllllllllllllllllllllllllllllllllllllllllllllllllllllllllllllllllllllllllllllllllllllllllll}\n",
       " CountryCode & CountryName & Balance\\_1990 & Inflation\\_1990 & GDP\\_1990 & Exports\\_1990 & Trade\\_1990 & Balance\\_1991 & Inflation\\_1991 & GDP\\_1991 & ... & Balance\\_2015 & Inflation\\_2015 & GDP\\_2015 & Exports\\_2015 & Trade\\_2015 & Balance\\_2016 & Inflation\\_2016 & GDP\\_2016 & Exports\\_2016 & Trade\\_2016\\\\\n",
       "\\hline\n",
       "\t ABW                 & Aruba               &         NA          &           NA        &        NA           &         NA          &       NA            &         NA          &         NA          &        NA           & ...                 &           NA        &         NA          &       NA            &          NA         &       NA            &           NA        &       NA            &         NA          &          NA         &       NA           \\\\\n",
       "\t AGO                 & Angola              & -235500000          &    0.3009027        & -0.300000           & 3.9100e+09          & 54.73365            & -579600000          & 169.905533          & -1.200000           & ...                 & -10272841903        & -4.0176477          & 3.006981            & 33181130226         & 52.32371            &  -3070971745        & 27.42131            & -0.6653533          & 27306200000         & 41.79405           \\\\\n",
       "\t ALB                 & Albania             & -118300000          &   -0.4687074        & -9.575640           & 2.3000e+08          & 29.02516            &         NA          &         NA          &        NA           & ...                 &   -978125860        &  0.1000312          & 2.226581            &  1929552771         & 55.13723            &           NA        &       NA            &         NA          &          NA         &       NA           \\\\\n",
       "\t ARG                 & Argentina           & 4552000000          & 2076.7934730        & -2.398959           & 1.2353e+10          & 11.62273            & -647000000          & 132.953228          & 12.669710           & ...                 & -17621985168        & 24.5453565          & 2.647271            & 56788000000         & 19.93200            & -14693041563        & 40.67531            & -2.2453441          & 57732800000         & 20.77853           \\\\\n",
       "\t ARM                 & Armenia             &         NA          &           NA        &        NA           &         NA          &       NA            &         NA          &         NA          &        NA           & ...                 &   -272427725        &  1.2139099          & 3.200000            &  1485300000         & 44.76783            &           NA        &       NA            &         NA          &          NA         &       NA           \\\\\n",
       "\t ATG                 & Antigua and Barbuda &  -30985185          &    1.6502636        &  3.011646           & 2.1000e+07          & 60.06933            &  -30922222          &   2.606167          &  2.176873           & ...                 &     92810679        &  2.4587683          & 4.060219            &    66261989         & 38.58929            &           NA        &       NA            &         NA          &          NA         &       NA           \\\\\n",
       "\\end{tabular}\n"
      ],
      "text/markdown": [
       "\n",
       "| CountryCode | CountryName | Balance_1990 | Inflation_1990 | GDP_1990 | Exports_1990 | Trade_1990 | Balance_1991 | Inflation_1991 | GDP_1991 | ... | Balance_2015 | Inflation_2015 | GDP_2015 | Exports_2015 | Trade_2015 | Balance_2016 | Inflation_2016 | GDP_2016 | Exports_2016 | Trade_2016 |\n",
       "|---|---|---|---|---|---|---|---|---|---|---|---|---|---|---|---|---|---|---|---|---|\n",
       "| ABW                 | Aruba               |         NA          |           NA        |        NA           |         NA          |       NA            |         NA          |         NA          |        NA           | ...                 |           NA        |         NA          |       NA            |          NA         |       NA            |           NA        |       NA            |         NA          |          NA         |       NA            |\n",
       "| AGO                 | Angola              | -235500000          |    0.3009027        | -0.300000           | 3.9100e+09          | 54.73365            | -579600000          | 169.905533          | -1.200000           | ...                 | -10272841903        | -4.0176477          | 3.006981            | 33181130226         | 52.32371            |  -3070971745        | 27.42131            | -0.6653533          | 27306200000         | 41.79405            |\n",
       "| ALB                 | Albania             | -118300000          |   -0.4687074        | -9.575640           | 2.3000e+08          | 29.02516            |         NA          |         NA          |        NA           | ...                 |   -978125860        |  0.1000312          | 2.226581            |  1929552771         | 55.13723            |           NA        |       NA            |         NA          |          NA         |       NA            |\n",
       "| ARG                 | Argentina           | 4552000000          | 2076.7934730        | -2.398959           | 1.2353e+10          | 11.62273            | -647000000          | 132.953228          | 12.669710           | ...                 | -17621985168        | 24.5453565          | 2.647271            | 56788000000         | 19.93200            | -14693041563        | 40.67531            | -2.2453441          | 57732800000         | 20.77853            |\n",
       "| ARM                 | Armenia             |         NA          |           NA        |        NA           |         NA          |       NA            |         NA          |         NA          |        NA           | ...                 |   -272427725        |  1.2139099          | 3.200000            |  1485300000         | 44.76783            |           NA        |       NA            |         NA          |          NA         |       NA            |\n",
       "| ATG                 | Antigua and Barbuda |  -30985185          |    1.6502636        |  3.011646           | 2.1000e+07          | 60.06933            |  -30922222          |   2.606167          |  2.176873           | ...                 |     92810679        |  2.4587683          | 4.060219            |    66261989         | 38.58929            |           NA        |       NA            |         NA          |          NA         |       NA            |\n",
       "\n"
      ],
      "text/plain": [
       "  CountryCode CountryName         Balance_1990 Inflation_1990 GDP_1990 \n",
       "1 ABW         Aruba                       NA             NA          NA\n",
       "2 AGO         Angola              -235500000      0.3009027   -0.300000\n",
       "3 ALB         Albania             -118300000     -0.4687074   -9.575640\n",
       "4 ARG         Argentina           4552000000   2076.7934730   -2.398959\n",
       "5 ARM         Armenia                     NA             NA          NA\n",
       "6 ATG         Antigua and Barbuda  -30985185      1.6502636    3.011646\n",
       "  Exports_1990 Trade_1990 Balance_1991 Inflation_1991 GDP_1991  ...\n",
       "1         NA         NA           NA           NA            NA ...\n",
       "2 3.9100e+09   54.73365   -579600000   169.905533     -1.200000 ...\n",
       "3 2.3000e+08   29.02516           NA           NA            NA ...\n",
       "4 1.2353e+10   11.62273   -647000000   132.953228     12.669710 ...\n",
       "5         NA         NA           NA           NA            NA ...\n",
       "6 2.1000e+07   60.06933    -30922222     2.606167      2.176873 ...\n",
       "  Balance_2015 Inflation_2015 GDP_2015 Exports_2015 Trade_2015 Balance_2016\n",
       "1           NA         NA           NA          NA        NA             NA\n",
       "2 -10272841903 -4.0176477     3.006981 33181130226  52.32371    -3070971745\n",
       "3   -978125860  0.1000312     2.226581  1929552771  55.13723             NA\n",
       "4 -17621985168 24.5453565     2.647271 56788000000  19.93200   -14693041563\n",
       "5   -272427725  1.2139099     3.200000  1485300000  44.76783             NA\n",
       "6     92810679  2.4587683     4.060219    66261989  38.58929             NA\n",
       "  Inflation_2016 GDP_2016   Exports_2016 Trade_2016\n",
       "1       NA               NA          NA        NA  \n",
       "2 27.42131       -0.6653533 27306200000  41.79405  \n",
       "3       NA               NA          NA        NA  \n",
       "4 40.67531       -2.2453441 57732800000  20.77853  \n",
       "5       NA               NA          NA        NA  \n",
       "6       NA               NA          NA        NA  "
      ]
     },
     "metadata": {},
     "output_type": "display_data"
    }
   ],
   "source": [
    "head(final)"
   ]
  },
  {
   "cell_type": "code",
   "execution_count": 81,
   "metadata": {},
   "outputs": [
    {
     "data": {
      "text/html": [
       "<table>\n",
       "<thead><tr><th></th><th scope=col>final_NAcount</th></tr></thead>\n",
       "<tbody>\n",
       "\t<tr><th scope=row>CountryCode</th><td> 0</td></tr>\n",
       "\t<tr><th scope=row>CountryName</th><td> 0</td></tr>\n",
       "\t<tr><th scope=row>Balance_1990</th><td>57</td></tr>\n",
       "\t<tr><th scope=row>Inflation_1990</th><td>57</td></tr>\n",
       "\t<tr><th scope=row>GDP_1990</th><td>57</td></tr>\n",
       "\t<tr><th scope=row>Exports_1990</th><td>57</td></tr>\n",
       "</tbody>\n",
       "</table>\n"
      ],
      "text/latex": [
       "\\begin{tabular}{r|l}\n",
       "  & final\\_NAcount\\\\\n",
       "\\hline\n",
       "\tCountryCode &  0\\\\\n",
       "\tCountryName &  0\\\\\n",
       "\tBalance\\_1990 & 57\\\\\n",
       "\tInflation\\_1990 & 57\\\\\n",
       "\tGDP\\_1990 & 57\\\\\n",
       "\tExports\\_1990 & 57\\\\\n",
       "\\end{tabular}\n"
      ],
      "text/markdown": [
       "\n",
       "| <!--/--> | final_NAcount |\n",
       "|---|---|\n",
       "| CountryCode |  0 |\n",
       "| CountryName |  0 |\n",
       "| Balance_1990 | 57 |\n",
       "| Inflation_1990 | 57 |\n",
       "| GDP_1990 | 57 |\n",
       "| Exports_1990 | 57 |\n",
       "\n"
      ],
      "text/plain": [
       "               final_NAcount\n",
       "CountryCode     0           \n",
       "CountryName     0           \n",
       "Balance_1990   57           \n",
       "Inflation_1990 57           \n",
       "GDP_1990       57           \n",
       "Exports_1990   57           "
      ]
     },
     "metadata": {},
     "output_type": "display_data"
    }
   ],
   "source": [
    "# NAs are introduced in cells after merging the datasets. Let's count the NAs\n",
    "\n",
    "final_NAcount <- sapply(final, function(y) sum(length(which(is.na(y)))))\n",
    "final_NAcount <- data.frame(final_NAcount)\n",
    "head(final_NAcount)"
   ]
  },
  {
   "cell_type": "code",
   "execution_count": 82,
   "metadata": {},
   "outputs": [
    {
     "data": {
      "text/html": [
       "5395"
      ],
      "text/latex": [
       "5395"
      ],
      "text/markdown": [
       "5395"
      ],
      "text/plain": [
       "[1] 5395"
      ]
     },
     "metadata": {},
     "output_type": "display_data"
    }
   ],
   "source": [
    "length(final[is.na(final)])"
   ]
  },
  {
   "cell_type": "code",
   "execution_count": 84,
   "metadata": {},
   "outputs": [
    {
     "data": {
      "text/html": [
       "0"
      ],
      "text/latex": [
       "0"
      ],
      "text/markdown": [
       "0"
      ],
      "text/plain": [
       "[1] 0"
      ]
     },
     "metadata": {},
     "output_type": "display_data"
    }
   ],
   "source": [
    "final[is.na(final)] <- 0\n",
    "\n",
    "length(final[is.na(final)])"
   ]
  },
  {
   "cell_type": "code",
   "execution_count": 85,
   "metadata": {},
   "outputs": [
    {
     "name": "stdout",
     "output_type": "stream",
     "text": [
      "'data.frame':\t150 obs. of  137 variables:\n",
      " $ CountryCode   : Factor w/ 150 levels \"ABW\",\"AGO\",\"ALB\",..: 1 2 3 4 5 6 7 8 9 10 ...\n",
      " $ CountryName   : Factor w/ 150 levels \"Albania\",\"Algeria\",..: 7 3 1 5 6 4 8 9 21 16 ...\n",
      " $ Balance_1990  : num  0.00 -2.36e+08 -1.18e+08 4.55e+09 0.00 ...\n",
      " $ Inflation_1990: num  0 0.301 -0.469 2076.793 0 ...\n",
      " $ GDP_1990      : num  0 -0.3 -9.58 -2.4 0 ...\n",
      " $ Exports_1990  : num  0.00 3.91e+09 2.30e+08 1.24e+10 0.00 ...\n",
      " $ Trade_1990    : num  0 54.7 29 11.6 0 ...\n",
      " $ Balance_1991  : num  0.00 -5.80e+08 0.00 -6.47e+08 0.00 ...\n",
      " $ Inflation_1991: num  0 170 0 133 0 ...\n",
      " $ GDP_1991      : num  0 -1.2 0 12.7 0 ...\n",
      " $ Exports_1991  : num  0.00 3.41e+09 0.00 1.20e+10 0.00 ...\n",
      " $ Trade_1991    : num  0 39.3 0 10.7 0 ...\n",
      " $ Balance_1992  : num  0.00 -7.35e+08 0.00 -5.55e+09 0.00 ...\n",
      " $ Inflation_1992: num  0 249.1 0 11.9 0 ...\n",
      " $ GDP_1992      : num  0 -6.9 0 11.9 0 ...\n",
      " $ Exports_1992  : num  0.00 3.76e+09 0.00 1.22e+10 0.00 ...\n",
      " $ Trade_1992    : num  0 101 0 11.8 0 ...\n",
      " $ Balance_1993  : num  0.00 -6.68e+08 0.00 -8.21e+09 0.00 ...\n",
      " $ Inflation_1993: num  0 1273.99 0 -1.47 0 ...\n",
      " $ GDP_1993      : num  0 -24.7 0 5.91 0 ...\n",
      " $ Exports_1993  : num  0.00 3.76e+09 0.00 1.31e+10 0.00 ...\n",
      " $ Trade_1993    : num  0 99 0 12.6 0 ...\n",
      " $ Balance_1994  : num  0.0 -3.4e+08 0.0 -1.1e+10 0.0 ...\n",
      " $ Inflation_1994: num  0 2127.61 0 2.85 0 ...\n",
      " $ GDP_1994      : num  0 3.5 0 5.84 0 ...\n",
      " $ Exports_1994  : num  0.00 3.02e+09 0.00 1.57e+10 0.00 ...\n",
      " $ Trade_1994    : num  0 110.2 0 14.4 0 ...\n",
      " $ Balance_1995  : num  -2.79e+05 -2.95e+08 -1.15e+07 -5.12e+09 -2.21e+08 ...\n",
      " $ Inflation_1995: num  -1.93 1895.32 5.57 3.17 161.16 ...\n",
      " $ GDP_1995      : num  1.25 10.4 13.3 -2.85 6.9 ...\n",
      " $ Exports_1995  : num  1.35e+09 3.64e+09 2.02e+08 2.10e+10 2.71e+08 ...\n",
      " $ Trade_1995    : num  222.9 101.4 37.8 15.9 64.4 ...\n",
      " $ Balance_1996  : num  -6.91e+07 3.27e+09 0.00 -6.77e+09 0.00 ...\n",
      " $ Inflation_1996: num  -3.0891 5399.5069 0 -0.0524 0 ...\n",
      " $ GDP_1996      : num  7.81 11.2 0 5.53 0 ...\n",
      " $ Exports_1996  : num  1.73e+09 5.10e+09 0.00 2.38e+10 0.00 ...\n",
      " $ Trade_1996    : num  273.1 94.8 0 17.5 0 ...\n",
      " $ Balance_1997  : num  -1.96e+08 -8.84e+08 -2.72e+08 0.00 -3.36e+08 ...\n",
      " $ Inflation_1997: num  4.07 94.32 12.09 0 17.74 ...\n",
      " $ GDP_1997      : num  6.67 7.9 -10.84 0 3.32 ...\n",
      " $ Exports_1997  : num  1.72e+09 5.01e+09 1.39e+08 0.00 2.33e+08 ...\n",
      " $ Trade_1997    : num  250.7 99.4 33.3 0 68.6 ...\n",
      " $ Balance_1998  : num  -1.88e+07 0.00 0.00 0.00 -4.16e+08 ...\n",
      " $ Inflation_1998: num  7.48 0 0 0 10.7 ...\n",
      " $ GDP_1998      : num  1.15 0 0 0 7.3 ...\n",
      " $ Exports_1998  : num  1.16e+09 0.00 0.00 0.00 2.21e+08 ...\n",
      " $ Trade_1998    : num  161.1 0 0 0 59.3 ...\n",
      " $ Balance_1999  : num  -4.36e+08 -1.71e+09 -1.55e+08 -1.19e+10 -3.13e+08 ...\n",
      " $ Inflation_1999: num  -1.0192 556.9393 1.5333 -1.8366 0.0538 ...\n",
      " $ GDP_1999      : num  4.51 3.24 13.5 -3.39 3.3 ...\n",
      " $ Exports_1999  : num  1.39e+09 5.16e+09 3.51e+08 2.33e+10 2.32e+08 ...\n",
      " $ Trade_1999    : num  196.4 134.3 44.1 17.2 55.9 ...\n",
      " $ Balance_2000  : num  2.07e+08 0.00 -1.56e+08 -8.98e+09 -3.02e+08 ...\n",
      " $ Inflation_2000: num  9.14 0 3.98 1.04 -1.37 ...\n",
      " $ GDP_2000      : num  -0.365 0 6.667 -0.789 5.9 ...\n",
      " $ Exports_2000  : num  2.52e+09 0.00 2.58e+08 2.63e+10 2.94e+08 ...\n",
      " $ Trade_2000    : num  272.5 0 37.1 18.1 61.5 ...\n",
      " $ Balance_2001  : num  3.09e+08 -1.43e+09 -2.17e+08 -3.78e+09 -2.21e+08 ...\n",
      " $ Inflation_2001: num  4.77 106.32 3.33 -1.1 4.07 ...\n",
      " $ GDP_2001      : num  -2.16 4.22 7.94 -4.41 9.56 ...\n",
      " $ Exports_2001  : num  2.42e+09 6.53e+09 3.07e+08 2.65e+10 3.43e+08 ...\n",
      " $ Trade_2001    : num  249.7 108.7 40.2 17.4 57.4 ...\n",
      " $ Balance_2002  : num  0.00 0.00 -4.08e+08 8.77e+09 -1.48e+08 ...\n",
      " $ Inflation_2002: num  0 0 2.41 30.56 2.37 ...\n",
      " $ GDP_2002      : num  0 0 4.23 -10.89 13.19 ...\n",
      " $ Exports_2002  : num  0.00 0.00 3.40e+08 2.56e+10 5.05e+08 ...\n",
      " $ Trade_2002    : num  0 0 41.6 35.4 62.8 ...\n",
      " $ Balance_2003  : num  0.00 -7.20e+08 0.00 8.14e+09 -1.74e+08 ...\n",
      " $ Inflation_2003: num  0 84.89 0 10.5 4.56 ...\n",
      " $ GDP_2003      : num  0 5.25 0 8.84 14.04 ...\n",
      " $ Exports_2003  : num  0.00 9.51e+09 0.00 2.96e+10 6.86e+08 ...\n",
      " $ Trade_2003    : num  0 106 0 34 70 ...\n",
      " $ Balance_2004  : num  2.71e+08 6.81e+08 0.00 3.21e+09 -7.88e+07 ...\n",
      " $ Inflation_2004: num  8.96 39.79 0 18.36 6.31 ...\n",
      " $ GDP_2004      : num  1.18 10.88 0 9.03 10.47 ...\n",
      " $ Exports_2004  : num  3.43e+09 1.35e+10 0.00 3.46e+10 7.23e+08 ...\n",
      " $ Trade_2004    : num  315.2 98.3 0 34.6 58 ...\n",
      " $ Balance_2005  : num  1.05e+08 5.14e+09 0.00 5.27e+09 -1.24e+08 ...\n",
      " $ Inflation_2005: num  4.21 26.82 0 10.32 3.24 ...\n",
      " $ GDP_2005      : num  0.38 18.26 0 8.85 13.87 ...\n",
      " $ Exports_2005  : num  4.42e+09 2.41e+10 0.00 4.04e+10 9.74e+08 ...\n",
      " $ Trade_2005    : num  373.4 115 0 34.7 56.6 ...\n",
      " $ Balance_2006  : num  3.11e+08 1.07e+10 -6.71e+08 6.50e+09 -1.53e+08 ...\n",
      " $ Inflation_2006: num  1.49 13.04 2.7 13.74 4.62 ...\n",
      " $ GDP_2006      : num  2.36 20.74 5.43 8.05 13.2 ...\n",
      " $ Exports_2006  : num  4.72e+09 3.19e+10 7.98e+08 4.65e+10 9.85e+08 ...\n",
      " $ Trade_2006    : num  389.8 97.2 42.9 34.7 49.8 ...\n",
      " $ Balance_2007  : num  2.58e+08 1.06e+10 0.00 6.05e+09 -6.77e+08 ...\n",
      " $ Inflation_2007: num  12.46 12.62 0 14.94 4.23 ...\n",
      " $ GDP_2007      : num  -3.65 22.59 0 9.01 13.75 ...\n",
      " $ Exports_2007  : num  5.21e+09 4.44e+10 0.00 5.58e+10 1.15e+09 ...\n",
      " $ Trade_2007    : num  393.8 96 0 34.9 48 ...\n",
      " $ Balance_2008  : num  1.12e+05 7.19e+09 -2.02e+09 5.42e+09 0.00 ...\n",
      " $ Inflation_2008: num  14.28 19.68 7.63 23.17 0 ...\n",
      " $ GDP_2008      : num  -6.88 13.82 3.76 4.06 0 ...\n",
      " $ Exports_2008  : num  5.46e+09 6.39e+10 1.35e+09 7.00e+10 0.00 ...\n",
      " $ Trade_2008    : num  410.7 100.9 51.3 35.3 0 ...\n",
      " $ Balance_2009  : num  0.00 0.00 -1.85e+09 7.25e+09 -1.43e+09 ...\n",
      " $ Inflation_2009: num  0 0 2.42 15.38 2.56 ...\n",
      "  [list output truncated]\n"
     ]
    }
   ],
   "source": [
    "str(final)"
   ]
  },
  {
   "cell_type": "markdown",
   "metadata": {},
   "source": [
    "## Lets model data with linear regression"
   ]
  },
  {
   "cell_type": "code",
   "execution_count": null,
   "metadata": {},
   "outputs": [],
   "source": []
  }
 ],
 "metadata": {
  "kernelspec": {
   "display_name": "R",
   "language": "R",
   "name": "ir"
  },
  "language_info": {
   "codemirror_mode": "r",
   "file_extension": ".r",
   "mimetype": "text/x-r-source",
   "name": "R",
   "pygments_lexer": "r",
   "version": "3.5.3"
  }
 },
 "nbformat": 4,
 "nbformat_minor": 2
}
