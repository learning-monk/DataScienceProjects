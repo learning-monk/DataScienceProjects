{
 "cells": [
  {
   "cell_type": "markdown",
   "metadata": {},
   "source": [
    "# Pima Indians Diabetes dataset\n",
    "\n",
    "This is a kaggle dataset.\n",
    "\n",
    "**About this dataset**\n",
    "\n",
    "This dataset is originally from the National Institute of Diabetes and Digestive and Kidney Diseases. The objective is to predict based on diagnostic measurements whether a patient has diabetes.\n",
    "\n",
    "**Dataset information**\n",
    "\n",
    "Several constraints were placed on the selection of these instances from a larger database. In particular, all patients here are females at least 21 years old of Pima Indian heritage.\n",
    "\n",
    "**Relevant papers**\n",
    "\n",
    "Smith, J.W., Everhart, J.E., Dickson, W.C., Knowler, W.C., & Johannes, R.S. (1988). Using the ADAP learning algorithm to forecast the onset of diabetes mellitus. In Proceedings of the Symposium on Computer Applications and Medical Care (pp. 261--265). IEEE Computer Society Press."
   ]
  },
  {
   "cell_type": "markdown",
   "metadata": {},
   "source": [
    "### Attributes:\n",
    "\n",
    "**Pregnancies:** Number of times pregnant\n",
    "\n",
    "**Glucose:** Plasma glucose concentration a 2 hours in an oral glucose tolerance test\n",
    "\n",
    "**BloodPressure:** Diastolic blood pressure (mm Hg)\n",
    "\n",
    "**SkinThickness:** Triceps skin fold thickness (mm)\n",
    "\n",
    "**Insulin:** 2-Hour serum insulin (mu U/ml)\n",
    "\n",
    "**BMI:** Body mass index (weight in kg/(height in m)^2)\n",
    "\n",
    "**DiabetesPedigreeFunction:** Diabetes pedigree function\n",
    "\n",
    "**Age:** Age (years)\n",
    "\n",
    "**Outcome:** Class variable (0 or 1)"
   ]
  },
  {
   "cell_type": "code",
   "execution_count": null,
   "metadata": {
    "collapsed": true
   },
   "outputs": [],
   "source": [
    "install.packages('dplyr')\n",
    "install.packages('ggplot2')\n",
    "install.packages('gridExtra')\n",
    "install.packages('reshape2')\n",
    "install.packages('tidyr')\n",
    "install.packages(\"ggcorrplot\")\n",
    "install.packages(\"ROCR\")"
   ]
  },
  {
   "cell_type": "code",
   "execution_count": 40,
   "metadata": {
    "collapsed": true
   },
   "outputs": [],
   "source": [
    "# Load file\n",
    "db = read.csv(\"https://www.dropbox.com/s/oa643s01xamnjim/diabetes.csv?raw=1\", header=TRUE)"
   ]
  },
  {
   "cell_type": "code",
   "execution_count": 41,
   "metadata": {},
   "outputs": [
    {
     "data": {
      "text/html": [
       "<table>\n",
       "<thead><tr><th scope=col>Pregnancies</th><th scope=col>Glucose</th><th scope=col>BloodPressure</th><th scope=col>SkinThickness</th><th scope=col>Insulin</th><th scope=col>BMI</th><th scope=col>DiabetesPedigreeFunction</th><th scope=col>Age</th><th scope=col>Outcome</th></tr></thead>\n",
       "<tbody>\n",
       "\t<tr><td>6    </td><td>148  </td><td>72   </td><td>35   </td><td>  0  </td><td>33.6 </td><td>0.627</td><td>50   </td><td>1    </td></tr>\n",
       "\t<tr><td>1    </td><td> 85  </td><td>66   </td><td>29   </td><td>  0  </td><td>26.6 </td><td>0.351</td><td>31   </td><td>0    </td></tr>\n",
       "\t<tr><td>8    </td><td>183  </td><td>64   </td><td> 0   </td><td>  0  </td><td>23.3 </td><td>0.672</td><td>32   </td><td>1    </td></tr>\n",
       "\t<tr><td>1    </td><td> 89  </td><td>66   </td><td>23   </td><td> 94  </td><td>28.1 </td><td>0.167</td><td>21   </td><td>0    </td></tr>\n",
       "\t<tr><td>0    </td><td>137  </td><td>40   </td><td>35   </td><td>168  </td><td>43.1 </td><td>2.288</td><td>33   </td><td>1    </td></tr>\n",
       "\t<tr><td>5    </td><td>116  </td><td>74   </td><td> 0   </td><td>  0  </td><td>25.6 </td><td>0.201</td><td>30   </td><td>0    </td></tr>\n",
       "</tbody>\n",
       "</table>\n"
      ],
      "text/latex": [
       "\\begin{tabular}{r|lllllllll}\n",
       " Pregnancies & Glucose & BloodPressure & SkinThickness & Insulin & BMI & DiabetesPedigreeFunction & Age & Outcome\\\\\n",
       "\\hline\n",
       "\t 6     & 148   & 72    & 35    &   0   & 33.6  & 0.627 & 50    & 1    \\\\\n",
       "\t 1     &  85   & 66    & 29    &   0   & 26.6  & 0.351 & 31    & 0    \\\\\n",
       "\t 8     & 183   & 64    &  0    &   0   & 23.3  & 0.672 & 32    & 1    \\\\\n",
       "\t 1     &  89   & 66    & 23    &  94   & 28.1  & 0.167 & 21    & 0    \\\\\n",
       "\t 0     & 137   & 40    & 35    & 168   & 43.1  & 2.288 & 33    & 1    \\\\\n",
       "\t 5     & 116   & 74    &  0    &   0   & 25.6  & 0.201 & 30    & 0    \\\\\n",
       "\\end{tabular}\n"
      ],
      "text/markdown": [
       "\n",
       "Pregnancies | Glucose | BloodPressure | SkinThickness | Insulin | BMI | DiabetesPedigreeFunction | Age | Outcome | \n",
       "|---|---|---|---|---|---|\n",
       "| 6     | 148   | 72    | 35    |   0   | 33.6  | 0.627 | 50    | 1     | \n",
       "| 1     |  85   | 66    | 29    |   0   | 26.6  | 0.351 | 31    | 0     | \n",
       "| 8     | 183   | 64    |  0    |   0   | 23.3  | 0.672 | 32    | 1     | \n",
       "| 1     |  89   | 66    | 23    |  94   | 28.1  | 0.167 | 21    | 0     | \n",
       "| 0     | 137   | 40    | 35    | 168   | 43.1  | 2.288 | 33    | 1     | \n",
       "| 5     | 116   | 74    |  0    |   0   | 25.6  | 0.201 | 30    | 0     | \n",
       "\n",
       "\n"
      ],
      "text/plain": [
       "  Pregnancies Glucose BloodPressure SkinThickness Insulin BMI \n",
       "1 6           148     72            35              0     33.6\n",
       "2 1            85     66            29              0     26.6\n",
       "3 8           183     64             0              0     23.3\n",
       "4 1            89     66            23             94     28.1\n",
       "5 0           137     40            35            168     43.1\n",
       "6 5           116     74             0              0     25.6\n",
       "  DiabetesPedigreeFunction Age Outcome\n",
       "1 0.627                    50  1      \n",
       "2 0.351                    31  0      \n",
       "3 0.672                    32  1      \n",
       "4 0.167                    21  0      \n",
       "5 2.288                    33  1      \n",
       "6 0.201                    30  0      "
      ]
     },
     "metadata": {},
     "output_type": "display_data"
    }
   ],
   "source": [
    "# Examine first 6 rows of data\n",
    "head(db)"
   ]
  },
  {
   "cell_type": "code",
   "execution_count": 42,
   "metadata": {},
   "outputs": [
    {
     "name": "stdout",
     "output_type": "stream",
     "text": [
      "'data.frame':\t768 obs. of  9 variables:\n",
      " $ Pregnancies             : int  6 1 8 1 0 5 3 10 2 8 ...\n",
      " $ Glucose                 : int  148 85 183 89 137 116 78 115 197 125 ...\n",
      " $ BloodPressure           : int  72 66 64 66 40 74 50 0 70 96 ...\n",
      " $ SkinThickness           : int  35 29 0 23 35 0 32 0 45 0 ...\n",
      " $ Insulin                 : int  0 0 0 94 168 0 88 0 543 0 ...\n",
      " $ BMI                     : num  33.6 26.6 23.3 28.1 43.1 25.6 31 35.3 30.5 0 ...\n",
      " $ DiabetesPedigreeFunction: num  0.627 0.351 0.672 0.167 2.288 ...\n",
      " $ Age                     : int  50 31 32 21 33 30 26 29 53 54 ...\n",
      " $ Outcome                 : int  1 0 1 0 1 0 1 0 1 1 ...\n"
     ]
    }
   ],
   "source": [
    "# Examine structure of data\n",
    "str(db)"
   ]
  },
  {
   "cell_type": "code",
   "execution_count": 43,
   "metadata": {},
   "outputs": [
    {
     "data": {
      "text/plain": [
       "  Pregnancies        Glucose      BloodPressure    SkinThickness  \n",
       " Min.   : 0.000   Min.   :  0.0   Min.   :  0.00   Min.   : 0.00  \n",
       " 1st Qu.: 1.000   1st Qu.: 99.0   1st Qu.: 62.00   1st Qu.: 0.00  \n",
       " Median : 3.000   Median :117.0   Median : 72.00   Median :23.00  \n",
       " Mean   : 3.845   Mean   :120.9   Mean   : 69.11   Mean   :20.54  \n",
       " 3rd Qu.: 6.000   3rd Qu.:140.2   3rd Qu.: 80.00   3rd Qu.:32.00  \n",
       " Max.   :17.000   Max.   :199.0   Max.   :122.00   Max.   :99.00  \n",
       "    Insulin           BMI        DiabetesPedigreeFunction      Age       \n",
       " Min.   :  0.0   Min.   : 0.00   Min.   :0.0780           Min.   :21.00  \n",
       " 1st Qu.:  0.0   1st Qu.:27.30   1st Qu.:0.2437           1st Qu.:24.00  \n",
       " Median : 30.5   Median :32.00   Median :0.3725           Median :29.00  \n",
       " Mean   : 79.8   Mean   :31.99   Mean   :0.4719           Mean   :33.24  \n",
       " 3rd Qu.:127.2   3rd Qu.:36.60   3rd Qu.:0.6262           3rd Qu.:41.00  \n",
       " Max.   :846.0   Max.   :67.10   Max.   :2.4200           Max.   :81.00  \n",
       "    Outcome     \n",
       " Min.   :0.000  \n",
       " 1st Qu.:0.000  \n",
       " Median :0.000  \n",
       " Mean   :0.349  \n",
       " 3rd Qu.:1.000  \n",
       " Max.   :1.000  "
      ]
     },
     "metadata": {},
     "output_type": "display_data"
    }
   ],
   "source": [
    "# Examine summary of variables\n",
    "summary(db)"
   ]
  },
  {
   "cell_type": "code",
   "execution_count": 44,
   "metadata": {
    "collapsed": true
   },
   "outputs": [],
   "source": [
    "# Create Age Category column - To bucket subjects into age brackets\n",
    "db$Age_Cat <- ifelse(db$Age < 21, \"<21\", ifelse((db$Age>=21) & (db$Age<=25), \"21-25\", \n",
    "                   ifelse((db$Age>25) & (db$Age<=30), \"25-30\",\n",
    "                   ifelse((db$Age>30) & (db$Age<=35), \"30-35\",\n",
    "                   ifelse((db$Age>35) & (db$Age<=40), \"35-40\",\n",
    "                   ifelse((db$Age>40) & (db$Age<=50), \"40-50\",\n",
    "                   ifelse((db$Age>50) & (db$Age<=60), \"50-60\",\">60\")))))))"
   ]
  },
  {
   "cell_type": "code",
   "execution_count": 45,
   "metadata": {
    "collapsed": true
   },
   "outputs": [],
   "source": [
    "# Convert Age_Cat to factor\n",
    "db$Age_Cat <- as.factor(db$Age_Cat)"
   ]
  },
  {
   "cell_type": "code",
   "execution_count": 46,
   "metadata": {
    "collapsed": true
   },
   "outputs": [],
   "source": [
    "# split dataset into train and test sets\n",
    "require(caTools)\n",
    "set.seed(3)\n",
    "sample = sample.split(db$Outcome, SplitRatio=0.75)\n",
    "train = subset(db, sample==TRUE)\n",
    "test = subset(db, sample==FALSE)"
   ]
  },
  {
   "cell_type": "code",
   "execution_count": 47,
   "metadata": {},
   "outputs": [
    {
     "data": {
      "text/html": [
       "576"
      ],
      "text/latex": [
       "576"
      ],
      "text/markdown": [
       "576"
      ],
      "text/plain": [
       "[1] 576"
      ]
     },
     "metadata": {},
     "output_type": "display_data"
    }
   ],
   "source": [
    "# Number of rows in train\n",
    "nrow(train)"
   ]
  },
  {
   "cell_type": "code",
   "execution_count": 48,
   "metadata": {},
   "outputs": [
    {
     "data": {
      "text/html": [
       "192"
      ],
      "text/latex": [
       "192"
      ],
      "text/markdown": [
       "192"
      ],
      "text/plain": [
       "[1] 192"
      ]
     },
     "metadata": {},
     "output_type": "display_data"
    }
   ],
   "source": [
    "# Number of rows in test\n",
    "nrow(test)"
   ]
  },
  {
   "cell_type": "code",
   "execution_count": 49,
   "metadata": {},
   "outputs": [
    {
     "data": {
      "text/html": [
       "768"
      ],
      "text/latex": [
       "768"
      ],
      "text/markdown": [
       "768"
      ],
      "text/plain": [
       "[1] 768"
      ]
     },
     "metadata": {},
     "output_type": "display_data"
    }
   ],
   "source": [
    "# Number of rows in entire dataset\n",
    "nrow(db)"
   ]
  },
  {
   "cell_type": "code",
   "execution_count": 50,
   "metadata": {},
   "outputs": [
    {
     "data": {
      "text/plain": [
       "\n",
       "  0   1 \n",
       "375 201 "
      ]
     },
     "metadata": {},
     "output_type": "display_data"
    }
   ],
   "source": [
    "# How is outcome variable distributed\n",
    "\n",
    "table(train$Outcome)"
   ]
  },
  {
   "cell_type": "code",
   "execution_count": null,
   "metadata": {
    "collapsed": true
   },
   "outputs": [],
   "source": [
    "# Drop 'Outcome' column - THIS STEP IS NOT REQUIRED\n",
    "#test[,\"Outcome\"] = NULL"
   ]
  },
  {
   "cell_type": "code",
   "execution_count": 51,
   "metadata": {},
   "outputs": [
    {
     "data": {
      "text/html": [
       "10"
      ],
      "text/latex": [
       "10"
      ],
      "text/markdown": [
       "10"
      ],
      "text/plain": [
       "[1] 10"
      ]
     },
     "metadata": {},
     "output_type": "display_data"
    }
   ],
   "source": [
    "# Number of columns in train\n",
    "ncol(train)"
   ]
  },
  {
   "cell_type": "code",
   "execution_count": 52,
   "metadata": {},
   "outputs": [
    {
     "data": {
      "text/html": [
       "10"
      ],
      "text/latex": [
       "10"
      ],
      "text/markdown": [
       "10"
      ],
      "text/plain": [
       "[1] 10"
      ]
     },
     "metadata": {},
     "output_type": "display_data"
    }
   ],
   "source": [
    "# Number of columns in test\n",
    "ncol(test)"
   ]
  },
  {
   "cell_type": "code",
   "execution_count": 53,
   "metadata": {},
   "outputs": [
    {
     "data": {
      "text/plain": [
       "\n",
       "21-25 25-30 30-35 35-40 40-50 50-60   >60 \n",
       "  197   107    64    52    91    41    24 "
      ]
     },
     "metadata": {},
     "output_type": "display_data"
    }
   ],
   "source": [
    "# distribution of Age category in Train set\n",
    "table(train$Age_Cat)"
   ]
  },
  {
   "cell_type": "code",
   "execution_count": 54,
   "metadata": {},
   "outputs": [
    {
     "data": {
      "text/plain": [
       "\n",
       "21-25 25-30 30-35 35-40 40-50 50-60   >60 \n",
       "   70    43    17    24    22    13     3 "
      ]
     },
     "metadata": {},
     "output_type": "display_data"
    }
   ],
   "source": [
    "# Distribution of Age Category in Test set\n",
    "table(test$Age_Cat)"
   ]
  },
  {
   "cell_type": "code",
   "execution_count": 55,
   "metadata": {},
   "outputs": [
    {
     "name": "stdout",
     "output_type": "stream",
     "text": [
      "'data.frame':\t576 obs. of  10 variables:\n",
      " $ Pregnancies             : int  6 1 1 0 5 3 10 2 8 10 ...\n",
      " $ Glucose                 : int  148 85 89 137 116 78 115 197 125 168 ...\n",
      " $ BloodPressure           : int  72 66 66 40 74 50 0 70 96 74 ...\n",
      " $ SkinThickness           : int  35 29 23 35 0 32 0 45 0 0 ...\n",
      " $ Insulin                 : int  0 0 94 168 0 88 0 543 0 0 ...\n",
      " $ BMI                     : num  33.6 26.6 28.1 43.1 25.6 31 35.3 30.5 0 38 ...\n",
      " $ DiabetesPedigreeFunction: num  0.627 0.351 0.167 2.288 0.201 ...\n",
      " $ Age                     : int  50 31 21 33 30 26 29 53 54 34 ...\n",
      " $ Outcome                 : int  1 0 0 1 0 1 0 1 1 1 ...\n",
      " $ Age_Cat                 : Factor w/ 7 levels \"21-25\",\"25-30\",..: 5 3 1 3 2 2 2 6 6 3 ...\n"
     ]
    }
   ],
   "source": [
    "# Examine new structure of train\n",
    "str(train)"
   ]
  },
  {
   "cell_type": "code",
   "execution_count": 56,
   "metadata": {},
   "outputs": [
    {
     "data": {},
     "metadata": {},
     "output_type": "display_data"
    },
    {
     "data": {
      "image/png": "[encoded data removed]",
      "text/plain": [
       "plot without title"
      ]
     },
     "metadata": {},
     "output_type": "display_data"
    }
   ],
   "source": [
    "# Histogram of Age\n",
    "library(ggplot2)\n",
    "\n",
    "ggplot(aes(x = Age), data=train) +\n",
    "        geom_histogram(binwidth=1, color='black', fill = \"#F79420\") +\n",
    "        scale_x_continuous(limits=c(20,90), breaks=seq(20,90,5)) +\n",
    "        xlab(\"Age\") +\n",
    "        ylab(\"No of people by age\")\n",
    "        \n"
   ]
  },
  {
   "cell_type": "markdown",
   "metadata": {},
   "source": [
    "Most of the subjects are in between the ages 21 - 30"
   ]
  },
  {
   "cell_type": "code",
   "execution_count": 57,
   "metadata": {},
   "outputs": [
    {
     "data": {
      "text/html": [
       "<ol class=list-inline>\n",
       "\t<li>'Pregnancies'</li>\n",
       "\t<li>'Glucose'</li>\n",
       "\t<li>'BloodPressure'</li>\n",
       "\t<li>'SkinThickness'</li>\n",
       "\t<li>'Insulin'</li>\n",
       "\t<li>'BMI'</li>\n",
       "\t<li>'DiabetesPedigreeFunction'</li>\n",
       "\t<li>'Age'</li>\n",
       "\t<li>'Outcome'</li>\n",
       "\t<li>'Age_Cat'</li>\n",
       "</ol>\n"
      ],
      "text/latex": [
       "\\begin{enumerate*}\n",
       "\\item 'Pregnancies'\n",
       "\\item 'Glucose'\n",
       "\\item 'BloodPressure'\n",
       "\\item 'SkinThickness'\n",
       "\\item 'Insulin'\n",
       "\\item 'BMI'\n",
       "\\item 'DiabetesPedigreeFunction'\n",
       "\\item 'Age'\n",
       "\\item 'Outcome'\n",
       "\\item 'Age\\_Cat'\n",
       "\\end{enumerate*}\n"
      ],
      "text/markdown": [
       "1. 'Pregnancies'\n",
       "2. 'Glucose'\n",
       "3. 'BloodPressure'\n",
       "4. 'SkinThickness'\n",
       "5. 'Insulin'\n",
       "6. 'BMI'\n",
       "7. 'DiabetesPedigreeFunction'\n",
       "8. 'Age'\n",
       "9. 'Outcome'\n",
       "10. 'Age_Cat'\n",
       "\n",
       "\n"
      ],
      "text/plain": [
       " [1] \"Pregnancies\"              \"Glucose\"                 \n",
       " [3] \"BloodPressure\"            \"SkinThickness\"           \n",
       " [5] \"Insulin\"                  \"BMI\"                     \n",
       " [7] \"DiabetesPedigreeFunction\" \"Age\"                     \n",
       " [9] \"Outcome\"                  \"Age_Cat\"                 "
      ]
     },
     "metadata": {},
     "output_type": "display_data"
    },
    {
     "data": {},
     "metadata": {},
     "output_type": "display_data"
    },
    {
     "data": {
      "image/png": "[encoded data removed]",
      "text/plain": [
       "plot without title"
      ]
     },
     "metadata": {},
     "output_type": "display_data"
    }
   ],
   "source": [
    "# Barplot by Age_Cat\n",
    "names(train)\n",
    "bar_Age_Cat <- ggplot(aes(x = Age_Cat), data = train) +\n",
    "            geom_bar(fill='steelblue')\n",
    "\n",
    "\n",
    "bar_Age_Cat\n",
    "# Horizontal bar plot\n",
    "#bar_Age_Cat + coord_flip()"
   ]
  },
  {
   "cell_type": "code",
   "execution_count": 58,
   "metadata": {},
   "outputs": [
    {
     "data": {
      "text/html": [
       "<ol class=list-inline>\n",
       "\t<li>'Pregnancies'</li>\n",
       "\t<li>'Glucose'</li>\n",
       "\t<li>'BloodPressure'</li>\n",
       "\t<li>'SkinThickness'</li>\n",
       "\t<li>'Insulin'</li>\n",
       "\t<li>'BMI'</li>\n",
       "\t<li>'DiabetesPedigreeFunction'</li>\n",
       "\t<li>'Age'</li>\n",
       "\t<li>'Outcome'</li>\n",
       "\t<li>'Age_Cat'</li>\n",
       "</ol>\n"
      ],
      "text/latex": [
       "\\begin{enumerate*}\n",
       "\\item 'Pregnancies'\n",
       "\\item 'Glucose'\n",
       "\\item 'BloodPressure'\n",
       "\\item 'SkinThickness'\n",
       "\\item 'Insulin'\n",
       "\\item 'BMI'\n",
       "\\item 'DiabetesPedigreeFunction'\n",
       "\\item 'Age'\n",
       "\\item 'Outcome'\n",
       "\\item 'Age\\_Cat'\n",
       "\\end{enumerate*}\n"
      ],
      "text/markdown": [
       "1. 'Pregnancies'\n",
       "2. 'Glucose'\n",
       "3. 'BloodPressure'\n",
       "4. 'SkinThickness'\n",
       "5. 'Insulin'\n",
       "6. 'BMI'\n",
       "7. 'DiabetesPedigreeFunction'\n",
       "8. 'Age'\n",
       "9. 'Outcome'\n",
       "10. 'Age_Cat'\n",
       "\n",
       "\n"
      ],
      "text/plain": [
       " [1] \"Pregnancies\"              \"Glucose\"                 \n",
       " [3] \"BloodPressure\"            \"SkinThickness\"           \n",
       " [5] \"Insulin\"                  \"BMI\"                     \n",
       " [7] \"DiabetesPedigreeFunction\" \"Age\"                     \n",
       " [9] \"Outcome\"                  \"Age_Cat\"                 "
      ]
     },
     "metadata": {},
     "output_type": "display_data"
    },
    {
     "data": {},
     "metadata": {},
     "output_type": "display_data"
    },
    {
     "data": {
      "image/png": "[encoded data removed]",
      "text/plain": [
       "plot without title"
      ]
     },
     "metadata": {},
     "output_type": "display_data"
    }
   ],
   "source": [
    "# box plot of Age_Cat vs BMI\n",
    "\n",
    "names(train)\n",
    "\n",
    "ggplot(aes(x=Age_Cat, y = BMI), data = train) +\n",
    "        geom_boxplot() +\n",
    "        coord_cartesian(ylim = c(0,70))"
   ]
  },
  {
   "cell_type": "code",
   "execution_count": 59,
   "metadata": {},
   "outputs": [
    {
     "data": {
      "text/plain": [
       "train$Age_Cat: 21-25\n",
       "   Min. 1st Qu.  Median    Mean 3rd Qu.    Max. \n",
       "   0.00   25.40   30.50   30.55   35.70   59.40 \n",
       "------------------------------------------------------------ \n",
       "train$Age_Cat: 25-30\n",
       "   Min. 1st Qu.  Median    Mean 3rd Qu.    Max. \n",
       "   0.00   27.70   33.30   33.15   38.10   55.00 \n",
       "------------------------------------------------------------ \n",
       "train$Age_Cat: 30-35\n",
       "   Min. 1st Qu.  Median    Mean 3rd Qu.    Max. \n",
       "  22.50   28.30   31.25   32.55   36.18   46.80 \n",
       "------------------------------------------------------------ \n",
       "train$Age_Cat: 35-40\n",
       "   Min. 1st Qu.  Median    Mean 3rd Qu.    Max. \n",
       "  21.90   28.48   32.45   32.74   36.58   48.80 \n",
       "------------------------------------------------------------ \n",
       "train$Age_Cat: 40-50\n",
       "   Min. 1st Qu.  Median    Mean 3rd Qu.    Max. \n",
       "  20.80   30.40   33.60   34.53   38.50   46.70 \n",
       "------------------------------------------------------------ \n",
       "train$Age_Cat: 50-60\n",
       "   Min. 1st Qu.  Median    Mean 3rd Qu.    Max. \n",
       "    0.0    24.9    30.5    30.7    36.0    46.5 \n",
       "------------------------------------------------------------ \n",
       "train$Age_Cat: >60\n",
       "   Min. 1st Qu.  Median    Mean 3rd Qu.    Max. \n",
       "   0.00   26.40   27.95   28.32   32.60   39.20 "
      ]
     },
     "metadata": {},
     "output_type": "display_data"
    }
   ],
   "source": [
    "by(train$BMI, train$Age_Cat, summary)"
   ]
  },
  {
   "cell_type": "code",
   "execution_count": 60,
   "metadata": {},
   "outputs": [
    {
     "data": {
      "text/html": [
       "<ol class=list-inline>\n",
       "\t<li>'Pregnancies'</li>\n",
       "\t<li>'Glucose'</li>\n",
       "\t<li>'BloodPressure'</li>\n",
       "\t<li>'SkinThickness'</li>\n",
       "\t<li>'Insulin'</li>\n",
       "\t<li>'BMI'</li>\n",
       "\t<li>'DiabetesPedigreeFunction'</li>\n",
       "\t<li>'Age'</li>\n",
       "\t<li>'Outcome'</li>\n",
       "\t<li>'Age_Cat'</li>\n",
       "</ol>\n"
      ],
      "text/latex": [
       "\\begin{enumerate*}\n",
       "\\item 'Pregnancies'\n",
       "\\item 'Glucose'\n",
       "\\item 'BloodPressure'\n",
       "\\item 'SkinThickness'\n",
       "\\item 'Insulin'\n",
       "\\item 'BMI'\n",
       "\\item 'DiabetesPedigreeFunction'\n",
       "\\item 'Age'\n",
       "\\item 'Outcome'\n",
       "\\item 'Age\\_Cat'\n",
       "\\end{enumerate*}\n"
      ],
      "text/markdown": [
       "1. 'Pregnancies'\n",
       "2. 'Glucose'\n",
       "3. 'BloodPressure'\n",
       "4. 'SkinThickness'\n",
       "5. 'Insulin'\n",
       "6. 'BMI'\n",
       "7. 'DiabetesPedigreeFunction'\n",
       "8. 'Age'\n",
       "9. 'Outcome'\n",
       "10. 'Age_Cat'\n",
       "\n",
       "\n"
      ],
      "text/plain": [
       " [1] \"Pregnancies\"              \"Glucose\"                 \n",
       " [3] \"BloodPressure\"            \"SkinThickness\"           \n",
       " [5] \"Insulin\"                  \"BMI\"                     \n",
       " [7] \"DiabetesPedigreeFunction\" \"Age\"                     \n",
       " [9] \"Outcome\"                  \"Age_Cat\"                 "
      ]
     },
     "metadata": {},
     "output_type": "display_data"
    },
    {
     "data": {
      "text/html": [
       "<table>\n",
       "<thead><tr><th></th><th scope=col>Pregnancies</th><th scope=col>Glucose</th><th scope=col>BloodPressure</th><th scope=col>SkinThickness</th><th scope=col>Insulin</th><th scope=col>BMI</th><th scope=col>DiabetesPedigreeFunction</th><th scope=col>Age</th></tr></thead>\n",
       "<tbody>\n",
       "\t<tr><th scope=row>Pregnancies</th><td> 1.0</td><td>0.1 </td><td>0.2 </td><td>-0.1</td><td>-0.1</td><td>0.0 </td><td>-0.1</td><td> 0.5</td></tr>\n",
       "\t<tr><th scope=row>Glucose</th><td> 0.1</td><td>1.0 </td><td>0.2 </td><td> 0.1</td><td> 0.3</td><td>0.2 </td><td> 0.1</td><td> 0.3</td></tr>\n",
       "\t<tr><th scope=row>BloodPressure</th><td> 0.2</td><td>0.2 </td><td>1.0 </td><td> 0.2</td><td> 0.1</td><td>0.3 </td><td> 0.0</td><td> 0.3</td></tr>\n",
       "\t<tr><th scope=row>SkinThickness</th><td>-0.1</td><td>0.1 </td><td>0.2 </td><td> 1.0</td><td> 0.4</td><td>0.4 </td><td> 0.2</td><td>-0.1</td></tr>\n",
       "\t<tr><th scope=row>Insulin</th><td>-0.1</td><td>0.3 </td><td>0.1 </td><td> 0.4</td><td> 1.0</td><td>0.2 </td><td> 0.2</td><td>-0.1</td></tr>\n",
       "\t<tr><th scope=row>BMI</th><td> 0.0</td><td>0.2 </td><td>0.3 </td><td> 0.4</td><td> 0.2</td><td>1.0 </td><td> 0.2</td><td> 0.0</td></tr>\n",
       "\t<tr><th scope=row>DiabetesPedigreeFunction</th><td>-0.1</td><td>0.1 </td><td>0.0 </td><td> 0.2</td><td> 0.2</td><td>0.2 </td><td> 1.0</td><td> 0.0</td></tr>\n",
       "\t<tr><th scope=row>Age</th><td> 0.5</td><td>0.3 </td><td>0.3 </td><td>-0.1</td><td>-0.1</td><td>0.0 </td><td> 0.0</td><td> 1.0</td></tr>\n",
       "</tbody>\n",
       "</table>\n"
      ],
      "text/latex": [
       "\\begin{tabular}{r|llllllll}\n",
       "  & Pregnancies & Glucose & BloodPressure & SkinThickness & Insulin & BMI & DiabetesPedigreeFunction & Age\\\\\n",
       "\\hline\n",
       "\tPregnancies &  1.0 & 0.1  & 0.2  & -0.1 & -0.1 & 0.0  & -0.1 &  0.5\\\\\n",
       "\tGlucose &  0.1 & 1.0  & 0.2  &  0.1 &  0.3 & 0.2  &  0.1 &  0.3\\\\\n",
       "\tBloodPressure &  0.2 & 0.2  & 1.0  &  0.2 &  0.1 & 0.3  &  0.0 &  0.3\\\\\n",
       "\tSkinThickness & -0.1 & 0.1  & 0.2  &  1.0 &  0.4 & 0.4  &  0.2 & -0.1\\\\\n",
       "\tInsulin & -0.1 & 0.3  & 0.1  &  0.4 &  1.0 & 0.2  &  0.2 & -0.1\\\\\n",
       "\tBMI &  0.0 & 0.2  & 0.3  &  0.4 &  0.2 & 1.0  &  0.2 &  0.0\\\\\n",
       "\tDiabetesPedigreeFunction & -0.1 & 0.1  & 0.0  &  0.2 &  0.2 & 0.2  &  1.0 &  0.0\\\\\n",
       "\tAge &  0.5 & 0.3  & 0.3  & -0.1 & -0.1 & 0.0  &  0.0 &  1.0\\\\\n",
       "\\end{tabular}\n"
      ],
      "text/markdown": [
       "\n",
       "| <!--/--> | Pregnancies | Glucose | BloodPressure | SkinThickness | Insulin | BMI | DiabetesPedigreeFunction | Age | \n",
       "|---|---|---|---|---|---|---|---|\n",
       "| Pregnancies |  1.0 | 0.1  | 0.2  | -0.1 | -0.1 | 0.0  | -0.1 |  0.5 | \n",
       "| Glucose |  0.1 | 1.0  | 0.2  |  0.1 |  0.3 | 0.2  |  0.1 |  0.3 | \n",
       "| BloodPressure |  0.2 | 0.2  | 1.0  |  0.2 |  0.1 | 0.3  |  0.0 |  0.3 | \n",
       "| SkinThickness | -0.1 | 0.1  | 0.2  |  1.0 |  0.4 | 0.4  |  0.2 | -0.1 | \n",
       "| Insulin | -0.1 | 0.3  | 0.1  |  0.4 |  1.0 | 0.2  |  0.2 | -0.1 | \n",
       "| BMI |  0.0 | 0.2  | 0.3  |  0.4 |  0.2 | 1.0  |  0.2 |  0.0 | \n",
       "| DiabetesPedigreeFunction | -0.1 | 0.1  | 0.0  |  0.2 |  0.2 | 0.2  |  1.0 |  0.0 | \n",
       "| Age |  0.5 | 0.3  | 0.3  | -0.1 | -0.1 | 0.0  |  0.0 |  1.0 | \n",
       "\n",
       "\n"
      ],
      "text/plain": [
       "                         Pregnancies Glucose BloodPressure SkinThickness\n",
       "Pregnancies               1.0        0.1     0.2           -0.1         \n",
       "Glucose                   0.1        1.0     0.2            0.1         \n",
       "BloodPressure             0.2        0.2     1.0            0.2         \n",
       "SkinThickness            -0.1        0.1     0.2            1.0         \n",
       "Insulin                  -0.1        0.3     0.1            0.4         \n",
       "BMI                       0.0        0.2     0.3            0.4         \n",
       "DiabetesPedigreeFunction -0.1        0.1     0.0            0.2         \n",
       "Age                       0.5        0.3     0.3           -0.1         \n",
       "                         Insulin BMI DiabetesPedigreeFunction Age \n",
       "Pregnancies              -0.1    0.0 -0.1                      0.5\n",
       "Glucose                   0.3    0.2  0.1                      0.3\n",
       "BloodPressure             0.1    0.3  0.0                      0.3\n",
       "SkinThickness             0.4    0.4  0.2                     -0.1\n",
       "Insulin                   1.0    0.2  0.2                     -0.1\n",
       "BMI                       0.2    1.0  0.2                      0.0\n",
       "DiabetesPedigreeFunction  0.2    0.2  1.0                      0.0\n",
       "Age                      -0.1    0.0  0.0                      1.0"
      ]
     },
     "metadata": {},
     "output_type": "display_data"
    }
   ],
   "source": [
    "# Compute correlation matrix\n",
    "names(train)\n",
    "db_cor <- round(cor(train[1:8]),1)\n",
    "db_cor"
   ]
  },
  {
   "cell_type": "code",
   "execution_count": 61,
   "metadata": {},
   "outputs": [
    {
     "data": {},
     "metadata": {},
     "output_type": "display_data"
    },
    {
     "data": {
      "image/png": "[encoded data removed]",
      "text/plain": [
       "plot without title"
      ]
     },
     "metadata": {},
     "output_type": "display_data"
    }
   ],
   "source": [
    "library(ggcorrplot)\n",
    "ggcorrplot(db_cor)"
   ]
  },
  {
   "cell_type": "markdown",
   "metadata": {},
   "source": [
    "No strong correlation observed between variables. So, no need to drop any of them for analysis"
   ]
  },
  {
   "cell_type": "code",
   "execution_count": 62,
   "metadata": {},
   "outputs": [
    {
     "data": {
      "image/png": "[encoded data removed]",
      "text/plain": [
       "plot without title"
      ]
     },
     "metadata": {},
     "output_type": "display_data"
    }
   ],
   "source": [
    "plot(train$BloodPressure, train$Glucose)"
   ]
  },
  {
   "cell_type": "markdown",
   "metadata": {},
   "source": [
    "This plot justifies the correlation matrix results"
   ]
  },
  {
   "cell_type": "code",
   "execution_count": 63,
   "metadata": {},
   "outputs": [
    {
     "data": {
      "text/plain": [
       "\n",
       "  0   1 \n",
       "500 268 "
      ]
     },
     "metadata": {},
     "output_type": "display_data"
    }
   ],
   "source": [
    "# Baseline model\n",
    "\n",
    "table(db$Outcome)"
   ]
  },
  {
   "cell_type": "markdown",
   "metadata": {},
   "source": [
    "**Do not select the model whose accuracy is lower than the baseline model. In this case, it is 0.65**"
   ]
  },
  {
   "cell_type": "code",
   "execution_count": 64,
   "metadata": {},
   "outputs": [
    {
     "data": {
      "text/html": [
       "0.65"
      ],
      "text/latex": [
       "0.65"
      ],
      "text/markdown": [
       "0.65"
      ],
      "text/plain": [
       "[1] 0.65"
      ]
     },
     "metadata": {},
     "output_type": "display_data"
    }
   ],
   "source": [
    "# Baseline model = Value of the most frequent outcome/number of rows\n",
    "\n",
    "baseline <- round(500/nrow(db),2)\n",
    "baseline"
   ]
  },
  {
   "cell_type": "markdown",
   "metadata": {},
   "source": [
    "## Fit Model using all independent variables"
   ]
  },
  {
   "cell_type": "code",
   "execution_count": 65,
   "metadata": {},
   "outputs": [
    {
     "data": {
      "text/plain": [
       "\n",
       "Call:\n",
       "glm(formula = Outcome ~ ., family = binomial, data = train)\n",
       "\n",
       "Deviance Residuals: \n",
       "    Min       1Q   Median       3Q      Max  \n",
       "-2.5680  -0.7074  -0.4311   0.7421   2.8979  \n",
       "\n",
       "Coefficients:\n",
       "                          Estimate Std. Error z value Pr(>|z|)    \n",
       "(Intercept)              -6.140633   1.442614  -4.257 2.08e-05 ***\n",
       "Pregnancies               0.043779   0.039640   1.104 0.269414    \n",
       "Glucose                   0.034511   0.004255   8.111 5.00e-16 ***\n",
       "BloodPressure            -0.015237   0.006253  -2.437 0.014818 *  \n",
       "SkinThickness             0.004535   0.007823   0.580 0.562170    \n",
       "Insulin                  -0.001881   0.001034  -1.819 0.068962 .  \n",
       "BMI                       0.066069   0.017458   3.785 0.000154 ***\n",
       "DiabetesPedigreeFunction  1.042778   0.353860   2.947 0.003210 ** \n",
       "Age                      -0.048658   0.052789  -0.922 0.356659    \n",
       "Age_Cat25-30              0.557992   0.418509   1.333 0.182439    \n",
       "Age_Cat30-35              1.370840   0.626633   2.188 0.028697 *  \n",
       "Age_Cat35-40              1.542470   0.884172   1.745 0.081066 .  \n",
       "Age_Cat40-50              2.662067   1.208167   2.203 0.027567 *  \n",
       "Age_Cat50-60              2.709033   1.748276   1.550 0.121251    \n",
       "Age_Cat>60                1.850745   2.301301   0.804 0.421272    \n",
       "---\n",
       "Signif. codes:  0 '***' 0.001 '**' 0.01 '*' 0.05 '.' 0.1 ' ' 1\n",
       "\n",
       "(Dispersion parameter for binomial family taken to be 1)\n",
       "\n",
       "    Null deviance: 745.11  on 575  degrees of freedom\n",
       "Residual deviance: 541.06  on 561  degrees of freedom\n",
       "AIC: 571.06\n",
       "\n",
       "Number of Fisher Scoring iterations: 5\n"
      ]
     },
     "metadata": {},
     "output_type": "display_data"
    }
   ],
   "source": [
    "# Fit model - using all independent variables\n",
    "\n",
    "AllVar <- glm(Outcome ~ ., data = train, family = binomial)\n",
    "summary(AllVar)"
   ]
  },
  {
   "cell_type": "code",
   "execution_count": 66,
   "metadata": {},
   "outputs": [
    {
     "data": {
      "text/plain": [
       "    Min.  1st Qu.   Median     Mean  3rd Qu.     Max. \n",
       "0.002399 0.116200 0.266700 0.349000 0.548900 0.987600 "
      ]
     },
     "metadata": {},
     "output_type": "display_data"
    }
   ],
   "source": [
    "# Let's predict outcome on Training dataset\n",
    "\n",
    "PredictTrain <- predict(AllVar, type = \"response\")\n",
    "summary(PredictTrain)"
   ]
  },
  {
   "cell_type": "code",
   "execution_count": 67,
   "metadata": {},
   "outputs": [
    {
     "data": {
      "text/html": [
       "<dl class=dl-horizontal>\n",
       "\t<dt>0</dt>\n",
       "\t\t<dd>0.233936208496006</dd>\n",
       "\t<dt>1</dt>\n",
       "\t\t<dd>0.563551849820893</dd>\n",
       "</dl>\n"
      ],
      "text/plain": [
       "        0         1 \n",
       "0.2339362 0.5635518 "
      ]
     },
     "metadata": {},
     "output_type": "display_data"
    }
   ],
   "source": [
    "# This computes the average prediction for each of the two outcomes\n",
    "\n",
    "tapply(PredictTrain, train$Outcome, mean)"
   ]
  },
  {
   "cell_type": "markdown",
   "metadata": {},
   "source": [
    "### Build Confusion Matrix"
   ]
  },
  {
   "cell_type": "markdown",
   "metadata": {},
   "source": [
    "**Confusion Matrix:**  Compares the actual outcomes with the predicted ones  \n",
    "\n",
    "|            | Predicted = 0        | Predicted = 1        |\n",
    "|------------|----------------------|----------------------|\n",
    "| **Actual = 0** | True Negatives (TN)  | False Positives (FP) |\n",
    "| **Actual = 1** | False Negatives (FN) | True Positives (TP)  |  \n",
    "\n",
    "**Sensitivity** = TP / TP + FN (True Positive rate)  \n",
    "**Specificity** = TN / TN + FP (True Negative rate)  \n",
    "\n",
    "The model with a **higher threshold** has **lower Sensitivity** but **higher Specificity**.  \n",
    "The model with a **lower threshold** has **higher Sensitivity** but **lower Specificity**. "
   ]
  },
  {
   "cell_type": "markdown",
   "metadata": {},
   "source": [
    "#### Thresholding:\n",
    "\n",
    "The outcome of a logistic regression model is a **probability**.  \n",
    "We can do this using a ***threshold value t***  \n",
    "  - If P(y=1) >= t, predict 1\n",
    "  - If P(y=1) < t, predict 0\n",
    "  \n",
    "**What value should be selected for t?**  \n",
    "\n",
    "Often selected based on which errors are **better**  \n",
    "\n",
    "If t is **large**, predict P(y=1) rarely (when P(y=1) is large)  \n",
    "If t is **small**, predict P(y=0) rarely (when P(y=1) is small) \n",
    "\n",
    "With no preference between errors, select **t=0.5**. Predicts the more likely outcome"
   ]
  },
  {
   "cell_type": "code",
   "execution_count": 68,
   "metadata": {},
   "outputs": [
    {
     "data": {
      "text/plain": [
       "   \n",
       "    FALSE TRUE\n",
       "  0   333   42\n",
       "  1    83  118"
      ]
     },
     "metadata": {},
     "output_type": "display_data"
    },
    {
     "data": {
      "text/html": [
       "'Accuracy is 0.78'"
      ],
      "text/latex": [
       "'Accuracy is 0.78'"
      ],
      "text/markdown": [
       "'Accuracy is 0.78'"
      ],
      "text/plain": [
       "[1] \"Accuracy is 0.78\""
      ]
     },
     "metadata": {},
     "output_type": "display_data"
    },
    {
     "data": {
      "text/html": [
       "'Mis-classification error is 0.22'"
      ],
      "text/latex": [
       "'Mis-classification error is 0.22'"
      ],
      "text/markdown": [
       "'Mis-classification error is 0.22'"
      ],
      "text/plain": [
       "[1] \"Mis-classification error is 0.22\""
      ]
     },
     "metadata": {},
     "output_type": "display_data"
    }
   ],
   "source": [
    "# Build confusion matrix with a threshold value of 0.5\n",
    "\n",
    "threshold_0.5 <- table(train$Outcome, PredictTrain > 0.5)\n",
    "threshold_0.5\n",
    "\n",
    "# Accuracy\n",
    "accuracy_0.5 <- round(sum(diag(threshold_0.5))/sum(threshold_0.5),2)\n",
    "sprintf(\"Accuracy is %s\",accuracy_0.5)\n",
    "\n",
    "# Mis-classification error rate\n",
    "MC_0.5 <- 1-accuracy_0.5\n",
    "sprintf(\"Mis-classification error is %s\",MC_0.5)"
   ]
  },
  {
   "cell_type": "code",
   "execution_count": 69,
   "metadata": {},
   "outputs": [
    {
     "data": {
      "text/html": [
       "'Sensitivity at 0.5 threshold: 0.59'"
      ],
      "text/latex": [
       "'Sensitivity at 0.5 threshold: 0.59'"
      ],
      "text/markdown": [
       "'Sensitivity at 0.5 threshold: 0.59'"
      ],
      "text/plain": [
       "[1] \"Sensitivity at 0.5 threshold: 0.59\""
      ]
     },
     "metadata": {},
     "output_type": "display_data"
    },
    {
     "data": {
      "text/html": [
       "'Specificity at 0.5 threshold: 0.89'"
      ],
      "text/latex": [
       "'Specificity at 0.5 threshold: 0.89'"
      ],
      "text/markdown": [
       "'Specificity at 0.5 threshold: 0.89'"
      ],
      "text/plain": [
       "[1] \"Specificity at 0.5 threshold: 0.89\""
      ]
     },
     "metadata": {},
     "output_type": "display_data"
    }
   ],
   "source": [
    "sensitivity0.5 <- round(118/(83+118),2)\n",
    "specificity0.5 <- round(333/(333+42),2)\n",
    "sprintf(\"Sensitivity at 0.5 threshold: %s\", sensitivity0.5)\n",
    "sprintf(\"Specificity at 0.5 threshold: %s\", specificity0.5)"
   ]
  },
  {
   "cell_type": "code",
   "execution_count": 70,
   "metadata": {},
   "outputs": [
    {
     "data": {
      "text/plain": [
       "   \n",
       "    FALSE TRUE\n",
       "  0   359   16\n",
       "  1   123   78"
      ]
     },
     "metadata": {},
     "output_type": "display_data"
    },
    {
     "data": {
      "text/html": [
       "'Accuracy is 0.76'"
      ],
      "text/latex": [
       "'Accuracy is 0.76'"
      ],
      "text/markdown": [
       "'Accuracy is 0.76'"
      ],
      "text/plain": [
       "[1] \"Accuracy is 0.76\""
      ]
     },
     "metadata": {},
     "output_type": "display_data"
    },
    {
     "data": {
      "text/html": [
       "'Mis-classification error is 0.24'"
      ],
      "text/latex": [
       "'Mis-classification error is 0.24'"
      ],
      "text/markdown": [
       "'Mis-classification error is 0.24'"
      ],
      "text/plain": [
       "[1] \"Mis-classification error is 0.24\""
      ]
     },
     "metadata": {},
     "output_type": "display_data"
    }
   ],
   "source": [
    "# Build confusion matrix with a threshold value of 0.7\n",
    "\n",
    "threshold_0.7 <- table(train$Outcome, PredictTrain > 0.7)\n",
    "threshold_0.7\n",
    "\n",
    "# Accuracy\n",
    "accuracy_0.7 <- round(sum(diag(threshold_0.7))/sum(threshold_0.7),2)\n",
    "sprintf('Accuracy is %s', accuracy_0.7)\n",
    "\n",
    "# Mis-classification error rate\n",
    "MC_0.7 <- 1-accuracy_0.7\n",
    "sprintf(\"Mis-classification error is %s\",MC_0.7)"
   ]
  },
  {
   "cell_type": "code",
   "execution_count": 71,
   "metadata": {},
   "outputs": [
    {
     "data": {
      "text/html": [
       "'Sensitivity at 0.7 threshold: 0.39'"
      ],
      "text/latex": [
       "'Sensitivity at 0.7 threshold: 0.39'"
      ],
      "text/markdown": [
       "'Sensitivity at 0.7 threshold: 0.39'"
      ],
      "text/plain": [
       "[1] \"Sensitivity at 0.7 threshold: 0.39\""
      ]
     },
     "metadata": {},
     "output_type": "display_data"
    },
    {
     "data": {
      "text/html": [
       "'Specificity at 0.7 threshold: 0.96'"
      ],
      "text/latex": [
       "'Specificity at 0.7 threshold: 0.96'"
      ],
      "text/markdown": [
       "'Specificity at 0.7 threshold: 0.96'"
      ],
      "text/plain": [
       "[1] \"Specificity at 0.7 threshold: 0.96\""
      ]
     },
     "metadata": {},
     "output_type": "display_data"
    }
   ],
   "source": [
    "sensitivity0.7 <- round(78/(123+78),2)\n",
    "specificity0.7 <- round(359/(359+16),2)\n",
    "sprintf(\"Sensitivity at 0.7 threshold: %s\", sensitivity0.7)\n",
    "sprintf(\"Specificity at 0.7 threshold: %s\", specificity0.7)"
   ]
  },
  {
   "cell_type": "code",
   "execution_count": 72,
   "metadata": {},
   "outputs": [
    {
     "data": {
      "text/plain": [
       "   \n",
       "    FALSE TRUE\n",
       "  0   215  160\n",
       "  1    21  180"
      ]
     },
     "metadata": {},
     "output_type": "display_data"
    },
    {
     "data": {
      "text/html": [
       "'Accuracy is 0.69'"
      ],
      "text/latex": [
       "'Accuracy is 0.69'"
      ],
      "text/markdown": [
       "'Accuracy is 0.69'"
      ],
      "text/plain": [
       "[1] \"Accuracy is 0.69\""
      ]
     },
     "metadata": {},
     "output_type": "display_data"
    },
    {
     "data": {
      "text/html": [
       "'Mis-classification error is 0.31'"
      ],
      "text/latex": [
       "'Mis-classification error is 0.31'"
      ],
      "text/markdown": [
       "'Mis-classification error is 0.31'"
      ],
      "text/plain": [
       "[1] \"Mis-classification error is 0.31\""
      ]
     },
     "metadata": {},
     "output_type": "display_data"
    }
   ],
   "source": [
    "# Build confusion matrix with a threshold value of 0.2\n",
    "\n",
    "threshold_0.2 <- table(train$Outcome, PredictTrain > 0.2)\n",
    "threshold_0.2\n",
    "\n",
    "# Accuracy\n",
    "accuracy_0.2 <- round(sum(diag(threshold_0.2))/sum(threshold_0.2),2)\n",
    "sprintf(\"Accuracy is %s\", accuracy_0.2)\n",
    "\n",
    "# Mis-classification error rate\n",
    "MC_0.2 <- 1-accuracy_0.2\n",
    "sprintf(\"Mis-classification error is %s\",MC_0.2)"
   ]
  },
  {
   "cell_type": "code",
   "execution_count": 73,
   "metadata": {},
   "outputs": [
    {
     "data": {
      "text/html": [
       "'Sensitivity at 0.2 threshold: 0.9'"
      ],
      "text/latex": [
       "'Sensitivity at 0.2 threshold: 0.9'"
      ],
      "text/markdown": [
       "'Sensitivity at 0.2 threshold: 0.9'"
      ],
      "text/plain": [
       "[1] \"Sensitivity at 0.2 threshold: 0.9\""
      ]
     },
     "metadata": {},
     "output_type": "display_data"
    },
    {
     "data": {
      "text/html": [
       "'Specificity at 0.2 threshold: 0.57'"
      ],
      "text/latex": [
       "'Specificity at 0.2 threshold: 0.57'"
      ],
      "text/markdown": [
       "'Specificity at 0.2 threshold: 0.57'"
      ],
      "text/plain": [
       "[1] \"Specificity at 0.2 threshold: 0.57\""
      ]
     },
     "metadata": {},
     "output_type": "display_data"
    }
   ],
   "source": [
    "sensitivity0.2 <- round(180/(21+180),2)\n",
    "specificity0.2 <- round(215/(215+160),2)\n",
    "sprintf(\"Sensitivity at 0.2 threshold: %s\",sensitivity0.2)\n",
    "sprintf(\"Specificity at 0.2 threshold: %s\",specificity0.2)"
   ]
  },
  {
   "cell_type": "markdown",
   "metadata": {},
   "source": [
    "### ROC Curves (Receiver Operator Characteristic Curve)\n",
    "\n",
    "**ROC Curve** will help us decide as which threshold is best  \n",
    "\n",
    "**High threshold:**\n",
    "  - High specificity\n",
    "  - Low sensitivity  \n",
    "  \n",
    "**Low threshold:**\n",
    "  - Low specificity\n",
    "  - High sensitivity\n"
   ]
  },
  {
   "cell_type": "code",
   "execution_count": 74,
   "metadata": {},
   "outputs": [
    {
     "data": {
      "image/png": "[encoded data removed]",
      "text/plain": [
       "plot without title"
      ]
     },
     "metadata": {},
     "output_type": "display_data"
    }
   ],
   "source": [
    "# Generate ROC Curves\n",
    "\n",
    "library(ROCR)\n",
    "\n",
    "ROCRpred = prediction(PredictTrain, train$Outcome)\n",
    "ROCRperf = performance(ROCRpred, \"tpr\", \"fpr\")\n",
    "\n",
    "#plot(ROCRperf, colorize = TRUE)\n",
    "\n",
    "# Adding threshold labels\n",
    "plot(ROCRperf, colorize=TRUE, print.cutoffs.at = seq(0,1,0.1), text.adj = c(-0.2, 1.7))\n",
    "abline(a=0, b=1)\n",
    "\n",
    "auc_train <- round(as.numeric(performance(ROCRpred, \"auc\")@y.values),2)\n",
    "legend(.8, .2, auc_train, title = \"AUC\")"
   ]
  },
  {
   "cell_type": "markdown",
   "metadata": {},
   "source": [
    "## Interpreting the model\n",
    "\n",
    "**AUC (Area under the ROC curve)**: Absolute value of quality of prediction  \n",
    "\n",
    "AUC = Maximum of 1 (Perfect prediction)  \n",
    "AUC = minimum of 0.5 (just guessing)  \n",
    "\n",
    "|            | Predicted class = 0        | Predicted class = 1        |\n",
    "|------------|----------------------|----------------------|\n",
    "| **Actual class = 0** | True Negatives (TN)  | False Positives (FP) |\n",
    "| **Actual class = 1** | False Negatives (FN) | True Positives (TP)  | \n",
    "\n",
    "\n",
    "N = Number of obervations \n",
    "\n",
    "Overall accuracy = (TN + TP) / N  \n",
    "\n",
    "- Sensitivity = TP/(TP + FN)  \n",
    "- Specificity = TN/(TN + FP)  \n",
    "\n",
    "Overall error rate = (FP + FN) / N  \n",
    "\n",
    "- False Negative Error Rate = FN/(TP + FN)  \n",
    "- False Positive Error Rate = FP/(TN + FP)  \n",
    "\n",
    "***False positive error rate = 1 - specificity***\n",
    "\n"
   ]
  },
  {
   "cell_type": "markdown",
   "metadata": {},
   "source": [
    "## Make predictions on test set"
   ]
  },
  {
   "cell_type": "code",
   "execution_count": 75,
   "metadata": {},
   "outputs": [
    {
     "data": {
      "text/plain": [
       "   \n",
       "    FALSE TRUE\n",
       "  0   115   10\n",
       "  1    25   42"
      ]
     },
     "metadata": {},
     "output_type": "display_data"
    },
    {
     "data": {
      "text/html": [
       "'Accuracy on test set is 0.82'"
      ],
      "text/latex": [
       "'Accuracy on test set is 0.82'"
      ],
      "text/markdown": [
       "'Accuracy on test set is 0.82'"
      ],
      "text/plain": [
       "[1] \"Accuracy on test set is 0.82\""
      ]
     },
     "metadata": {},
     "output_type": "display_data"
    }
   ],
   "source": [
    "# Making predictions on test set\n",
    "\n",
    "PredictTest <- predict(AllVar, type = \"response\", newdata = test)\n",
    "\n",
    "# Convert probabilities to values using the below\n",
    "\n",
    "## Based on ROC curve above, selected a threshold of 0.5\n",
    "test_tab <- table(test$Outcome, PredictTest > 0.5)\n",
    "test_tab\n",
    "\n",
    "accuracy_test <- round(sum(diag(test_tab))/sum(test_tab),2)\n",
    "sprintf(\"Accuracy on test set is %s\", accuracy_test)"
   ]
  },
  {
   "cell_type": "code",
   "execution_count": 76,
   "metadata": {},
   "outputs": [
    {
     "data": {
      "text/html": [
       "0.89"
      ],
      "text/latex": [
       "0.89"
      ],
      "text/markdown": [
       "0.89"
      ],
      "text/plain": [
       "[1] 0.89"
      ]
     },
     "metadata": {},
     "output_type": "display_data"
    }
   ],
   "source": [
    "# Compute test set AUC\n",
    "\n",
    "ROCRPredTest = prediction(PredictTest, test$Outcome)\n",
    "auc = round(as.numeric(performance(ROCRPredTest, \"auc\")@y.values),2)\n",
    "auc"
   ]
  },
  {
   "cell_type": "markdown",
   "metadata": {},
   "source": [
    "**The AUC on the test set indicates that the predictive ability of the model is good**"
   ]
  }
 ],
 "metadata": {
  "kernelspec": {
   "display_name": "R",
   "language": "R",
   "name": "ir"
  },
  "language_info": {
   "codemirror_mode": "r",
   "file_extension": ".r",
   "mimetype": "text/x-r-source",
   "name": "R",
   "pygments_lexer": "r",
   "version": "3.6.1"
  }
 },
 "nbformat": 4,
 "nbformat_minor": 2
}
